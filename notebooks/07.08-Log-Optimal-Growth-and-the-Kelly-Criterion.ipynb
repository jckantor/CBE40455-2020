{
 "cells": [
  {
   "cell_type": "markdown",
   "metadata": {},
   "source": [
    "<!--NOTEBOOK_HEADER-->\n",
    "*This notebook contains course material from [CBE40455](https://jckantor.github.io/CBE40455) by\n",
    "Jeffrey Kantor (jeff at nd.edu); the content is available [on Github](https://github.com/jckantor/CBE40455.git).\n",
    "The text is released under the [CC-BY-NC-ND-4.0 license](https://creativecommons.org/licenses/by-nc-nd/4.0/legalcode),\n",
    "and code is released under the [MIT license](https://opensource.org/licenses/MIT).*"
   ]
  },
  {
   "cell_type": "markdown",
   "metadata": {},
   "source": [
    "<!--NAVIGATION-->\n",
    "< [Portfolio Optimization](http://nbviewer.jupyter.org/github/jckantor/CBE40455/blob/master/notebooks/07.07-MAD-Portfolio-Optimization.ipynb) | [Contents](toc.ipynb) | [Log-Optimal Portfolios](http://nbviewer.jupyter.org/github/jckantor/CBE40455/blob/master/notebooks/07.09-Log-Optimal-Portfolios.ipynb) ><p><a href=\"https://colab.research.google.com/github/jckantor/CBE40455/blob/master/notebooks/07.08-Log-Optimal-Growth-and-the-Kelly-Criterion.ipynb\"><img align=\"left\" src=\"https://colab.research.google.com/assets/colab-badge.svg\" alt=\"Open in Colab\" title=\"Open in Google Colaboratory\"></a><p><a href=\"https://raw.githubusercontent.com/jckantor/CBE40455/master/notebooks/07.08-Log-Optimal-Growth-and-the-Kelly-Criterion.ipynb\"><img align=\"left\" src=\"https://img.shields.io/badge/Github-Download-blue.svg\" alt=\"Download\" title=\"Download Notebook\"></a>"
   ]
  },
  {
   "cell_type": "markdown",
   "metadata": {
    "colab_type": "text",
    "id": "HedPhu1-uqXL"
   },
   "source": [
    "# Log-Optimal Growth and the Kelly Criterion"
   ]
  },
  {
   "cell_type": "markdown",
   "metadata": {
    "colab_type": "text",
    "id": "Jc08h8eGuqXL"
   },
   "source": [
    "This [IPython notebook](http://ipython.org/notebook.html) demonstrates the Kelly criterion and other phenomena associated with log-optimal growth."
   ]
  },
  {
   "cell_type": "markdown",
   "metadata": {
    "colab_type": "text",
    "id": "LN9Xm4q0uqXM"
   },
   "source": [
    "## Initializations"
   ]
  },
  {
   "cell_type": "code",
   "execution_count": null,
   "metadata": {
    "colab": {},
    "colab_type": "code",
    "id": "udCWC5J-uqXN"
   },
   "outputs": [],
   "source": [
    "%matplotlib notebook\n",
    "\n",
    "import matplotlib.pyplot as plt\n",
    "import numpy as np\n",
    "import random"
   ]
  },
  {
   "cell_type": "markdown",
   "metadata": {
    "colab_type": "text",
    "id": "ui0RvOnxuqXQ"
   },
   "source": [
    "## What are the Issues in Managing for Optimal Growth?"
   ]
  },
  {
   "cell_type": "markdown",
   "metadata": {
    "colab_type": "text",
    "id": "Y0tFvIxuuqXQ"
   },
   "source": [
    "Consider a continuing 'investment opportunity' for which, at each stage, an invested dollar will yield either two dollars with probability $p$ or nothing with probability $1-p$. You can think of this as a gambling game if you like, or as sequence of business investment decisions.\n",
    "\n",
    "![Kelly_Criterion_Fig1](https://github.com/jckantor/CBE40455/blob/master/notebooks/figures/Kelly_Criterion_Fig1.png?raw=true)\n",
    "\n",
    "Let $W_k$ be the wealth after $k$ stages in this sequence of decisions. At each stage $k$ there will be an associated return $R_k$ so that\n",
    "\n",
    "$$W_k = R_k W_{k-1}$$\n",
    "\n",
    "Starting with a wealth $W_0$, after $k$ stages our wealth will be\n",
    "\n",
    "$$W_k = R_kR_{k-1}\\cdots R_2R_1W_0$$\n",
    "\n",
    "Now let's consider a specific investment strategy. To avoid risking total loss of wealth in a single stage, we'll consider a strategy where we invest a fraction $\\alpha$ of our remaining wealth, and retain a fraction $1-\\alpha$ for future use. Under this strategy, the return $R_k$ is given by\n",
    "\n",
    "$$R_k = \\begin{cases} 1+\\alpha & \\mbox{with probability}\\quad p \\\\ 1-\\alpha & \\mbox{with probability}\\quad 1-p\\end{cases}$$\n",
    "\n",
    "How should we pick $\\alpha$? A small value means that wealth will grow slowly.  A large value will risk more of our wealth in each trial."
   ]
  },
  {
   "cell_type": "markdown",
   "metadata": {
    "colab_type": "text",
    "id": "d4wl2IfsuqXR"
   },
   "source": [
    "## Why Maximizing Expected Wealth is a Bad Idea"
   ]
  },
  {
   "cell_type": "markdown",
   "metadata": {
    "colab_type": "text",
    "id": "e7ioaVPZuqXS"
   },
   "source": [
    "At first glance, maximizing expected wealth seems like a reasonable investment objective. Suppose  after $k$ stages we have witnessed $u$ profitable outcomes (i.e., 'wins'), and $k-u$ outcomes showing a loss. The remaining wealth will be given by\n",
    "\n",
    "$$W_k/W_0 = (1+\\alpha)^u(1-\\alpha)^{k-u}$$\n",
    "\n",
    "The binomial distribution gives the probability of observing $u$ 'wins' in $k$ trials\n",
    "\n",
    "$$Pr(u \\mbox{ wins in } k \\mbox{ trials}) = {k\\choose{u}}p^u (1-p)^{k-u}$$\n",
    "\n",
    "So the expected value of $W_k$ is given by\n",
    "\n",
    "$$E[W_k/W_0] = \\sum_{u=0}^{k} {k\\choose{u}}p^u (1-p)^{k-u}(1+\\alpha)^u(1-\\alpha)^{k-u}$$\n",
    "\n",
    "Next we plot $E[W_k/W_0]$ as a function of $\\alpha$. If you run this notebook on your own server, you can adjust $p$ and $K$ to see the impact of changing parameters."
   ]
  },
  {
   "cell_type": "code",
   "execution_count": null,
   "metadata": {
    "colab": {},
    "colab_type": "code",
    "id": "BUbFBBUfuqXT",
    "outputId": "6128296e-5fc4-4e68-b45f-64db1c9b3eaa"
   },
   "outputs": [
    {
     "data": {
      "application/vnd.jupyter.widget-view+json": {
       "model_id": "90f394624e7448e6a425e2f5a18ad4ee"
      }
     },
     "metadata": {
      "tags": []
     },
     "output_type": "display_data"
    }
   ],
   "source": [
    "from scipy.misc import comb\n",
    "from ipywidgets import interact\n",
    "\n",
    "def sim(K = 40,p = 0.55):\n",
    "    alpha = np.linspace(0,1,100)\n",
    "    W = [sum([comb(K,u)*((p*(1+a))**u)*(((1-p)*(1-a))**(K-u)) \\\n",
    "              for u in range(0,K+1)]) for a in alpha]\n",
    "    plt.figure()\n",
    "    plt.plot(alpha,W,'b')\n",
    "    plt.xlabel('alpha')\n",
    "    plt.ylabel('E[W({:d})/W(0)]'.format(K))\n",
    "    plt.title('Expected Wealth after {:d} trials'.format(K))\n",
    "\n",
    "interact(sim,K=(1,60),p=(0.4,0.6,0.01));"
   ]
  },
  {
   "cell_type": "markdown",
   "metadata": {
    "colab_type": "text",
    "id": "Po0g0gTIuqXY"
   },
   "source": [
    "This simulation suggests that if each stage is, on average, a winning proposition with $p > 0.5$, then expected wealth after $K$ stages is maximized by setting $\\alpha = 1$. This is a very risky strategy. \n",
    "\n",
    "To show how risky, the following cell simulates the behavior of this process for as a function of $\\alpha$, $p$, and $K$. Try different values of $\\alpha$ in the range from 0 to 1 to see what happens."
   ]
  },
  {
   "cell_type": "code",
   "execution_count": null,
   "metadata": {
    "colab": {},
    "colab_type": "code",
    "id": "tlVMPSGmuqXZ",
    "outputId": "91df71c7-75e6-4e01-9cec-dbdf9cec4abd"
   },
   "outputs": [
    {
     "data": {
      "application/vnd.jupyter.widget-view+json": {
       "model_id": "00de5525a9e84114a4d03dcd75f5468d"
      }
     },
     "metadata": {
      "tags": []
     },
     "output_type": "display_data"
    },
    {
     "data": {
      "text/plain": [
       "<function __main__.sim2>"
      ]
     },
     "execution_count": 6,
     "metadata": {
      "tags": []
     },
     "output_type": "execute_result"
    }
   ],
   "source": [
    "# Number of simulations to run\n",
    "N = 200\n",
    "\n",
    "def sim2(K = 50, p = 0.55, alpha = 0.8):\n",
    "    plt.figure()\n",
    "    plt.xlabel('Stage k')\n",
    "    plt.ylabel('Fraction of Initial Wealth');\n",
    "    plt.xlim(0,K)\n",
    "    for n in range(0,N):\n",
    "        # Compute an array of future returns\n",
    "        R = np.array([1-alpha + 2*alpha*float(random.random() <= p) for _ in range(0,K)])\n",
    "        # Use returns to compute fraction of wealth that remains\n",
    "        W = np.concatenate(([1.0],np.cumprod(R)))\n",
    "        plt.semilogy(W) \n",
    "\n",
    "interact(sim2, K = (10,60), p = (0.4,0.6,0.001), alpha = (0.0,1.0,0.01))"
   ]
  },
  {
   "cell_type": "markdown",
   "metadata": {
    "colab_type": "text",
    "id": "iDTkHEK-uqXd"
   },
   "source": [
    "Attempting to maximize wealth leads to a risky strategy where all wealth is put at risk at each stage hoping for a string of $k$ wins.  The very high rewards for this one outcome mask the fact that the most common outcome is to lose everything. If you're not convinced of this, go back and run the simulation a few more times for values of alpha in the range 0.8 to 1.0.  \n",
    "\n",
    "If $\\alpha =1$, the probability of still having money after $k$ stages is $(1-p)^k$."
   ]
  },
  {
   "cell_type": "code",
   "execution_count": null,
   "metadata": {
    "colab": {},
    "colab_type": "code",
    "id": "NH6hSNyfuqXe",
    "outputId": "2808f987-37f1-420e-add9-26d7d812f4f6"
   },
   "outputs": [
    {
     "data": {
      "image/png": "[encoded data removed]",
      "text/plain": [
       "<matplotlib.figure.Figure at 0x108a3a790>"
      ]
     },
     "metadata": {
      "tags": []
     },
     "output_type": "display_data"
    }
   ],
   "source": [
    "K = 50\n",
    "p = 0.55\n",
    "\n",
    "plt.semilogy(range(0,K+1), [(1-p)**k for k in range(0,K+1)])\n",
    "plt.title('Probability of non-zero wealth after k stages')\n",
    "plt.xlabel('Stage k')\n",
    "plt.ylabel('Probability')\n",
    "plt.grid();"
   ]
  },
  {
   "cell_type": "markdown",
   "metadata": {
    "colab_type": "text",
    "id": "FPNQJfgWuqXi"
   },
   "source": [
    "The problem with maximizing expected wealth is that the objective ignores the associated financial risks. For the type of application being analyzed here, the possibility of a few very large outcomes are averaged with many others showing loss. While the average outcome make look fine, the most likely outcome is a very different result.\n",
    "\n",
    "It's like the case of buying into a high stakes lottery. The average outcome is calculated by including the rare outcome of the winning ticket together millions of tickets where there is no payout whatsoever. Buying lottery tickets shouldn't be anyone's notion of a good business plan!"
   ]
  },
  {
   "cell_type": "code",
   "execution_count": null,
   "metadata": {
    "colab": {},
    "colab_type": "code",
    "id": "MoN8SFfduqXj",
    "outputId": "1fa39a11-1e1c-4c43-de96-c2b64d9a817e"
   },
   "outputs": [
    {
     "name": "stderr",
     "output_type": "stream",
     "text": [
      "/Users/jeff/anaconda/lib/python3.6/site-packages/IPython/html.py:14: ShimWarning: The `IPython.html` package has been deprecated since IPython 4.0. You should import from `notebook` instead. `IPython.html.widgets` has moved to `ipywidgets`.\n",
      "  \"`IPython.html.widgets` has moved to `ipywidgets`.\", ShimWarning)\n"
     ]
    },
    {
     "data": {
      "application/vnd.jupyter.widget-view+json": {
       "model_id": "8e963fe394924c5f9a581ab56d74066b"
      }
     },
     "metadata": {
      "tags": []
     },
     "output_type": "display_data"
    },
    {
     "data": {
      "text/plain": [
       "<function __main__.Wpdf>"
      ]
     },
     "execution_count": 7,
     "metadata": {
      "tags": []
     },
     "output_type": "execute_result"
    }
   ],
   "source": [
    "from scipy.misc import comb\n",
    "from scipy.stats import binom\n",
    "from IPython.html.widgets import interact\n",
    "\n",
    "K = 40\n",
    "\n",
    "def Wpdf(p=0.55, alpha=0.5):\n",
    "    rv = binom(K,p)\n",
    "    U = np.array(range(0,K+1))\n",
    "    Pr = np.array([rv.pmf(u) for u in U])\n",
    "    W = np.array([((1+alpha)**u)*(((1-alpha))**(K-u)) for u in U])\n",
    "    plt.figure(figsize=(12,4))\n",
    "    \n",
    "    plt.subplot(2,2,1)\n",
    "    plt.bar(U-0.5,W)\n",
    "    plt.xlim(-0.5,K+0.5)\n",
    "    plt.ylabel('W(u)/W(0)')\n",
    "    plt.xlabel('u')\n",
    "    plt.title('Final Return W(K={0})/W(0) vs. u for alpha = {1:.3f}'.format(K,alpha))\n",
    "    \n",
    "    plt.subplot(2,2,3)\n",
    "    plt.bar(U-0.5,Pr)\n",
    "    plt.xlim(-0.5,K+0.5)\n",
    "    plt.ylabel('Prob(u)')\n",
    "    plt.xlabel('u')\n",
    "    plt.title('Binomial Distribution K = {0}, p = {1:.3f}'.format(K,p))\n",
    "    \n",
    "    plt.subplot(1,2,2)\n",
    "    plt.semilogx(W,Pr,'b')\n",
    "    plt.xlabel('W(K={0})/W(0)'.format(K))\n",
    "    plt.ylabel('Prob(W(K={0})/W(0)'.format(K))\n",
    "    plt.title('Distribution for Total Return W(K={0})/W(0)'.format(K))\n",
    "    plt.ylim([0,0.2])\n",
    "    Wbar = sum(Pr*W)\n",
    "    WVaR = W[rv.ppf(0.05)]\n",
    "    Wmed = 0.5*(W[rv.ppf(0.49)] + W[rv.ppf(0.51)])\n",
    "    ylim = np.array(plt.ylim())\n",
    "    plt.plot([WVaR,WVaR],0.5*ylim,'r--')\n",
    "    plt.plot([Wbar,Wbar],0.5*ylim,'b--')\n",
    "    plt.text(Wbar,0.5*ylim[1],' Average = {0:.3f}'.format(Wbar))\n",
    "    plt.text(Wmed,0.75*ylim[1],' Median = {0:.3f}'.format(Wmed))\n",
    "    plt.text(WVaR,0.5*ylim[1],'5th Percentile = {0:.3f}'.format(WVaR),ha='right')\n",
    "    plt.plot([Wmed,Wmed],ylim,'r',lw=2)\n",
    "    plt.tight_layout()\n",
    "\n",
    "interact(Wpdf, p = (0.4,0.6,0.01), alpha = (0.01,0.99,0.01))"
   ]
  },
  {
   "cell_type": "markdown",
   "metadata": {
    "colab_type": "text",
    "id": "Y530koHDuqXm"
   },
   "source": [
    "### Exercise"
   ]
  },
  {
   "cell_type": "markdown",
   "metadata": {
    "colab_type": "text",
    "id": "mjzCLN_EuqXn"
   },
   "source": [
    "1. Imagine you're playing a game of chance in which you expect to win 60% of the time. You expect to play 40 rounds in the game. The initial capital required to enter the game is high enough that losing half of your capital is something you could tolerate only 5% of the time. What fraction of your capital would you be willing to wager on each play of the game?"
   ]
  },
  {
   "cell_type": "markdown",
   "metadata": {
    "colab_type": "text",
    "id": "flKhNHf_uqXo"
   },
   "source": [
    "### Utility Functions"
   ]
  },
  {
   "cell_type": "markdown",
   "metadata": {
    "colab_type": "text",
    "id": "w-4Nehm2uqXp"
   },
   "source": [
    "A utility function measures the 'utility' of holding some measure of wealth. The key concept is that the marginal utility of wealth decreases as wealth increases.  If you don't have much money, then finding USD 20 on the sidewalk may have considerable utility since it may mean that you don't have to walk home from work.  On the other hand, if you're already quite wealthy, the incremental utility of a USD 20 may not be as high.\n",
    "\n",
    "A typical utility function is shown on the following chart."
   ]
  },
  {
   "cell_type": "code",
   "execution_count": null,
   "metadata": {
    "colab": {},
    "colab_type": "code",
    "id": "u0DZWukyuqXp",
    "outputId": "15e65ddf-0875-4226-f769-88b55260fb5d"
   },
   "outputs": [
    {
     "data": {
      "image/png": "[encoded data removed]",
      "text/plain": [
       "<matplotlib.figure.Figure at 0x1086792d0>"
      ]
     },
     "metadata": {
      "tags": []
     },
     "output_type": "display_data"
    }
   ],
   "source": [
    "def U(x):\n",
    "    return np.log(x)\n",
    "\n",
    "def plotUtility(U):\n",
    "    plt.figure(figsize=(8,4))\n",
    "    x = np.linspace(0.5,20.0,100)\n",
    "    plt.plot(x,U(x))\n",
    "    plt.xlabel('Wealth')\n",
    "    plt.ylabel('Utility')\n",
    "    plt.title('A Typical Utility Function');\n",
    "    \n",
    "plotUtility(U)"
   ]
  },
  {
   "cell_type": "markdown",
   "metadata": {
    "colab_type": "text",
    "id": "kHC-5m7LuqXt"
   },
   "source": [
    "To see how utilty functions allow us to incorporate risk into an objective function, consider the expected utility of a bet on a single flip of a coin. The bet pays USD 5 if the coin comes up 'Heads', and USD 15 if the coin comes up Tails. For a fair coin, the expected wealth is therefore\n",
    "\n",
    "$$E[W] = 0.5 \\times \\$5 + 0.5\\times\\$15 = \\$10$$\n",
    "\n",
    "which is shown on the chart with the utility function."
   ]
  },
  {
   "cell_type": "code",
   "execution_count": null,
   "metadata": {
    "colab": {},
    "colab_type": "code",
    "id": "qEkZ8WkWuqXt",
    "outputId": "98ddde04-6df5-4493-c8aa-20b9c14ad75b"
   },
   "outputs": [
    {
     "data": {
      "image/png": "[encoded data removed]",
      "text/plain": [
       "<matplotlib.figure.Figure at 0x10b984350>"
      ]
     },
     "metadata": {
      "tags": []
     },
     "output_type": "display_data"
    }
   ],
   "source": [
    "plotUtility(U)\n",
    "ymin,ymax = plt.ylim()\n",
    "plt.hold(True)\n",
    "plt.plot([5,5],[ymin,U(5)],'r')\n",
    "plt.plot([15,15],[ymin,U(15)],'r')\n",
    "plt.plot([10,10],[ymin,U(10)],'r--')\n",
    "plt.text(10.2,ymin+0.1,'E[W] = \\$10');"
   ]
  },
  {
   "cell_type": "markdown",
   "metadata": {
    "colab_type": "text",
    "id": "DhAisCu5uqXw"
   },
   "source": [
    "Finding the expected utility, we can use the utilty function to solve for the 'certainty equivalent' value of the game. The certainty equivalent value is the amount of wealth that has the same utility as the expected utility of the game. \n",
    "\n",
    "$$U(CE) = E[U(W)]$$\n",
    "\n",
    "Because the utilty function is concave, the certainty equivalent value is less than the expected value of the game. The difference between the two values is the degree to which we discount the value of the game due to it's uncertain nature."
   ]
  },
  {
   "cell_type": "code",
   "execution_count": null,
   "metadata": {
    "colab": {},
    "colab_type": "code",
    "id": "dqWfVtr2uqXy",
    "outputId": "76e3aaaf-eb18-480a-e709-3023e430a2ff"
   },
   "outputs": [
    {
     "data": {
      "image/png": "[encoded data removed]",
      "text/plain": [
       "<matplotlib.figure.Figure at 0x108657910>"
      ]
     },
     "metadata": {
      "tags": []
     },
     "output_type": "display_data"
    }
   ],
   "source": [
    "from scipy.optimize import brentq\n",
    "\n",
    "plotUtility(U)\n",
    "ymin,ymax = plt.ylim()\n",
    "plt.hold(True)\n",
    "plt.plot([5,5,0],[ymin,U(5),U(5)],'r')\n",
    "plt.plot([15,15,0],[ymin,U(15),U(15)],'r')\n",
    "plt.plot([10,10],[ymin,U(10)],'r--')\n",
    "plt.text(10.2,ymin+0.1,'E[W] = \\$10');\n",
    "\n",
    "Uave = 0.5*(U(5)+U(15))\n",
    "Ceq = brentq(lambda x: U(x)-Uave,5,15)\n",
    "plt.plot([0,Ceq,Ceq],[Uave,Uave,ymin],'r--')\n",
    "plt.text(0.1,Uave+0.1,'E[U] = {:.2f}'.format(Uave))\n",
    "plt.text(Ceq-0.2,ymin+0.1,'CE = {:.2f}'.format(Ceq),ha='right');"
   ]
  },
  {
   "cell_type": "markdown",
   "metadata": {
    "colab_type": "text",
    "id": "YH55YKTZuqX1"
   },
   "source": [
    "### Maximizing Growth"
   ]
  },
  {
   "cell_type": "markdown",
   "metadata": {
    "colab_type": "text",
    "id": "DhtPBC6XuqX2"
   },
   "source": [
    "To acheive a different result we need to consider optimization objective that incorporates a measure of risk. For example, the log ratio of current to starting wealth gives a relationship\n",
    "\n",
    "$$\\ln W_K/W_0 = \\sum_{k=1}^K \\ln R_{k}$$\n",
    "\n",
    "Subjectively, the log ratio focuses relative rather than absolute growth which, for many investors, is a better indicator of investment objectives. Rather than risk all for an enormous but unlikely outcome, a strategy optimizing expected  relative growth will tradeoff risky strategies for more robust strategies demonstrating relative growth.  \n",
    "\n",
    "Taking expectations\n",
    "\n",
    "$$E[\\ln W_K/W_0] = \\sum_{k=1}^K E[\\ln R_{k}] = K E[\\ln R_{k}]$$\n",
    "\n",
    "where\n",
    "\n",
    "$$E[\\ln R_{k}] = p\\ln(1+\\alpha) + (1-p)\\ln(1-\\alpha)$$\n",
    "\n",
    "With simple calculus we can show that maximizing $E[\\ln W_K/W_0]$ requires\n",
    "\n",
    "$$\\alpha = 2p-1$$\n",
    "\n",
    "which yields a growth rate per stage\n",
    "\n",
    "$$m = E[\\ln R_{k}] = \\ln 2 + p\\ln(p) + (1-p)\\ln(1-p)$$\n",
    "\n"
   ]
  },
  {
   "cell_type": "code",
   "execution_count": null,
   "metadata": {
    "colab": {},
    "colab_type": "code",
    "id": "9EgdGVtRuqX3",
    "outputId": "92ce5636-1d45-49d4-a8ff-147132cf40b2"
   },
   "outputs": [
    {
     "data": {
      "text/plain": [
       "<matplotlib.legend.Legend at 0x109f43a50>"
      ]
     },
     "execution_count": 53,
     "metadata": {
      "tags": []
     },
     "output_type": "execute_result"
    },
    {
     "data": {
      "image/png": "[encoded data removed]",
      "text/plain": [
       "<matplotlib.figure.Figure at 0x109167a10>"
      ]
     },
     "metadata": {
      "tags": []
     },
     "output_type": "display_data"
    }
   ],
   "source": [
    "p = np.linspace(0.001,0.999)\n",
    "alpha = np.array([max(0,2.0*q-1.0) for q in p])\n",
    "plt.plot(p,alpha)\n",
    "m = np.multiply(p,np.log(1.0+alpha)) + np.multiply(1.0-p,np.log(1.0-alpha))\n",
    "plt.plot(p,m)\n",
    "\n",
    "plt.xlabel('p')\n",
    "plt.ylabel('E[lnR]')\n",
    "plt.legend(['alpha','ElnR'],loc='upper left')"
   ]
  },
  {
   "cell_type": "code",
   "execution_count": null,
   "metadata": {
    "colab": {},
    "colab_type": "code",
    "id": "gG6ne6MtuqX6",
    "outputId": "f09ea819-9eba-4b8f-f533-c808384b89de"
   },
   "outputs": [
    {
     "data": {
      "text/plain": [
       "10699.131939336632"
      ]
     },
     "execution_count": 21,
     "metadata": {
      "tags": []
     },
     "output_type": "execute_result"
    }
   ],
   "source": [
    "import numpy as np\n",
    "\n",
    "np.exp((1/6)*(np.log(4000000) + np.log(1000000) + np.log(25000)+np.log(10000) + np.log(300) + np.log(5)))"
   ]
  },
  {
   "cell_type": "markdown",
   "metadata": {
    "colab_type": "text",
    "id": "Fj06lMhvuqX-"
   },
   "source": [
    "## Kelly's Criterion: Maximizing Growth for a Game with Arbitrary Odds"
   ]
  },
  {
   "cell_type": "markdown",
   "metadata": {
    "colab_type": "text",
    "id": "RohUpXHFuqX-"
   },
   "source": [
    "![Kelly_Criterion_Fig2](https://github.com/jckantor/CBE40455/blob/master/notebooks/figures/Kelly_Criterion_Fig2.png?raw=true)\n",
    "\n",
    "$$E[\\ln R_{k\n",
    "}] = p\\ln(1+ b\\alpha) + (1-p)\\ln(1-\\alpha)$$\n",
    "\n",
    "Solving for $\\alpha$\n",
    "\n",
    "$$\\alpha = \\frac{p(b+1)-1}{b}$$"
   ]
  },
  {
   "cell_type": "markdown",
   "metadata": {
    "colab_type": "text",
    "id": "r7Uwq7ZWuqYA"
   },
   "source": [
    "## Volatility Pumping"
   ]
  },
  {
   "cell_type": "markdown",
   "metadata": {
    "colab_type": "text",
    "id": "UE9d6cdQuqYB"
   },
   "source": [
    "![Kelly_Criterion_Volatility_Pumping](https://github.com/jckantor/CBE40455/blob/master/notebooks/figures/Kelly_Criterion_Volatility_Pumping.png?raw=true)"
   ]
  },
  {
   "cell_type": "code",
   "execution_count": null,
   "metadata": {
    "colab": {},
    "colab_type": "code",
    "id": "5O4wAGdGuqYC",
    "outputId": "7bd61202-af2f-43c6-d8bf-40b42d9ec2b2"
   },
   "outputs": [
    {
     "name": "stdout",
     "output_type": "stream",
     "text": [
      "Expected return = 0.004586\n"
     ]
    },
    {
     "data": {
      "text/plain": [
       "[<matplotlib.lines.Line2D at 0x10d3f8d50>]"
      ]
     },
     "execution_count": 71,
     "metadata": {
      "tags": []
     },
     "output_type": "execute_result"
    },
    {
     "data": {
      "image/png": "[encoded data removed]",
      "text/plain": [
       "<matplotlib.figure.Figure at 0x10d2a7b50>"
      ]
     },
     "metadata": {
      "tags": []
     },
     "output_type": "display_data"
    }
   ],
   "source": [
    "# payoffs for two states\n",
    "u = 1.059\n",
    "d = 1/u\n",
    "p = 0.54\n",
    "\n",
    "rf = 0.004\n",
    "\n",
    "K = 100\n",
    "\n",
    "ElnR = p*np.log(u) + (1-p)*np.log(d)\n",
    "print \"Expected return = {:0.5}\".format(ElnR)\n",
    "\n",
    "\n",
    "Z = np.array([float(random.random() <= p) for _ in range(0,K)])\n",
    "R = d + (u-d)*Z\n",
    "S = np.cumprod(np.concatenate(([1],R)))\n",
    "\n",
    "\n",
    "ElnR = lambda alpha: p*np.log(alpha*u +(1-alpha)*np.exp(rf)) + \\\n",
    "    (1-p)*np.log(alpha*d + (1-alpha)*np.exp(rf))\n",
    "\n",
    "a = np.linspace(0,1)\n",
    "\n",
    "plt.plot(a,map(ElnR,a))"
   ]
  },
  {
   "cell_type": "code",
   "execution_count": null,
   "metadata": {
    "colab": {},
    "colab_type": "code",
    "id": "I13JKtK_uqYF",
    "outputId": "7e1fb099-8961-4932-e5f8-904899b63439"
   },
   "outputs": [
    {
     "name": "stdout",
     "output_type": "stream",
     "text": [
      "0.5\n"
     ]
    },
    {
     "data": {
      "image/png": "[encoded data removed]",
      "text/plain": [
       "<matplotlib.figure.Figure at 0x108f68990>"
      ]
     },
     "metadata": {
      "tags": []
     },
     "output_type": "display_data"
    }
   ],
   "source": [
    "from scipy.optimize import fminbound\n",
    "alpha = fminbound(lambda(alpha): -ElnR(alpha),0,1)\n",
    "print alpha\n",
    "\n",
    "#plt.plot(alpha, ElnR(alpha),'r.',ms=10)\n",
    "\n",
    "R = alpha*d + (1-alpha) + alpha*(u-d)*Z\n",
    "S2 = np.cumprod(np.concatenate(([1],R)))\n",
    "\n",
    "plt.figure(figsize=(10,4))\n",
    "plt.plot(range(0,K+1),S,range(0,K+1),S2)\n",
    "plt.legend(['Stock','Stock + Cash']);"
   ]
  },
  {
   "cell_type": "code",
   "execution_count": null,
   "metadata": {
    "colab": {},
    "colab_type": "code",
    "id": "81jJw10euqYJ"
   },
   "outputs": [],
   "source": []
  },
  {
   "cell_type": "markdown",
   "metadata": {},
   "source": [
    "<!--NAVIGATION-->\n",
    "< [Portfolio Optimization](http://nbviewer.jupyter.org/github/jckantor/CBE40455/blob/master/notebooks/07.07-MAD-Portfolio-Optimization.ipynb) | [Contents](toc.ipynb) | [Log-Optimal Portfolios](http://nbviewer.jupyter.org/github/jckantor/CBE40455/blob/master/notebooks/07.09-Log-Optimal-Portfolios.ipynb) ><p><a href=\"https://colab.research.google.com/github/jckantor/CBE40455/blob/master/notebooks/07.08-Log-Optimal-Growth-and-the-Kelly-Criterion.ipynb\"><img align=\"left\" src=\"https://colab.research.google.com/assets/colab-badge.svg\" alt=\"Open in Colab\" title=\"Open in Google Colaboratory\"></a><p><a href=\"https://raw.githubusercontent.com/jckantor/CBE40455/master/notebooks/07.08-Log-Optimal-Growth-and-the-Kelly-Criterion.ipynb\"><img align=\"left\" src=\"https://img.shields.io/badge/Github-Download-blue.svg\" alt=\"Download\" title=\"Download Notebook\"></a>"
   ]
  }
 ],
 "metadata": {
  "colab": {
   "collapsed_sections": [],
   "name": "07.08-Log-Optimal-Growth-and-the-Kelly-Criterion.ipynb",
   "provenance": [],
   "version": "0.3.2"
  },
  "kernelspec": {
   "display_name": "Python 3",
   "language": "python",
   "name": "python3"
  },
  "language_info": {
   "codemirror_mode": {
    "name": "ipython",
    "version": 3
   },
   "file_extension": ".py",
   "mimetype": "text/x-python",
   "name": "python",
   "nbconvert_exporter": "python",
   "pygments_lexer": "ipython3",
   "version": "3.7.3"
  }
 },
 "nbformat": 4,
 "nbformat_minor": 2
}
