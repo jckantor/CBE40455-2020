{
 "cells": [
  {
   "cell_type": "markdown",
   "metadata": {
    "colab_type": "text",
    "id": "7N2CkNjL8D2u"
   },
   "source": [
    "# Agent based model for control of COVID-19 on a college campus\n",
    "\n",
    "Jeffrey Kantor \\\\\n",
    "August, 2020"
   ]
  },
  {
   "cell_type": "markdown",
   "metadata": {
    "colab_type": "text",
    "id": "ti7IBV7ZgXYV"
   },
   "source": [
    "This notebook presents an agent-based model for the transmission and control of COVID-19 in a campus-like environment. The model is implemented using\n",
    "[SimPy](https://simpy.readthedocs.io/en/latest/), an easy-to-use python framework for developing simulations of discrete-event processes.\n",
    "\n",
    "The agents are surrogates for individuals in a semi-isolated population typical of those found on residential college campuses. Individuals within the population are assumed to be in frequent contact in a 'well-mixed' environment, and in limited contact with individuals outside of the campus community. The agents simulate the progress of COVID-19 through the various stages of the disease. The agents are implemented as instances of a Python class.\n",
    "\n",
    "Transmission of COVID-19 is modeled as a SimPy process involving the random contact of an agent in an infectious state with an individual in a susceptible state. The frequency of contact is derived from empirical estimates of $R_0$.\n",
    "\n",
    "The dynamics and management of COVID-19 outbreaks are also modeled as SimPy processes. The processes include:\n",
    "\n",
    "* Contact and disease transmission from individual outside of the campus population.\n",
    "* Self-reporting and isolation of symptomatic individuals.\n",
    "* Testing and isolation of infectious individuals.\n",
    "* Return of recovered individuals to the campus population.\n",
    "* Real-time reporting\n",
    "\n"
   ]
  },
  {
   "cell_type": "markdown",
   "metadata": {
    "colab_type": "text",
    "id": "811U7hrRdro4"
   },
   "source": [
    "**This is a work in progress -- major changes and work required**\n",
    "\n",
    "* document elements of the model\n",
    "* reparameterize to use R0 as an input parameter\n",
    "* add data logging for isolation and testing instances\n",
    "* create a UI"
   ]
  },
  {
   "cell_type": "markdown",
   "metadata": {
    "colab_type": "text",
    "id": "V3GkAiwWvRt8"
   },
   "source": [
    "## References\n",
    "\n",
    "**SimPy**\n",
    "\n",
    "* [SimPy repository](https://gitlab.com/team-simpy/simpy)\n",
    "* [SimPy: Simulating Real-World Processes With Python](https://realpython.com/simpy-simulating-with-python/)\n",
    "\n",
    "**Agent-based modeling**\n",
    "\n",
    "* Bonabeau, Eric. \"Agent-based modeling: Methods and techniques for simulating human systems.\" Proceedings of the national academy of sciences 99.suppl 3 (2002): 7280-7287."
   ]
  },
  {
   "cell_type": "markdown",
   "metadata": {
    "colab_type": "text",
    "id": "WfK1dqyxy2cA"
   },
   "source": [
    "## Installation and Imports\n",
    "\n",
    "SimPy is not typically included with standard Python distributions. The following cell imports and installs the latest version of SimPy from the PyPi repository."
   ]
  },
  {
   "cell_type": "code",
   "execution_count": 1,
   "metadata": {
    "colab": {
     "base_uri": "https://localhost:8080/",
     "height": 105
    },
    "colab_type": "code",
    "executionInfo": {
     "elapsed": 5191,
     "status": "ok",
     "timestamp": 1596738204058,
     "user": {
      "displayName": "Jeffrey Kantor",
      "photoUrl": "https://lh3.googleusercontent.com/a-/AOh14Gg_n8V7bVINy02QRuRgOoMo11Ri7NKU3OUKdC1bkQ=s64",
      "userId": "09038942003589296665"
     },
     "user_tz": 300
    },
    "id": "_cvPbciugX6U",
    "outputId": "9e092b21-68f4-4781-8efa-286e34dce4c1"
   },
   "outputs": [
    {
     "name": "stdout",
     "output_type": "stream",
     "text": [
      "Collecting simpy\n",
      "  Downloading https://files.pythonhosted.org/packages/20/f9/874b0bab83406827db93292a5bbe5acb5c18e3cea665b2f6e053292cb687/simpy-4.0.1-py2.py3-none-any.whl\n",
      "Installing collected packages: simpy\n",
      "Successfully installed simpy-4.0.1\n"
     ]
    }
   ],
   "source": [
    "!pip install simpy"
   ]
  },
  {
   "cell_type": "markdown",
   "metadata": {
    "colab_type": "text",
    "id": "nIVdirmBDcEZ"
   },
   "source": [
    "All initializations and imports needed to run the code in this notebook are consolidated into the following cell."
   ]
  },
  {
   "cell_type": "code",
   "execution_count": 100,
   "metadata": {
    "colab": {},
    "colab_type": "code",
    "executionInfo": {
     "elapsed": 403,
     "status": "ok",
     "timestamp": 1596739987717,
     "user": {
      "displayName": "Jeffrey Kantor",
      "photoUrl": "https://lh3.googleusercontent.com/a-/AOh14Gg_n8V7bVINy02QRuRgOoMo11Ri7NKU3OUKdC1bkQ=s64",
      "userId": "09038942003589296665"
     },
     "user_tz": 300
    },
    "id": "ZLQ1DNOyDY56"
   },
   "outputs": [],
   "source": [
    "%matplotlib inline\n",
    "\n",
    "import simpy\n",
    "import random\n",
    "import matplotlib.pyplot as plt\n",
    "import numpy as np\n",
    "import pandas as pd"
   ]
  },
  {
   "cell_type": "markdown",
   "metadata": {
    "colab_type": "text",
    "id": "Urp9F8OrTxp0"
   },
   "source": [
    "## Agent Model\n",
    "\n",
    "The agent model encapsulates details of the disease progression in an individual following an infective event. The progress of the disease is characterized by three parameters\n",
    "\n",
    "| parameter | default value | description |\n",
    "| :--: | :--: | :--- |\n",
    "| $t_{latent}$ | 3 d | mean latency period |\n",
    "| $t_{infect}$ | 8 d | mean infectious period prior to recovery |\n",
    "| $p_{s|i}$ | 0.3 | probability of becoming symptomatic following infection |\n",
    "\n",
    "On initialization, the agent is assigned a \"susceptible\" state and individual values of the key parameters. The agent remains in the initial state until it receives an \"infect\" event. Upon infection, the agent state progresses to a latent \"exposed\" state. \n",
    "\n",
    "Following infection, the agent transitions to either and infectious state, either with or without symptoms. The rate of transition is governed by a Poisson process with rate $1/t_{latent}$. The probability of the symptomatic state is $p_{s|i}$.\n",
    "\n"
   ]
  },
  {
   "cell_type": "code",
   "execution_count": 185,
   "metadata": {
    "colab": {},
    "colab_type": "code",
    "executionInfo": {
     "elapsed": 447,
     "status": "ok",
     "timestamp": 1596744989703,
     "user": {
      "displayName": "Jeffrey Kantor",
      "photoUrl": "https://lh3.googleusercontent.com/a-/AOh14Gg_n8V7bVINy02QRuRgOoMo11Ri7NKU3OUKdC1bkQ=s64",
      "userId": "09038942003589296665"
     },
     "user_tz": 300
    },
    "id": "JlVphsYj8Cre"
   },
   "outputs": [],
   "source": [
    "class Person():\n",
    "\n",
    "    def __init__(self, env, id, status=\"susceptible\", t_latent=3.0, t_infect=8.0, psi=0.3):\n",
    "        self.env = env              # simulation environment\n",
    "        self.id = id                # agent id for post-processing\n",
    "        self.data = []              # log events for this agent\n",
    "        self.change_status(status)  # status\n",
    "        self.infect = env.event()   # infection event\n",
    "        self.t_latent = t_latent    # latency period in days\n",
    "        self.t_infect = t_infect    # infectious period in days\n",
    "        self.psi = psi              # probability of symptoms following infection\n",
    "        env.process(self.run())     # register agent with the simulation environment\n",
    "\n",
    "    def log_status(self):\n",
    "        self.data.append([self.env.now, self.status])\n",
    "\n",
    "    def change_status(self, status):\n",
    "        self.status = status\n",
    "        self.data.append([self.env.now, status])\n",
    "\n",
    "    def run(self):\n",
    "        yield self.infect\n",
    "        self.change_status(\"exposed\")\n",
    "        yield env.timeout(random.expovariate(1/self.t_latent))\n",
    "        if random.uniform(0, 1) <= self.psi:\n",
    "            self.change_status(\"asymptomatic\")\n",
    "            yield env.timeout(random.expovariate(1/(self.t_infect)))\n",
    "            self.change_status(\"asymptomatic-recovered\")\n",
    "        else:\n",
    "            self.change_status(\"symptomatic\")\n",
    "            yield env.timeout(random.expovariate(1/(self.t_infect)))\n",
    "            self.change_status(\"symptomatic-recovered\")\n",
    "        \n",
    "        self.change_status(\"recovered\")"
   ]
  },
  {
   "cell_type": "markdown",
   "metadata": {
    "colab_type": "text",
    "id": "N8mlLUAdxPFP"
   },
   "source": [
    "## Infection process"
   ]
  },
  {
   "cell_type": "code",
   "execution_count": 186,
   "metadata": {
    "colab": {},
    "colab_type": "code",
    "executionInfo": {
     "elapsed": 240,
     "status": "ok",
     "timestamp": 1596744989884,
     "user": {
      "displayName": "Jeffrey Kantor",
      "photoUrl": "https://lh3.googleusercontent.com/a-/AOh14Gg_n8V7bVINy02QRuRgOoMo11Ri7NKU3OUKdC1bkQ=s64",
      "userId": "09038942003589296665"
     },
     "user_tz": 300
    },
    "id": "jOsm_NpdxO6L"
   },
   "outputs": [],
   "source": [
    "def infect(env, n):\n",
    "    \"\"\"Infect n susceptible individuals.\"\"\"\n",
    "    for s in random.sample(population, n):\n",
    "        s.infect.succeed()\n",
    "    yield env.timeout(0)"
   ]
  },
  {
   "cell_type": "markdown",
   "metadata": {
    "colab_type": "text",
    "id": "EslkZZNvuw9J"
   },
   "source": [
    "## COVID-19 Transmission Process"
   ]
  },
  {
   "cell_type": "code",
   "execution_count": 187,
   "metadata": {
    "colab": {},
    "colab_type": "code",
    "executionInfo": {
     "elapsed": 344,
     "status": "ok",
     "timestamp": 1596744990359,
     "user": {
      "displayName": "Jeffrey Kantor",
      "photoUrl": "https://lh3.googleusercontent.com/a-/AOh14Gg_n8V7bVINy02QRuRgOoMo11Ri7NKU3OUKdC1bkQ=s64",
      "userId": "09038942003589296665"
     },
     "user_tz": 300
    },
    "id": "V9JBjtO7uruy"
   },
   "outputs": [],
   "source": [
    "def covid(env, beta):\n",
    "    while True:\n",
    "        # Poisson process\n",
    "        yield env.timeout(random.expovariate(beta))\n",
    "\n",
    "        # pick two individuals at random\n",
    "        a, b = random.sample(population, 2)\n",
    "\n",
    "        # transmit infection\n",
    "        if a.status == \"susceptible\" and b.status in (\"asymptomatic\", \"symptomatic\"):\n",
    "            a.infect.succeed()\n",
    "        elif a.status in (\"asymptomatic\", \"symptomatic\") and b.status == \"susceptible\":\n",
    "            b.infect.succeed()\n"
   ]
  },
  {
   "cell_type": "markdown",
   "metadata": {
    "colab_type": "text",
    "id": "uoNNl3QVvHPy"
   },
   "source": [
    "## Transmission from exogeneous sources and super-spreader events"
   ]
  },
  {
   "cell_type": "code",
   "execution_count": 188,
   "metadata": {
    "colab": {},
    "colab_type": "code",
    "executionInfo": {
     "elapsed": 680,
     "status": "ok",
     "timestamp": 1596744991108,
     "user": {
      "displayName": "Jeffrey Kantor",
      "photoUrl": "https://lh3.googleusercontent.com/a-/AOh14Gg_n8V7bVINy02QRuRgOoMo11Ri7NKU3OUKdC1bkQ=s64",
      "userId": "09038942003589296665"
     },
     "user_tz": 300
    },
    "id": "Exw14GtcvAdA"
   },
   "outputs": [],
   "source": [
    "def super_spreader_events(env):\n",
    "    p_infect = 0.01\n",
    "    while True:\n",
    "        yield env.timeout(7.0)\n",
    "        for s in population:\n",
    "            if s.status == \"susceptible\":\n",
    "                if random.uniform(0, 1) < p_infect:\n",
    "                    #print(f\"Student {s.name} infected by superspreader event on day {env.now:4.1f}\")\n",
    "                    s.infect.succeed()\n"
   ]
  },
  {
   "cell_type": "markdown",
   "metadata": {
    "colab_type": "text",
    "id": "TxxnYu74vf9n"
   },
   "source": [
    "## Testing and Isolation of Asymptomatic Individuals"
   ]
  },
  {
   "cell_type": "code",
   "execution_count": 196,
   "metadata": {
    "colab": {},
    "colab_type": "code",
    "executionInfo": {
     "elapsed": 512,
     "status": "ok",
     "timestamp": 1596745113205,
     "user": {
      "displayName": "Jeffrey Kantor",
      "photoUrl": "https://lh3.googleusercontent.com/a-/AOh14Gg_n8V7bVINy02QRuRgOoMo11Ri7NKU3OUKdC1bkQ=s64",
      "userId": "09038942003589296665"
     },
     "user_tz": 300
    },
    "id": "PAm6_fJN1xwi"
   },
   "outputs": [],
   "source": [
    "def testing(env, t_repeat=3, t_delay=1):\n",
    "    p_sensitivity = 0.7\n",
    "    p_selectivity = 99.5\n",
    "    yield env.timeout(t_delay)\n",
    "    while True:\n",
    "        yield env.timeout(t_repeat - t_delay)\n",
    "        pos = set(s for s in population if s.status in (\"symptomatic\", \"asymptomatic\") and random.uniform(0,1) <= p_sensitivity)\n",
    "        yield env.timeout(t_delay)\n",
    "        for s in pos:\n",
    "            if s in population:\n",
    "                isolation.add(s)\n",
    "                population.remove(s)"
   ]
  },
  {
   "cell_type": "markdown",
   "metadata": {
    "colab_type": "text",
    "id": "I1v74LQ_vk3l"
   },
   "source": [
    "## Isolation of Symptomatic Individuals"
   ]
  },
  {
   "cell_type": "code",
   "execution_count": 197,
   "metadata": {
    "colab": {},
    "colab_type": "code",
    "executionInfo": {
     "elapsed": 485,
     "status": "ok",
     "timestamp": 1596745115465,
     "user": {
      "displayName": "Jeffrey Kantor",
      "photoUrl": "https://lh3.googleusercontent.com/a-/AOh14Gg_n8V7bVINy02QRuRgOoMo11Ri7NKU3OUKdC1bkQ=s64",
      "userId": "09038942003589296665"
     },
     "user_tz": 300
    },
    "id": "oKZgZNVKvU7F"
   },
   "outputs": [],
   "source": [
    "def isolate_symptomatics(env):\n",
    "    \"\"\"Isolate symptomatics perfectly every day\"\"\"\n",
    "    while True:\n",
    "        yield env.timeout(1.0)\n",
    "        tmp = set(s for s in population if s.status == \"symptomatic\")\n",
    "        for s in tmp:\n",
    "            isolation.add(s)\n",
    "            population.remove(s)"
   ]
  },
  {
   "cell_type": "markdown",
   "metadata": {
    "colab_type": "text",
    "id": "PcJB-GoAvv1R"
   },
   "source": [
    "## Recovery and Return"
   ]
  },
  {
   "cell_type": "code",
   "execution_count": 198,
   "metadata": {
    "colab": {},
    "colab_type": "code",
    "executionInfo": {
     "elapsed": 414,
     "status": "ok",
     "timestamp": 1596745115860,
     "user": {
      "displayName": "Jeffrey Kantor",
      "photoUrl": "https://lh3.googleusercontent.com/a-/AOh14Gg_n8V7bVINy02QRuRgOoMo11Ri7NKU3OUKdC1bkQ=s64",
      "userId": "09038942003589296665"
     },
     "user_tz": 300
    },
    "id": "Vuzy1YC4vbGt"
   },
   "outputs": [],
   "source": [
    "def return_healthy(env):\n",
    "    while True:\n",
    "        yield env.timeout(0.5)\n",
    "        tmp = set(s for s in isolation if not s.status in (\"asymptomatic\", \"symptomatic\"))\n",
    "        for s in tmp:\n",
    "            isolation.remove(s)\n",
    "            population.add(s)\n"
   ]
  },
  {
   "cell_type": "markdown",
   "metadata": {
    "colab_type": "text",
    "id": "VXFBRgHAvxRe"
   },
   "source": [
    "## Simulation"
   ]
  },
  {
   "cell_type": "code",
   "execution_count": 205,
   "metadata": {
    "colab": {},
    "colab_type": "code",
    "executionInfo": {
     "elapsed": 899,
     "status": "ok",
     "timestamp": 1596745728028,
     "user": {
      "displayName": "Jeffrey Kantor",
      "photoUrl": "https://lh3.googleusercontent.com/a-/AOh14Gg_n8V7bVINy02QRuRgOoMo11Ri7NKU3OUKdC1bkQ=s64",
      "userId": "09038942003589296665"
     },
     "user_tz": 300
    },
    "id": "g8pJcSurveFX"
   },
   "outputs": [],
   "source": [
    "N = 400\n",
    "\n",
    "# create simulation environment\n",
    "env = simpy.Environment()\n",
    "\n",
    "# create campus population\n",
    "population = set(Person(env, k) for k in range(0, N))\n",
    "isolation = set()\n",
    "\n",
    "# start up all processes\n",
    "env.process(infect(env, 2))\n",
    "env.process(covid(env, 0.8*N))\n",
    "env.process(super_spreader_events(env))\n",
    "env.process(testing(env, t_repeat=2, t_delay=0))\n",
    "env.process(isolate_symptomatics(env))\n",
    "env.process(return_healthy(env))\n",
    "\n",
    "# run simulation\n",
    "env.run(until=120)"
   ]
  },
  {
   "cell_type": "markdown",
   "metadata": {
    "colab_type": "text",
    "id": "N6v2XvjrR7zJ"
   },
   "source": [
    "## Post-Processing Simulation Data"
   ]
  },
  {
   "cell_type": "code",
   "execution_count": 206,
   "metadata": {
    "colab": {
     "base_uri": "https://localhost:8080/",
     "height": 282
    },
    "colab_type": "code",
    "executionInfo": {
     "elapsed": 909,
     "status": "ok",
     "timestamp": 1596745728634,
     "user": {
      "displayName": "Jeffrey Kantor",
      "photoUrl": "https://lh3.googleusercontent.com/a-/AOh14Gg_n8V7bVINy02QRuRgOoMo11Ri7NKU3OUKdC1bkQ=s64",
      "userId": "09038942003589296665"
     },
     "user_tz": 300
    },
    "id": "AZ2hVAkCwH8K",
    "outputId": "392167d7-afee-4d7e-ff83-a1f2208c79b3"
   },
   "outputs": [
    {
     "data": {
      "text/plain": [
       "<matplotlib.legend.Legend at 0x7fc4f36fc518>"
      ]
     },
     "execution_count": 206,
     "metadata": {
      "tags": []
     },
     "output_type": "execute_result"
    },
    {
     "data": {
      "image/png": "[encoded data removed]",
      "text/plain": [
       "<Figure size 432x288 with 1 Axes>"
      ]
     },
     "metadata": {
      "needs_background": "light",
      "tags": []
     },
     "output_type": "display_data"
    }
   ],
   "source": [
    "# post-processing\n",
    "data = [[s.id, t, status] for s in population for t, status in s.data]\n",
    "\n",
    "# create pandas data frame\n",
    "df = pd.DataFrame(data, columns=[\"id\", \"time\", \"status\"]).sort_values([\"time\", \"id\"]).set_index(\"time\")\n",
    "\n",
    "U = (df[\"status\"] == \"susceptible\").cumsum()\n",
    "E = (df[\"status\"] == \"exposed\").cumsum()\n",
    "S = (df[\"status\"] == \"symptomatic\").cumsum()\n",
    "SR = (df[\"status\"] == \"symptomatic-recovered\").cumsum()\n",
    "A = (df[\"status\"] == \"asymptomatic\").cumsum()\n",
    "AR = (df[\"status\"] == \"asymptomatic-recovered\").cumsum()\n",
    "R = (df[\"status\"] == \"recovered\").cumsum()\n",
    "\n",
    "u = U - E\n",
    "e = E - (S + A)\n",
    "s = S - SR\n",
    "a = A - AR\n",
    "r = R\n",
    "\n",
    "plt.plot(u, label=\"susceptible\")\n",
    "plt.plot(e, label=\"exposed\")\n",
    "plt.plot(s, label=\"symptomatic\")\n",
    "plt.plot(a, label=\"asymptomatic\")\n",
    "plt.plot(r, label=\"recovered\")\n",
    "plt.legend()\n",
    "\n",
    "# post-processing\n",
    "##log = np.array(log)\n",
    "#plt.plot(log[:,0], log[:, 1:]);\n",
    "#plt.legend(['susceptible', 'exposed', 'asymptomatic', 'symptomatic', 'recovered'])\n",
    "#plt.xlabel('days')\n",
    "#plt.ylabel('number');"
   ]
  },
  {
   "cell_type": "code",
   "execution_count": 206,
   "metadata": {
    "colab": {},
    "colab_type": "code",
    "executionInfo": {
     "elapsed": 714,
     "status": "ok",
     "timestamp": 1596745728635,
     "user": {
      "displayName": "Jeffrey Kantor",
      "photoUrl": "https://lh3.googleusercontent.com/a-/AOh14Gg_n8V7bVINy02QRuRgOoMo11Ri7NKU3OUKdC1bkQ=s64",
      "userId": "09038942003589296665"
     },
     "user_tz": 300
    },
    "id": "af7yJkvUMdfC"
   },
   "outputs": [],
   "source": []
  }
 ],
 "metadata": {
  "colab": {
   "authorship_tag": "ABX9TyPDkYNBEh7FSCqGWCESTlrd",
   "collapsed_sections": [],
   "name": "Agent-based-campus-covid-model.ipynb",
   "provenance": []
  },
  "kernelspec": {
   "display_name": "Python 3",
   "language": "python",
   "name": "python3"
  },
  "language_info": {
   "codemirror_mode": {
    "name": "ipython",
    "version": 3
   },
   "file_extension": ".py",
   "mimetype": "text/x-python",
   "name": "python",
   "nbconvert_exporter": "python",
   "pygments_lexer": "ipython3",
   "version": "3.7.4"
  }
 },
 "nbformat": 4,
 "nbformat_minor": 4
}
