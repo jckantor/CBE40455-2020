{
 "cells": [
  {
   "cell_type": "markdown",
   "metadata": {},
   "source": [
    "# Modeling\n",
    "\n",
    "What we will do in this chapter is illustrate the transition from traditional modeling of continuous systems using the conventions of calculus and differential equations to modeling based on the direct simulation of microscopic events. "
   ]
  },
  {
   "cell_type": "markdown",
   "metadata": {},
   "source": [
    "## Readings"
   ]
  },
  {
   "cell_type": "markdown",
   "metadata": {},
   "source": [
    "### Agent Based Modeling\n",
    "\n",
    "* Bonabeau, Eric. \"Agent-based modeling: Methods and techniques for simulating human systems.\" Proceedings of the national academy of sciences 99.suppl 3 (2002): 7280-7287. [https://www.pnas.org/content/pnas/99/suppl_3/7280.full.pdf](https://www.pnas.org/content/pnas/99/suppl_3/7280.full.pdf)\n"
   ]
  },
  {
   "cell_type": "markdown",
   "metadata": {},
   "source": [
    "### Simpy\n",
    "\n",
    "* [Simpy: Wikipedia entry](https://en.wikipedia.org/wiki/SimPy)"
   ]
  },
  {
   "cell_type": "markdown",
   "metadata": {},
   "source": [
    "### COVID-19 and college campuses\n",
    "\n",
    "* Paltiel, A. David, Amy Zheng, and Rochelle P. Walensky. \"Assessment of SARS-CoV-2 Screening Strategies to Permit the Safe Reopening of College Campuses in the United States.\" JAMA network open 3.7 (2020): e2016818-e2016818. [https://jamanetwork.com/journals/jamanetworkopen/fullarticle/2768923](https://jamanetwork.com/journals/jamanetworkopen/fullarticle/2768923)\n",
    "\n",
    "* Bradley, Elizabeth H., Ming-Wen An, and Ellen Fox. \"Reopening Colleges During the Coronavirus Disease 2019 (COVID-19) Pandemic—One Size Does Not Fit All.\" JAMA Network Open 3.7 (2020): e2017838-e2017838. [https://jamanetwork.com/journals/jamanetworkopen/article-abstract/2768917](https://jamanetwork.com/journals/jamanetworkopen/article-abstract/2768917)"
   ]
  }
 ],
 "metadata": {
  "kernelspec": {
   "display_name": "Python 3",
   "language": "python",
   "name": "python3"
  },
  "language_info": {
   "codemirror_mode": {
    "name": "ipython",
    "version": 3
   },
   "file_extension": ".py",
   "mimetype": "text/x-python",
   "name": "python",
   "nbconvert_exporter": "python",
   "pygments_lexer": "ipython3",
   "version": "3.7.4"
  }
 },
 "nbformat": 4,
 "nbformat_minor": 4
}
