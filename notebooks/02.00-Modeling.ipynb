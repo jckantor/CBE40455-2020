{
 "cells": [
  {
   "cell_type": "markdown",
   "metadata": {},
   "source": [
    "# Modeling\n",
    "\n",
    "What we will do in this chapter is illustrate the transition from traditional modeling of continuous systems using the conventions of calculus and differential equations to modeling based on the direct simulation of microscopic events. "
   ]
  },
  {
   "cell_type": "markdown",
   "metadata": {},
   "source": [
    "## Readings"
   ]
  },
  {
   "cell_type": "markdown",
   "metadata": {},
   "source": [
    "### Agent Based Modeling\n",
    "\n",
    "Bonabeau, Eric. \"Agent-based modeling: Methods and techniques for simulating human systems.\" Proceedings of the national academy of sciences 99.suppl 3 (2002): 7280-7287. [https://www.pnas.org/content/pnas/99/suppl_3/7280.full.pdf](https://www.pnas.org/content/pnas/99/suppl_3/7280.full.pdf)\n"
   ]
  },
  {
   "cell_type": "markdown",
   "metadata": {},
   "source": [
    "### Simpy\n",
    "\n",
    "* [Simpy: Wikipedia entry](https://en.wikipedia.org/wiki/SimPy)"
   ]
  },
  {
   "cell_type": "code",
   "execution_count": null,
   "metadata": {},
   "outputs": [],
   "source": []
  }
 ],
 "metadata": {
  "kernelspec": {
   "display_name": "Python 3",
   "language": "python",
   "name": "python3"
  },
  "language_info": {
   "codemirror_mode": {
    "name": "ipython",
    "version": 3
   },
   "file_extension": ".py",
   "mimetype": "text/x-python",
   "name": "python",
   "nbconvert_exporter": "python",
   "pygments_lexer": "ipython3",
   "version": "3.7.4"
  }
 },
 "nbformat": 4,
 "nbformat_minor": 4
}
