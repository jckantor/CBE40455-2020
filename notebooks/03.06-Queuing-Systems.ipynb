{
 "cells": [
  {
   "cell_type": "markdown",
   "metadata": {},
   "source": [
    "# Queuing"
   ]
  },
  {
   "cell_type": "code",
   "execution_count": 3,
   "metadata": {},
   "outputs": [
    {
     "data": {
      "image/jpeg": "[encoded data removed]",
      "text/html": [
       "\n",
       "        <iframe\n",
       "            width=\"560\"\n",
       "            height=\"315\"\n",
       "            src=\"https://www.youtube.com/embed/yUVuiZUhbyA\"\n",
       "            frameborder=\"0\"\n",
       "            allowfullscreen\n",
       "        ></iframe>\n",
       "        "
      ],
      "text/plain": [
       "<IPython.lib.display.YouTubeVideo at 0x7fa82c271350>"
      ]
     },
     "execution_count": 3,
     "metadata": {},
     "output_type": "execute_result"
    }
   ],
   "source": [
    "from IPython.display import YouTubeVideo\n",
    "YouTubeVideo('yUVuiZUhbyA', width=560, height=315)"
   ]
  },
  {
   "cell_type": "markdown",
   "metadata": {},
   "source": [
    "\n",
    "[Tesla China - Shanghai Gigafactory production line](https://electrek.co/2020/08/31/tesla-video-production-gigafactory-shanghai-alien-dreadnought/?fbclid=IwAR2jHUZMQG4Gl77ugYHvm3DTq-zV5iOuN3bMNePzJswvfY_VVgYP3W7pSZQ).\n"
   ]
  },
  {
   "cell_type": "markdown",
   "metadata": {},
   "source": [
    "### Queues are ubiquitous"
   ]
  },
  {
   "cell_type": "markdown",
   "metadata": {},
   "source": [
    "![mathworks queue](https://blogs.mathworks.com/images/seth/2015Q1/queues.png)"
   ]
  },
  {
   "cell_type": "markdown",
   "metadata": {},
   "source": [
    "### Terminology\n",
    "\n",
    "* **Servers**\n",
    "* **Arrival rate**\n",
    "* **Departure rate**\n",
    "* **Queuing area** or **waiting area**"
   ]
  },
  {
   "cell_type": "markdown",
   "metadata": {},
   "source": [
    "### Service Disciplines (of many possibilities)\n",
    "\n",
    "* First-in-first-out (FIFO or FCFS)\n",
    "* Last in first out (LIFO)\n",
    "* Shortest job first\n",
    "* Priority queue, no interruption\n",
    "* Priority queue with premption\n",
    "* Earliest due date"
   ]
  },
  {
   "cell_type": "markdown",
   "metadata": {},
   "source": [
    "### Poisson Process\n",
    "\n",
    "* $k$ is the number of events in an interval $0, 1, 2, \\ldots$\n",
    "* Events are independent\n",
    "* $\\lambda$ average number of events per interval\n",
    "\n",
    "Suppose there is a probability $p$ of a event in an interval. Now we look at repeated intervals. What is the probability of $k$ events in $n$ intervals?\n",
    "\n",
    "\\begin{align*}\n",
    "p(k) & = \\begin{pmatrix}n \\\\ k\\end{pmatrix} p^k (1-p)^k  \\\\\n",
    "& = \\frac{n!}{k!(n-k)!} p^k (1-p)^k\n",
    "\\end{align*}\n",
    "\n",
    "Suppose we look at $n$ subintervals. The relationship between probability and rate is given by\n",
    "\n",
    "$$\\lambda = n p$$\n",
    "\n",
    "So $p = \\frac{\\lambda}{n}$ in the limit of a large number of subintervals. Mathematically\n",
    "\n",
    "$$ \\begin{pmatrix}n \\\\ k\\end{pmatrix} p^k (1-p)^k \\approx \\frac{\\lambda^k  e^{-\\lambda}}{k!}$$\n",
    "\n",
    "If $r$ is the rate of events, then $\\lambda = r t$ for a interval of period \n",
    "\n",
    "**Exponential Distribution**\n",
    "\n",
    "$$p(\\text{$k$ events in interval $t$}) = \\frac{(rt)^k e^{-rt}}{k!}$$\n",
    "\n"
   ]
  },
  {
   "cell_type": "code",
   "execution_count": 12,
   "metadata": {},
   "outputs": [
    {
     "data": {
      "image/png": "[encoded data removed]",
      "text/plain": [
       "<Figure size 432x288 with 1 Axes>"
      ]
     },
     "metadata": {
      "needs_background": "light"
     },
     "output_type": "display_data"
    }
   ],
   "source": [
    "%matplotlib inline\n",
    "import random\n",
    "import matplotlib.pyplot as plt\n",
    "\n",
    "\n",
    "N = 10000\n",
    "r = 1.0\n",
    "t = 10.0\n",
    "beta = 1/(r*t)\n",
    "\n",
    "x = [random.expovariate(beta) for n in range(N)]\n",
    "\n",
    "plt.hist(x, bins=100);"
   ]
  },
  {
   "cell_type": "markdown",
   "metadata": {},
   "source": [
    "### Kendell's notation\n",
    "\n",
    "* $A/S/c$\n",
    "    * $A$: statistical nature of the arrival process \n",
    "    * $S$: Statistical nature of the service process \n",
    "    * $c$: Number of servers at the node\n",
    "    \n",
    "    \n",
    "* Typical Statistics\n",
    "    * D: Deterministic (average arrival rate $\\lambda$)\n",
    "    * M: Markov or memoryless (average arrival rate $r$)\n",
    "    * G: General or arbitrary distribution (mean $\\mu$ and standard deviation $\\simga$ or variance $\\sigma^2$)\n",
    "    \n",
    "    \n",
    "Example: M/D/1\n",
    "\n",
    "![Aircraft queue](https://i0.wp.com/nats.aero/blog/wp-content/uploads/2013/08/aircraft-queue-e1377251576844.jpg?ssl=1)\n",
    "\n",
    "Example: M/M/1 \n",
    "\n",
    "![Call Center](https://upload.wikimedia.org/wikipedia/commons/thumb/b/b1/Emergency_Call_Center_112.jpg/640px-Emergency_Call_Center_112.jpg)"
   ]
  },
  {
   "cell_type": "markdown",
   "metadata": {},
   "source": [
    "## Batch Processing Example\n",
    "\n",
    "Schultheisz, Daniel, and Jude T. Sommerfeld. \"Discrete-Event Simulation in Chemical Engineering.\" Chemical Engineering Education 22.2 (1988): 98-102.\n",
    "\n",
    "![Batch Process](figures/BatchProcess.png)\n",
    "\n",
    "    \"... a small, single-product batch chemical plant has three identical reactors in parallel, followed by a single storage tank and a batch still. Customer orders (batches) to be filled (which begin with processing in the reactor) occur every 115 ± 30 minutes, uniformly distributed. The reaction time in a given reactor is 335 ± 60 minutes, and the distillation time in the still is 110 ± 25 minutes, both times uniformly distributed. The holding capacity of the storage tank is exactly one batch. Hence, the storage tank must be empty for a given reactor to discharge its batch; if not, the reactor cannot begin processing a new batch until the storage tank becomes empty. The simulation is to be run for 100 batches. The model should have the capability to collect waiting line statistics for the queue im- mediately upstream of the reactor.\"\""
   ]
  },
  {
   "cell_type": "code",
   "execution_count": 13,
   "metadata": {
    "pycharm": {}
   },
   "outputs": [],
   "source": [
    "%matplotlib inline\n",
    "import matplotlib.pyplot as plt\n",
    "import pandas as pd\n",
    "\n",
    "import random\n",
    "import itertools\n",
    "import simpy"
   ]
  },
  {
   "cell_type": "markdown",
   "metadata": {
    "pycharm": {}
   },
   "source": [
    "The first step in any SimPy simulation is to setup the simulation environment and define any shared resources that may be used in the course of the simulation."
   ]
  },
  {
   "cell_type": "code",
   "execution_count": 15,
   "metadata": {
    "pycharm": {}
   },
   "outputs": [],
   "source": [
    "env = simpy.Environment()"
   ]
  },
  {
   "cell_type": "markdown",
   "metadata": {
    "pycharm": {}
   },
   "source": [
    "In this application, the batch process is conceptually modeled as a sequence of components that process individual orders. Here we use the SimPy [Store](http://simpy.readthedocs.io/en/latest/api_reference/simpy.resources.html) primative to describe the reactor queue and storage tank. These components will accept orders corresponding to batches, and process them on a first-in, first-out (FIFO) basis.  We'll put no upper limit on the orders that can be stored in the reactor queue, but we will establish the storage tank so that it can accept only one batch at a time."
   ]
  },
  {
   "cell_type": "code",
   "execution_count": 16,
   "metadata": {
    "pycharm": {}
   },
   "outputs": [],
   "source": [
    "N_STORAGE_TANKS = 1\n",
    "\n",
    "reactor_queue = simpy.Store(env)\n",
    "storage_tank = simpy.Store(env,N_STORAGE_TANKS)"
   ]
  },
  {
   "cell_type": "markdown",
   "metadata": {
    "pycharm": {}
   },
   "source": [
    "Next we turn to the process that will generate the customer orders. The function `order_generator` begins by initializing a counter that will be used to assigned a consecutive order numbers, after which `order_generator` enters a loop that will create a total of 100 orders for the simulation.\n",
    "\n",
    "At the start of each loop, `order_generator` issues a yield statement that will return control back to the simulation for a simulated period extending into the future. The period is given by a random number uniformly distributed in the range 115 +/- 30 minutes. \n",
    "\n",
    "Technically speaking, the `yield` statement defines the function as a generator of events, and provides the means for `order_generator` to communicate with other processes and to be controlled by the simulation environment. At least one `yield` statement is needed in every function that will simulate a SimPy process.\n",
    "\n",
    "Once control returns to `order_generator`, the order counter is incremented and a second yield used to request the simuation environment put the order into the reactor queue. On return the order_generator completes the loop by writing an entry into the simulation log.\n",
    "\n",
    "The `env.process()` creates order generator within the simulation environment. The actual simulation, however, happens later when we use `env.run()` after creating the other needed processes for this application. "
   ]
  },
  {
   "cell_type": "code",
   "execution_count": 17,
   "metadata": {
    "pycharm": {}
   },
   "outputs": [
    {
     "data": {
      "text/plain": [
       "<Process(order_generator) object at 0x7fa83129f5d0>"
      ]
     },
     "execution_count": 17,
     "metadata": {},
     "output_type": "execute_result"
    }
   ],
   "source": [
    "def order_generator(env,reactor_queue):\n",
    "    orderID = 1\n",
    "    while orderID <= 100:\n",
    "        yield env.timeout(random.uniform(115-30,115+30))\n",
    "        yield reactor_queue.put(orderID)\n",
    "        writeLog(env, orderID, 'Stage 0', 'Queue')\n",
    "        orderID += 1\n",
    "        \n",
    "env.process(order_generator(env,reactor_queue))"
   ]
  },
  {
   "cell_type": "markdown",
   "metadata": {
    "pycharm": {}
   },
   "source": [
    "The user is responsible for managing the logging of simulation events.  A simple but useful approach is to initialize a Python list, then append data containing a description of the event and time at which it occurred. Later we'll see how to process this log to get the desired process performance indicators."
   ]
  },
  {
   "cell_type": "code",
   "execution_count": 18,
   "metadata": {
    "pycharm": {}
   },
   "outputs": [],
   "source": [
    "log = []\n",
    "def writeLog(env, orderID, stage, event):\n",
    "    log.append([orderID, stage, event, env.now])"
   ]
  },
  {
   "cell_type": "markdown",
   "metadata": {
    "pycharm": {}
   },
   "source": [
    "Next we create a function `batch_reactor` that will be use to create processes corresponding to each of the three batch reactors. Each reactor is assigned a unique name so they can be distinguished in the simulation log.\n",
    "\n",
    "The batch reactors have three interactions with the simulation environment. The first is to get an orderID from the reactor_queue. The batch_reactor yields to the simulation environment until an order is ready for processing. Once the processing can start, and suitable event is written to the log, the process waits a period of time corresponding the length of the reaction, and the order put into the storage_tank.  The reactor will wait until the storage tank is ready to accept a new batch.\n",
    "\n",
    "`env.process()` is called three times to put three copies of the batch_reactor process into the simulation environment."
   ]
  },
  {
   "cell_type": "code",
   "execution_count": 19,
   "metadata": {
    "pycharm": {}
   },
   "outputs": [
    {
     "data": {
      "text/plain": [
       "<Process(batch_reactor) object at 0x7fa8312b8f10>"
      ]
     },
     "execution_count": 19,
     "metadata": {},
     "output_type": "execute_result"
    }
   ],
   "source": [
    "def batch_reactor(name, env, reactor_queue, storage_tank):\n",
    "    while True:\n",
    "        orderID = yield reactor_queue.get()\n",
    "        writeLog(env, orderID, 'Stage 1', name)\n",
    "        yield env.timeout(random.uniform(335-60,335+60))\n",
    "        writeLog(env, orderID, 'Stage 2', name)\n",
    "        yield storage_tank.put(orderID)\n",
    "        writeLog(env, orderID, 'Stage 3', 'Storage')\n",
    "        \n",
    "env.process(batch_reactor('Reactor A', env, reactor_queue, storage_tank))\n",
    "env.process(batch_reactor('Reactor B', env, reactor_queue, storage_tank))\n",
    "env.process(batch_reactor('Reactor C', env, reactor_queue, storage_tank))"
   ]
  },
  {
   "cell_type": "markdown",
   "metadata": {
    "pycharm": {}
   },
   "source": [
    "The last process to model is the batch still. Similar to the reactor model, `batch_still` yields control while waiting for an orderID to be retrieved from a preceding unit. Once an order has been received from the storage_tank, a message is written to the simulation log, time is yielded to the simulation environment corresponding to the time required for distillation, and then a final completion message is written to the log."
   ]
  },
  {
   "cell_type": "code",
   "execution_count": 20,
   "metadata": {
    "pycharm": {}
   },
   "outputs": [
    {
     "data": {
      "text/plain": [
       "<Process(batch_still) object at 0x7fa8312b83d0>"
      ]
     },
     "execution_count": 20,
     "metadata": {},
     "output_type": "execute_result"
    }
   ],
   "source": [
    "def batch_still(name, env, storage_tank):\n",
    "    while True:\n",
    "        orderID = yield storage_tank.get()\n",
    "        writeLog(env, orderID, 'Stage 4', name)\n",
    "        yield env.timeout(random.uniform(110-25,110+25))\n",
    "        writeLog(env, orderID, 'Stage 5', 'complete')\n",
    "\n",
    "env.process(batch_still('Still A', env, storage_tank))"
   ]
  },
  {
   "cell_type": "markdown",
   "metadata": {
    "pycharm": {}
   },
   "source": [
    "We're now ready to run the the simulation.  In this case the simulation is limited to the 100 orders generated in the `order_generator` process. Simulation is complete once all of the resulting events have been processed."
   ]
  },
  {
   "cell_type": "code",
   "execution_count": 21,
   "metadata": {
    "pycharm": {}
   },
   "outputs": [
    {
     "name": "stdout",
     "output_type": "stream",
     "text": [
      "Simulation complete.\n",
      "600  messages have been logged.\n"
     ]
    }
   ],
   "source": [
    "env.run()\n",
    "\n",
    "print('Simulation complete.')\n",
    "print(len(log), ' messages have been logged.')"
   ]
  },
  {
   "cell_type": "markdown",
   "metadata": {
    "pycharm": {}
   },
   "source": [
    "## Processing the Simulation Log"
   ]
  },
  {
   "cell_type": "code",
   "execution_count": 22,
   "metadata": {
    "pycharm": {},
    "scrolled": true
   },
   "outputs": [],
   "source": [
    "def process_log(log):\n",
    "\n",
    "    df = pd.DataFrame([[a,b,c,t] for (a,b,c,t) in log])\n",
    "    df = df.pivot(index=0,columns=1,values=3).reset_index()\n",
    "    df = df.set_index([0]).dropna()\n",
    "    df.index.rename('OrderID',inplace=True)\n",
    "\n",
    "    stage1 = df['Stage 1']-df['Stage 0']\n",
    "    stage2 = df['Stage 2']-df['Stage 1']\n",
    "    stage3 = df['Stage 3']-df['Stage 2']\n",
    "    stage4 = df['Stage 4']-df['Stage 3']\n",
    "    stage5 = df['Stage 5']-df['Stage 4']\n",
    "\n",
    "    print('Mean Order Completion = {0:6.1f} min.\\n'.format((df['Stage 5'] - df['Stage 0']).mean()))\n",
    "\n",
    "    print('Mean Time in Process Stages:\\n')\n",
    "    print('     Reactor Queue = {0:6.1f} min.'.format(stage1.mean()))\n",
    "    print('          Reactors = {0:6.1f} min.'.format(stage2.mean()))\n",
    "    print('    Reactor Holdup = {0:6.1f} min.'.format(stage3.mean()))\n",
    "    print('           Storage = {0:6.1f} min.'.format(stage4.mean()))\n",
    "    print('             Still = {0:6.1f} min.'.format(stage5.mean()))\n",
    "\n",
    "    print('\\nUtilization\\n')\n",
    "    print('Reactor Utilization = {0:5.3f}'.format(stage2.sum()/3.0/(df['Stage 2'].max()-df['Stage 2'].min())))\n",
    "    print('  Still Utilization = {0:5.3f}'.format(stage5.sum()/(df['Stage 5'].max()-df['Stage 5'].min())))\n",
    "    \n",
    "    stage1.hist(bins=30)\n",
    "    plt.title('Distribution of Reactor Queue Times')\n",
    "    plt.ylabel('Count')\n",
    "    plt.xlabel('Minutes')"
   ]
  },
  {
   "cell_type": "code",
   "execution_count": 23,
   "metadata": {
    "pycharm": {}
   },
   "outputs": [
    {
     "name": "stdout",
     "output_type": "stream",
     "text": [
      "Mean Order Completion =  501.3 min.\n",
      "\n",
      "Mean Time in Process Stages:\n",
      "\n",
      "     Reactor Queue =   22.9 min.\n",
      "          Reactors =  335.2 min.\n",
      "    Reactor Holdup =    0.2 min.\n",
      "           Storage =   34.1 min.\n",
      "             Still =  109.0 min.\n",
      "\n",
      "Utilization\n",
      "\n",
      "Reactor Utilization = 0.960\n",
      "  Still Utilization = 0.932\n"
     ]
    },
    {
     "data": {
      "image/png": "[encoded data removed]",
      "text/plain": [
       "<Figure size 432x288 with 1 Axes>"
      ]
     },
     "metadata": {
      "needs_background": "light"
     },
     "output_type": "display_data"
    }
   ],
   "source": [
    "process_log(log)"
   ]
  },
  {
   "cell_type": "code",
   "execution_count": null,
   "metadata": {},
   "outputs": [],
   "source": []
  }
 ],
 "metadata": {
  "kernelspec": {
   "display_name": "Python 3",
   "language": "python",
   "name": "python3"
  },
  "language_info": {
   "codemirror_mode": {
    "name": "ipython",
    "version": 3
   },
   "file_extension": ".py",
   "mimetype": "text/x-python",
   "name": "python",
   "nbconvert_exporter": "python",
   "pygments_lexer": "ipython3",
   "version": "3.7.4"
  }
 },
 "nbformat": 4,
 "nbformat_minor": 4
}
