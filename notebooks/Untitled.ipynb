{
 "cells": [
  {
   "cell_type": "markdown",
   "metadata": {},
   "source": [
    "# Introduction to Discrete-Event Modeling"
   ]
  },
  {
   "cell_type": "code",
   "execution_count": 1,
   "metadata": {},
   "outputs": [
    {
     "name": "stdout",
     "output_type": "stream",
     "text": [
      "Collecting simpy\n",
      "  Downloading https://files.pythonhosted.org/packages/20/f9/874b0bab83406827db93292a5bbe5acb5c18e3cea665b2f6e053292cb687/simpy-4.0.1-py2.py3-none-any.whl\n",
      "Installing collected packages: simpy\n",
      "Successfully installed simpy-4.0.1\n"
     ]
    }
   ],
   "source": [
    "!pip install simpy"
   ]
  },
  {
   "cell_type": "markdown",
   "metadata": {},
   "source": [
    "## A simple simulation model\n",
    "\n",
    "As a simple demonstration, let's consider the task of modeling the progess of a disease in a single person. The person will go through several stages of the disease\n",
    "\n",
    "$$\\text{Uninfected} \\quad \\longrightarrow \\quad \\text{Exposed} \\quad \\longrightarrow \\quad \\text{Infectious} \\quad \\longrightarrow \\quad \\text{Recovered}$$"
   ]
  },
  {
   "cell_type": "markdown",
   "metadata": {},
   "source": [
    "### Python generators\n",
    "\n",
    "Python generators are the basic building block for discrete event simulation in Python. Python generators are similar to functions with three profound differences:\n",
    "\n",
    "1. They return values using the `yield` statement rather than a `return` statement. They don't disappear from memory until all statements have been executed.\n",
    "2. Because they don't disappear, they can start and be restarted with a `next` statement.\n",
    "3. Multiple instances of a generator may be working at the same time."
   ]
  },
  {
   "cell_type": "code",
   "execution_count": 24,
   "metadata": {},
   "outputs": [
    {
     "data": {
      "text/plain": [
       "3"
      ]
     },
     "execution_count": 24,
     "metadata": {},
     "output_type": "execute_result"
    }
   ],
   "source": [
    "def a_function():\n",
    "    return 3\n",
    "\n",
    "a_function()"
   ]
  },
  {
   "cell_type": "code",
   "execution_count": 25,
   "metadata": {},
   "outputs": [
    {
     "data": {
      "text/plain": [
       "<generator object a_generator at 0x7fd645f02450>"
      ]
     },
     "execution_count": 25,
     "metadata": {},
     "output_type": "execute_result"
    }
   ],
   "source": [
    "def a_generator():\n",
    "    yield 3\n",
    "    \n",
    "a_generator()"
   ]
  },
  {
   "cell_type": "markdown",
   "metadata": {},
   "source": [
    "Using a generator is different from a function because they don't disappear from memory"
   ]
  },
  {
   "cell_type": "code",
   "execution_count": 27,
   "metadata": {},
   "outputs": [
    {
     "data": {
      "text/plain": [
       "3"
      ]
     },
     "execution_count": 27,
     "metadata": {},
     "output_type": "execute_result"
    }
   ],
   "source": [
    "a = a_generator()\n",
    "next(a)"
   ]
  },
  {
   "cell_type": "markdown",
   "metadata": {},
   "source": [
    "Let's create a generator that can return multiple values."
   ]
  },
  {
   "cell_type": "code",
   "execution_count": 34,
   "metadata": {},
   "outputs": [
    {
     "name": "stdout",
     "output_type": "stream",
     "text": [
      "1\n"
     ]
    }
   ],
   "source": [
    "def my_first_generator():\n",
    "    yield 1\n",
    "    yield 2\n",
    "    yield 3\n",
    "    yield 4\n",
    "\n",
    "a = my_first_generator()\n",
    "print(next(a))"
   ]
  },
  {
   "cell_type": "markdown",
   "metadata": {},
   "source": [
    "Let's get the next value."
   ]
  },
  {
   "cell_type": "code",
   "execution_count": 35,
   "metadata": {},
   "outputs": [
    {
     "name": "stdout",
     "output_type": "stream",
     "text": [
      "2\n"
     ]
    }
   ],
   "source": [
    "print(next(a))"
   ]
  },
  {
   "cell_type": "markdown",
   "metadata": {},
   "source": [
    "Let's create a second instance of the same generator."
   ]
  },
  {
   "cell_type": "code",
   "execution_count": 36,
   "metadata": {},
   "outputs": [
    {
     "name": "stdout",
     "output_type": "stream",
     "text": [
      "1\n"
     ]
    }
   ],
   "source": [
    "b = my_first_generator()\n",
    "print(next(b))"
   ]
  },
  {
   "cell_type": "markdown",
   "metadata": {},
   "source": [
    "Note how the instances each retain a unique state."
   ]
  },
  {
   "cell_type": "code",
   "execution_count": 38,
   "metadata": {},
   "outputs": [
    {
     "name": "stdout",
     "output_type": "stream",
     "text": [
      "4\n",
      "2\n"
     ]
    }
   ],
   "source": [
    "print(next(a))\n",
    "print(next(b))"
   ]
  },
  {
   "cell_type": "markdown",
   "metadata": {},
   "source": [
    "#### Exercise\n",
    "\n",
    "Create a generator that produces a sequence of successive squares."
   ]
  },
  {
   "cell_type": "code",
   "execution_count": 41,
   "metadata": {},
   "outputs": [
    {
     "name": "stdout",
     "output_type": "stream",
     "text": [
      "0\n",
      "1\n",
      "4\n",
      "9\n"
     ]
    }
   ],
   "source": [
    "def succ_sq():\n",
    "    k = 0\n",
    "    while True:\n",
    "        yield k**2\n",
    "        k = k + 1\n",
    "        \n",
    "a = succ_sq()\n",
    "print(next(a))\n",
    "print(next(a))\n",
    "print(next(a))\n",
    "print(next(a))"
   ]
  },
  {
   "cell_type": "markdown",
   "metadata": {},
   "source": [
    "#### Exercise\n",
    "\n",
    "Create generator that creates the Fibonacci sequence\n",
    "\n",
    "$$\\begin{align*}\n",
    "F_0 & = 0 \\\\\n",
    "F_1 & = 1 \\\\\n",
    "F_{n} &= F_{n-1} + F_{n-2}\n",
    "\\end{align*}$$"
   ]
  },
  {
   "cell_type": "code",
   "execution_count": 45,
   "metadata": {},
   "outputs": [
    {
     "name": "stdout",
     "output_type": "stream",
     "text": [
      "0\n",
      "1\n",
      "1\n",
      "2\n",
      "3\n",
      "5\n",
      "8\n",
      "13\n",
      "21\n",
      "34\n",
      "55\n",
      "89\n",
      "144\n",
      "233\n",
      "377\n",
      "610\n",
      "987\n",
      "1597\n",
      "2584\n",
      "4181\n"
     ]
    }
   ],
   "source": [
    "def fib():\n",
    "    a = 0\n",
    "    b = 1\n",
    "    yield a\n",
    "    yield b\n",
    "    while True:\n",
    "        a, b = b, a+b\n",
    "        yield b\n",
    "        \n",
    "f = fib()\n",
    "for k in range(0, 20):\n",
    "    print(next(f))"
   ]
  },
  {
   "cell_type": "markdown",
   "metadata": {},
   "source": [
    "#### Exercise\n",
    "\n",
    "Write a Python generator that simulates the response of a differential equation describing concentration in a stirred tank reactor.\n",
    "\n",
    "$$\\frac{dC}{dt} = -k C + q(t)$$\n",
    "\n",
    "where k = 1.0,  C(0) = 1.0 and q(t) = 0.5. Use Euler's approximation for this example."
   ]
  },
  {
   "cell_type": "code",
   "execution_count": 73,
   "metadata": {},
   "outputs": [
    {
     "name": "stdout",
     "output_type": "stream",
     "text": [
      "0.0 1.0\n",
      "0.2 0.9\n",
      "0.4 0.82\n",
      "0.6 0.756\n",
      "0.8 0.705\n",
      "1.0 0.664\n",
      "1.2 0.631\n",
      "1.4 0.605\n",
      "1.6 0.584\n",
      "1.8 0.567\n",
      "2.0 0.554\n",
      "2.2 0.543\n",
      "2.4 0.534\n",
      "2.6 0.527\n",
      "2.8 0.522\n",
      "3.0 0.518\n",
      "3.2 0.514\n",
      "3.4 0.511\n",
      "3.6 0.509\n",
      "3.8 0.507\n",
      "4.0 0.506\n",
      "4.2 0.505\n",
      "4.4 0.504\n",
      "4.6 0.503\n",
      "4.8 0.502\n"
     ]
    }
   ],
   "source": [
    "q = 0.5\n",
    "\n",
    "def reactor(dt, k):\n",
    "    C = 1.0\n",
    "    t = 0.0\n",
    "    while t <= 5.0:\n",
    "        yield t, C\n",
    "        t = t + dt\n",
    "        C = C - k*C*dt + q*dt\n",
    "        \n",
    "a = reactor(0.2, 1.0)\n",
    "for t, C in a:\n",
    "    print(round(t, 2), round(C, 3))"
   ]
  },
  {
   "cell_type": "markdown",
   "metadata": {},
   "source": [
    "## Simpy"
   ]
  },
  {
   "cell_type": "markdown",
   "metadata": {},
   "source": [
    "### Simplest possible Simpy model\n",
    "\n",
    "Simpy implements a simulation Environment() object that schedules all of the events and processing that occurs when building complex models."
   ]
  },
  {
   "cell_type": "code",
   "execution_count": 3,
   "metadata": {},
   "outputs": [],
   "source": [
    "import simpy\n",
    "\n",
    "env = simpy.Environment()\n",
    "env.run(until=20)"
   ]
  },
  {
   "cell_type": "markdown",
   "metadata": {},
   "source": [
    "### Simpy models are about events"
   ]
  },
  {
   "cell_type": "code",
   "execution_count": 61,
   "metadata": {},
   "outputs": [
    {
     "name": "stdout",
     "output_type": "stream",
     "text": [
      "0\n",
      "1.0\n",
      "2.0\n",
      "3.0\n",
      "4.0\n",
      "5.0\n",
      "6.0\n",
      "7.0\n",
      "8.0\n",
      "9.0\n",
      "10.0\n",
      "11.0\n",
      "12.0\n",
      "13.0\n",
      "14.0\n",
      "15.0\n",
      "16.0\n",
      "17.0\n",
      "18.0\n",
      "19.0\n"
     ]
    }
   ],
   "source": [
    "import simpy\n",
    "\n",
    "def clock(dt):\n",
    "    while True:\n",
    "        print(env.now)\n",
    "        yield env.timeout(dt)    \n",
    "\n",
    "env = simpy.Environment()\n",
    "a = clock(1.0)\n",
    "env.process(a)\n",
    "env.run(until=20)"
   ]
  },
  {
   "cell_type": "markdown",
   "metadata": {
    "jupyter": {
     "source_hidden": true
    }
   },
   "source": [
    "#### Exercise\n",
    "\n",
    "Implement the reactor model using simpy."
   ]
  },
  {
   "cell_type": "code",
   "execution_count": 65,
   "metadata": {},
   "outputs": [
    {
     "name": "stdout",
     "output_type": "stream",
     "text": [
      "0 1.0\n",
      "0.1 0.95\n",
      "0.2 0.91\n",
      "0.3 0.86\n",
      "0.4 0.83\n",
      "0.5 0.8\n",
      "0.6 0.77\n",
      "0.7 0.74\n",
      "0.8 0.72\n",
      "0.9 0.69\n",
      "1.0 0.67\n",
      "1.1 0.66\n",
      "1.2 0.64\n",
      "1.3 0.63\n",
      "1.4 0.61\n",
      "1.5 0.6\n",
      "1.6 0.59\n",
      "1.7 0.58\n",
      "1.8 0.58\n",
      "1.9 0.57\n",
      "2.0 0.56\n",
      "2.1 0.55\n",
      "2.2 0.55\n",
      "2.3 0.54\n",
      "2.4 0.54\n",
      "2.5 0.54\n",
      "2.6 0.53\n",
      "2.7 0.53\n",
      "2.8 0.53\n",
      "2.9 0.52\n",
      "3.0 0.52\n",
      "3.1 0.52\n",
      "3.2 0.52\n",
      "3.3 0.52\n",
      "3.4 0.51\n",
      "3.5 0.51\n",
      "3.6 0.51\n",
      "3.7 0.51\n",
      "3.8 0.51\n",
      "3.9 0.51\n",
      "4.0 0.51\n",
      "4.1 0.51\n",
      "4.2 0.51\n",
      "4.3 0.51\n",
      "4.4 0.5\n",
      "4.5 0.5\n",
      "4.6 0.5\n",
      "4.7 0.5\n",
      "4.8 0.5\n",
      "4.9 0.5\n",
      "5.0 0.5\n"
     ]
    }
   ],
   "source": [
    "import simpy\n",
    "\n",
    "q = 0.5\n",
    "\n",
    "def reactor(dt, k):\n",
    "    C = 1.0\n",
    "    while True:\n",
    "        print(round(env.now, 2), round(C, 2))\n",
    "        yield env.timeout(dt)\n",
    "        C = C - k*dt*C + q*dt\n",
    "        \n",
    "env = simpy.Environment()\n",
    "env.process(reactor(0.1, 1.0))\n",
    "env.run(until=5)"
   ]
  },
  {
   "cell_type": "markdown",
   "metadata": {},
   "source": [
    "### Modeling with Python Classes\n",
    "\n",
    "The new problem that we have is accessing the value of C outside the context of the generator. We'd like to do this because other process units may depend on that concentration."
   ]
  },
  {
   "cell_type": "code",
   "execution_count": 82,
   "metadata": {},
   "outputs": [
    {
     "name": "stdout",
     "output_type": "stream",
     "text": [
      "0 1.0\n",
      "0 1.0\n",
      "0.1 0.91\n",
      "0.2 0.9\n",
      "0.2 0.83\n",
      "0.3 0.77\n",
      "0.4 0.82\n",
      "0.4 0.71\n",
      "0.5 0.66\n",
      "0.6 0.62\n",
      "0.6 0.76\n",
      "0.7 0.58\n",
      "0.8 0.55\n",
      "0.8 0.7\n",
      "0.9 0.52\n",
      "1.0 0.5\n",
      "1.0 0.66\n",
      "1.1 0.48\n",
      "1.2 0.63\n",
      "1.2 0.46\n",
      "1.3 0.45\n",
      "1.4 0.6\n",
      "1.4 0.43\n",
      "1.5 0.42\n",
      "1.6 0.58\n",
      "1.6 0.41\n",
      "1.7 0.41\n",
      "1.8 0.57\n",
      "1.8 0.4\n",
      "1.9 0.39\n",
      "2.0 0.55\n",
      "2.0 0.39\n",
      "2.1 0.38\n",
      "2.2 0.54\n",
      "2.2 0.38\n",
      "2.3 0.38\n",
      "2.4 0.53\n",
      "2.4 0.37\n",
      "2.5 0.37\n",
      "2.6 0.53\n",
      "2.6 0.37\n",
      "2.7 0.37\n",
      "2.8 0.52\n",
      "2.8 0.37\n",
      "2.9 0.37\n",
      "3.0 0.52\n",
      "3.0 0.36\n",
      "3.1 0.36\n",
      "3.2 0.51\n",
      "3.2 0.36\n",
      "3.3 0.36\n",
      "3.4 0.51\n",
      "3.4 0.36\n",
      "3.5 0.36\n",
      "3.6 0.51\n",
      "3.6 0.36\n",
      "3.7 0.36\n",
      "3.8 0.51\n",
      "3.8 0.36\n",
      "3.9 0.36\n",
      "4.0 0.51\n",
      "4.0 0.36\n",
      "4.1 0.36\n",
      "4.2 0.5\n",
      "4.2 0.36\n",
      "4.3 0.36\n",
      "4.4 0.36\n",
      "4.4 0.5\n",
      "4.5 0.36\n",
      "4.6 0.36\n",
      "4.6 0.5\n",
      "4.7 0.36\n",
      "4.8 0.36\n",
      "4.8 0.5\n",
      "4.9 0.36\n",
      "5.0 0.36\n",
      "5.0 0.5\n",
      "5.1 0.36\n",
      "5.2 0.36\n",
      "5.2 0.5\n",
      "5.3 0.36\n",
      "5.4 0.36\n",
      "5.4 0.5\n",
      "5.5 0.36\n",
      "5.6 0.36\n",
      "5.6 0.5\n",
      "5.7 0.36\n",
      "5.8 0.36\n",
      "5.8 0.5\n",
      "5.9 0.36\n",
      "6.0 0.36\n",
      "6.0 0.5\n",
      "6.1 0.36\n",
      "6.2 0.36\n",
      "6.2 0.5\n",
      "6.3 0.36\n",
      "6.4 0.36\n",
      "6.4 0.5\n",
      "6.5 0.36\n",
      "6.6 0.36\n",
      "6.6 0.5\n",
      "6.7 0.36\n",
      "6.8 0.36\n",
      "6.8 0.5\n",
      "6.9 0.36\n",
      "7.0 0.36\n",
      "7.0 0.5\n",
      "7.1 0.36\n",
      "7.2 0.36\n",
      "7.2 0.5\n",
      "7.3 0.36\n",
      "7.4 0.36\n",
      "7.4 0.5\n",
      "7.5 0.36\n",
      "7.6 0.36\n",
      "7.6 0.5\n",
      "7.7 0.36\n",
      "7.8 0.36\n",
      "7.8 0.5\n",
      "7.9 0.36\n",
      "8.0 0.36\n",
      "8.0 0.5\n",
      "8.1 0.36\n",
      "8.2 0.36\n",
      "8.2 0.5\n",
      "8.3 0.36\n",
      "8.4 0.36\n",
      "8.4 0.5\n",
      "8.5 0.36\n",
      "8.6 0.36\n",
      "8.6 0.5\n",
      "8.7 0.36\n",
      "8.8 0.36\n",
      "8.8 0.5\n",
      "8.9 0.36\n",
      "9.0 0.36\n",
      "9.0 0.5\n",
      "9.1 0.36\n",
      "9.2 0.36\n",
      "9.2 0.5\n",
      "9.3 0.36\n",
      "9.4 0.36\n",
      "9.4 0.5\n",
      "9.5 0.36\n",
      "9.6 0.36\n",
      "9.6 0.5\n",
      "9.7 0.36\n",
      "9.8 0.36\n",
      "9.8 0.5\n",
      "9.9 0.36\n",
      "10.0 0.36\n",
      "10.0 0.5\n"
     ]
    }
   ],
   "source": [
    "import simpy\n",
    "\n",
    "q = 0.5\n",
    "\n",
    "class Reactor():\n",
    "    def __init__(self, k, dt):\n",
    "        self.k = k\n",
    "        self.dt = dt\n",
    "        self.C = 1.0\n",
    "        \n",
    "    def run(self):\n",
    "        while True:\n",
    "            print(round(env.now, 2), round(self.C, 2))\n",
    "            yield env.timeout(self.dt)\n",
    "            self.C = self.C - self.k*self.C*self.dt + q*self.dt\n",
    "\n",
    "env = simpy.Environment()\n",
    "a = Reactor(1.0, 0.2)\n",
    "b = Reactor(1.4, 0.1)\n",
    "env.process(a.run())\n",
    "env.process(b.run())\n",
    "env.run(until=10)"
   ]
  },
  {
   "cell_type": "code",
   "execution_count": 79,
   "metadata": {},
   "outputs": [
    {
     "name": "stdout",
     "output_type": "stream",
     "text": [
      "0 1.0\n",
      "0.3 0.9\n",
      "0.6 0.82\n",
      "0.8999999999999999 0.7047999999999999\n",
      "1.2 0.6638399999999999\n",
      "1.5 0.6048575999999999\n",
      "1.8 0.5671088639999999\n",
      "2.1 0.5536870911999999\n",
      "2.4 0.54294967296\n",
      "2.6999999999999997 0.5274877906944\n",
      "2.9999999999999996 0.52199023255552\n",
      "3.2999999999999994 0.5140737488355328\n",
      "3.599999999999999 0.5112589990684262\n",
      "3.899999999999999 0.5072057594037928\n",
      "4.199999999999999 0.5057646075230342\n",
      "4.499999999999999 0.5036893488147418\n",
      "4.799999999999999 0.5029514790517935\n",
      "5.099999999999999 0.5018889465931478\n",
      "5.399999999999999 0.5015111572745182\n",
      "5.699999999999998 0.5009671406556917\n",
      "5.999999999999998 0.5007737125245534\n",
      "6.299999999999998 0.5004951760157141\n",
      "6.599999999999998 0.5003961408125713\n",
      "6.899999999999998 0.5002535301200457\n",
      "7.1999999999999975 0.5002028240960366\n",
      "7.499999999999997 0.5001298074214634\n",
      "7.799999999999997 0.5001038459371707\n",
      "8.099999999999998 0.5000664613997893\n",
      "8.399999999999999 0.5000531691198314\n",
      "8.7 0.5000340282366922\n",
      "9.0 0.5000272225893537\n",
      "9.3 0.5000174224571864\n",
      "9.600000000000001 0.5000111503725992\n",
      "9.900000000000002 0.5000089202980794\n"
     ]
    }
   ],
   "source": [
    "import simpy\n",
    "\n",
    "q = 0.5\n",
    "\n",
    "def historian(dt):\n",
    "    while True:\n",
    "        print(env.now, a.C)\n",
    "        yield env.timeout(dt)\n",
    "\n",
    "class Reactor():\n",
    "    def __init__(self, k, dt):\n",
    "        self.k = k\n",
    "        self.dt = dt\n",
    "        self.C = 1.0\n",
    "        \n",
    "    def run(self):\n",
    "        while True:\n",
    "            yield env.timeout(self.dt)\n",
    "            self.C = self.C - self.k*self.C*self.dt + q*self.dt\n",
    "\n",
    "env = simpy.Environment()\n",
    "a = Reactor(1.0, 0.2)\n",
    "env.process(a.run())\n",
    "env.process(historian(0.3))\n",
    "env.run(until=10)"
   ]
  },
  {
   "cell_type": "markdown",
   "metadata": {},
   "source": [
    "### COVID Model"
   ]
  },
  {
   "cell_type": "code",
   "execution_count": null,
   "metadata": {},
   "outputs": [],
   "source": [
    "import simpy\n",
    "\n",
    "import random\n",
    "\n",
    "class person()\n",
    "    print\n",
    "    yield env.timeout(random.uniform(0, 120))"
   ]
  }
 ],
 "metadata": {
  "kernelspec": {
   "display_name": "Python 3",
   "language": "python",
   "name": "python3"
  },
  "language_info": {
   "codemirror_mode": {
    "name": "ipython",
    "version": 3
   },
   "file_extension": ".py",
   "mimetype": "text/x-python",
   "name": "python",
   "nbconvert_exporter": "python",
   "pygments_lexer": "ipython3",
   "version": "3.7.4"
  }
 },
 "nbformat": 4,
 "nbformat_minor": 4
}
