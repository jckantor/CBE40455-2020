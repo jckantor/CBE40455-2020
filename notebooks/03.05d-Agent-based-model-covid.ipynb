{
 "cells": [
  {
   "cell_type": "markdown",
   "metadata": {},
   "source": [
    "# Introduction to Simpy"
   ]
  },
  {
   "cell_type": "code",
   "execution_count": 1,
   "metadata": {},
   "outputs": [
    {
     "name": "stdout",
     "output_type": "stream",
     "text": [
      "Requirement already satisfied: simpy in /Users/jeff/opt/anaconda3/lib/python3.7/site-packages (4.0.1)\n"
     ]
    }
   ],
   "source": [
    "!pip install simpy"
   ]
  },
  {
   "cell_type": "markdown",
   "metadata": {},
   "source": [
    "## First Steps"
   ]
  },
  {
   "cell_type": "markdown",
   "metadata": {},
   "source": [
    "### The simplest Simpy model\n",
    "\n",
    "Simpy implements an Environment() object that does the heavy work of scheduling processing events that occur when simulating complex models. The simplest possible Simpy model is one that creates and runs an empty simulation environment."
   ]
  },
  {
   "cell_type": "code",
   "execution_count": 2,
   "metadata": {},
   "outputs": [],
   "source": [
    "import simpy\n",
    "\n",
    "env = simpy.Environment()\n",
    "env.run()"
   ]
  },
  {
   "cell_type": "markdown",
   "metadata": {},
   "source": [
    "### Adding a process\n",
    "\n",
    "The components that make up a Simpy models are implemented using python gnerators. A generator begins with the `def` statement and must have at least one `yield` statement. The yield statement returns an event to the simulation environment. A frequently used events is `simpy.Environment.timeout()` which simulates the passage of time in a model component.\n",
    "\n",
    "Once the generator has been defined, an instance of the generator is passed to the simulation environment using the `simpy.Environment.process()` method.\n",
    "\n",
    "The following model defines a process model in which \"Hello, World\" is printed after a simulated 2.0 seconds have elapsed."
   ]
  },
  {
   "cell_type": "code",
   "execution_count": 3,
   "metadata": {},
   "outputs": [
    {
     "name": "stdout",
     "output_type": "stream",
     "text": [
      "Hello, World\n"
     ]
    }
   ],
   "source": [
    "import simpy\n",
    "\n",
    "def say_hello():\n",
    "    yield env.timeout(2.0)           # let 2.0 seconds of simulated time elapse\n",
    "    print(\"Hello, World\")            # print \"Hello, World\"\n",
    "\n",
    "env = simpy.Environment()            # create a simulation environment instance\n",
    "env.process(say_hello())                # register an instance of the process model\n",
    "env.run()                            # run the simulaton"
   ]
  },
  {
   "cell_type": "markdown",
   "metadata": {},
   "source": [
    "### Accessing time"
   ]
  },
  {
   "cell_type": "markdown",
   "metadata": {},
   "source": [
    "The environment variable `simpy.Environment.now` returns the current time in the simulation."
   ]
  },
  {
   "cell_type": "code",
   "execution_count": 4,
   "metadata": {},
   "outputs": [
    {
     "name": "stdout",
     "output_type": "stream",
     "text": [
      "time = 0\n",
      "time = 2.0\n",
      "Hello, World\n"
     ]
    }
   ],
   "source": [
    "import simpy\n",
    "\n",
    "def say_hello():\n",
    "    print(\"time =\", env.now)             # print current time in the simulation\n",
    "    yield env.timeout(2.0)               # take a time out of 1 time unit\n",
    "    print(\"time =\", env.now)             # print current time in the simulation\n",
    "    print(\"Hello, World\")\n",
    "\n",
    "env = simpy.Environment()                # create a simulation environment instance\n",
    "env.process(say_hello())                 # tell the simulation environment which generators to process\n",
    "env.run()                                # run the simulation"
   ]
  },
  {
   "cell_type": "markdown",
   "metadata": {},
   "source": [
    "### Creating multiple instances of a generator"
   ]
  },
  {
   "cell_type": "markdown",
   "metadata": {},
   "source": [
    "The same generator can be used to create multiple instances of a model component. For example, this cell creates three instances of a generator. The generator is modified to add an identifier and variable time delay.\n",
    "\n",
    "**Carefully examine the output of this cell. Be sure you explain the order in which the print statements appear in the output.**"
   ]
  },
  {
   "cell_type": "code",
   "execution_count": 5,
   "metadata": {},
   "outputs": [
    {
     "name": "stdout",
     "output_type": "stream",
     "text": [
      "A time = 0\n",
      "B time = 0\n",
      "C time = 0\n",
      "B says Hello, World at time 2.0\n",
      "A says Hello, World at time 3.0\n",
      "C says Hello, World at time 4.0\n"
     ]
    }
   ],
   "source": [
    "import simpy\n",
    "\n",
    "def say_hello(id, delay):\n",
    "    print(id, \"time =\", env.now)         # print current time in the simulation\n",
    "    yield env.timeout(delay)             # take a time out of 1 time unit\n",
    "    print(id, \"says Hello, World at time\", env.now)\n",
    "\n",
    "env = simpy.Environment()                # create a simulation environment instance\n",
    "env.process(say_hello(\"A\", 3.0))         # tell the simulation environment which generators to process\n",
    "env.process(say_hello(\"B\", 2.0))         # tell the simulation environment which generators to process\n",
    "env.process(say_hello(\"C\", 4.0))         # tell the simulation environment which generators to process\n",
    "env.run()                                # run the simulation"
   ]
  },
  {
   "cell_type": "markdown",
   "metadata": {},
   "source": [
    "### Running a simulation for a known period of time\n",
    "\n",
    "The simulations presented above finish when all of the components making up the model have finished. In process modeling, however, some model components will simply cycle forever leading to a simulation that would never end. To handle this situation, the `simpy.Environment.run()` has an optional parameter `until` the causes the simulation to end a known point in time.\n",
    "\n",
    "The next modifies the generator to include an infinite loop, and controls the simulation period using the `until` parameter."
   ]
  },
  {
   "cell_type": "code",
   "execution_count": 6,
   "metadata": {},
   "outputs": [
    {
     "name": "stdout",
     "output_type": "stream",
     "text": [
      "A time = 0\n",
      "B time = 0\n",
      "C time = 0\n",
      "B says Hello, World at time 2.0\n",
      "A says Hello, World at time 3.0\n",
      "C says Hello, World at time 4.0\n",
      "B says Hello, World at time 4.0\n",
      "A says Hello, World at time 6.0\n",
      "B says Hello, World at time 6.0\n",
      "C says Hello, World at time 8.0\n",
      "B says Hello, World at time 8.0\n",
      "A says Hello, World at time 9.0\n"
     ]
    }
   ],
   "source": [
    "import simpy\n",
    "\n",
    "def say_hello(id, delay):\n",
    "    print(id, \"time =\", env.now)          # print current time in the simulation\n",
    "    while True:\n",
    "        yield env.timeout(delay)          # take a time out of 1 time unit\n",
    "        print(id, \"says Hello, World at time\", env.now)\n",
    "\n",
    "env = simpy.Environment()                 # create a simulation environment instance\n",
    "env.process(say_hello(\"A\", 3.0))          # tell the simulation environment which generators to process\n",
    "env.process(say_hello(\"B\", 2.0))          # tell the simulation environment which generators to process\n",
    "env.process(say_hello(\"C\", 4.0))          # tell the simulation environment which generators to process\n",
    "env.run(until=10.0)                       # run the simulation"
   ]
  },
  {
   "cell_type": "markdown",
   "metadata": {},
   "source": [
    "### Logging data\n",
    "\n",
    "Discrete-event simulations can create large amounts of data. A good practice is create a data log for the purpose of capturing data generated during the simulation. After the simulation is complete, the data log can be processed to create reports and charts to analyze results of the simulation.\n",
    "\n",
    "If not sure what to log, a good practice is log at least three items for each event:\n",
    "\n",
    "* **who** what object created this event\n",
    "* **what** a description of the event\n",
    "* **when** when the event occurred"
   ]
  },
  {
   "cell_type": "code",
   "execution_count": 7,
   "metadata": {},
   "outputs": [
    {
     "name": "stdout",
     "output_type": "stream",
     "text": [
      "['B', 'Hello, World', 2.0]\n",
      "['A', 'Hello, World', 3.0]\n",
      "['C', 'Hello, World', 4.0]\n",
      "['B', 'Hello, World', 4.0]\n",
      "['A', 'Hello, World', 6.0]\n",
      "['B', 'Hello, World', 6.0]\n",
      "['C', 'Hello, World', 8.0]\n",
      "['B', 'Hello, World', 8.0]\n",
      "['A', 'Hello, World', 9.0]\n"
     ]
    }
   ],
   "source": [
    "import simpy\n",
    "\n",
    "data_log = []                             # create an empty data log\n",
    "\n",
    "def say_hello(id, delay):\n",
    "    while True:\n",
    "        yield env.timeout(delay)          # take a time out of 1 time unit\n",
    "        data_log.append([id, \"Hello, World\", env.now])   # log who (id), what (\"Hello, World\"), when (env.now)\n",
    "\n",
    "env = simpy.Environment()                 # create a simulation environment instance\n",
    "env.process(say_hello(\"A\", 3.0))          # tell the simulation environment which generators to process\n",
    "env.process(say_hello(\"B\", 2.0))          # tell the simulation environment which generators to process\n",
    "env.process(say_hello(\"C\", 4.0))          # tell the simulation environment which generators to process\n",
    "env.run(until=10.0)                       # run the simulation\n",
    "\n",
    "for data_record in data_log:\n",
    "    print(data_record)"
   ]
  },
  {
   "cell_type": "markdown",
   "metadata": {},
   "source": [
    "## Example: Simulating a Stirred Tank Reactor"
   ]
  },
  {
   "cell_type": "markdown",
   "metadata": {},
   "source": [
    "### Model development\n",
    "\n",
    "Write a Python generator to simulate the response of a differential equation describing concentration in a stirred tank reactor.\n",
    "\n",
    "$$\\frac{dC}{dt} = -k C + q(t)$$\n",
    "\n",
    "where k = 1.0,  C(0) = 1.0 and q(t) has a constant value 0.5. Use can use the Euler approximation\n",
    "\n",
    "$$C(t + \\Delta t) = C(t) + \\Delta t \\left[ - k C(t) + q(t) \\right]$$\n",
    "\n",
    "The definition of the generator should allow specification of the time step, $\\Delta t$, and the rate constant $k$."
   ]
  },
  {
   "cell_type": "code",
   "execution_count": 11,
   "metadata": {},
   "outputs": [
    {
     "name": "stdout",
     "output_type": "stream",
     "text": [
      "0 1.0\n",
      "0.5 0.75\n",
      "1.0 0.62\n",
      "1.5 0.56\n",
      "2.0 0.53\n",
      "2.5 0.52\n",
      "3.0 0.51\n",
      "3.5 0.5\n",
      "4.0 0.5\n",
      "4.5 0.5\n",
      "5.0 0.5\n",
      "5.5 0.5\n",
      "6.0 0.5\n",
      "6.5 0.5\n",
      "7.0 0.5\n",
      "7.5 0.5\n",
      "8.0 0.5\n",
      "8.5 0.5\n",
      "9.0 0.5\n",
      "9.5 0.5\n",
      "10.0 0.5\n",
      "10.5 0.5\n",
      "11.0 0.5\n",
      "11.5 0.5\n",
      "12.0 0.5\n",
      "12.5 0.5\n",
      "13.0 0.5\n",
      "13.5 0.5\n",
      "14.0 0.5\n",
      "14.5 0.5\n",
      "15.0 0.5\n",
      "15.5 0.5\n",
      "16.0 0.5\n",
      "16.5 0.5\n",
      "17.0 0.5\n",
      "17.5 0.5\n",
      "18.0 0.5\n",
      "18.5 0.5\n",
      "19.0 0.5\n",
      "19.5 0.5\n"
     ]
    }
   ],
   "source": [
    "# Solution\n",
    "\n",
    "import simpy\n",
    "\n",
    "def flow():\n",
    "    global q\n",
    "    q = 0.5\n",
    "    yield env.timeout(100.0)\n",
    "\n",
    "def reactor(dt, k):\n",
    "    C = 1.0\n",
    "    while True:\n",
    "        print(round(env.now, 2), round(C, 2))\n",
    "        yield env.timeout(dt)\n",
    "        C = C - k*dt*C + q*dt\n",
    "        \n",
    "env = simpy.Environment()\n",
    "env.process(flow())\n",
    "env.process(reactor(0.5, 1.0))\n",
    "env.run(until=20)"
   ]
  },
  {
   "cell_type": "markdown",
   "metadata": {},
   "source": [
    "### Exercise\n",
    "\n",
    "Extend stirred tank model by adding the following features:\n",
    "\n",
    "* Modify the flow simulation so that the flowrate initially starts at 0.0, switches to a value of 0.5 at t=1.0, then back to 0.0 five time units later.\n",
    "* Add a data log to records time and the values of concentration, $C$, and flowrate $q$. After debugging, remove the print statements.\n",
    "* When the simulation is complete, convert the data log to a numpy array, then create plots of $C(t)$ and $q(t)$. Take time to label axes and, if necessary, add a legend. \n",
    "* The whole thing should run in a single cell"
   ]
  },
  {
   "cell_type": "code",
   "execution_count": 10,
   "metadata": {},
   "outputs": [],
   "source": [
    "# Your solution goes in this cell"
   ]
  },
  {
   "cell_type": "markdown",
   "metadata": {},
   "source": [
    "## Next steps with Simpy"
   ]
  },
  {
   "cell_type": "markdown",
   "metadata": {},
   "source": [
    "### Working many simulation objects\n",
    "\n",
    "Sometimes we wish to do simulations involving many instances of an object type. For these situations it useful to use use Python lists and loops to create multiple instances of a generator and register them with the simulation environment."
   ]
  },
  {
   "cell_type": "code",
   "execution_count": 45,
   "metadata": {},
   "outputs": [
    {
     "name": "stdout",
     "output_type": "stream",
     "text": [
      "[3, 'Hello, World', 1.083180998934525]\n",
      "[1, 'Hello, World', 1.8277667545187293]\n",
      "[0, 'Hello, World', 2.034831190159925]\n",
      "[3, 'Hello, World', 2.16636199786905]\n",
      "[4, 'Hello, World', 2.2018086943526076]\n",
      "[3, 'Hello, World', 3.2495429968035747]\n",
      "[1, 'Hello, World', 3.6555335090374586]\n",
      "[0, 'Hello, World', 4.06966238031985]\n",
      "[2, 'Hello, World', 4.08691031878395]\n",
      "[3, 'Hello, World', 4.3327239957381]\n",
      "[4, 'Hello, World', 4.403617388705215]\n",
      "[3, 'Hello, World', 5.4159049946726245]\n",
      "[1, 'Hello, World', 5.483300263556188]\n",
      "[0, 'Hello, World', 6.104493570479775]\n",
      "[3, 'Hello, World', 6.4990859936071494]\n",
      "[4, 'Hello, World', 6.605426083057823]\n",
      "[1, 'Hello, World', 7.311067018074917]\n",
      "[3, 'Hello, World', 7.582266992541674]\n",
      "[0, 'Hello, World', 8.1393247606397]\n",
      "[2, 'Hello, World', 8.1738206375679]\n",
      "[3, 'Hello, World', 8.6654479914762]\n",
      "[4, 'Hello, World', 8.80723477741043]\n",
      "[1, 'Hello, World', 9.138833772593646]\n",
      "[3, 'Hello, World', 9.748628990410724]\n"
     ]
    }
   ],
   "source": [
    "import simpy\n",
    "import random\n",
    "\n",
    "N = 5\n",
    "\n",
    "data_log = []                         # create an empty data log\n",
    "\n",
    "def person(id, delay):\n",
    "    while True:\n",
    "        yield env.timeout(delay)      # take a time out of 1 time unit\n",
    "        data_log.append([id, \"Hello, World\", env.now])   # log who (id), what (\"Hello, World\"), when (env.now)\n",
    "\n",
    "env = simpy.Environment()             # create a simulation environment instance\n",
    "\n",
    "population = []\n",
    "for k in range(0, N):\n",
    "    env.process(person(k, random.uniform(0, 5.0)))\n",
    "    \n",
    "env.run(until=10.0)                   # run the simulation\n",
    "\n",
    "for data_record in data_log:\n",
    "    print(data_record)"
   ]
  },
  {
   "cell_type": "code",
   "execution_count": 49,
   "metadata": {},
   "outputs": [
    {
     "data": {
      "text/html": [
       "<div>\n",
       "<style scoped>\n",
       "    .dataframe tbody tr th:only-of-type {\n",
       "        vertical-align: middle;\n",
       "    }\n",
       "\n",
       "    .dataframe tbody tr th {\n",
       "        vertical-align: top;\n",
       "    }\n",
       "\n",
       "    .dataframe thead th {\n",
       "        text-align: right;\n",
       "    }\n",
       "</style>\n",
       "<table border=\"1\" class=\"dataframe\">\n",
       "  <thead>\n",
       "    <tr style=\"text-align: right;\">\n",
       "      <th></th>\n",
       "      <th>id</th>\n",
       "      <th>event</th>\n",
       "      <th>time</th>\n",
       "    </tr>\n",
       "  </thead>\n",
       "  <tbody>\n",
       "    <tr>\n",
       "      <th>0</th>\n",
       "      <td>0</td>\n",
       "      <td>Hello, World</td>\n",
       "      <td>0.462251</td>\n",
       "    </tr>\n",
       "    <tr>\n",
       "      <th>1</th>\n",
       "      <td>0</td>\n",
       "      <td>Hello, World</td>\n",
       "      <td>0.924501</td>\n",
       "    </tr>\n",
       "    <tr>\n",
       "      <th>2</th>\n",
       "      <td>3</td>\n",
       "      <td>Hello, World</td>\n",
       "      <td>1.244519</td>\n",
       "    </tr>\n",
       "    <tr>\n",
       "      <th>3</th>\n",
       "      <td>0</td>\n",
       "      <td>Hello, World</td>\n",
       "      <td>1.386752</td>\n",
       "    </tr>\n",
       "    <tr>\n",
       "      <th>4</th>\n",
       "      <td>0</td>\n",
       "      <td>Hello, World</td>\n",
       "      <td>1.849003</td>\n",
       "    </tr>\n",
       "    <tr>\n",
       "      <th>5</th>\n",
       "      <td>0</td>\n",
       "      <td>Hello, World</td>\n",
       "      <td>2.311253</td>\n",
       "    </tr>\n",
       "    <tr>\n",
       "      <th>6</th>\n",
       "      <td>3</td>\n",
       "      <td>Hello, World</td>\n",
       "      <td>2.489038</td>\n",
       "    </tr>\n",
       "    <tr>\n",
       "      <th>7</th>\n",
       "      <td>2</td>\n",
       "      <td>Hello, World</td>\n",
       "      <td>2.512738</td>\n",
       "    </tr>\n",
       "    <tr>\n",
       "      <th>8</th>\n",
       "      <td>0</td>\n",
       "      <td>Hello, World</td>\n",
       "      <td>2.773504</td>\n",
       "    </tr>\n",
       "    <tr>\n",
       "      <th>9</th>\n",
       "      <td>0</td>\n",
       "      <td>Hello, World</td>\n",
       "      <td>3.235755</td>\n",
       "    </tr>\n",
       "  </tbody>\n",
       "</table>\n",
       "</div>"
      ],
      "text/plain": [
       "   id         event      time\n",
       "0   0  Hello, World  0.462251\n",
       "1   0  Hello, World  0.924501\n",
       "2   3  Hello, World  1.244519\n",
       "3   0  Hello, World  1.386752\n",
       "4   0  Hello, World  1.849003\n",
       "5   0  Hello, World  2.311253\n",
       "6   3  Hello, World  2.489038\n",
       "7   2  Hello, World  2.512738\n",
       "8   0  Hello, World  2.773504\n",
       "9   0  Hello, World  3.235755"
      ]
     },
     "execution_count": 49,
     "metadata": {},
     "output_type": "execute_result"
    }
   ],
   "source": [
    "import simpy\n",
    "import random\n",
    "import pandas as pd\n",
    "\n",
    "N = 5\n",
    "\n",
    "data_log = []                         # create an empty data log\n",
    "\n",
    "def person(id, delay):\n",
    "    while True:\n",
    "        yield env.timeout(delay)      # take a time out of 1 time unit\n",
    "        data_log.append([id, \"Hello, World\", env.now])   # log who (id), what (\"Hello, World\"), when (env.now)\n",
    "\n",
    "env = simpy.Environment()             # create a simulation environment instance\n",
    "\n",
    "population = []\n",
    "for k in range(0, N):\n",
    "    env.process(person(k, random.uniform(0, 5.0)))\n",
    "    \n",
    "env.run(until=10.0)                   # run the simulation\n",
    "\n",
    "df = pd.DataFrame(data_log, columns=[\"id\", \"event\", \"time\"])           # convert the data log to a Pandas dataframe\n",
    "df.head(10)                                                            # print the first five lines"
   ]
  },
  {
   "cell_type": "markdown",
   "metadata": {},
   "source": [
    "The following cells demonstrates a very simple visualization of the data from the Pandas data frame."
   ]
  },
  {
   "cell_type": "code",
   "execution_count": 52,
   "metadata": {},
   "outputs": [
    {
     "data": {
      "text/plain": [
       "[<matplotlib.lines.Line2D at 0x7fea0b0f9350>]"
      ]
     },
     "execution_count": 52,
     "metadata": {},
     "output_type": "execute_result"
    },
    {
     "data": {
      "image/png": "[encoded data removed]",
      "text/plain": [
       "<Figure size 432x288 with 1 Axes>"
      ]
     },
     "metadata": {
      "needs_background": "light"
     },
     "output_type": "display_data"
    }
   ],
   "source": [
    "%matplotlib inline\n",
    "import matplotlib.pyplot as plt\n",
    "\n",
    "plt.plot(df[\"time\"], df[\"id\"], '.', ms=20)"
   ]
  },
  {
   "cell_type": "markdown",
   "metadata": {},
   "source": [
    "Pandas make it convenient to sort and select events out of the data log. As an example, the next selects all events corresponding for the object id \"3\"."
   ]
  },
  {
   "cell_type": "code",
   "execution_count": 54,
   "metadata": {},
   "outputs": [
    {
     "data": {
      "text/html": [
       "<div>\n",
       "<style scoped>\n",
       "    .dataframe tbody tr th:only-of-type {\n",
       "        vertical-align: middle;\n",
       "    }\n",
       "\n",
       "    .dataframe tbody tr th {\n",
       "        vertical-align: top;\n",
       "    }\n",
       "\n",
       "    .dataframe thead th {\n",
       "        text-align: right;\n",
       "    }\n",
       "</style>\n",
       "<table border=\"1\" class=\"dataframe\">\n",
       "  <thead>\n",
       "    <tr style=\"text-align: right;\">\n",
       "      <th></th>\n",
       "      <th>id</th>\n",
       "      <th>event</th>\n",
       "      <th>time</th>\n",
       "    </tr>\n",
       "  </thead>\n",
       "  <tbody>\n",
       "    <tr>\n",
       "      <th>2</th>\n",
       "      <td>3</td>\n",
       "      <td>Hello, World</td>\n",
       "      <td>1.244519</td>\n",
       "    </tr>\n",
       "    <tr>\n",
       "      <th>6</th>\n",
       "      <td>3</td>\n",
       "      <td>Hello, World</td>\n",
       "      <td>2.489038</td>\n",
       "    </tr>\n",
       "    <tr>\n",
       "      <th>11</th>\n",
       "      <td>3</td>\n",
       "      <td>Hello, World</td>\n",
       "      <td>3.733556</td>\n",
       "    </tr>\n",
       "    <tr>\n",
       "      <th>16</th>\n",
       "      <td>3</td>\n",
       "      <td>Hello, World</td>\n",
       "      <td>4.978075</td>\n",
       "    </tr>\n",
       "    <tr>\n",
       "      <th>21</th>\n",
       "      <td>3</td>\n",
       "      <td>Hello, World</td>\n",
       "      <td>6.222594</td>\n",
       "    </tr>\n",
       "    <tr>\n",
       "      <th>25</th>\n",
       "      <td>3</td>\n",
       "      <td>Hello, World</td>\n",
       "      <td>7.467113</td>\n",
       "    </tr>\n",
       "    <tr>\n",
       "      <th>31</th>\n",
       "      <td>3</td>\n",
       "      <td>Hello, World</td>\n",
       "      <td>8.711632</td>\n",
       "    </tr>\n",
       "    <tr>\n",
       "      <th>35</th>\n",
       "      <td>3</td>\n",
       "      <td>Hello, World</td>\n",
       "      <td>9.956150</td>\n",
       "    </tr>\n",
       "  </tbody>\n",
       "</table>\n",
       "</div>"
      ],
      "text/plain": [
       "    id         event      time\n",
       "2    3  Hello, World  1.244519\n",
       "6    3  Hello, World  2.489038\n",
       "11   3  Hello, World  3.733556\n",
       "16   3  Hello, World  4.978075\n",
       "21   3  Hello, World  6.222594\n",
       "25   3  Hello, World  7.467113\n",
       "31   3  Hello, World  8.711632\n",
       "35   3  Hello, World  9.956150"
      ]
     },
     "execution_count": 54,
     "metadata": {},
     "output_type": "execute_result"
    }
   ],
   "source": [
    "df[df[\"id\"] == 3]"
   ]
  },
  {
   "cell_type": "markdown",
   "metadata": {},
   "source": [
    "### Visualizing data logs with Pandas\n",
    "\n",
    "One of the challenges of discrete-event simulations, especially those involving many simulation objects interacting in complex ways, is to create reports and charts that summarize the resuts. Fortunately, Python is very well suited to managing large data sets. One of the most useful Python tools for data analysis is widely available [Pandas](https://pandas.pydata.org/docs/) library. There excellent [tutorials](https://www.datacamp.com/community/tutorials/pandas-tutorial-dataframe-python) to help you get started with Pandas."
   ]
  },
  {
   "cell_type": "markdown",
   "metadata": {},
   "source": [
    "## Monitoring\n",
    "\n",
    "The purpose of simulation is to gather information on systems behave. For that  purpose, we need to monitor. An easy way to do this is to append data to a log."
   ]
  },
  {
   "cell_type": "code",
   "execution_count": 30,
   "metadata": {},
   "outputs": [
    {
     "data": {
      "text/plain": [
       "[<matplotlib.lines.Line2D at 0x7fd0d4d92a10>]"
      ]
     },
     "execution_count": 30,
     "metadata": {},
     "output_type": "execute_result"
    },
    {
     "data": {
      "image/png": "[encoded data removed]",
      "text/plain": [
       "<Figure size 432x288 with 1 Axes>"
      ]
     },
     "metadata": {
      "needs_background": "light"
     },
     "output_type": "display_data"
    }
   ],
   "source": [
    "import simpy\n",
    "import numpy as np\n",
    "import matplotlib.pyplot as plt\n",
    "\n",
    "q = 0.5\n",
    "\n",
    "data_log = []\n",
    "\n",
    "def reactor(dt, k):\n",
    "    C = 1.0\n",
    "    while True:\n",
    "        data_log.append([env.now, C])\n",
    "        yield env.timeout(dt)\n",
    "        C = C - k*dt*C + q*dt\n",
    "        \n",
    "env = simpy.Environment()\n",
    "env.process(reactor(0.1, 1.0))\n",
    "env.run(until=5)\n",
    "\n",
    "data =  np.array(data_log)\n",
    "plt.plot(data[:,0], data[:,1])"
   ]
  },
  {
   "cell_type": "markdown",
   "metadata": {},
   "source": [
    "## Creating Events"
   ]
  },
  {
   "cell_type": "code",
   "execution_count": 35,
   "metadata": {},
   "outputs": [
    {
     "name": "stdout",
     "output_type": "stream",
     "text": [
      "Start Reactor\n"
     ]
    },
    {
     "data": {
      "text/plain": [
       "[<matplotlib.lines.Line2D at 0x7fd0d4e75f90>]"
      ]
     },
     "execution_count": 35,
     "metadata": {},
     "output_type": "execute_result"
    },
    {
     "data": {
      "image/png": "[encoded data removed]",
      "text/plain": [
       "<Figure size 432x288 with 1 Axes>"
      ]
     },
     "metadata": {
      "needs_background": "light"
     },
     "output_type": "display_data"
    }
   ],
   "source": [
    "import simpy\n",
    "import numpy as np\n",
    "import matplotlib.pyplot as plt\n",
    "\n",
    "q = 0.5\n",
    "\n",
    "data_log = []\n",
    "\n",
    "def startup():\n",
    "    yield env.timeout(10)\n",
    "    print(\"Start Reactor\")\n",
    "    start_reactor.succeed()\n",
    "\n",
    "def reactor(dt, k):\n",
    "    yield start_reactor\n",
    "    C = 1.0\n",
    "    while True:\n",
    "        data_log.append([env.now, C])\n",
    "        yield env.timeout(dt)\n",
    "        C = C - k*dt*C + q*dt\n",
    "        \n",
    "env = simpy.Environment()\n",
    "start_reactor = env.event()\n",
    "env.process(startup())\n",
    "env.process(reactor(0.1, 1.0))\n",
    "env.run(until=20)\n",
    "\n",
    "data =  np.array(data_log)\n",
    "plt.plot(data[:,0], data[:,1])"
   ]
  },
  {
   "cell_type": "markdown",
   "metadata": {},
   "source": [
    "## Modeling COVID"
   ]
  },
  {
   "cell_type": "markdown",
   "metadata": {},
   "source": [
    "\n",
    "$$\\text{Susceptible}\n",
    "\\xrightarrow {\\frac{\\beta S I}{N}} \n",
    "\\text{Exposed} \n",
    "\\xrightarrow{\\alpha E} \n",
    "\\text{Infectious} \n",
    "\\xrightarrow{\\gamma I} \n",
    "\\text{Recovered} $$\n"
   ]
  },
  {
   "cell_type": "code",
   "execution_count": 38,
   "metadata": {},
   "outputs": [
    {
     "name": "stdout",
     "output_type": "stream",
     "text": [
      "0 infected at time 1\n",
      "1 infected at time 2\n",
      "2 infected at time 3\n",
      "3 infected at time 4\n",
      "4 infected at time 5\n",
      "5 infected at time 6\n",
      "6 infected at time 7\n",
      "7 infected at time 8\n",
      "8 infected at time 9\n",
      "9 infected at time 10\n",
      "10 infected at time 11\n",
      "11 infected at time 12\n",
      "12 infected at time 13\n",
      "13 infected at time 14\n",
      "14 infected at time 15\n",
      "15 infected at time 16\n",
      "16 infected at time 17\n",
      "17 infected at time 18\n",
      "18 infected at time 19\n",
      "19 infected at time 20\n"
     ]
    }
   ],
   "source": [
    "import simpy\n",
    "\n",
    "N = 20\n",
    "\n",
    "def infect():\n",
    "    k = 0\n",
    "    while k < N:\n",
    "        yield env.timeout(1)\n",
    "        infect_person[k].succeed()\n",
    "        k = k + 1\n",
    "        \n",
    "def person(id):\n",
    "    yield infect_person[id]\n",
    "    print(id, \"infected at time\", env.now)\n",
    "    \n",
    "env = simpy.Environment()\n",
    "\n",
    "population = [person(k) for k in range(N)]\n",
    "infect_person = [env.event() for k in range(N)]\n",
    "\n",
    "env.process(infect())\n",
    "for k in range(20):\n",
    "    env.process(person(k))\n",
    "env.run()\n"
   ]
  }
 ],
 "metadata": {
  "kernelspec": {
   "display_name": "Python 3",
   "language": "python",
   "name": "python3"
  },
  "language_info": {
   "codemirror_mode": {
    "name": "ipython",
    "version": 3
   },
   "file_extension": ".py",
   "mimetype": "text/x-python",
   "name": "python",
   "nbconvert_exporter": "python",
   "pygments_lexer": "ipython3",
   "version": "3.7.4"
  }
 },
 "nbformat": 4,
 "nbformat_minor": 4
}
