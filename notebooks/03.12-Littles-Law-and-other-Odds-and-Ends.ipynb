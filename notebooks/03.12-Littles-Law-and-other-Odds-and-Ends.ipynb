{
 "cells": [
  {
   "cell_type": "markdown",
   "metadata": {},
   "source": [
    "# Little's Law and other Odds and Ends"
   ]
  },
  {
   "cell_type": "markdown",
   "metadata": {},
   "source": [
    "## Notes regarding simulation of a Batch Chemical Process\n",
    "\n",
    "The batch chemical process problem has some subtle modeling issues. Let's review."
   ]
  },
  {
   "cell_type": "markdown",
   "metadata": {},
   "source": [
    "## An important relationship among performance Indicators\n",
    "\n",
    "Typical performance indicators for a manufacturing process (or almost any process, for that matter) include:\n",
    "\n",
    "* $\\lambda$ = average throughput (e.g, orders per hour)\n",
    "* $L$ = average number of items in progress (e.g. orders in progress)\n",
    "* $W$ = average waiting time per item (e.g, hours)\n",
    "\n",
    "Note that these are average quantities. The word average implies constant value, or statistical stationarity, or what chemical engineers would call a steady state.\n",
    "\n",
    "> Example:  How many  do you need for a waiting room at an auto repair shop?\n",
    "> \n",
    "> * An auto repair shop sees an average of 40 job (customers) per day over a 10 hour business day.\n",
    "> * There are an average of 8 jobs in progress at any given time of day.\n",
    "> * Each job takes 2 hours.\n",
    ">\n",
    "> Is this data consistent? "
   ]
  },
  {
   "cell_type": "markdown",
   "metadata": {},
   "source": [
    "### Little's Law\n",
    "\n",
    "Little's law is a basic principle of any stationary queuing system.\n",
    "\n",
    "$$ L = \\lambda W $$\n",
    "\n",
    "For the above example:\n",
    "\n",
    "$$\\begin{align*}\n",
    "\\lambda & = {40\\text{ jobs}}/{10\\text{ hours}} = 4 \\text{ jobs per hour} \\\\\n",
    "L & = 8 \\text{ jobs} \\\\\n",
    "W & = 2 \\text{ hours/job} \\\\\n",
    "\\\\\n",
    "L &  = \\lambda W \\implies 8\\text{ jobs} = 4\\text{ jobs/hours} \\times 2\\text{ hours/job}\n",
    "\\end{align*}$$\n"
   ]
  },
  {
   "cell_type": "markdown",
   "metadata": {},
   "source": [
    "### Chemical Engineering Context\n",
    "Chemical engineers know Little's law as a simple material balance.  Let $V$ be quantity (e.g., liters) in a tank, $q$ be flowrate (e.g., liters/sec) through the tank, and $\\tau$ be average residence time (e.g., sec).  Then   \n",
    "\n",
    "$$ V = q \\tau$$ "
   ]
  },
  {
   "cell_type": "markdown",
   "metadata": {},
   "source": [
    "### Significance\n",
    "\n",
    "The key point is that these three performance indicators, throughput, work in progress, and waiting tme, are not independent at steady state.\n",
    "\n",
    "* There are 120 emails per 10 hour day sent to a technical support service. Each email requires an average 2 hours to resolve. How many requests are progress at the same time?\n",
    "\n",
    "Despite it's apparent simplicity (this all seems pretty obvious, doesn't it?). This relationship first appeared in papers and textbooks in the 1950's, and a mathematical proof offered by J. D. C. Little in 1961. A subsequent generation of mathematicians and industrial engineers extended these proofs to very general settings. The key concept is statistical steady state, which we call stationarity."
   ]
  },
  {
   "cell_type": "markdown",
   "metadata": {},
   "source": [
    "## Simulation Paradigms\n",
    "\n",
    "* System Dynamics. A field often attributed to Jay Forrester at MIT (Sloan School). Characterized by largely graphical language for describing causal relationships. \n",
    "\n",
    "<p><a href=\"https://commons.wikimedia.org/wiki/File:Adoption_SFD_ANI.gif#/media/File:Adoption_SFD_ANI.gif\"><img src=\"https://upload.wikimedia.org/wikipedia/commons/8/8e/Adoption_SFD_ANI.gif\" alt=\"Adoption SFD ANI.gif\"></a><br>By &lt;a href=\"//commons.wikimedia.org/wiki/User:Patrhoue\" title=\"User:Patrhoue\"&gt;Patrhoue&lt;/a&gt; - &lt;span class=\"int-own-work\" lang=\"en\"&gt;Own work&lt;/span&gt;, <a href=\"https://creativecommons.org/licenses/by-sa/3.0\" title=\"Creative Commons Attribution-Share Alike 3.0\">CC BY-SA 3.0</a>, <a href=\"https://commons.wikimedia.org/w/index.php?curid=7196368\">Link</a></p>"
   ]
  },
  {
   "cell_type": "markdown",
   "metadata": {},
   "source": [
    "### Stock Diagrams\n",
    "\n",
    "<p><a href=\"https://commons.wikimedia.org/wiki/File:Simple_stock_and_flow_diagram.gif#/media/File:Simple_stock_and_flow_diagram.gif\"><img src=\"https://upload.wikimedia.org/wikipedia/commons/0/08/Simple_stock_and_flow_diagram.gif\" alt=\"Simple stock and flow diagram.gif\"></a><br>By The original uploader was &lt;a href=\"https://en.wikipedia.org/wiki/User:Apdevries\" class=\"extiw\" title=\"wikipedia:User:Apdevries\"&gt;Apdevries&lt;/a&gt; at &lt;a href=\"https://en.wikipedia.org/wiki/\" class=\"extiw\" title=\"wikipedia:\"&gt;English Wikipedia&lt;/a&gt;. - Transferred from &lt;span class=\"plainlinks\"&gt;&lt;a class=\"external text\" href=\"https://en.wikipedia.org\"&gt;en.wikipedia&lt;/a&gt;&lt;/span&gt; to Commons., <a href=\"http://creativecommons.org/licenses/by-sa/3.0/\" title=\"Creative Commons Attribution-Share Alike 3.0\">CC BY-SA 3.0</a>, <a href=\"https://commons.wikimedia.org/w/index.php?curid=4027260\">Link</a></p>"
   ]
  },
  {
   "cell_type": "markdown",
   "metadata": {},
   "source": [
    "### Causal Loops (Positive and Negative, Feedforward and Feedback)\n",
    "\n",
    "<p><a href=\"https://commons.wikimedia.org/wiki/File:Adoption_SFD.png#/media/File:Adoption_SFD.png\"><img src=\"https://upload.wikimedia.org/wikipedia/commons/3/3b/Adoption_SFD.png\" alt=\"Adoption SFD.png\"></a><br>By The original uploader was &lt;a href=\"https://en.wikipedia.org/wiki/User:Apdevries\" class=\"extiw\" title=\"wikipedia:User:Apdevries\"&gt;Apdevries&lt;/a&gt; at &lt;a href=\"https://en.wikipedia.org/wiki/\" class=\"extiw\" title=\"wikipedia:\"&gt;English Wikipedia&lt;/a&gt;. - Transferred from &lt;span class=\"plainlinks\"&gt;&lt;a class=\"external text\" href=\"https://en.wikipedia.org\"&gt;en.wikipedia&lt;/a&gt;&lt;/span&gt; to Commons., <a href=\"http://creativecommons.org/licenses/by-sa/3.0/\" title=\"Creative Commons Attribution-Share Alike 3.0\">CC BY-SA 3.0</a>, <a href=\"https://commons.wikimedia.org/w/index.php?curid=34651422\">Link</a></p>"
   ]
  },
  {
   "cell_type": "markdown",
   "metadata": {},
   "source": [
    "### AnyLogic\n",
    "\n",
    "* Download and install the Personal Learning Edition (https://www.anylogic.com/downloads/)\n",
    "* Download \"AnyLogic in Three Days: Modeling and Simulation Textbook\" (https://www.anylogic.com/resources/books/free-simulation-book-and-modeling-tutorials/)\n"
   ]
  },
  {
   "cell_type": "code",
   "execution_count": null,
   "metadata": {},
   "outputs": [],
   "source": []
  }
 ],
 "metadata": {
  "kernelspec": {
   "display_name": "Python 3",
   "language": "python",
   "name": "python3"
  },
  "language_info": {
   "codemirror_mode": {
    "name": "ipython",
    "version": 3
   },
   "file_extension": ".py",
   "mimetype": "text/x-python",
   "name": "python",
   "nbconvert_exporter": "python",
   "pygments_lexer": "ipython3",
   "version": "3.7.4"
  }
 },
 "nbformat": 4,
 "nbformat_minor": 4
}
