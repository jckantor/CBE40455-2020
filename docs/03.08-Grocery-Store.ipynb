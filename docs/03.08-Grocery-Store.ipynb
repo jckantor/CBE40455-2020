{
 "cells": [
  {
   "cell_type": "markdown",
   "metadata": {},
   "source": [
    "<!--NOTEBOOK_HEADER-->\n",
    "*This notebook contains material from [CBE40455-2020](https://jckantor.github.io/CBE40455-2020);\n",
    "content is available [on Github](https://github.com/jckantor/CBE40455-2020.git).*\n"
   ]
  },
  {
   "cell_type": "markdown",
   "metadata": {},
   "source": [
    "<!--NAVIGATION-->\n",
    "< [3.7 Simulating Queuing Systems](https://jckantor.github.io/CBE40455-2020/03.07-Simulating-Queuing-Systems.html) | [Contents](toc.html) | [3.9 Batch Chemical Process](https://jckantor.github.io/CBE40455-2020/03.09-Batch-Chemical-Process.html)<p><a href=\"https://colab.research.google.com/github/jckantor/CBE40455-2020/blob/master/docs/03.08-Grocery-Store.ipynb\"> <img align=\"left\" src=\"https://colab.research.google.com/assets/colab-badge.svg\" alt=\"Open in Colab\" title=\"Open in Google Colaboratory\"></a><p><a href=\"https://jckantor.github.io/CBE40455-2020/03.08-Grocery-Store.ipynb\"> <img align=\"left\" src=\"https://img.shields.io/badge/Github-Download-blue.svg\" alt=\"Download\" title=\"Download Notebook\"></a>"
   ]
  },
  {
   "cell_type": "markdown",
   "metadata": {
    "nbpages": {
     "level": 1,
     "link": "[3.8 Modeling and Simulation of a Grocery Store Checkout Operation](https://jckantor.github.io/CBE40455-2020/03.08-Grocery-Store.html#3.8-Modeling-and-Simulation-of-a-Grocery-Store-Checkout-Operation)",
     "section": "3.8 Modeling and Simulation of a Grocery Store Checkout Operation"
    }
   },
   "source": [
    "# 3.8 Modeling and Simulation of a Grocery Store Checkout Operation"
   ]
  },
  {
   "cell_type": "markdown",
   "metadata": {
    "nbpages": {
     "level": 1,
     "link": "[3.8 Modeling and Simulation of a Grocery Store Checkout Operation](https://jckantor.github.io/CBE40455-2020/03.08-Grocery-Store.html#3.8-Modeling-and-Simulation-of-a-Grocery-Store-Checkout-Operation)",
     "section": "3.8 Modeling and Simulation of a Grocery Store Checkout Operation"
    }
   },
   "source": [
    "Consider a grocery store with muliple checkout lines. Each checkout line is managed by a server, each server with a unique rate at checking items. Let's develop a simulation.\n",
    "\n",
    "1. What would be the key performance indicators to monitor?\n",
    "2. What assumptions should we make about customer behavior?\n",
    "3. What data is needed to describe the objects in each queue?\n",
    "4. Are all checkout lanes the same?\n",
    "5. How can we set up this simulation?"
   ]
  },
  {
   "cell_type": "code",
   "execution_count": 58,
   "metadata": {
    "nbpages": {
     "level": 1,
     "link": "[3.8 Modeling and Simulation of a Grocery Store Checkout Operation](https://jckantor.github.io/CBE40455-2020/03.08-Grocery-Store.html#3.8-Modeling-and-Simulation-of-a-Grocery-Store-Checkout-Operation)",
     "section": "3.8 Modeling and Simulation of a Grocery Store Checkout Operation"
    }
   },
   "outputs": [
    {
     "name": "stdout",
     "output_type": "stream",
     "text": [
      "Requirement already satisfied: simpy in /Users/jeff/opt/anaconda3/lib/python3.7/site-packages (4.0.1)\n"
     ]
    }
   ],
   "source": [
    "!pip install simpy"
   ]
  },
  {
   "cell_type": "code",
   "execution_count": 63,
   "metadata": {
    "nbpages": {
     "level": 1,
     "link": "[3.8 Modeling and Simulation of a Grocery Store Checkout Operation](https://jckantor.github.io/CBE40455-2020/03.08-Grocery-Store.html#3.8-Modeling-and-Simulation-of-a-Grocery-Store-Checkout-Operation)",
     "section": "3.8 Modeling and Simulation of a Grocery Store Checkout Operation"
    }
   },
   "outputs": [],
   "source": [
    "%matplotlib inline\n",
    "import matplotlib.pyplot as plt\n",
    "import numpy as np\n",
    "import random\n",
    "import simpy\n",
    "import pandas as pd"
   ]
  },
  {
   "cell_type": "markdown",
   "metadata": {
    "nbpages": {
     "level": 2,
     "link": "[3.8.1 Basic Model](https://jckantor.github.io/CBE40455-2020/03.08-Grocery-Store.html#3.8.1-Basic-Model)",
     "section": "3.8.1 Basic Model"
    }
   },
   "source": [
    "## 3.8.1 Basic Model\n",
    "\n",
    "The following sections build this grocery store model a piece at a time. We begin with checkout lanes, then add customers, then logging functions to gather and report results, and finally complete the model by adding a server for each checkout lane. \n",
    "\n",
    "The basic model incorporates a number of assumptions about customer behavior. At the end of this section are exercises asking to you extend the model by refining these assumptions. Take your bes shot at these, and be ready to discuss during the next class session."
   ]
  },
  {
   "cell_type": "markdown",
   "metadata": {
    "nbpages": {
     "level": 3,
     "link": "[3.8.1.1 Model checkout lanes as SimPy.Store() resources](https://jckantor.github.io/CBE40455-2020/03.08-Grocery-Store.html#3.8.1.1-Model-checkout-lanes-as-SimPy.Store()-resources)",
     "section": "3.8.1.1 Model checkout lanes as SimPy.Store() resources"
    }
   },
   "source": [
    "### 3.8.1.1 Model checkout lanes as SimPy.Store() resources\n",
    "\n",
    "We can start the model development with a definition of check out lanes. For now assume the checkout lanes can be modeled as SimPy.Store shared resources. These are stored in a list called `lanes` which are indexed as 0, 1, ..., N-1 where $N$ is the number of lanes."
   ]
  },
  {
   "cell_type": "code",
   "execution_count": 64,
   "metadata": {
    "nbpages": {
     "level": 3,
     "link": "[3.8.1.1 Model checkout lanes as SimPy.Store() resources](https://jckantor.github.io/CBE40455-2020/03.08-Grocery-Store.html#3.8.1.1-Model-checkout-lanes-as-SimPy.Store()-resources)",
     "section": "3.8.1.1 Model checkout lanes as SimPy.Store() resources"
    }
   },
   "outputs": [],
   "source": [
    "# time units = minutes\n",
    "\n",
    "# number of checkout lanes\n",
    "N = 4\n",
    "\n",
    "# create simulation\n",
    "env = simpy.Environment()\n",
    "\n",
    "# checkout lanes modeled as SimPy Stores\n",
    "lanes = [simpy.Store(env) for n in range(N)]\n",
    "\n",
    "# run simulation\n",
    "env.run(until = 60)"
   ]
  },
  {
   "cell_type": "markdown",
   "metadata": {
    "nbpages": {
     "level": 3,
     "link": "[3.8.1.2 Modeling customer behavior](https://jckantor.github.io/CBE40455-2020/03.08-Grocery-Store.html#3.8.1.2-Modeling-customer-behavior)",
     "section": "3.8.1.2 Modeling customer behavior"
    }
   },
   "source": [
    "### 3.8.1.2 Modeling customer behavior\n",
    "\n",
    "The next step is to create customers. For the purpose, we write a Python generator that accepts a rate argument specifying the rate at which customers approach the checkout lanes. Each customer carries a cart with a number of items. The number of items is random integer."
   ]
  },
  {
   "cell_type": "code",
   "execution_count": 65,
   "metadata": {
    "nbpages": {
     "level": 3,
     "link": "[3.8.1.2 Modeling customer behavior](https://jckantor.github.io/CBE40455-2020/03.08-Grocery-Store.html#3.8.1.2-Modeling-customer-behavior)",
     "section": "3.8.1.2 Modeling customer behavior"
    }
   },
   "outputs": [],
   "source": [
    "# time units = minutes\n",
    "\n",
    "# number of checkout lanes\n",
    "N = 4\n",
    "\n",
    "# customer generator, assign to random checkout lane\n",
    "def customer_generator(rate=1.0):\n",
    "    customer_id = 1\n",
    "    while True:\n",
    "        yield env.timeout(random.expovariate(rate))\n",
    "        n_cart_items = random.randint(1, 25)\n",
    "        lane_number = random.randint(0, N-1)\n",
    "        yield lanes[lane_number].put([customer_id, n_cart_items, env.now])\n",
    "        customer_id += 1\n",
    "\n",
    "# create simulation\n",
    "env = simpy.Environment()\n",
    "\n",
    "# checkout lanes modeled as SimPy Stores\n",
    "lanes = [simpy.Store(env) for n in range(N)]\n",
    "\n",
    "# create processes\n",
    "env.process(customer_generator())\n",
    "\n",
    "# run simulation\n",
    "env.run(until=60)"
   ]
  },
  {
   "cell_type": "markdown",
   "metadata": {
    "nbpages": {
     "level": 3,
     "link": "[3.8.1.3 Monitoring of checkout lanes](https://jckantor.github.io/CBE40455-2020/03.08-Grocery-Store.html#3.8.1.3-Monitoring-of-checkout-lanes)",
     "section": "3.8.1.3 Monitoring of checkout lanes"
    }
   },
   "source": [
    "### 3.8.1.3 Monitoring of checkout lanes\n",
    "\n",
    "At this point we have a working simulation, but no way to see the results. The next cell adds a monitoring process that records the length of all checkout lanes. The collected data is plotted when the simulation is complete."
   ]
  },
  {
   "cell_type": "code",
   "execution_count": 66,
   "metadata": {
    "nbpages": {
     "level": 3,
     "link": "[3.8.1.3 Monitoring of checkout lanes](https://jckantor.github.io/CBE40455-2020/03.08-Grocery-Store.html#3.8.1.3-Monitoring-of-checkout-lanes)",
     "section": "3.8.1.3 Monitoring of checkout lanes"
    }
   },
   "outputs": [
    {
     "data": {
      "image/png": "[encoded data removed]",
      "text/plain": [
       "<Figure size 864x360 with 2 Axes>"
      ]
     },
     "metadata": {
      "needs_background": "light"
     },
     "output_type": "display_data"
    }
   ],
   "source": [
    "# time units = minutes\n",
    "\n",
    "# number of checkout lanes\n",
    "N = 4\n",
    "\n",
    "# customer generator, assign to random checkout lane\n",
    "def customer_generator(rate=1.0):\n",
    "    customer_id = 1\n",
    "    while True:\n",
    "        yield env.timeout(random.expovariate(rate))\n",
    "        n_cart_items = random.randint(1, 25)\n",
    "        lane_number = random.randint(0, N-1)\n",
    "        yield lanes[lane_number].put([customer_id, n_cart_items, env.now])\n",
    "        customer_id += 1\n",
    "\n",
    "# log data for each checkout lane\n",
    "def lane_logger(t_sample=0.1):\n",
    "    while True:\n",
    "        lane_log.append([env.now] + [len(lane.items) for lane in lanes])\n",
    "        yield env.timeout(t_sample)\n",
    "\n",
    "# create simulation\n",
    "lane_log = []\n",
    "env = simpy.Environment()\n",
    "\n",
    "# checkout lanes modeled as SimPy Stores\n",
    "lanes = [simpy.Store(env) for n in range(N)]\n",
    "\n",
    "# create processes\n",
    "env.process(customer_generator())\n",
    "env.process(lane_logger())\n",
    "\n",
    "# run simulation\n",
    "env.run(until=60)\n",
    "\n",
    "# extract lane data\n",
    "lane_df = pd.DataFrame(lane_log, columns = [\"time\"] + [f\"lane {n}\" for n in range(0, N)])\n",
    "lane_df = lane_df.set_index(\"time\")\n",
    "\n",
    "# plot results\n",
    "fig, ax = plt.subplots(2, 1, figsize=(12, 5))\n",
    "ax[0].plot(lane_df)\n",
    "ax[0].set_xlabel(\"time / min\")\n",
    "ax[0].set_title(\"length of checkout lanes\")\n",
    "ax[0].legend(lane_df.columns)\n",
    "plt.tight_layout()"
   ]
  },
  {
   "cell_type": "markdown",
   "metadata": {
    "nbpages": {
     "level": 3,
     "link": "[3.8.1.4 Modeling checkout lane servers](https://jckantor.github.io/CBE40455-2020/03.08-Grocery-Store.html#3.8.1.4-Modeling-checkout-lane-servers)",
     "section": "3.8.1.4 Modeling checkout lane servers"
    }
   },
   "source": [
    "### 3.8.1.4 Modeling checkout lane servers\n",
    "\n",
    "The next step completes an initial, elementary model of checkout services in a grocery or retail store. The Python generator `checkout` accepts an assigned checkout lane and a specification $t_{item}$ of how much time is required to process each item in a customer cart containing $n_{cart}$ items. The customer processing time is then given by\n",
    "\n",
    "$$t_{process} = n_{cart} t_{item}$$\n",
    "\n",
    "A process is created for every lane by looping over the list of all lanes."
   ]
  },
  {
   "cell_type": "code",
   "execution_count": 71,
   "metadata": {
    "nbpages": {
     "level": 3,
     "link": "[3.8.1.4 Modeling checkout lane servers](https://jckantor.github.io/CBE40455-2020/03.08-Grocery-Store.html#3.8.1.4-Modeling-checkout-lane-servers)",
     "section": "3.8.1.4 Modeling checkout lane servers"
    }
   },
   "outputs": [
    {
     "data": {
      "image/png": "[encoded data removed]",
      "text/plain": [
       "<Figure size 864x360 with 2 Axes>"
      ]
     },
     "metadata": {
      "needs_background": "light"
     },
     "output_type": "display_data"
    }
   ],
   "source": [
    "# time units = minutes\n",
    "\n",
    "# number of checkout lanes\n",
    "N = 4\n",
    "\n",
    "# customer generator, assign to random checkout lane\n",
    "def customer_generator(rate=1.0):\n",
    "    customer_id = 1\n",
    "    while True:\n",
    "        yield env.timeout(random.expovariate(rate))\n",
    "        n_cart_items = random.randint(1, 25)\n",
    "        lane_number = random.randint(0, N-1)\n",
    "        yield lanes[lane_number].put([customer_id, n_cart_items, env.now])\n",
    "        customer_id += 1\n",
    "\n",
    "# create a server for a specified check out lane\n",
    "def checkout(lane, t_item = 1/10):\n",
    "    while True:\n",
    "        customer_id, n_cart_items, enter_time = yield lane.get()\n",
    "        yield env.timeout(n_cart_items*t_item)\n",
    "        customer_log.append([customer_id, n_cart_items, enter_time, env.now])\n",
    "        \n",
    "def lane_logger(t_sample=0.1):\n",
    "    while True:\n",
    "        lane_log.append([env.now] + [len(lane.items) for lane in lanes])\n",
    "        yield env.timeout(t_sample)\n",
    "\n",
    "# create simulation\n",
    "lane_log = []\n",
    "customer_log = []\n",
    "env = simpy.Environment()\n",
    "\n",
    "# checkout lanes modeled as SimPy Stores\n",
    "lanes = [simpy.Store(env) for n in range(N)]\n",
    "\n",
    "# create processes\n",
    "env.process(customer_generator())\n",
    "env.process(lane_logger())\n",
    "for n in range(N):\n",
    "    env.process(checkout(lanes[n]))\n",
    "\n",
    "# run simulation\n",
    "env.run(until=60)\n",
    "\n",
    "# extract lane data\n",
    "lane_df = pd.DataFrame(lane_log, columns = [\"time\"] + [f\"lane {n}\" for n in range(0, N)])\n",
    "lane_df = lane_df.set_index(\"time\")\n",
    "\n",
    "customer_df = pd.DataFrame(customer_log, columns = [\"customer id\", \"cart items\", \"enter\", \"leave\"])\n",
    "customer_df[\"elapsed\"] = customer_df[\"leave\"] - customer_df[\"enter\"]\n",
    "\n",
    "# plot results\n",
    "fig, ax = plt.subplots(2, 1, figsize=(12, 5))\n",
    "ax[0].plot(lane_df)\n",
    "ax[0].set_xlabel(\"time / min\")\n",
    "ax[0].set_title(\"length of checkout lanes\")\n",
    "ax[0].legend(lane_df.columns)\n",
    "\n",
    "ax[1].bar(customer_df[\"customer id\"], customer_df[\"elapsed\"])\n",
    "ax[1].set_xlabel(\"customer id\")\n",
    "ax[1].set_ylabel(\"minutes\")\n",
    "ax[1].set_title(\"customer waiting time\")\n",
    "plt.tight_layout()"
   ]
  },
  {
   "cell_type": "markdown",
   "metadata": {
    "nbpages": {
     "level": 3,
     "link": "[3.8.1.5 Discussion questions to explore and answer.](https://jckantor.github.io/CBE40455-2020/03.08-Grocery-Store.html#3.8.1.5-Discussion-questions-to-explore-and-answer.)",
     "section": "3.8.1.5 Discussion questions to explore and answer."
    }
   },
   "source": [
    "### 3.8.1.5 Discussion questions to explore and answer.\n",
    "\n",
    "For the next class session, please review and do as many of the following exercises as possible and submit your responses via Sakai. You can earn up to five points (1 point per item, up to a max of 5).\n",
    "\n",
    "1. The default values for the model are 4 lanes, 1 new customer each minute, up to 25 items per cart, and each checkout server can process 10 items per minute. Rerun the simulation to determine the minimum number of lanes required for a stationary behavior. For this purpose, you may find it useful to extend the simulation from 60 minutes to a longer horizon.\n",
    "\n",
    "2. Repeat the first exercise, but this time leave 4 lanes, and determine the maximum rate of customers that can be accommodated with stationary behavior.  \n",
    "\n",
    "This model has incorporated a number of unrealistic assumptions. Let's attempt to fix aa few of them. Copy and paste the model into a new cell, and make the following modifications. Report the results of these modifications.\n",
    "\n",
    "3. The time required for at the checkout counter is currently proportional to the number of items in the cart. A more realistic model would also include the additional time required for payment. Add a `t_payment` parameter to the checkout model with a default value of 2 minutes. Incorporate that time into the model. \n",
    "\n",
    "4. In the current model, are assumed to randomly select a lane. A more realistic behavior is for customers to select the shortest lane. Modify `customer_generator` to assign to the customer to the shortest lane. For this, you will need to access the length of each lane. For example, `len(lanes[0].items)` will return the length of lane 0.\n",
    "\n",
    "5. The current plots report the total amount from when a customer enters the lane to the time the customer leaves the checkout. But what customers really care about is the time spent waiting to get to the checkout. Modify the customer data logging to collect the waiting time, construct a plot of the waiting time for each customer, and report the averate waiting time and length of each queue.\n",
    "    \n",
    "6. Someone has suggested changing two of the lanes to self-checkout. But a side effect of self-checkout is to increase the amount of time required to scan each item in a cart. Suppose the scan time goes from 6 seconds to 12 seconds for typical, untrained customers. Will additional attended lanes be required to offset the effect of slower scanning in the self-checkout lanes? If so, how many additional lanes will be required?\n",
    "\n",
    "7. Suppose we were to change one or more of the lanes to a express lanes which handle only with a small number of items, say five or fewer. How would you expect this to change average waiting time? This is a form of prioritization ... are there other prioritizations that you might consider?"
   ]
  },
  {
   "cell_type": "code",
   "execution_count": null,
   "metadata": {
    "nbpages": {
     "level": 3,
     "link": "[3.8.1.5 Discussion questions to explore and answer.](https://jckantor.github.io/CBE40455-2020/03.08-Grocery-Store.html#3.8.1.5-Discussion-questions-to-explore-and-answer.)",
     "section": "3.8.1.5 Discussion questions to explore and answer."
    }
   },
   "outputs": [],
   "source": []
  },
  {
   "cell_type": "markdown",
   "metadata": {},
   "source": [
    "<!--NAVIGATION-->\n",
    "< [3.7 Simulating Queuing Systems](https://jckantor.github.io/CBE40455-2020/03.07-Simulating-Queuing-Systems.html) | [Contents](toc.html) | [3.9 Batch Chemical Process](https://jckantor.github.io/CBE40455-2020/03.09-Batch-Chemical-Process.html)<p><a href=\"https://colab.research.google.com/github/jckantor/CBE40455-2020/blob/master/docs/03.08-Grocery-Store.ipynb\"> <img align=\"left\" src=\"https://colab.research.google.com/assets/colab-badge.svg\" alt=\"Open in Colab\" title=\"Open in Google Colaboratory\"></a><p><a href=\"https://jckantor.github.io/CBE40455-2020/03.08-Grocery-Store.ipynb\"> <img align=\"left\" src=\"https://img.shields.io/badge/Github-Download-blue.svg\" alt=\"Download\" title=\"Download Notebook\"></a>"
   ]
  }
 ],
 "metadata": {
  "kernelspec": {
   "display_name": "Python 3",
   "language": "python",
   "name": "python3"
  },
  "language_info": {
   "codemirror_mode": {
    "name": "ipython",
    "version": 3
   },
   "file_extension": ".py",
   "mimetype": "text/x-python",
   "name": "python",
   "nbconvert_exporter": "python",
   "pygments_lexer": "ipython3",
   "version": "3.7.4"
  }
 },
 "nbformat": 4,
 "nbformat_minor": 4
}
