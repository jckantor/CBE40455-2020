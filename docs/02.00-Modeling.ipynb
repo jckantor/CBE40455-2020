{
 "cells": [
  {
   "cell_type": "markdown",
   "metadata": {},
   "source": [
    "<!--NOTEBOOK_HEADER-->\n",
    "*This notebook contains material from [CBE40455-2020](https://jckantor.github.io/CBE40455-2020);\n",
    "content is available [on Github](https://github.com/jckantor/CBE40455-2020.git).*\n"
   ]
  },
  {
   "cell_type": "markdown",
   "metadata": {},
   "source": [
    "<!--NAVIGATION-->\n",
    "< [1.0 CBE 40455/60455 Process Operations: Syllabus](https://jckantor.github.io/CBE40455-2020/01.00-Syllabus.html) | [Contents](toc.html) | [2.1 Campus SIR Modeling](https://jckantor.github.io/CBE40455-2020/02.01-Campus-SIR-modeling.html)<p><a href=\"https://colab.research.google.com/github/jckantor/CBE40455-2020/blob/master/docs/02.00-Modeling.ipynb\"> <img align=\"left\" src=\"https://colab.research.google.com/assets/colab-badge.svg\" alt=\"Open in Colab\" title=\"Open in Google Colaboratory\"></a><p><a href=\"https://jckantor.github.io/CBE40455-2020/02.00-Modeling.ipynb\"> <img align=\"left\" src=\"https://img.shields.io/badge/Github-Download-blue.svg\" alt=\"Download\" title=\"Download Notebook\"></a>"
   ]
  },
  {
   "cell_type": "markdown",
   "metadata": {
    "nbpages": {
     "level": 1,
     "link": "[2.0 Modeling](https://jckantor.github.io/CBE40455-2020/02.00-Modeling.html#2.0-Modeling)",
     "section": "2.0 Modeling"
    }
   },
   "source": [
    "# 2.0 Modeling\n",
    "\n",
    "What we will do in this chapter is illustrate the transition from traditional modeling of continuous systems using the conventions of calculus and differential equations to modeling based on the direct simulation of microscopic events. "
   ]
  },
  {
   "cell_type": "markdown",
   "metadata": {
    "nbpages": {
     "level": 2,
     "link": "[2.0.1 Readings](https://jckantor.github.io/CBE40455-2020/02.00-Modeling.html#2.0.1-Readings)",
     "section": "2.0.1 Readings"
    }
   },
   "source": [
    "## 2.0.1 Readings"
   ]
  },
  {
   "cell_type": "markdown",
   "metadata": {
    "nbpages": {
     "level": 3,
     "link": "[2.0.1.1 Agent Based Modeling](https://jckantor.github.io/CBE40455-2020/02.00-Modeling.html#2.0.1.1-Agent-Based-Modeling)",
     "section": "2.0.1.1 Agent Based Modeling"
    }
   },
   "source": [
    "### 2.0.1.1 Agent Based Modeling\n",
    "\n",
    "Bonabeau, Eric. \"Agent-based modeling: Methods and techniques for simulating human systems.\" Proceedings of the national academy of sciences 99.suppl 3 (2002): 7280-7287. [https://www.pnas.org/content/pnas/99/suppl_3/7280.full.pdf](https://www.pnas.org/content/pnas/99/suppl_3/7280.full.pdf)\n"
   ]
  },
  {
   "cell_type": "markdown",
   "metadata": {
    "nbpages": {
     "level": 3,
     "link": "[2.0.1.2 Simpy](https://jckantor.github.io/CBE40455-2020/02.00-Modeling.html#2.0.1.2-Simpy)",
     "section": "2.0.1.2 Simpy"
    }
   },
   "source": [
    "### 2.0.1.2 Simpy\n",
    "\n",
    "* [Simpy: Wikipedia entry](https://en.wikipedia.org/wiki/SimPy)"
   ]
  },
  {
   "cell_type": "code",
   "execution_count": null,
   "metadata": {
    "nbpages": {
     "level": 3,
     "link": "[2.0.1.2 Simpy](https://jckantor.github.io/CBE40455-2020/02.00-Modeling.html#2.0.1.2-Simpy)",
     "section": "2.0.1.2 Simpy"
    }
   },
   "outputs": [],
   "source": []
  },
  {
   "cell_type": "markdown",
   "metadata": {},
   "source": [
    "<!--NAVIGATION-->\n",
    "< [1.0 CBE 40455/60455 Process Operations: Syllabus](https://jckantor.github.io/CBE40455-2020/01.00-Syllabus.html) | [Contents](toc.html) | [2.1 Campus SIR Modeling](https://jckantor.github.io/CBE40455-2020/02.01-Campus-SIR-modeling.html)<p><a href=\"https://colab.research.google.com/github/jckantor/CBE40455-2020/blob/master/docs/02.00-Modeling.ipynb\"> <img align=\"left\" src=\"https://colab.research.google.com/assets/colab-badge.svg\" alt=\"Open in Colab\" title=\"Open in Google Colaboratory\"></a><p><a href=\"https://jckantor.github.io/CBE40455-2020/02.00-Modeling.ipynb\"> <img align=\"left\" src=\"https://img.shields.io/badge/Github-Download-blue.svg\" alt=\"Download\" title=\"Download Notebook\"></a>"
   ]
  }
 ],
 "metadata": {
  "kernelspec": {
   "display_name": "Python 3",
   "language": "python",
   "name": "python3"
  },
  "language_info": {
   "codemirror_mode": {
    "name": "ipython",
    "version": 3
   },
   "file_extension": ".py",
   "mimetype": "text/x-python",
   "name": "python",
   "nbconvert_exporter": "python",
   "pygments_lexer": "ipython3",
   "version": "3.7.4"
  }
 },
 "nbformat": 4,
 "nbformat_minor": 4
}
