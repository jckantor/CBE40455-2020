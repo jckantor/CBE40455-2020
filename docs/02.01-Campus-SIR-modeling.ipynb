{
 "cells": [
  {
   "cell_type": "markdown",
   "metadata": {},
   "source": [
    "<!--NOTEBOOK_HEADER-->\n",
    "*This notebook contains material from [CBE40455-2020](https://jckantor.github.io/CBE40455-2020);\n",
    "content is available [on Github](https://github.com/jckantor/CBE40455-2020.git).*\n"
   ]
  },
  {
   "cell_type": "markdown",
   "metadata": {},
   "source": [
    "<!--NAVIGATION-->\n",
    "< [2.0 Modeling](https://jckantor.github.io/CBE40455-2020/02.00-Modeling.html) | [Contents](toc.html) | [2.2 Campus SEIR Modeling](https://jckantor.github.io/CBE40455-2020/02.02-Campus-SEIR-modeling.html)<p><a href=\"https://colab.research.google.com/github/jckantor/CBE40455-2020/blob/master/docs/02.01-Campus-SIR-modeling.ipynb\"> <img align=\"left\" src=\"https://colab.research.google.com/assets/colab-badge.svg\" alt=\"Open in Colab\" title=\"Open in Google Colaboratory\"></a><p><a href=\"https://jckantor.github.io/CBE40455-2020/02.01-Campus-SIR-modeling.ipynb\"> <img align=\"left\" src=\"https://img.shields.io/badge/Github-Download-blue.svg\" alt=\"Download\" title=\"Download Notebook\"></a>"
   ]
  },
  {
   "cell_type": "markdown",
   "metadata": {
    "colab_type": "text",
    "id": "7wQY1Qx7eOKX",
    "nbpages": {
     "level": 1,
     "link": "[2.1 Campus SIR Modeling](https://jckantor.github.io/CBE40455-2020/02.01-Campus-SIR-modeling.html#2.1-Campus-SIR-Modeling)",
     "section": "2.1 Campus SIR Modeling"
    }
   },
   "source": [
    "# 2.1 Campus SIR Modeling\n",
    "\n"
   ]
  },
  {
   "cell_type": "markdown",
   "metadata": {
    "colab_type": "text",
    "id": "nDB7fXWZeVef",
    "nbpages": {
     "level": 2,
     "link": "[2.1.1 Campus infection data](https://jckantor.github.io/CBE40455-2020/02.01-Campus-SIR-modeling.html#2.1.1-Campus-infection-data)",
     "section": "2.1.1 Campus infection data"
    }
   },
   "source": [
    "## 2.1.1 Campus infection data\n",
    "\n",
    "The following data consists of new infections reported since August 3, 2020, from diagnostic testing administered by the Wellness Center and University Health Services at the University of Notre Dame. The data is publically available on the [Notre Dame Covid-19 Dashboard](https://here.nd.edu/our-approach/dashboard/)."
   ]
  },
  {
   "cell_type": "code",
   "execution_count": 1,
   "metadata": {
    "colab": {
     "base_uri": "https://localhost:8080/",
     "height": 281
    },
    "colab_type": "code",
    "executionInfo": {
     "elapsed": 527,
     "status": "ok",
     "timestamp": 1597709326245,
     "user": {
      "displayName": "Jeffrey Kantor",
      "photoUrl": "https://lh3.googleusercontent.com/a-/AOh14Gg_n8V7bVINy02QRuRgOoMo11Ri7NKU3OUKdC1bkQ=s64",
      "userId": "09038942003589296665"
     },
     "user_tz": 240
    },
    "id": "POjTcEnHSDwi",
    "nbpages": {
     "level": 2,
     "link": "[2.1.1 Campus infection data](https://jckantor.github.io/CBE40455-2020/02.01-Campus-SIR-modeling.html#2.1.1-Campus-infection-data)",
     "section": "2.1.1 Campus infection data"
    },
    "outputId": "07f05dd4-c7b2-4113-d7b3-9a436aa2c5ec"
   },
   "outputs": [
    {
     "name": "stderr",
     "output_type": "stream",
     "text": [
      "/Users/jeff/opt/anaconda3/lib/python3.7/site-packages/pandas/plotting/_matplotlib/converter.py:103: FutureWarning: Using an implicitly registered datetime converter for a matplotlib plotting method. The converter was registered by pandas on import. Future versions of pandas will require you to explicitly register matplotlib converters.\n",
      "\n",
      "To register the converters:\n",
      "\t>>> from pandas.plotting import register_matplotlib_converters\n",
      "\t>>> register_matplotlib_converters()\n",
      "  warnings.warn(msg, FutureWarning)\n"
     ]
    },
    {
     "data": {
      "image/png": "[encoded data removed]",
      "text/plain": [
       "<Figure size 576x288 with 1 Axes>"
      ]
     },
     "metadata": {
      "needs_background": "light"
     },
     "output_type": "display_data"
    }
   ],
   "source": [
    "import pandas as pd\n",
    "import numpy as np\n",
    "import matplotlib.pyplot as plt\n",
    "import matplotlib.dates as mdates\n",
    "from scipy.integrate import solve_ivp\n",
    "from scipy.optimize import minimize\n",
    "from datetime import timedelta\n",
    "\n",
    "data = [\n",
    "    [\"2020-08-03\", 0],\n",
    "    [\"2020-08-04\", 0],\n",
    "    [\"2020-08-05\", 0],\n",
    "    [\"2020-08-06\", 1],\n",
    "    [\"2020-08-07\", 0],\n",
    "    [\"2020-08-08\", 1],\n",
    "    [\"2020-08-09\", 2],\n",
    "    [\"2020-08-10\", 4],\n",
    "    [\"2020-08-11\", 4],\n",
    "    [\"2020-08-12\", 7],\n",
    "    [\"2020-08-13\", 10],\n",
    "    [\"2020-08-14\", 14],\n",
    "    [\"2020-08-15\", 3],\n",
    "    [\"2020-08-16\", 15],\n",
    "    [\"2020-08-17\", 80],\n",
    "]\n",
    "\n",
    "df = pd.DataFrame(data, columns=[\"date\", \"new cases\"])\n",
    "df[\"date\"] = pd.to_datetime(df[\"date\"])\n",
    "\n",
    "fig, ax = plt.subplots(figsize=(8,4))\n",
    "ax.bar(df[\"date\"], df[\"new cases\"], width=0.6)\n",
    "ax.xaxis.set_major_locator(mdates.WeekdayLocator(byweekday=mdates.MO))\n",
    "ax.xaxis.set_major_formatter(mdates.DateFormatter(\"%b %d\"))\n",
    "plt.title(\"Reported New Infections\")\n",
    "plt.grid()"
   ]
  },
  {
   "cell_type": "markdown",
   "metadata": {
    "colab_type": "text",
    "id": "NCrQCtMfHqBG",
    "nbpages": {
     "level": 2,
     "link": "[2.1.2 Fitting an SIR model to campus data](https://jckantor.github.io/CBE40455-2020/02.01-Campus-SIR-modeling.html#2.1.2-Fitting-an-SIR-model-to-campus-data)",
     "section": "2.1.2 Fitting an SIR model to campus data"
    }
   },
   "source": [
    "## 2.1.2 Fitting an SIR model to campus data\n",
    "\n",
    "Because of  the limited amount of data available at the time this notebook was prepared, the model fitting has been limited to a standard SIR model for infectious disease in a homogeneous population.\n",
    "\n",
    "$$\\text{Susceptible}\n",
    "\\xrightarrow {\\frac{\\beta S I}{N}} \n",
    "\\text{Infectious} \n",
    "\\xrightarrow{\\gamma I} \n",
    "\\text{Recovered} $$\n",
    "\n",
    "The resulting differential equations are:\n",
    "\n",
    "$$\\begin{align*}\n",
    "\\frac{dS}{dt} &= -\\beta S \\frac{I}{N} \\\\\n",
    "\\frac{dI}{dt} &= \\beta S \\frac{I}{N} - \\gamma I \\\\\n",
    "\\frac{dR}{dt} &= \\gamma I \\\\\n",
    "\\end{align*}$$\n",
    "\n",
    "The recovery rate is given by $\\gamma = 1/t_{recovery}$ where the average recovery time $t_{recovery}$ is estimated as 8 days. \n",
    "\n",
    "\n",
    "| Parameter | Description | Estimated Value | Source |\n",
    "| :-- | :-- | :-- | :-- |\n",
    "| $N$ | campus population | 15,000 | estimate |\n",
    "| $\\gamma$ | average recovery rate | 1/8.0 $d^{-1}$ | literature |\n",
    "| $\\beta$ | infection rate constant | tbd | fitted to data | \n",
    "| $I_0$ | initial infectives on Aug 3, 2020 | tbd | fitted to data \n",
    "| $R_0$ | reproduction number | tbd | calculated as ${\\beta}/{\\gamma}$"
   ]
  },
  {
   "cell_type": "code",
   "execution_count": 2,
   "metadata": {
    "colab": {
     "base_uri": "https://localhost:8080/",
     "height": 312
    },
    "colab_type": "code",
    "executionInfo": {
     "elapsed": 11775,
     "status": "ok",
     "timestamp": 1597709340495,
     "user": {
      "displayName": "Jeffrey Kantor",
      "photoUrl": "https://lh3.googleusercontent.com/a-/AOh14Gg_n8V7bVINy02QRuRgOoMo11Ri7NKU3OUKdC1bkQ=s64",
      "userId": "09038942003589296665"
     },
     "user_tz": 240
    },
    "id": "UtL_lSxiWk8H",
    "nbpages": {
     "level": 2,
     "link": "[2.1.2 Fitting an SIR model to campus data](https://jckantor.github.io/CBE40455-2020/02.01-Campus-SIR-modeling.html#2.1.2-Fitting-an-SIR-model-to-campus-data)",
     "section": "2.1.2 Fitting an SIR model to campus data"
    },
    "outputId": "de914a60-eab6-40aa-88b6-90c44cdde82c"
   },
   "outputs": [
    {
     "name": "stdout",
     "output_type": "stream",
     "text": [
      "R0 = 10.3\n"
     ]
    },
    {
     "data": {
      "image/png": "[encoded data removed]",
      "text/plain": [
       "<Figure size 432x288 with 1 Axes>"
      ]
     },
     "metadata": {
      "needs_background": "light"
     },
     "output_type": "display_data"
    }
   ],
   "source": [
    "N = 15000         # estimated campus population\n",
    "gamma = 1/8.0     # recovery rate = 1 / average recovery time in days\n",
    "\n",
    "def model(t, y, beta):\n",
    "    S, I, R = y\n",
    "    dSdt = -beta*S*I/N\n",
    "    dRdt = gamma*I\n",
    "    dIdt = -dSdt - dRdt\n",
    "    return np.array([dSdt, dIdt, dRdt])\n",
    "\n",
    "def solve_model(t, params):\n",
    "    beta, I_initial = params\n",
    "    IC = [N - I_initial, I_initial, 0.0]\n",
    "    soln = solve_ivp(lambda t, y: model(t, y, beta), np.array([t[0], t[-1]]), \n",
    "                IC, t_eval=t, atol=1e-6, rtol=1e-9)\n",
    "    S, I, R = soln.y\n",
    "    U = beta*S*I/N\n",
    "    return S, I, R, U\n",
    "\n",
    "def residuals(df, params):\n",
    "    S, I, R, U = solve_model(df.index, params)\n",
    "    return np.linalg.norm(df[\"new cases\"] - U)\n",
    "\n",
    "def fit_model(df, params_est=[0.5, 0.5]):\n",
    "    return minimize(lambda params: residuals(df, params), params_est, method=\"Nelder-Mead\").x\n",
    "\n",
    "def plot_data(df):\n",
    "    plt.plot(df.index, np.array(df[\"new cases\"]), \"r.\", ms=20, label=\"data\")\n",
    "    plt.xlabel(\"days\")\n",
    "    plt.title(\"new cases\")\n",
    "    plt.legend()\n",
    "\n",
    "def plot_model(t, params):\n",
    "    print(\"R0 =\", round(beta/gamma, 1))\n",
    "    S, I, R, U = solve_model(t, params)\n",
    "    plt.plot(t, U, lw=3, label=\"model\")\n",
    "    plt.xlabel(\"days\")\n",
    "    plt.title(\"new cases\")\n",
    "    plt.legend()\n",
    "\n",
    "plot_data(df)\n",
    "beta, I_initial = fit_model(df)\n",
    "plot_model(df.index, [beta, I_initial])"
   ]
  },
  {
   "cell_type": "markdown",
   "metadata": {
    "colab_type": "text",
    "id": "_bgKAAIBUrEj",
    "nbpages": {
     "level": 2,
     "link": "[2.1.3 Fitted parameter values](https://jckantor.github.io/CBE40455-2020/02.01-Campus-SIR-modeling.html#2.1.3-Fitted-parameter-values)",
     "section": "2.1.3 Fitted parameter values"
    }
   },
   "source": [
    "## 2.1.3 Fitted parameter values"
   ]
  },
  {
   "cell_type": "code",
   "execution_count": 3,
   "metadata": {
    "colab": {
     "base_uri": "https://localhost:8080/",
     "height": 136
    },
    "colab_type": "code",
    "executionInfo": {
     "elapsed": 571,
     "status": "ok",
     "timestamp": 1597709346279,
     "user": {
      "displayName": "Jeffrey Kantor",
      "photoUrl": "https://lh3.googleusercontent.com/a-/AOh14Gg_n8V7bVINy02QRuRgOoMo11Ri7NKU3OUKdC1bkQ=s64",
      "userId": "09038942003589296665"
     },
     "user_tz": 240
    },
    "id": "tWmFUnGsOEgn",
    "nbpages": {
     "level": 2,
     "link": "[2.1.3 Fitted parameter values](https://jckantor.github.io/CBE40455-2020/02.01-Campus-SIR-modeling.html#2.1.3-Fitted-parameter-values)",
     "section": "2.1.3 Fitted parameter values"
    },
    "outputId": "cd8b5c3e-2dd2-4bd6-cbd8-9b58186cefc4"
   },
   "outputs": [
    {
     "ename": "ModuleNotFoundError",
     "evalue": "No module named 'tabulate'",
     "output_type": "error",
     "traceback": [
      "\u001b[0;31m---------------------------------------------------------------------------\u001b[0m",
      "\u001b[0;31mModuleNotFoundError\u001b[0m                       Traceback (most recent call last)",
      "\u001b[0;32m<ipython-input-3-d3b54c4602cf>\u001b[0m in \u001b[0;36m<module>\u001b[0;34m\u001b[0m\n\u001b[0;32m----> 1\u001b[0;31m \u001b[0;32mfrom\u001b[0m \u001b[0mtabulate\u001b[0m \u001b[0;32mimport\u001b[0m \u001b[0mtabulate\u001b[0m\u001b[0;34m\u001b[0m\u001b[0;34m\u001b[0m\u001b[0m\n\u001b[0m\u001b[1;32m      2\u001b[0m parameter_table = [\n\u001b[1;32m      3\u001b[0m                    \u001b[0;34m[\u001b[0m\u001b[0;34m\"N\"\u001b[0m\u001b[0;34m,\u001b[0m \u001b[0;36m15000\u001b[0m\u001b[0;34m]\u001b[0m\u001b[0;34m,\u001b[0m\u001b[0;34m\u001b[0m\u001b[0;34m\u001b[0m\u001b[0m\n\u001b[1;32m      4\u001b[0m                    \u001b[0;34m[\u001b[0m\u001b[0;34m\"I0\"\u001b[0m\u001b[0;34m,\u001b[0m \u001b[0mI_initial\u001b[0m\u001b[0;34m]\u001b[0m\u001b[0;34m,\u001b[0m\u001b[0;34m\u001b[0m\u001b[0;34m\u001b[0m\u001b[0m\n\u001b[1;32m      5\u001b[0m                    \u001b[0;34m[\u001b[0m\u001b[0;34m\"beta\"\u001b[0m\u001b[0;34m,\u001b[0m \u001b[0mbeta\u001b[0m\u001b[0;34m]\u001b[0m\u001b[0;34m,\u001b[0m\u001b[0;34m\u001b[0m\u001b[0;34m\u001b[0m\u001b[0m\n",
      "\u001b[0;31mModuleNotFoundError\u001b[0m: No module named 'tabulate'"
     ]
    }
   ],
   "source": [
    "from tabulate import tabulate\n",
    "parameter_table = [\n",
    "                   [\"N\", 15000],\n",
    "                   [\"I0\", I_initial],\n",
    "                   [\"beta\", beta],\n",
    "                   [\"gamma\", gamma],\n",
    "                   [\"R0\", beta/gamma]\n",
    "]\n",
    "print(tabulate(parameter_table, headers=[\"Parameter\", \"Value\"]))"
   ]
  },
  {
   "cell_type": "markdown",
   "metadata": {
    "colab_type": "text",
    "id": "XBWZxEBkHxBJ",
    "nbpages": {
     "level": 2,
     "link": "[2.1.4 Short term predictions of newly confirmed cases](https://jckantor.github.io/CBE40455-2020/02.01-Campus-SIR-modeling.html#2.1.4-Short-term-predictions-of-newly-confirmed-cases)",
     "section": "2.1.4 Short term predictions of newly confirmed cases"
    }
   },
   "source": [
    "## 2.1.4 Short term predictions of newly confirmed cases\n",
    "\n",
    "Using the fitted parameters, the following code presents a short term projection of newly diagnosed infections. Roughly speaking, the model projects a 50% increase per day in newly diagnosed cases as a result of testing sympotomatic individuals. \n",
    "\n",
    "The number of infected but asympotomatic individuals is unknown at this time, but can be expected to be a 2x multiple of this projection."
   ]
  },
  {
   "cell_type": "code",
   "execution_count": 4,
   "metadata": {
    "colab": {
     "base_uri": "https://localhost:8080/",
     "height": 281
    },
    "colab_type": "code",
    "executionInfo": {
     "elapsed": 2057,
     "status": "ok",
     "timestamp": 1597709362062,
     "user": {
      "displayName": "Jeffrey Kantor",
      "photoUrl": "https://lh3.googleusercontent.com/a-/AOh14Gg_n8V7bVINy02QRuRgOoMo11Ri7NKU3OUKdC1bkQ=s64",
      "userId": "09038942003589296665"
     },
     "user_tz": 240
    },
    "id": "hl001U_gRuNs",
    "nbpages": {
     "level": 2,
     "link": "[2.1.4 Short term predictions of newly confirmed cases](https://jckantor.github.io/CBE40455-2020/02.01-Campus-SIR-modeling.html#2.1.4-Short-term-predictions-of-newly-confirmed-cases)",
     "section": "2.1.4 Short term predictions of newly confirmed cases"
    },
    "outputId": "24b19ea3-e000-4bbc-bb24-e8699380f5ca"
   },
   "outputs": [
    {
     "data": {
      "image/png": "[encoded data removed]",
      "text/plain": [
       "<Figure size 864x288 with 1 Axes>"
      ]
     },
     "metadata": {
      "needs_background": "light"
     },
     "output_type": "display_data"
    }
   ],
   "source": [
    "# prediction horizon (days ahead)\n",
    "H = 3\n",
    "\n",
    "# retrospective lag\n",
    "K = 3\n",
    "\n",
    "fig, ax = plt.subplots(1, 1, figsize=(12, 4))\n",
    "for k in range(0, K+1):\n",
    "    # use data up to k days ago\n",
    "    if k > 0:\n",
    "        beta, I_initial = fit_model(df[:-k])\n",
    "        P = max(df[:-k].index) + H\n",
    "        c = 'b'\n",
    "        a = 0.4\n",
    "    else:\n",
    "        beta, I_initial = fit_model(df)\n",
    "        P = max(df.index) + H\n",
    "        c = 'r'\n",
    "        a = 1.0\n",
    "\n",
    "    # simulation\n",
    "    t = np.linspace(0, P, P+1)\n",
    "    S, I, R, U  = solve_model(t, [beta, I_initial])\n",
    "\n",
    "    # plotting\n",
    "    dates = [df[\"date\"][0] + timedelta(days=t) for t in t]\n",
    "    ax.plot(dates, U, c, lw=3, alpha=a)\n",
    "\n",
    "ax.plot(df[\"date\"], df[\"new cases\"], \"r.\", ms=25, label=\"new infections (data)\")\n",
    "ax.xaxis.set_major_locator(mdates.WeekdayLocator(byweekday=mdates.MO))\n",
    "ax.xaxis.set_major_formatter(mdates.DateFormatter(\"%b %d\"))\n",
    "ax.grid(True)\n",
    "ax.set_title(f\"{H} day-ahead predictions of confirmed new cases\");"
   ]
  },
  {
   "cell_type": "code",
   "execution_count": null,
   "metadata": {
    "colab": {},
    "colab_type": "code",
    "executionInfo": {
     "elapsed": 526,
     "status": "aborted",
     "timestamp": 1597709228633,
     "user": {
      "displayName": "Jeffrey Kantor",
      "photoUrl": "https://lh3.googleusercontent.com/a-/AOh14Gg_n8V7bVINy02QRuRgOoMo11Ri7NKU3OUKdC1bkQ=s64",
      "userId": "09038942003589296665"
     },
     "user_tz": 240
    },
    "id": "nkJN6e5mkj-I",
    "nbpages": {
     "level": 2,
     "link": "[2.1.4 Short term predictions of newly confirmed cases](https://jckantor.github.io/CBE40455-2020/02.01-Campus-SIR-modeling.html#2.1.4-Short-term-predictions-of-newly-confirmed-cases)",
     "section": "2.1.4 Short term predictions of newly confirmed cases"
    }
   },
   "outputs": [],
   "source": []
  },
  {
   "cell_type": "markdown",
   "metadata": {},
   "source": [
    "<!--NAVIGATION-->\n",
    "< [2.0 Modeling](https://jckantor.github.io/CBE40455-2020/02.00-Modeling.html) | [Contents](toc.html) | [2.2 Campus SEIR Modeling](https://jckantor.github.io/CBE40455-2020/02.02-Campus-SEIR-modeling.html)<p><a href=\"https://colab.research.google.com/github/jckantor/CBE40455-2020/blob/master/docs/02.01-Campus-SIR-modeling.ipynb\"> <img align=\"left\" src=\"https://colab.research.google.com/assets/colab-badge.svg\" alt=\"Open in Colab\" title=\"Open in Google Colaboratory\"></a><p><a href=\"https://jckantor.github.io/CBE40455-2020/02.01-Campus-SIR-modeling.ipynb\"> <img align=\"left\" src=\"https://img.shields.io/badge/Github-Download-blue.svg\" alt=\"Download\" title=\"Download Notebook\"></a>"
   ]
  }
 ],
 "metadata": {
  "colab": {
   "authorship_tag": "ABX9TyMlC91CUu1UroEDeoXT2chU",
   "collapsed_sections": [],
   "name": "Campus-SIR-modeling.ipynb",
   "provenance": []
  },
  "kernelspec": {
   "display_name": "Python 3",
   "language": "python",
   "name": "python3"
  },
  "language_info": {
   "codemirror_mode": {
    "name": "ipython",
    "version": 3
   },
   "file_extension": ".py",
   "mimetype": "text/x-python",
   "name": "python",
   "nbconvert_exporter": "python",
   "pygments_lexer": "ipython3",
   "version": "3.7.4"
  }
 },
 "nbformat": 4,
 "nbformat_minor": 4
}
