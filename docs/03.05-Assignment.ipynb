{
 "cells": [
  {
   "cell_type": "markdown",
   "metadata": {},
   "source": [
    "<!--NOTEBOOK_HEADER-->\n",
    "*This notebook contains material from [CBE40455-2020](https://jckantor.github.io/CBE40455-2020);\n",
    "content is available [on Github](https://github.com/jckantor/CBE40455-2020.git).*\n"
   ]
  },
  {
   "cell_type": "markdown",
   "metadata": {},
   "source": [
    "<!--NAVIGATION-->\n",
    "< [3.4 Modeling Events](https://jckantor.github.io/CBE40455-2020/03.04-Modeling-Events.html) | [Contents](toc.html) | [3.6 Simulating Queuing Systems](https://jckantor.github.io/CBE40455-2020/03.06-Queuing-Systems-and-Poisson-Processes.html) ><p><a href=\"https://colab.research.google.com/github/jckantor/CBE40455-2020/blob/master/docs/03.05-Assignment.ipynb\"> <img align=\"left\" src=\"https://colab.research.google.com/assets/colab-badge.svg\" alt=\"Open in Colab\" title=\"Open in Google Colaboratory\"></a><p><a href=\"https://jckantor.github.io/CBE40455-2020/03.05-Assignment.ipynb\"> <img align=\"left\" src=\"https://img.shields.io/badge/Github-Download-blue.svg\" alt=\"Download\" title=\"Download Notebook\"></a>"
   ]
  },
  {
   "cell_type": "markdown",
   "metadata": {
    "nbpages": {
     "level": 1,
     "link": "[3.5 Assignment](https://jckantor.github.io/CBE40455-2020/03.05-Assignment.html#3.5-Assignment)",
     "section": "3.5 Assignment"
    }
   },
   "source": [
    "# 3.5 Assignment\n",
    "\n",
    "(to be submitted Thursday, Sept. 3rd)."
   ]
  },
  {
   "cell_type": "markdown",
   "metadata": {
    "nbpages": {
     "level": 2,
     "link": "[3.5.1 Problem Statement ](https://jckantor.github.io/CBE40455-2020/03.05-Assignment.html#3.5.1-Problem-Statement)",
     "section": "3.5.1 Problem Statement "
    }
   },
   "source": [
    "## 3.5.1 Problem Statement \n",
    "\n",
    "The facility has expanded to an average of 100 hours of machine cleaning time are required during the 16 hour overnight shift. The company would like to settle on a single cleaning model rather than servicing five different models. \n",
    "\n",
    "a. Modify the above model to determine the the model (A, B, C, D, or E) and number of devices required to meet the service requirement.\n",
    "\n",
    "b. Modify the above model to include a second process that writes the number of charging stations in use at every minute to a second data log. Prepare a plot and histogram of charging station usage."
   ]
  },
  {
   "cell_type": "markdown",
   "metadata": {
    "nbpages": {
     "level": 2,
     "link": "[3.5.2 Solution](https://jckantor.github.io/CBE40455-2020/03.05-Assignment.html#3.5.2-Solution)",
     "section": "3.5.2 Solution"
    }
   },
   "source": [
    "## 3.5.2 Solution"
   ]
  },
  {
   "cell_type": "markdown",
   "metadata": {
    "nbpages": {
     "level": 3,
     "link": "[3.5.2.1 Preliminaries](https://jckantor.github.io/CBE40455-2020/03.05-Assignment.html#3.5.2.1-Preliminaries)",
     "section": "3.5.2.1 Preliminaries"
    }
   },
   "source": [
    "### 3.5.2.1 Preliminaries"
   ]
  },
  {
   "cell_type": "markdown",
   "metadata": {
    "nbpages": {
     "level": 4,
     "link": "[3.5.2.1.1 Installation, Import, and Setup](https://jckantor.github.io/CBE40455-2020/03.05-Assignment.html#3.5.2.1.1-Installation,-Import,-and-Setup)",
     "section": "3.5.2.1.1 Installation, Import, and Setup"
    }
   },
   "source": [
    "#### 3.5.2.1.1 Installation, Import, and Setup"
   ]
  },
  {
   "cell_type": "code",
   "execution_count": 21,
   "metadata": {
    "nbpages": {
     "level": 4,
     "link": "[3.5.2.1.1 Installation, Import, and Setup](https://jckantor.github.io/CBE40455-2020/03.05-Assignment.html#3.5.2.1.1-Installation,-Import,-and-Setup)",
     "section": "3.5.2.1.1 Installation, Import, and Setup"
    }
   },
   "outputs": [
    {
     "name": "stdout",
     "output_type": "stream",
     "text": [
      "Requirement already satisfied: simpy in /Users/jeff/opt/anaconda3/lib/python3.7/site-packages (4.0.1)\n"
     ]
    }
   ],
   "source": [
    "# necessary installations\n",
    "!pip install simpy\n",
    "\n",
    "# import section\n",
    "import simpy \n",
    "import pandas as pd\n",
    "import numpy as np"
   ]
  },
  {
   "cell_type": "markdown",
   "metadata": {
    "nbpages": {
     "level": 4,
     "link": "[3.5.2.1.2 Data section](https://jckantor.github.io/CBE40455-2020/03.05-Assignment.html#3.5.2.1.2-Data-section)",
     "section": "3.5.2.1.2 Data section"
    }
   },
   "source": [
    "#### 3.5.2.1.2 Data section"
   ]
  },
  {
   "cell_type": "code",
   "execution_count": 22,
   "metadata": {
    "nbpages": {
     "level": 4,
     "link": "[3.5.2.1.2 Data section](https://jckantor.github.io/CBE40455-2020/03.05-Assignment.html#3.5.2.1.2-Data-section)",
     "section": "3.5.2.1.2 Data section"
    }
   },
   "outputs": [
    {
     "data": {
      "text/html": [
       "<div>\n",
       "<style scoped>\n",
       "    .dataframe tbody tr th:only-of-type {\n",
       "        vertical-align: middle;\n",
       "    }\n",
       "\n",
       "    .dataframe tbody tr th {\n",
       "        vertical-align: top;\n",
       "    }\n",
       "\n",
       "    .dataframe thead th {\n",
       "        text-align: right;\n",
       "    }\n",
       "</style>\n",
       "<table border=\"1\" class=\"dataframe\">\n",
       "  <thead>\n",
       "    <tr style=\"text-align: right;\">\n",
       "      <th></th>\n",
       "      <th>id</th>\n",
       "      <th>charge_time</th>\n",
       "      <th>clean_time</th>\n",
       "    </tr>\n",
       "  </thead>\n",
       "  <tbody>\n",
       "    <tr>\n",
       "      <th>0</th>\n",
       "      <td>A</td>\n",
       "      <td>1.0</td>\n",
       "      <td>2.5</td>\n",
       "    </tr>\n",
       "    <tr>\n",
       "      <th>1</th>\n",
       "      <td>B</td>\n",
       "      <td>0.5</td>\n",
       "      <td>1.5</td>\n",
       "    </tr>\n",
       "    <tr>\n",
       "      <th>2</th>\n",
       "      <td>C</td>\n",
       "      <td>0.8</td>\n",
       "      <td>2.0</td>\n",
       "    </tr>\n",
       "    <tr>\n",
       "      <th>3</th>\n",
       "      <td>D</td>\n",
       "      <td>1.4</td>\n",
       "      <td>3.5</td>\n",
       "    </tr>\n",
       "    <tr>\n",
       "      <th>4</th>\n",
       "      <td>E</td>\n",
       "      <td>0.5</td>\n",
       "      <td>1.2</td>\n",
       "    </tr>\n",
       "  </tbody>\n",
       "</table>\n",
       "</div>"
      ],
      "text/plain": [
       "  id  charge_time  clean_time\n",
       "0  A          1.0         2.5\n",
       "1  B          0.5         1.5\n",
       "2  C          0.8         2.0\n",
       "3  D          1.4         3.5\n",
       "4  E          0.5         1.2"
      ]
     },
     "metadata": {},
     "output_type": "display_data"
    }
   ],
   "source": [
    "# data section\n",
    "\n",
    "roomba_data = [\n",
    "    [\"A\", 1.0, 2.5],\n",
    "    [\"B\", 0.5, 1.5],\n",
    "    [\"C\", 0.8, 2.0],\n",
    "    [\"D\", 1.4, 3.5],\n",
    "    [\"E\", 0.5, 1.2],\n",
    "]\n",
    "\n",
    "roomba_df = pd.DataFrame(roomba_data, columns=[\"id\", \"charge_time\", \"clean_time\"])\n",
    "display(roomba_df)"
   ]
  },
  {
   "cell_type": "markdown",
   "metadata": {
    "nbpages": {
     "level": 4,
     "link": "[3.5.2.1.3 Key performance indictors](https://jckantor.github.io/CBE40455-2020/03.05-Assignment.html#3.5.2.1.3-Key-performance-indictors)",
     "section": "3.5.2.1.3 Key performance indictors"
    }
   },
   "source": [
    "#### 3.5.2.1.3 Key performance indictors"
   ]
  },
  {
   "cell_type": "code",
   "execution_count": 23,
   "metadata": {
    "nbpages": {
     "level": 4,
     "link": "[3.5.2.1.3 Key performance indictors](https://jckantor.github.io/CBE40455-2020/03.05-Assignment.html#3.5.2.1.3-Key-performance-indictors)",
     "section": "3.5.2.1.3 Key performance indictors"
    }
   },
   "outputs": [],
   "source": [
    "def kpi(df):\n",
    "    df[\"time\"] = df[\"end\"] - df[\"begin\"]\n",
    "    return pd.pivot_table(df, index=[\"event\"], values=\"time\", aggfunc={\"time\":np.sum} )"
   ]
  },
  {
   "cell_type": "markdown",
   "metadata": {
    "nbpages": {
     "level": 4,
     "link": "[3.5.2.1.4 Gantt charts](https://jckantor.github.io/CBE40455-2020/03.05-Assignment.html#3.5.2.1.4-Gantt-charts)",
     "section": "3.5.2.1.4 Gantt charts"
    }
   },
   "source": [
    "#### 3.5.2.1.4 Gantt charts"
   ]
  },
  {
   "cell_type": "code",
   "execution_count": 24,
   "metadata": {
    "nbpages": {
     "level": 4,
     "link": "[3.5.2.1.4 Gantt charts](https://jckantor.github.io/CBE40455-2020/03.05-Assignment.html#3.5.2.1.4-Gantt-charts)",
     "section": "3.5.2.1.4 Gantt charts"
    }
   },
   "outputs": [],
   "source": [
    "%matplotlib inline\n",
    "import matplotlib.pyplot as plt\n",
    "from matplotlib.lines import Line2D\n",
    "\n",
    "def gantt(df, lw=10):\n",
    "    \n",
    "    # create sorted lists of the unique ids and events appearing in the data log\n",
    "    ids = sorted(list(set(df[\"id\"])))\n",
    "    events = sorted(list(set(df[\"event\"])))\n",
    "    \n",
    "    # create list of unique colors for each event\n",
    "    colors = [f\"C{i}\" for i in range(len(events))]\n",
    "    \n",
    "    # create plot window\n",
    "    fig, ax = plt.subplots(1, 1, figsize=(12, 3))\n",
    "    \n",
    "    # for each event and id, find entries in the data log and plot the begin and end points\n",
    "    for i, event in enumerate(events):\n",
    "        for j, id in enumerate(ids):  \n",
    "            for k in df[(df[\"id\"]==id) & (df[\"event\"]==event)].index:\n",
    "                ax.plot([df[\"begin\"][k], df[\"end\"][k]], [j,j], \n",
    "                        colors[i], solid_capstyle=\"butt\", lw=lw)\n",
    "                \n",
    "    # create legend\n",
    "    lines = [Line2D([0], [0], lw=lw, color=colors[i]) for i in range(len(events))]\n",
    "    ax.legend(lines, events, bbox_to_anchor=(0.0, 1.1), loc=\"lower left\")\n",
    "    \n",
    "    # annotate the axes\n",
    "    ax.set_yticks(range(len(ids)))\n",
    "    ax.set_yticklabels(ids)\n",
    "    ax.grid(True)\n",
    "    ax.set_xlabel(\"Time\")\n",
    "    ax.set_title(\"Gannt Chart\")\n",
    "    for sp in ['top', 'bottom', 'right', 'left']:\n",
    "        ax.spines[sp].set_visible(False)"
   ]
  },
  {
   "cell_type": "markdown",
   "metadata": {
    "nbpages": {
     "level": 3,
     "link": "[3.5.2.2 Which model of Roomba is preferred?](https://jckantor.github.io/CBE40455-2020/03.05-Assignment.html#3.5.2.2-Which-model-of-Roomba-is-preferred?)",
     "section": "3.5.2.2 Which model of Roomba is preferred?"
    }
   },
   "source": [
    "### 3.5.2.2 Which model of Roomba is preferred?"
   ]
  },
  {
   "cell_type": "markdown",
   "metadata": {
    "nbpages": {
     "level": 4,
     "link": "[3.5.2.2.1 Model](https://jckantor.github.io/CBE40455-2020/03.05-Assignment.html#3.5.2.2.1-Model)",
     "section": "3.5.2.2.1 Model"
    }
   },
   "source": [
    "#### 3.5.2.2.1 Model"
   ]
  },
  {
   "cell_type": "code",
   "execution_count": 28,
   "metadata": {
    "nbpages": {
     "level": 4,
     "link": "[3.5.2.2.1 Model](https://jckantor.github.io/CBE40455-2020/03.05-Assignment.html#3.5.2.2.1-Model)",
     "section": "3.5.2.2.1 Model"
    }
   },
   "outputs": [],
   "source": [
    "import random\n",
    "\n",
    "five_min = 5.0/60.0\n",
    "ten_min = 10.0/60.0\n",
    "twenty_min = 20.0/60.0\n",
    "thirty_min = 30.0/60.0\n",
    "\n",
    "def roomba_model(id, charge_time, clean_time, reserve=0.1):\n",
    "    soc = 1.0   # state of charge\n",
    "    sow = 0.0   # state of waste\n",
    "    while True:\n",
    "        if soc > reserve and sow < 1.0:\n",
    "            tic = env.now\n",
    "            yield simpy.AnyOf(env, [env.timeout((soc - reserve) * clean_time), \n",
    "                                           env.timeout((1.0 - sow)*random.uniform(ten_min, thirty_min))])\n",
    "            toc = env.now\n",
    "            soc = max(0.0, soc - (toc - tic)/clean_time)\n",
    "            sow = min(1.0, sow + (toc - tic)/twenty_min)\n",
    "            data_log.append([id, \"cleaning\", tic, toc])\n",
    "        if sow >= 1.0 - 0.001:\n",
    "            with waste_stations.request() as request:\n",
    "                yield request\n",
    "                tic = env.now\n",
    "                yield env.timeout(five_min)\n",
    "                toc = env.now\n",
    "                sow = 0.0\n",
    "                data_log.append([id, \"waste disposal\", tic, toc])\n",
    "        if soc <= reserve+ 0.001:\n",
    "            with chargers.request() as request:\n",
    "                yield request\n",
    "                tic = env.now\n",
    "                yield env.timeout((1 - soc)*charge_time)\n",
    "                toc = env.now\n",
    "                soc = min(1.0, soc + (toc - tic)/charge_time)\n",
    "                data_log.append([id, \"charging\", tic, toc])\n",
    "            "
   ]
  },
  {
   "cell_type": "markdown",
   "metadata": {
    "nbpages": {
     "level": 4,
     "link": "[3.5.2.2.2 Simulation](https://jckantor.github.io/CBE40455-2020/03.05-Assignment.html#3.5.2.2.2-Simulation)",
     "section": "3.5.2.2.2 Simulation"
    }
   },
   "source": [
    "#### 3.5.2.2.2 Simulation\n",
    "\n",
    "Our strategy will be to determine, first, which model can provide 100 hours of cleaning with the fewest units. For this determination we will use an equal number of charging and waste stations. "
   ]
  },
  {
   "cell_type": "code",
   "execution_count": 43,
   "metadata": {
    "nbpages": {
     "level": 4,
     "link": "[3.5.2.2.2 Simulation](https://jckantor.github.io/CBE40455-2020/03.05-Assignment.html#3.5.2.2.2-Simulation)",
     "section": "3.5.2.2.2 Simulation"
    }
   },
   "outputs": [
    {
     "name": "stdout",
     "output_type": "stream",
     "text": [
      "Model  A\n"
     ]
    },
    {
     "data": {
      "text/html": [
       "<div>\n",
       "<style scoped>\n",
       "    .dataframe tbody tr th:only-of-type {\n",
       "        vertical-align: middle;\n",
       "    }\n",
       "\n",
       "    .dataframe tbody tr th {\n",
       "        vertical-align: top;\n",
       "    }\n",
       "\n",
       "    .dataframe thead th {\n",
       "        text-align: right;\n",
       "    }\n",
       "</style>\n",
       "<table border=\"1\" class=\"dataframe\">\n",
       "  <thead>\n",
       "    <tr style=\"text-align: right;\">\n",
       "      <th></th>\n",
       "      <th>time</th>\n",
       "    </tr>\n",
       "    <tr>\n",
       "      <th>event</th>\n",
       "      <th></th>\n",
       "    </tr>\n",
       "  </thead>\n",
       "  <tbody>\n",
       "    <tr>\n",
       "      <th>charging</th>\n",
       "      <td>36.000000</td>\n",
       "    </tr>\n",
       "    <tr>\n",
       "      <th>cleaning</th>\n",
       "      <td>99.893153</td>\n",
       "    </tr>\n",
       "    <tr>\n",
       "      <th>waste disposal</th>\n",
       "      <td>21.833333</td>\n",
       "    </tr>\n",
       "  </tbody>\n",
       "</table>\n",
       "</div>"
      ],
      "text/plain": [
       "                     time\n",
       "event                    \n",
       "charging        36.000000\n",
       "cleaning        99.893153\n",
       "waste disposal  21.833333"
      ]
     },
     "metadata": {},
     "output_type": "display_data"
    },
    {
     "name": "stdout",
     "output_type": "stream",
     "text": [
      "Model  B\n"
     ]
    },
    {
     "data": {
      "text/html": [
       "<div>\n",
       "<style scoped>\n",
       "    .dataframe tbody tr th:only-of-type {\n",
       "        vertical-align: middle;\n",
       "    }\n",
       "\n",
       "    .dataframe tbody tr th {\n",
       "        vertical-align: top;\n",
       "    }\n",
       "\n",
       "    .dataframe thead th {\n",
       "        text-align: right;\n",
       "    }\n",
       "</style>\n",
       "<table border=\"1\" class=\"dataframe\">\n",
       "  <thead>\n",
       "    <tr style=\"text-align: right;\">\n",
       "      <th></th>\n",
       "      <th>time</th>\n",
       "    </tr>\n",
       "    <tr>\n",
       "      <th>event</th>\n",
       "      <th></th>\n",
       "    </tr>\n",
       "  </thead>\n",
       "  <tbody>\n",
       "    <tr>\n",
       "      <th>charging</th>\n",
       "      <td>31.500000</td>\n",
       "    </tr>\n",
       "    <tr>\n",
       "      <th>cleaning</th>\n",
       "      <td>104.283599</td>\n",
       "    </tr>\n",
       "    <tr>\n",
       "      <th>waste disposal</th>\n",
       "      <td>22.916667</td>\n",
       "    </tr>\n",
       "  </tbody>\n",
       "</table>\n",
       "</div>"
      ],
      "text/plain": [
       "                      time\n",
       "event                     \n",
       "charging         31.500000\n",
       "cleaning        104.283599\n",
       "waste disposal   22.916667"
      ]
     },
     "metadata": {},
     "output_type": "display_data"
    },
    {
     "name": "stdout",
     "output_type": "stream",
     "text": [
      "Model  C\n"
     ]
    },
    {
     "data": {
      "text/html": [
       "<div>\n",
       "<style scoped>\n",
       "    .dataframe tbody tr th:only-of-type {\n",
       "        vertical-align: middle;\n",
       "    }\n",
       "\n",
       "    .dataframe tbody tr th {\n",
       "        vertical-align: top;\n",
       "    }\n",
       "\n",
       "    .dataframe thead th {\n",
       "        text-align: right;\n",
       "    }\n",
       "</style>\n",
       "<table border=\"1\" class=\"dataframe\">\n",
       "  <thead>\n",
       "    <tr style=\"text-align: right;\">\n",
       "      <th></th>\n",
       "      <th>time</th>\n",
       "    </tr>\n",
       "    <tr>\n",
       "      <th>event</th>\n",
       "      <th></th>\n",
       "    </tr>\n",
       "  </thead>\n",
       "  <tbody>\n",
       "    <tr>\n",
       "      <th>charging</th>\n",
       "      <td>35.999747</td>\n",
       "    </tr>\n",
       "    <tr>\n",
       "      <th>cleaning</th>\n",
       "      <td>100.389862</td>\n",
       "    </tr>\n",
       "    <tr>\n",
       "      <th>waste disposal</th>\n",
       "      <td>22.083333</td>\n",
       "    </tr>\n",
       "  </tbody>\n",
       "</table>\n",
       "</div>"
      ],
      "text/plain": [
       "                      time\n",
       "event                     \n",
       "charging         35.999747\n",
       "cleaning        100.389862\n",
       "waste disposal   22.083333"
      ]
     },
     "metadata": {},
     "output_type": "display_data"
    },
    {
     "name": "stdout",
     "output_type": "stream",
     "text": [
      "Model  D\n"
     ]
    },
    {
     "data": {
      "text/html": [
       "<div>\n",
       "<style scoped>\n",
       "    .dataframe tbody tr th:only-of-type {\n",
       "        vertical-align: middle;\n",
       "    }\n",
       "\n",
       "    .dataframe tbody tr th {\n",
       "        vertical-align: top;\n",
       "    }\n",
       "\n",
       "    .dataframe thead th {\n",
       "        text-align: right;\n",
       "    }\n",
       "</style>\n",
       "<table border=\"1\" class=\"dataframe\">\n",
       "  <thead>\n",
       "    <tr style=\"text-align: right;\">\n",
       "      <th></th>\n",
       "      <th>time</th>\n",
       "    </tr>\n",
       "    <tr>\n",
       "      <th>event</th>\n",
       "      <th></th>\n",
       "    </tr>\n",
       "  </thead>\n",
       "  <tbody>\n",
       "    <tr>\n",
       "      <th>charging</th>\n",
       "      <td>37.800000</td>\n",
       "    </tr>\n",
       "    <tr>\n",
       "      <th>cleaning</th>\n",
       "      <td>99.179123</td>\n",
       "    </tr>\n",
       "    <tr>\n",
       "      <th>waste disposal</th>\n",
       "      <td>21.250000</td>\n",
       "    </tr>\n",
       "  </tbody>\n",
       "</table>\n",
       "</div>"
      ],
      "text/plain": [
       "                     time\n",
       "event                    \n",
       "charging        37.800000\n",
       "cleaning        99.179123\n",
       "waste disposal  21.250000"
      ]
     },
     "metadata": {},
     "output_type": "display_data"
    },
    {
     "name": "stdout",
     "output_type": "stream",
     "text": [
      "Model  E\n"
     ]
    },
    {
     "data": {
      "text/html": [
       "<div>\n",
       "<style scoped>\n",
       "    .dataframe tbody tr th:only-of-type {\n",
       "        vertical-align: middle;\n",
       "    }\n",
       "\n",
       "    .dataframe tbody tr th {\n",
       "        vertical-align: top;\n",
       "    }\n",
       "\n",
       "    .dataframe thead th {\n",
       "        text-align: right;\n",
       "    }\n",
       "</style>\n",
       "<table border=\"1\" class=\"dataframe\">\n",
       "  <thead>\n",
       "    <tr style=\"text-align: right;\">\n",
       "      <th></th>\n",
       "      <th>time</th>\n",
       "    </tr>\n",
       "    <tr>\n",
       "      <th>event</th>\n",
       "      <th></th>\n",
       "    </tr>\n",
       "  </thead>\n",
       "  <tbody>\n",
       "    <tr>\n",
       "      <th>charging</th>\n",
       "      <td>40.049716</td>\n",
       "    </tr>\n",
       "    <tr>\n",
       "      <th>cleaning</th>\n",
       "      <td>97.295496</td>\n",
       "    </tr>\n",
       "    <tr>\n",
       "      <th>waste disposal</th>\n",
       "      <td>21.666667</td>\n",
       "    </tr>\n",
       "  </tbody>\n",
       "</table>\n",
       "</div>"
      ],
      "text/plain": [
       "                     time\n",
       "event                    \n",
       "charging        40.049716\n",
       "cleaning        97.295496\n",
       "waste disposal  21.666667"
      ]
     },
     "metadata": {},
     "output_type": "display_data"
    }
   ],
   "source": [
    "N = 10\n",
    "\n",
    "for r in roomba_df.index:\n",
    "    \n",
    "    data_log = []\n",
    "\n",
    "    env = simpy.Environment()\n",
    "    chargers = simpy.Resource(env, capacity=N)\n",
    "    waste_stations = simpy.Resource(env, capacity=N)\n",
    "    for k in range(N):\n",
    "        env.process(roomba_model(roomba_df[\"id\"][r] + str(k), roomba_df[\"charge_time\"][r], roomba_df[\"clean_time\"][r]))\n",
    "    env.run(until=16)\n",
    "\n",
    "    df = pd.DataFrame(data_log, columns=[\"id\", \"event\", \"begin\", \"end\"])\n",
    "    print(\"Model \", roomba_df[\"id\"][r])\n",
    "    display(kpi(df))\n",
    "    #gantt(df)"
   ]
  },
  {
   "cell_type": "markdown",
   "metadata": {
    "nbpages": {
     "level": 4,
     "link": "[3.5.2.2.2 Simulation](https://jckantor.github.io/CBE40455-2020/03.05-Assignment.html#3.5.2.2.2-Simulation)",
     "section": "3.5.2.2.2 Simulation"
    }
   },
   "source": [
    "Both models B and C can meet the 100 specification with 10 units, but model B has a clear advantage. So will continue the analysis with model B. Next determine the minimum number of charging and waste stations while still meeting the 100 hour requirement."
   ]
  },
  {
   "cell_type": "code",
   "execution_count": null,
   "metadata": {
    "nbpages": {
     "level": 4,
     "link": "[3.5.2.2.2 Simulation](https://jckantor.github.io/CBE40455-2020/03.05-Assignment.html#3.5.2.2.2-Simulation)",
     "section": "3.5.2.2.2 Simulation"
    }
   },
   "outputs": [],
   "source": []
  },
  {
   "cell_type": "markdown",
   "metadata": {
    "nbpages": {
     "level": 3,
     "link": "[3.5.2.3 Charging station analysis](https://jckantor.github.io/CBE40455-2020/03.05-Assignment.html#3.5.2.3-Charging-station-analysis)",
     "section": "3.5.2.3 Charging station analysis"
    }
   },
   "source": [
    "### 3.5.2.3 Charging station analysis"
   ]
  },
  {
   "cell_type": "markdown",
   "metadata": {
    "nbpages": {
     "level": 4,
     "link": "[3.5.2.3.1 Modell](https://jckantor.github.io/CBE40455-2020/03.05-Assignment.html#3.5.2.3.1-Modell)",
     "section": "3.5.2.3.1 Modell"
    }
   },
   "source": [
    "#### 3.5.2.3.1 Modell"
   ]
  },
  {
   "cell_type": "code",
   "execution_count": 42,
   "metadata": {
    "nbpages": {
     "level": 4,
     "link": "[3.5.2.3.1 Modell](https://jckantor.github.io/CBE40455-2020/03.05-Assignment.html#3.5.2.3.1-Modell)",
     "section": "3.5.2.3.1 Modell"
    }
   },
   "outputs": [],
   "source": [
    "import random\n",
    "\n",
    "five_min = 5.0/60.0\n",
    "ten_min = 10.0/60.0\n",
    "twenty_min = 20.0/60.0\n",
    "thirty_min = 30.0/60.0\n",
    "\n",
    "def roomba_model(id, charge_time, clean_time, reserve=0.1):\n",
    "    soc = 1.0   # state of charge\n",
    "    sow = 0.0   # state of waste\n",
    "    while True:\n",
    "        if soc > reserve and sow < 1.0:\n",
    "            tic = env.now\n",
    "            yield simpy.AnyOf(env, [env.timeout((soc - reserve) * clean_time), \n",
    "                                           env.timeout((1.0 - sow)*random.uniform(ten_min, thirty_min))])\n",
    "            toc = env.now\n",
    "            soc = max(0.0, soc - (toc - tic)/clean_time)\n",
    "            sow = min(1.0, sow + (toc - tic)/twenty_min)\n",
    "            data_log.append([id, \"cleaning\", tic, toc])\n",
    "        if sow >= 1.0 - 0.001:\n",
    "            with waste_stations.request() as request:\n",
    "                yield request\n",
    "                tic = env.now\n",
    "                yield env.timeout(five_min)\n",
    "                toc = env.now\n",
    "                sow = 0.0\n",
    "                data_log.append([id, \"waste disposal\", tic, toc])\n",
    "        if soc <= reserve+ 0.001:\n",
    "            with chargers.request() as request:\n",
    "                yield request\n",
    "                tic = env.now\n",
    "                charger_log.append([chargers.count, tic])\n",
    "                yield env.timeout((1 - soc)*charge_time)\n",
    "                toc = env.now\n",
    "                soc = min(1.0, soc + (toc - tic)/charge_time)\n",
    "                data_log.append([id, \"charging\", tic, toc])\n",
    "            charger_log.append([chargers.count, toc])\n",
    "            "
   ]
  },
  {
   "cell_type": "code",
   "execution_count": 26,
   "metadata": {
    "nbpages": {
     "level": 4,
     "link": "[3.5.2.3.1 Modell](https://jckantor.github.io/CBE40455-2020/03.05-Assignment.html#3.5.2.3.1-Modell)",
     "section": "3.5.2.3.1 Modell"
    }
   },
   "outputs": [
    {
     "data": {
      "text/html": [
       "<div>\n",
       "<style scoped>\n",
       "    .dataframe tbody tr th:only-of-type {\n",
       "        vertical-align: middle;\n",
       "    }\n",
       "\n",
       "    .dataframe tbody tr th {\n",
       "        vertical-align: top;\n",
       "    }\n",
       "\n",
       "    .dataframe thead th {\n",
       "        text-align: right;\n",
       "    }\n",
       "</style>\n",
       "<table border=\"1\" class=\"dataframe\">\n",
       "  <thead>\n",
       "    <tr style=\"text-align: right;\">\n",
       "      <th></th>\n",
       "      <th>time</th>\n",
       "    </tr>\n",
       "    <tr>\n",
       "      <th>event</th>\n",
       "      <th></th>\n",
       "    </tr>\n",
       "  </thead>\n",
       "  <tbody>\n",
       "    <tr>\n",
       "      <th>charging</th>\n",
       "      <td>18.180000</td>\n",
       "    </tr>\n",
       "    <tr>\n",
       "      <th>cleaning</th>\n",
       "      <td>50.115622</td>\n",
       "    </tr>\n",
       "    <tr>\n",
       "      <th>waste disposal</th>\n",
       "      <td>10.916667</td>\n",
       "    </tr>\n",
       "  </tbody>\n",
       "</table>\n",
       "</div>"
      ],
      "text/plain": [
       "                     time\n",
       "event                    \n",
       "charging        18.180000\n",
       "cleaning        50.115622\n",
       "waste disposal  10.916667"
      ]
     },
     "metadata": {},
     "output_type": "display_data"
    },
    {
     "data": {
      "image/png": "[encoded data removed]",
      "text/plain": [
       "<Figure size 864x216 with 1 Axes>"
      ]
     },
     "metadata": {
      "needs_background": "light"
     },
     "output_type": "display_data"
    }
   ],
   "source": [
    "data_log = []\n",
    "charger_log = [[0, 0]]\n",
    "\n",
    "env = simpy.Environment()\n",
    "chargers = simpy.Resource(env, capacity=5)\n",
    "waste_stations = simpy.Resource(env, capacity=2)\n",
    "for r in roomba_df.index:\n",
    "    env.process(roomba_model(roomba_df[\"id\"][r], roomba_df[\"charge_time\"][r], roomba_df[\"clean_time\"][r]))\n",
    "env.run(until=16)\n",
    "\n",
    "df = pd.DataFrame(data_log, columns=[\"id\", \"event\", \"begin\", \"end\"])\n",
    "display(kpi(df))\n",
    "gantt(df)"
   ]
  },
  {
   "cell_type": "code",
   "execution_count": 54,
   "metadata": {
    "nbpages": {
     "level": 4,
     "link": "[3.5.2.3.1 Modell](https://jckantor.github.io/CBE40455-2020/03.05-Assignment.html#3.5.2.3.1-Modell)",
     "section": "3.5.2.3.1 Modell"
    }
   },
   "outputs": [
    {
     "data": {
      "text/plain": [
       "[<matplotlib.lines.Line2D at 0x7fa7163e88d0>]"
      ]
     },
     "execution_count": 54,
     "metadata": {},
     "output_type": "execute_result"
    },
    {
     "data": {
      "image/png": "[encoded data removed]",
      "text/plain": [
       "<Figure size 432x288 with 1 Axes>"
      ]
     },
     "metadata": {
      "needs_background": "light"
     },
     "output_type": "display_data"
    }
   ],
   "source": [
    "charger_df = pd.DataFrame(charger_log, columns=[\"count\", \"time\"])\n",
    "plt.step(charger_df[\"time\"], charger_df[\"count\"], where='post')"
   ]
  },
  {
   "cell_type": "code",
   "execution_count": 55,
   "metadata": {
    "nbpages": {
     "level": 4,
     "link": "[3.5.2.3.1 Modell](https://jckantor.github.io/CBE40455-2020/03.05-Assignment.html#3.5.2.3.1-Modell)",
     "section": "3.5.2.3.1 Modell"
    }
   },
   "outputs": [
    {
     "data": {
      "text/plain": [
       "(array([11.,  0., 22.,  0.,  0., 14.,  0.,  6.,  0.,  3.]),\n",
       " array([0. , 0.4, 0.8, 1.2, 1.6, 2. , 2.4, 2.8, 3.2, 3.6, 4. ]),\n",
       " <a list of 10 Patch objects>)"
      ]
     },
     "execution_count": 55,
     "metadata": {},
     "output_type": "execute_result"
    },
    {
     "data": {
      "image/png": "[encoded data removed]",
      "text/plain": [
       "<Figure size 432x288 with 1 Axes>"
      ]
     },
     "metadata": {
      "needs_background": "light"
     },
     "output_type": "display_data"
    }
   ],
   "source": [
    "plt.hist(charger_df[\"count\"])"
   ]
  },
  {
   "cell_type": "code",
   "execution_count": null,
   "metadata": {
    "nbpages": {
     "level": 4,
     "link": "[3.5.2.3.1 Modell](https://jckantor.github.io/CBE40455-2020/03.05-Assignment.html#3.5.2.3.1-Modell)",
     "section": "3.5.2.3.1 Modell"
    }
   },
   "outputs": [],
   "source": []
  },
  {
   "cell_type": "markdown",
   "metadata": {},
   "source": [
    "<!--NAVIGATION-->\n",
    "< [3.4 Modeling Events](https://jckantor.github.io/CBE40455-2020/03.04-Modeling-Events.html) | [Contents](toc.html) | [3.6 Simulating Queuing Systems](https://jckantor.github.io/CBE40455-2020/03.06-Queuing-Systems-and-Poisson-Processes.html) ><p><a href=\"https://colab.research.google.com/github/jckantor/CBE40455-2020/blob/master/docs/03.05-Assignment.ipynb\"> <img align=\"left\" src=\"https://colab.research.google.com/assets/colab-badge.svg\" alt=\"Open in Colab\" title=\"Open in Google Colaboratory\"></a><p><a href=\"https://jckantor.github.io/CBE40455-2020/03.05-Assignment.ipynb\"> <img align=\"left\" src=\"https://img.shields.io/badge/Github-Download-blue.svg\" alt=\"Download\" title=\"Download Notebook\"></a>"
   ]
  }
 ],
 "metadata": {
  "kernelspec": {
   "display_name": "Python 3",
   "language": "python",
   "name": "python3"
  },
  "language_info": {
   "codemirror_mode": {
    "name": "ipython",
    "version": 3
   },
   "file_extension": ".py",
   "mimetype": "text/x-python",
   "name": "python",
   "nbconvert_exporter": "python",
   "pygments_lexer": "ipython3",
   "version": "3.7.4"
  }
 },
 "nbformat": 4,
 "nbformat_minor": 4
}
