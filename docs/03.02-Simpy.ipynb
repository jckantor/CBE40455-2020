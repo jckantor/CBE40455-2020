{
 "cells": [
  {
   "cell_type": "markdown",
   "metadata": {},
   "source": [
    "<!--NOTEBOOK_HEADER-->\n",
    "*This notebook contains material from [CBE40455-2020](https://jckantor.github.io/CBE40455-2020);\n",
    "content is available [on Github](https://github.com/jckantor/CBE40455-2020.git).*\n"
   ]
  },
  {
   "cell_type": "markdown",
   "metadata": {},
   "source": [
    "<!--NAVIGATION-->\n",
    "< [3.1 Python Generators](https://jckantor.github.io/CBE40455-2020/03.01-Python-Generators.html) | [Contents](toc.html) | [3.10 Agent based model for control of COVID-19 on a college campus](https://jckantor.github.io/CBE40455-2020/03.10-Agent-based-campus-covid-model.html)<p><a href=\"https://colab.research.google.com/github/jckantor/CBE40455-2020/blob/master/docs/03.02-Simpy.ipynb\"> <img align=\"left\" src=\"https://colab.research.google.com/assets/colab-badge.svg\" alt=\"Open in Colab\" title=\"Open in Google Colaboratory\"></a><p><a href=\"https://jckantor.github.io/CBE40455-2020/03.02-Simpy.ipynb\"> <img align=\"left\" src=\"https://img.shields.io/badge/Github-Download-blue.svg\" alt=\"Download\" title=\"Download Notebook\"></a>"
   ]
  },
  {
   "cell_type": "markdown",
   "metadata": {
    "nbpages": {
     "level": 1,
     "link": "[3.2 Simpy](https://jckantor.github.io/CBE40455-2020/03.02-Simpy.html#3.2-Simpy)",
     "section": "3.2 Simpy"
    }
   },
   "source": [
    "# 3.2 Simpy"
   ]
  },
  {
   "cell_type": "code",
   "execution_count": 2,
   "metadata": {
    "nbpages": {
     "level": 1,
     "link": "[3.2 Simpy](https://jckantor.github.io/CBE40455-2020/03.02-Simpy.html#3.2-Simpy)",
     "section": "3.2 Simpy"
    }
   },
   "outputs": [
    {
     "name": "stdout",
     "output_type": "stream",
     "text": [
      "Requirement already satisfied: simpy in /Users/jeff/opt/anaconda3/lib/python3.7/site-packages (4.0.1)\n"
     ]
    }
   ],
   "source": [
    "!pip install simpy"
   ]
  },
  {
   "cell_type": "markdown",
   "metadata": {
    "nbpages": {
     "level": 2,
     "link": "[3.2.1 Simplest possible Simpy model](https://jckantor.github.io/CBE40455-2020/03.02-Simpy.html#3.2.1-Simplest-possible-Simpy-model)",
     "section": "3.2.1 Simplest possible Simpy model"
    }
   },
   "source": [
    "## 3.2.1 Simplest possible Simpy model\n",
    "\n",
    "Simpy implements a simulation Environment() object that schedules all of the events and processing that occurs when building complex models. The simplest possible Simpy model is one that creates an environment and runs it for a known simulation period."
   ]
  },
  {
   "cell_type": "code",
   "execution_count": 11,
   "metadata": {
    "nbpages": {
     "level": 2,
     "link": "[3.2.1 Simplest possible Simpy model](https://jckantor.github.io/CBE40455-2020/03.02-Simpy.html#3.2.1-Simplest-possible-Simpy-model)",
     "section": "3.2.1 Simplest possible Simpy model"
    }
   },
   "outputs": [],
   "source": [
    "import simpy\n",
    "\n",
    "env = simpy.Environment()\n",
    "env.run()"
   ]
  },
  {
   "cell_type": "markdown",
   "metadata": {
    "nbpages": {
     "level": 2,
     "link": "[3.2.1 Simplest possible Simpy model](https://jckantor.github.io/CBE40455-2020/03.02-Simpy.html#3.2.1-Simplest-possible-Simpy-model)",
     "section": "3.2.1 Simplest possible Simpy model"
    }
   },
   "source": [
    "Simpy models are implemented as in the form of Python generators that yield Simpy events. The environment's `timeout(t)` event is one that you will use in many models. In Simpy, the statement\n",
    "\n",
    "    yield env.timeout(t)\n",
    "    \n",
    "returns control for a simulated time period of length `t`.  You need to register each generator"
   ]
  },
  {
   "cell_type": "code",
   "execution_count": 14,
   "metadata": {
    "nbpages": {
     "level": 2,
     "link": "[3.2.1 Simplest possible Simpy model](https://jckantor.github.io/CBE40455-2020/03.02-Simpy.html#3.2.1-Simplest-possible-Simpy-model)",
     "section": "3.2.1 Simplest possible Simpy model"
    }
   },
   "outputs": [
    {
     "name": "stdout",
     "output_type": "stream",
     "text": [
      "time = 0\n",
      "time = 1\n"
     ]
    }
   ],
   "source": [
    "import simpy\n",
    "\n",
    "def mymodel():\n",
    "    print(\"time =\", env.now)          # print current time in the simulation\n",
    "    yield env.timeout(1)              # take a time out of 1 time unit\n",
    "    print(\"time =\", env.now)          # print current time in the simulation\n",
    "\n",
    "model = mymodel()                     # create an instance of the generator\n",
    "\n",
    "env = simpy.Environment()             # create the simulation environment\n",
    "env.process(model)                    # tell the simulation environment which generators to process\n",
    "env.run()                             # run the simulation"
   ]
  },
  {
   "cell_type": "markdown",
   "metadata": {
    "nbpages": {
     "level": 2,
     "link": "[3.2.1 Simplest possible Simpy model](https://jckantor.github.io/CBE40455-2020/03.02-Simpy.html#3.2.1-Simplest-possible-Simpy-model)",
     "section": "3.2.1 Simplest possible Simpy model"
    }
   },
   "source": [
    "Simulations usually include multiple generators"
   ]
  },
  {
   "cell_type": "code",
   "execution_count": 16,
   "metadata": {
    "nbpages": {
     "level": 2,
     "link": "[3.2.1 Simplest possible Simpy model](https://jckantor.github.io/CBE40455-2020/03.02-Simpy.html#3.2.1-Simplest-possible-Simpy-model)",
     "section": "3.2.1 Simplest possible Simpy model"
    }
   },
   "outputs": [
    {
     "name": "stdout",
     "output_type": "stream",
     "text": [
      "time = 0\n",
      "time = 0\n",
      "time = 2.4\n",
      "time = 3\n"
     ]
    }
   ],
   "source": [
    "import simpy\n",
    "\n",
    "def mymodel(dt):\n",
    "    print(\"time =\", env.now)          # print current time in the simulation\n",
    "    yield env.timeout(dt)             # take a time out of dt time unit\n",
    "    print(\"time =\", env.now)          # print current time in the simulation\n",
    "    \n",
    "modelA = mymodel(3)\n",
    "modelB = mymodel(2.4)\n",
    "\n",
    "env = simpy.Environment()             # create the simulation environment\n",
    "env.process(modelA)                   # tell the simulation environment which generators to process\n",
    "env.process(modelB)                   # tell the simulation environment which generators to process\n",
    "env.run()                             # run the simulation"
   ]
  },
  {
   "cell_type": "markdown",
   "metadata": {
    "nbpages": {
     "level": 2,
     "link": "[3.2.1 Simplest possible Simpy model](https://jckantor.github.io/CBE40455-2020/03.02-Simpy.html#3.2.1-Simplest-possible-Simpy-model)",
     "section": "3.2.1 Simplest possible Simpy model"
    }
   },
   "source": [
    "**Exercise**: Add a name to identify each process."
   ]
  },
  {
   "cell_type": "code",
   "execution_count": 17,
   "metadata": {
    "nbpages": {
     "level": 2,
     "link": "[3.2.1 Simplest possible Simpy model](https://jckantor.github.io/CBE40455-2020/03.02-Simpy.html#3.2.1-Simplest-possible-Simpy-model)",
     "section": "3.2.1 Simplest possible Simpy model"
    }
   },
   "outputs": [],
   "source": [
    "# modify the previous cell to add a unique name for each process."
   ]
  },
  {
   "cell_type": "markdown",
   "metadata": {
    "nbpages": {
     "level": 3,
     "link": "[3.2.1.1 Simpy models are about events](https://jckantor.github.io/CBE40455-2020/03.02-Simpy.html#3.2.1.1-Simpy-models-are-about-events)",
     "section": "3.2.1.1 Simpy models are about events"
    }
   },
   "source": [
    "### 3.2.1.1 Simpy models are about events"
   ]
  },
  {
   "cell_type": "markdown",
   "metadata": {
    "nbpages": {
     "level": 3,
     "link": "[3.2.1.1 Simpy models are about events](https://jckantor.github.io/CBE40455-2020/03.02-Simpy.html#3.2.1.1-Simpy-models-are-about-events)",
     "section": "3.2.1.1 Simpy models are about events"
    }
   },
   "source": [
    "In Simpy, `env.timeout(t)` refers to an event. A timeout event tells the simulation environment to come back to me in a point `t` time units in the future.  A simulation runs until it runs until there are no more events to process."
   ]
  },
  {
   "cell_type": "code",
   "execution_count": 26,
   "metadata": {
    "nbpages": {
     "level": 3,
     "link": "[3.2.1.1 Simpy models are about events](https://jckantor.github.io/CBE40455-2020/03.02-Simpy.html#3.2.1.1-Simpy-models-are-about-events)",
     "section": "3.2.1.1 Simpy models are about events"
    }
   },
   "outputs": [
    {
     "name": "stdout",
     "output_type": "stream",
     "text": [
      "A time = 0\n",
      "B time = 0\n",
      "A time = 1.0\n",
      "A time = 2.0\n",
      "B time = 2.1\n",
      "A time = 3.0\n",
      "A time = 4.0\n",
      "B time = 4.2\n",
      "A time = 5.0\n",
      "A time = 6.0\n",
      "B time = 6.300000000000001\n",
      "A time = 7.0\n",
      "A time = 8.0\n",
      "B time = 8.4\n",
      "A time = 9.0\n"
     ]
    }
   ],
   "source": [
    "import simpy\n",
    "\n",
    "def clock_model(name, dt):\n",
    "    t = 0.0\n",
    "    while t < 10.0:\n",
    "        print(name, \"time =\", env.now)\n",
    "        yield env.timeout(dt)\n",
    "        t = t + dt\n",
    "\n",
    "env = simpy.Environment()\n",
    "\n",
    "env.process(clock_model(\"A\", 1.0))\n",
    "env.process(clock_model(\"B\", 2.1))\n",
    "env.run()"
   ]
  },
  {
   "cell_type": "markdown",
   "metadata": {
    "nbpages": {
     "level": 3,
     "link": "[3.2.1.1 Simpy models are about events](https://jckantor.github.io/CBE40455-2020/03.02-Simpy.html#3.2.1.1-Simpy-models-are-about-events)",
     "section": "3.2.1.1 Simpy models are about events"
    }
   },
   "source": [
    "Another way to end a simulation is use the `until` parameter in `env.run()`"
   ]
  },
  {
   "cell_type": "code",
   "execution_count": 27,
   "metadata": {
    "nbpages": {
     "level": 3,
     "link": "[3.2.1.1 Simpy models are about events](https://jckantor.github.io/CBE40455-2020/03.02-Simpy.html#3.2.1.1-Simpy-models-are-about-events)",
     "section": "3.2.1.1 Simpy models are about events"
    }
   },
   "outputs": [
    {
     "name": "stdout",
     "output_type": "stream",
     "text": [
      "A time = 0\n",
      "B time = 0\n",
      "A time = 1.0\n",
      "A time = 2.0\n",
      "B time = 2.1\n",
      "A time = 3.0\n",
      "A time = 4.0\n",
      "B time = 4.2\n",
      "A time = 5.0\n",
      "A time = 6.0\n",
      "B time = 6.300000000000001\n",
      "A time = 7.0\n",
      "A time = 8.0\n",
      "B time = 8.4\n",
      "A time = 9.0\n"
     ]
    }
   ],
   "source": [
    "import simpy\n",
    "\n",
    "def clock_model(name, dt):\n",
    "    t = 0.0\n",
    "    while True:\n",
    "        print(name, \"time =\", env.now)\n",
    "        yield env.timeout(dt)\n",
    "        t = t + dt\n",
    "\n",
    "env = simpy.Environment()\n",
    "\n",
    "env.process(clock_model(\"A\", 1.0))\n",
    "env.process(clock_model(\"B\", 2.1))\n",
    "env.run(until=10)"
   ]
  },
  {
   "cell_type": "markdown",
   "metadata": {
    "nbpages": {
     "level": 2,
     "link": "[3.2.2 Exercise](https://jckantor.github.io/CBE40455-2020/03.02-Simpy.html#3.2.2-Exercise)",
     "section": "3.2.2 Exercise"
    }
   },
   "source": [
    "## 3.2.2 Exercise\n",
    "\n",
    "Write a Python generator that simulates the response of a differential equation describing concentration in a stirred tank reactor.\n",
    "\n",
    "$$\\frac{dC}{dt} = -k C + q(t)$$\n",
    "\n",
    "where k = 1.0,  C(0) = 1.0 and q(t) = 0.5. Use Euler's approximation."
   ]
  },
  {
   "cell_type": "code",
   "execution_count": 65,
   "metadata": {
    "nbpages": {
     "level": 2,
     "link": "[3.2.2 Exercise](https://jckantor.github.io/CBE40455-2020/03.02-Simpy.html#3.2.2-Exercise)",
     "section": "3.2.2 Exercise"
    }
   },
   "outputs": [
    {
     "name": "stdout",
     "output_type": "stream",
     "text": [
      "0 1.0\n",
      "0.1 0.95\n",
      "0.2 0.91\n",
      "0.3 0.86\n",
      "0.4 0.83\n",
      "0.5 0.8\n",
      "0.6 0.77\n",
      "0.7 0.74\n",
      "0.8 0.72\n",
      "0.9 0.69\n",
      "1.0 0.67\n",
      "1.1 0.66\n",
      "1.2 0.64\n",
      "1.3 0.63\n",
      "1.4 0.61\n",
      "1.5 0.6\n",
      "1.6 0.59\n",
      "1.7 0.58\n",
      "1.8 0.58\n",
      "1.9 0.57\n",
      "2.0 0.56\n",
      "2.1 0.55\n",
      "2.2 0.55\n",
      "2.3 0.54\n",
      "2.4 0.54\n",
      "2.5 0.54\n",
      "2.6 0.53\n",
      "2.7 0.53\n",
      "2.8 0.53\n",
      "2.9 0.52\n",
      "3.0 0.52\n",
      "3.1 0.52\n",
      "3.2 0.52\n",
      "3.3 0.52\n",
      "3.4 0.51\n",
      "3.5 0.51\n",
      "3.6 0.51\n",
      "3.7 0.51\n",
      "3.8 0.51\n",
      "3.9 0.51\n",
      "4.0 0.51\n",
      "4.1 0.51\n",
      "4.2 0.51\n",
      "4.3 0.51\n",
      "4.4 0.5\n",
      "4.5 0.5\n",
      "4.6 0.5\n",
      "4.7 0.5\n",
      "4.8 0.5\n",
      "4.9 0.5\n",
      "5.0 0.5\n"
     ]
    }
   ],
   "source": [
    "import simpy\n",
    "\n",
    "q = 0.5\n",
    "\n",
    "def reactor(dt, k):\n",
    "    C = 1.0\n",
    "    while True:\n",
    "        print(round(env.now, 2), round(C, 2))\n",
    "        yield env.timeout(dt)\n",
    "        C = C - k*dt*C + q*dt\n",
    "        \n",
    "env = simpy.Environment()\n",
    "env.process(reactor(0.1, 1.0))\n",
    "env.run(until=5)"
   ]
  },
  {
   "cell_type": "markdown",
   "metadata": {
    "nbpages": {
     "level": 2,
     "link": "[3.2.3 Monitoring](https://jckantor.github.io/CBE40455-2020/03.02-Simpy.html#3.2.3-Monitoring)",
     "section": "3.2.3 Monitoring"
    }
   },
   "source": [
    "## 3.2.3 Monitoring\n",
    "\n",
    "The purpose of simulation is to gather information on systems behave. For that  purpose, we need to monitor. An easy way to do this is to append data to a log."
   ]
  },
  {
   "cell_type": "code",
   "execution_count": 30,
   "metadata": {
    "nbpages": {
     "level": 2,
     "link": "[3.2.3 Monitoring](https://jckantor.github.io/CBE40455-2020/03.02-Simpy.html#3.2.3-Monitoring)",
     "section": "3.2.3 Monitoring"
    }
   },
   "outputs": [
    {
     "data": {
      "text/plain": [
       "[<matplotlib.lines.Line2D at 0x7fd0d4d92a10>]"
      ]
     },
     "execution_count": 30,
     "metadata": {},
     "output_type": "execute_result"
    },
    {
     "data": {
      "image/png": "[encoded data removed]",
      "text/plain": [
       "<Figure size 432x288 with 1 Axes>"
      ]
     },
     "metadata": {
      "needs_background": "light"
     },
     "output_type": "display_data"
    }
   ],
   "source": [
    "import simpy\n",
    "import numpy as np\n",
    "import matplotlib.pyplot as plt\n",
    "\n",
    "q = 0.5\n",
    "\n",
    "data_log = []\n",
    "\n",
    "def reactor(dt, k):\n",
    "    C = 1.0\n",
    "    while True:\n",
    "        data_log.append([env.now, C])\n",
    "        yield env.timeout(dt)\n",
    "        C = C - k*dt*C + q*dt\n",
    "        \n",
    "env = simpy.Environment()\n",
    "env.process(reactor(0.1, 1.0))\n",
    "env.run(until=5)\n",
    "\n",
    "data =  np.array(data_log)\n",
    "plt.plot(data[:,0], data[:,1])"
   ]
  },
  {
   "cell_type": "markdown",
   "metadata": {
    "nbpages": {
     "level": 2,
     "link": "[3.2.4 Creating Events](https://jckantor.github.io/CBE40455-2020/03.02-Simpy.html#3.2.4-Creating-Events)",
     "section": "3.2.4 Creating Events"
    }
   },
   "source": [
    "## 3.2.4 Creating Events"
   ]
  },
  {
   "cell_type": "code",
   "execution_count": 35,
   "metadata": {
    "nbpages": {
     "level": 2,
     "link": "[3.2.4 Creating Events](https://jckantor.github.io/CBE40455-2020/03.02-Simpy.html#3.2.4-Creating-Events)",
     "section": "3.2.4 Creating Events"
    }
   },
   "outputs": [
    {
     "name": "stdout",
     "output_type": "stream",
     "text": [
      "Start Reactor\n"
     ]
    },
    {
     "data": {
      "text/plain": [
       "[<matplotlib.lines.Line2D at 0x7fd0d4e75f90>]"
      ]
     },
     "execution_count": 35,
     "metadata": {},
     "output_type": "execute_result"
    },
    {
     "data": {
      "image/png": "[encoded data removed]",
      "text/plain": [
       "<Figure size 432x288 with 1 Axes>"
      ]
     },
     "metadata": {
      "needs_background": "light"
     },
     "output_type": "display_data"
    }
   ],
   "source": [
    "import simpy\n",
    "import numpy as np\n",
    "import matplotlib.pyplot as plt\n",
    "\n",
    "q = 0.5\n",
    "\n",
    "data_log = []\n",
    "\n",
    "def startup():\n",
    "    yield env.timeout(10)\n",
    "    print(\"Start Reactor\")\n",
    "    start_reactor.succeed()\n",
    "\n",
    "def reactor(dt, k):\n",
    "    yield start_reactor\n",
    "    C = 1.0\n",
    "    while True:\n",
    "        data_log.append([env.now, C])\n",
    "        yield env.timeout(dt)\n",
    "        C = C - k*dt*C + q*dt\n",
    "        \n",
    "env = simpy.Environment()\n",
    "start_reactor = env.event()\n",
    "env.process(startup())\n",
    "env.process(reactor(0.1, 1.0))\n",
    "env.run(until=20)\n",
    "\n",
    "data =  np.array(data_log)\n",
    "plt.plot(data[:,0], data[:,1])"
   ]
  },
  {
   "cell_type": "markdown",
   "metadata": {
    "nbpages": {
     "level": 2,
     "link": "[3.2.5 Modeling COVID](https://jckantor.github.io/CBE40455-2020/03.02-Simpy.html#3.2.5-Modeling-COVID)",
     "section": "3.2.5 Modeling COVID"
    }
   },
   "source": [
    "## 3.2.5 Modeling COVID"
   ]
  },
  {
   "cell_type": "markdown",
   "metadata": {
    "nbpages": {
     "level": 2,
     "link": "[3.2.5 Modeling COVID](https://jckantor.github.io/CBE40455-2020/03.02-Simpy.html#3.2.5-Modeling-COVID)",
     "section": "3.2.5 Modeling COVID"
    }
   },
   "source": [
    "\n",
    "$$\\text{Susceptible}\n",
    "\\xrightarrow {\\frac{\\beta S I}{N}} \n",
    "\\text{Exposed} \n",
    "\\xrightarrow{\\alpha E} \n",
    "\\text{Infectious} \n",
    "\\xrightarrow{\\gamma I} \n",
    "\\text{Recovered} $$\n"
   ]
  },
  {
   "cell_type": "code",
   "execution_count": 36,
   "metadata": {
    "nbpages": {
     "level": 2,
     "link": "[3.2.5 Modeling COVID](https://jckantor.github.io/CBE40455-2020/03.02-Simpy.html#3.2.5-Modeling-COVID)",
     "section": "3.2.5 Modeling COVID"
    }
   },
   "outputs": [],
   "source": [
    "import simpy\n",
    "\n",
    "N = 20\n",
    "\n",
    "data_log = [[]]\n",
    "\n",
    "def infect():\n",
    "    k = 0\n",
    "    while k <= N:\n",
    "        yield env.timeout(1)\n",
    "        infect_person[k].succeed()\n",
    "        k = k + 1\n",
    "        \n",
    "def person(id):\n",
    "    yield infect_person[id]\n",
    "    print(id, \"infected at time\", env.now)\n",
    "    \n",
    "env = simpy.Environment()\n",
    "\n",
    "population = [person(k) for k in range(N)]\n",
    "infect_person = [env.event() for k in range(N)]\n",
    "\n",
    "env.process(infect)\n"
   ]
  },
  {
   "cell_type": "markdown",
   "metadata": {
    "nbpages": {
     "level": 3,
     "link": "[3.2.5.1 Modeling with Python Classes](https://jckantor.github.io/CBE40455-2020/03.02-Simpy.html#3.2.5.1-Modeling-with-Python-Classes)",
     "section": "3.2.5.1 Modeling with Python Classes"
    }
   },
   "source": [
    "### 3.2.5.1 Modeling with Python Classes\n",
    "\n",
    "The new problem that we have is accessing the value of C outside the context of the generator. We'd like to do this because other process units may depend on that concentration."
   ]
  },
  {
   "cell_type": "code",
   "execution_count": null,
   "metadata": {
    "nbpages": {
     "level": 3,
     "link": "[3.2.5.1 Modeling with Python Classes](https://jckantor.github.io/CBE40455-2020/03.02-Simpy.html#3.2.5.1-Modeling-with-Python-Classes)",
     "section": "3.2.5.1 Modeling with Python Classes"
    }
   },
   "outputs": [],
   "source": []
  },
  {
   "cell_type": "code",
   "execution_count": null,
   "metadata": {
    "nbpages": {
     "level": 3,
     "link": "[3.2.5.1 Modeling with Python Classes](https://jckantor.github.io/CBE40455-2020/03.02-Simpy.html#3.2.5.1-Modeling-with-Python-Classes)",
     "section": "3.2.5.1 Modeling with Python Classes"
    }
   },
   "outputs": [],
   "source": [
    "import simpy\n",
    "import numpy as np\n",
    "import matplotlib.pyplot as plt\n",
    "\n",
    "q = 0.5\n",
    "\n",
    "data_log = []\n",
    "\n",
    "def reactor(dt, k):\n",
    "    C = 1.0\n",
    "    env.event\n",
    "    while True:\n",
    "        data_log.append([env.now, C])\n",
    "        yield env.timeout(dt)\n",
    "        C = C - k*dt*C + q*dt\n",
    "        \n",
    "env = simpy.Environment()\n",
    "env.process(reactor(0.1, 1.0))\n",
    "env.run(until=5)\n",
    "\n",
    "data =  np.array(data_log)\n",
    "plt.plot(data[:,0], data[:,1])"
   ]
  },
  {
   "cell_type": "code",
   "execution_count": 82,
   "metadata": {
    "nbpages": {
     "level": 3,
     "link": "[3.2.5.1 Modeling with Python Classes](https://jckantor.github.io/CBE40455-2020/03.02-Simpy.html#3.2.5.1-Modeling-with-Python-Classes)",
     "section": "3.2.5.1 Modeling with Python Classes"
    }
   },
   "outputs": [
    {
     "name": "stdout",
     "output_type": "stream",
     "text": [
      "0 1.0\n",
      "0 1.0\n",
      "0.1 0.91\n",
      "0.2 0.9\n",
      "0.2 0.83\n",
      "0.3 0.77\n",
      "0.4 0.82\n",
      "0.4 0.71\n",
      "0.5 0.66\n",
      "0.6 0.62\n",
      "0.6 0.76\n",
      "0.7 0.58\n",
      "0.8 0.55\n",
      "0.8 0.7\n",
      "0.9 0.52\n",
      "1.0 0.5\n",
      "1.0 0.66\n",
      "1.1 0.48\n",
      "1.2 0.63\n",
      "1.2 0.46\n",
      "1.3 0.45\n",
      "1.4 0.6\n",
      "1.4 0.43\n",
      "1.5 0.42\n",
      "1.6 0.58\n",
      "1.6 0.41\n",
      "1.7 0.41\n",
      "1.8 0.57\n",
      "1.8 0.4\n",
      "1.9 0.39\n",
      "2.0 0.55\n",
      "2.0 0.39\n",
      "2.1 0.38\n",
      "2.2 0.54\n",
      "2.2 0.38\n",
      "2.3 0.38\n",
      "2.4 0.53\n",
      "2.4 0.37\n",
      "2.5 0.37\n",
      "2.6 0.53\n",
      "2.6 0.37\n",
      "2.7 0.37\n",
      "2.8 0.52\n",
      "2.8 0.37\n",
      "2.9 0.37\n",
      "3.0 0.52\n",
      "3.0 0.36\n",
      "3.1 0.36\n",
      "3.2 0.51\n",
      "3.2 0.36\n",
      "3.3 0.36\n",
      "3.4 0.51\n",
      "3.4 0.36\n",
      "3.5 0.36\n",
      "3.6 0.51\n",
      "3.6 0.36\n",
      "3.7 0.36\n",
      "3.8 0.51\n",
      "3.8 0.36\n",
      "3.9 0.36\n",
      "4.0 0.51\n",
      "4.0 0.36\n",
      "4.1 0.36\n",
      "4.2 0.5\n",
      "4.2 0.36\n",
      "4.3 0.36\n",
      "4.4 0.36\n",
      "4.4 0.5\n",
      "4.5 0.36\n",
      "4.6 0.36\n",
      "4.6 0.5\n",
      "4.7 0.36\n",
      "4.8 0.36\n",
      "4.8 0.5\n",
      "4.9 0.36\n",
      "5.0 0.36\n",
      "5.0 0.5\n",
      "5.1 0.36\n",
      "5.2 0.36\n",
      "5.2 0.5\n",
      "5.3 0.36\n",
      "5.4 0.36\n",
      "5.4 0.5\n",
      "5.5 0.36\n",
      "5.6 0.36\n",
      "5.6 0.5\n",
      "5.7 0.36\n",
      "5.8 0.36\n",
      "5.8 0.5\n",
      "5.9 0.36\n",
      "6.0 0.36\n",
      "6.0 0.5\n",
      "6.1 0.36\n",
      "6.2 0.36\n",
      "6.2 0.5\n",
      "6.3 0.36\n",
      "6.4 0.36\n",
      "6.4 0.5\n",
      "6.5 0.36\n",
      "6.6 0.36\n",
      "6.6 0.5\n",
      "6.7 0.36\n",
      "6.8 0.36\n",
      "6.8 0.5\n",
      "6.9 0.36\n",
      "7.0 0.36\n",
      "7.0 0.5\n",
      "7.1 0.36\n",
      "7.2 0.36\n",
      "7.2 0.5\n",
      "7.3 0.36\n",
      "7.4 0.36\n",
      "7.4 0.5\n",
      "7.5 0.36\n",
      "7.6 0.36\n",
      "7.6 0.5\n",
      "7.7 0.36\n",
      "7.8 0.36\n",
      "7.8 0.5\n",
      "7.9 0.36\n",
      "8.0 0.36\n",
      "8.0 0.5\n",
      "8.1 0.36\n",
      "8.2 0.36\n",
      "8.2 0.5\n",
      "8.3 0.36\n",
      "8.4 0.36\n",
      "8.4 0.5\n",
      "8.5 0.36\n",
      "8.6 0.36\n",
      "8.6 0.5\n",
      "8.7 0.36\n",
      "8.8 0.36\n",
      "8.8 0.5\n",
      "8.9 0.36\n",
      "9.0 0.36\n",
      "9.0 0.5\n",
      "9.1 0.36\n",
      "9.2 0.36\n",
      "9.2 0.5\n",
      "9.3 0.36\n",
      "9.4 0.36\n",
      "9.4 0.5\n",
      "9.5 0.36\n",
      "9.6 0.36\n",
      "9.6 0.5\n",
      "9.7 0.36\n",
      "9.8 0.36\n",
      "9.8 0.5\n",
      "9.9 0.36\n",
      "10.0 0.36\n",
      "10.0 0.5\n"
     ]
    }
   ],
   "source": [
    "import simpy\n",
    "\n",
    "q = 0.5\n",
    "\n",
    "class Reactor():\n",
    "    def __init__(self, k, dt):\n",
    "        self.k = k\n",
    "        self.dt = dt\n",
    "        self.C = 1.0\n",
    "        \n",
    "    def run(self):\n",
    "        while True:\n",
    "            print(round(env.now, 2), round(self.C, 2))\n",
    "            yield env.timeout(self.dt)\n",
    "            self.C = self.C - self.k*self.C*self.dt + q*self.dt\n",
    "\n",
    "env = simpy.Environment()\n",
    "a = Reactor(1.0, 0.2)\n",
    "b = Reactor(1.4, 0.1)\n",
    "env.process(a.run())\n",
    "env.process(b.run())\n",
    "env.run(until=10)"
   ]
  },
  {
   "cell_type": "code",
   "execution_count": 79,
   "metadata": {
    "nbpages": {
     "level": 3,
     "link": "[3.2.5.1 Modeling with Python Classes](https://jckantor.github.io/CBE40455-2020/03.02-Simpy.html#3.2.5.1-Modeling-with-Python-Classes)",
     "section": "3.2.5.1 Modeling with Python Classes"
    }
   },
   "outputs": [
    {
     "name": "stdout",
     "output_type": "stream",
     "text": [
      "0 1.0\n",
      "0.3 0.9\n",
      "0.6 0.82\n",
      "0.8999999999999999 0.7047999999999999\n",
      "1.2 0.6638399999999999\n",
      "1.5 0.6048575999999999\n",
      "1.8 0.5671088639999999\n",
      "2.1 0.5536870911999999\n",
      "2.4 0.54294967296\n",
      "2.6999999999999997 0.5274877906944\n",
      "2.9999999999999996 0.52199023255552\n",
      "3.2999999999999994 0.5140737488355328\n",
      "3.599999999999999 0.5112589990684262\n",
      "3.899999999999999 0.5072057594037928\n",
      "4.199999999999999 0.5057646075230342\n",
      "4.499999999999999 0.5036893488147418\n",
      "4.799999999999999 0.5029514790517935\n",
      "5.099999999999999 0.5018889465931478\n",
      "5.399999999999999 0.5015111572745182\n",
      "5.699999999999998 0.5009671406556917\n",
      "5.999999999999998 0.5007737125245534\n",
      "6.299999999999998 0.5004951760157141\n",
      "6.599999999999998 0.5003961408125713\n",
      "6.899999999999998 0.5002535301200457\n",
      "7.1999999999999975 0.5002028240960366\n",
      "7.499999999999997 0.5001298074214634\n",
      "7.799999999999997 0.5001038459371707\n",
      "8.099999999999998 0.5000664613997893\n",
      "8.399999999999999 0.5000531691198314\n",
      "8.7 0.5000340282366922\n",
      "9.0 0.5000272225893537\n",
      "9.3 0.5000174224571864\n",
      "9.600000000000001 0.5000111503725992\n",
      "9.900000000000002 0.5000089202980794\n"
     ]
    }
   ],
   "source": [
    "import simpy\n",
    "\n",
    "q = 0.5\n",
    "\n",
    "def historian(dt):\n",
    "    while True:\n",
    "        print(env.now, a.C)\n",
    "        yield env.timeout(dt)\n",
    "\n",
    "class Reactor():\n",
    "    def __init__(self, k, dt):\n",
    "        self.k = k\n",
    "        self.dt = dt\n",
    "        self.C = 1.0\n",
    "        \n",
    "    def run(self):\n",
    "        while True:\n",
    "            yield env.timeout(self.dt)\n",
    "            self.C = self.C - self.k*self.C*self.dt + q*self.dt\n",
    "\n",
    "env = simpy.Environment()\n",
    "a = Reactor(1.0, 0.2)\n",
    "env.process(a.run())\n",
    "env.process(historian(0.3))\n",
    "env.run(until=10)"
   ]
  },
  {
   "cell_type": "markdown",
   "metadata": {
    "nbpages": {
     "level": 3,
     "link": "[3.2.5.2 COVID Model](https://jckantor.github.io/CBE40455-2020/03.02-Simpy.html#3.2.5.2-COVID-Model)",
     "section": "3.2.5.2 COVID Model"
    }
   },
   "source": [
    "### 3.2.5.2 COVID Model"
   ]
  },
  {
   "cell_type": "code",
   "execution_count": null,
   "metadata": {
    "nbpages": {
     "level": 3,
     "link": "[3.2.5.2 COVID Model](https://jckantor.github.io/CBE40455-2020/03.02-Simpy.html#3.2.5.2-COVID-Model)",
     "section": "3.2.5.2 COVID Model"
    }
   },
   "outputs": [],
   "source": [
    "import simpy\n",
    "\n",
    "import random\n",
    "\n",
    "class person()\n",
    "    print\n",
    "    yield env.timeout(random.uniform(0, 120))"
   ]
  },
  {
   "cell_type": "markdown",
   "metadata": {},
   "source": [
    "<!--NAVIGATION-->\n",
    "< [3.1 Python Generators](https://jckantor.github.io/CBE40455-2020/03.01-Python-Generators.html) | [Contents](toc.html) | [3.10 Agent based model for control of COVID-19 on a college campus](https://jckantor.github.io/CBE40455-2020/03.10-Agent-based-campus-covid-model.html)<p><a href=\"https://colab.research.google.com/github/jckantor/CBE40455-2020/blob/master/docs/03.02-Simpy.ipynb\"> <img align=\"left\" src=\"https://colab.research.google.com/assets/colab-badge.svg\" alt=\"Open in Colab\" title=\"Open in Google Colaboratory\"></a><p><a href=\"https://jckantor.github.io/CBE40455-2020/03.02-Simpy.ipynb\"> <img align=\"left\" src=\"https://img.shields.io/badge/Github-Download-blue.svg\" alt=\"Download\" title=\"Download Notebook\"></a>"
   ]
  }
 ],
 "metadata": {
  "kernelspec": {
   "display_name": "Python 3",
   "language": "python",
   "name": "python3"
  },
  "language_info": {
   "codemirror_mode": {
    "name": "ipython",
    "version": 3
   },
   "file_extension": ".py",
   "mimetype": "text/x-python",
   "name": "python",
   "nbconvert_exporter": "python",
   "pygments_lexer": "ipython3",
   "version": "3.7.4"
  }
 },
 "nbformat": 4,
 "nbformat_minor": 4
}
