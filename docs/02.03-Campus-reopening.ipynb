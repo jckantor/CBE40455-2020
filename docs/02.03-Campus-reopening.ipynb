{
 "cells": [
  {
   "cell_type": "markdown",
   "metadata": {},
   "source": [
    "<!--NOTEBOOK_HEADER-->\n",
    "*This notebook contains material from [CBE40455-2020](https://jckantor.github.io/CBE40455-2020);\n",
    "content is available [on Github](https://github.com/jckantor/CBE40455-2020.git).*\n"
   ]
  },
  {
   "cell_type": "markdown",
   "metadata": {},
   "source": [
    "<!--NAVIGATION-->\n",
    "< [2.2 Campus SEIR Modeling](https://jckantor.github.io/CBE40455-2020/02.02-Campus-SEIR-modeling.html) | [Contents](toc.html) | [2.4 Linear Analysis of Campus Reopening](https://jckantor.github.io/CBE40455-2020/02.04-Linear-Analysis-of-Campus-Reopening.html) ><p><a href=\"https://colab.research.google.com/github/jckantor/CBE40455-2020/blob/master/docs/02.03-Campus-reopening.ipynb\"> <img align=\"left\" src=\"https://colab.research.google.com/assets/colab-badge.svg\" alt=\"Open in Colab\" title=\"Open in Google Colaboratory\"></a><p><a href=\"https://jckantor.github.io/CBE40455-2020/02.03-Campus-reopening.ipynb\"> <img align=\"left\" src=\"https://img.shields.io/badge/Github-Download-blue.svg\" alt=\"Download\" title=\"Download Notebook\"></a>"
   ]
  },
  {
   "cell_type": "markdown",
   "metadata": {
    "colab_type": "text",
    "id": "eAbATGsb5fwf",
    "nbpages": {
     "level": 1,
     "link": "[2.3 Campus Re-opening Model](https://jckantor.github.io/CBE40455-2020/02.03-Campus-reopening.html#2.3-Campus-Re-opening-Model)",
     "section": "2.3 Campus Re-opening Model"
    }
   },
   "source": [
    "# 2.3 Campus Re-opening Model\n",
    "\n",
    "Following [Paltiel, et al. (2020)](https://jamanetwork.com/journals/jamanetworkopen/fullarticle/2768923). \n",
    "\n",
    "![Paltiel2020-figure-e1](figures/Paltiel2020-fig-e1.png)\n",
    "\n",
    "(Figure e1 from Paltiel, et al., 2020)\n"
   ]
  },
  {
   "cell_type": "markdown",
   "metadata": {
    "colab_type": "text",
    "id": "fmDN0ArmBQ5C",
    "nbpages": {
     "level": 3,
     "link": "[2.3.1 Active transmission and testing pool. ](https://jckantor.github.io/CBE40455-2020/02.03-Campus-reopening.html#2.3.1-Active-transmission-and-testing-pool.)",
     "section": "2.3.1 Active transmission and testing pool. "
    }
   },
   "source": [
    "\n",
    "### 2.3.1 Active transmission and testing pool. \n",
    "\n",
    "This pool consists of individuals in the campus population subject to testing and the transmission of virus.\n",
    "\n",
    "* $U$ uninfected, susceptible individuals\n",
    "* $E$ exposed, asymptomatic, non-infectious\n",
    "* $A$ infected, asymptomatic\n",
    "\n",
    "\\begin{align*}\n",
    "\\frac{dU}{dt} & = -\\beta U \\frac{A}{U + E + A} - \\tau (1-S_p) U  + \\mu F_p - x(t) \\\\\n",
    "\\frac{dE}{dt} & =  \\beta U \\frac{A}{U + E + A} - \\theta E + x(t) \\\\\n",
    "\\frac{dA}{dt} & = \\theta E - (\\sigma + \\rho + \\tau S_e)A\n",
    "\\end{align*} \n"
   ]
  },
  {
   "cell_type": "markdown",
   "metadata": {
    "colab_type": "text",
    "id": "H3sOz0YPBYOW",
    "nbpages": {
     "level": 3,
     "link": "[2.3.2 Isolation pool](https://jckantor.github.io/CBE40455-2020/02.03-Campus-reopening.html#2.3.2-Isolation-pool)",
     "section": "2.3.2 Isolation pool"
    }
   },
   "source": [
    "### 2.3.2 Isolation pool\n",
    "\n",
    "* $S$ infected, symptomatic with a true positive test result.\n",
    "* $T_p$ infected, asymptomatic with a true positive test result\n",
    "* $F_p$ uninfected with a false positive result.\n",
    "\n",
    "\\begin{align*}\n",
    "\\frac{dF_p}{dt} & = -\\mu F_p + \\tau(1-S_p) U \\\\\n",
    "\\frac{dT_p}{dt} & = -(\\sigma + \\rho) T_p + \\tau S_e A\\\\\n",
    "\\frac{dS}{dt} & = -(\\rho + \\delta)S + \\sigma (T_p + A)\n",
    "\\end{align*} "
   ]
  },
  {
   "cell_type": "markdown",
   "metadata": {
    "colab_type": "text",
    "id": "D64CeE2hCIdC",
    "nbpages": {
     "level": 3,
     "link": "[2.3.3 Removed pool](https://jckantor.github.io/CBE40455-2020/02.03-Campus-reopening.html#2.3.3-Removed-pool)",
     "section": "2.3.3 Removed pool"
    }
   },
   "source": [
    "### 2.3.3 Removed pool\n",
    "\n",
    "* $R$ recovered. These individuals assumed to be immune for the remainder of the simulation, and not returned to the campus population.\n",
    "* $D$ dead.\n",
    "\n",
    "\\begin{align*}\n",
    "\\frac{dR}{dt} & =  \\rho (T_p + A + S)\\\\\\\n",
    "\\frac{dD}{dt} & = \\delta S\n",
    "\\end{align*} "
   ]
  },
  {
   "cell_type": "markdown",
   "metadata": {
    "colab_type": "text",
    "id": "Yso2VSWXrssr",
    "nbpages": {
     "level": 3,
     "link": "[2.3.4 Parameter estimates](https://jckantor.github.io/CBE40455-2020/02.03-Campus-reopening.html#2.3.4-Parameter-estimates)",
     "section": "2.3.4 Parameter estimates"
    }
   },
   "source": [
    "### 2.3.4 Parameter estimates\n",
    "\n",
    "Given:\n",
    "\n",
    "* $\\rho$ recovery rate \n",
    "* $R_t$ basic reproductive number for asymptomatic transmission \n",
    "* $p_{si}$ probability that an infected individual will become symptomatic.\n",
    "\n",
    "\n"
   ]
  },
  {
   "cell_type": "markdown",
   "metadata": {
    "colab_type": "text",
    "id": "6SpT6hhJ5lmU",
    "nbpages": {
     "level": 4,
     "link": "[2.3.4.1 Odds of becoming symptomatic if infected](https://jckantor.github.io/CBE40455-2020/02.03-Campus-reopening.html#2.3.4.1-Odds-of-becoming-symptomatic-if-infected)",
     "section": "2.3.4.1 Odds of becoming symptomatic if infected"
    }
   },
   "source": [
    "#### 2.3.4.1 Odds of becoming symptomatic if infected\n",
    "\n",
    "Based on the compartmental relationships and rates, the probability of symptom development for infected individuals is given by\n",
    "\n",
    "$$p_{si} = \\frac{\\sigma}{\\sigma + \\rho}$$\n",
    "\n",
    "Inverting this relationship\n",
    "\n",
    "$$\\sigma = \\frac{p_{si}}{1 - p_{si}}\\rho$$\n",
    "\n",
    "where $\\frac{p_{si}}{1 - p_{si}}$ is the 'odds' that an infected individual becomes symptomatic.\n"
   ]
  },
  {
   "cell_type": "markdown",
   "metadata": {
    "colab_type": "text",
    "id": "-N4_RCNk5xPJ",
    "nbpages": {
     "level": 4,
     "link": "[2.3.4.2 Effective reproductive number with isolation of symptomatic individuals](https://jckantor.github.io/CBE40455-2020/02.03-Campus-reopening.html#2.3.4.2-Effective-reproductive-number-with-isolation-of-symptomatic-individuals)",
     "section": "2.3.4.2 Effective reproductive number with isolation of symptomatic individuals"
    }
   },
   "source": [
    "#### 2.3.4.2 Effective reproductive number with isolation of symptomatic individuals\n",
    "\n",
    "For an initially uninfected population with no testing regime, where transmission is solely due to non-isolated, asymptomatic individuals, the effective reproductive number is\n",
    "\n",
    "$$R_t = \\frac{\\beta}{\\sigma + \\rho}$$\n",
    "\n",
    "Expressed in terms of recovery rate and probability of becoming symptomatic\n",
    "\n",
    "$$R_t = \\frac{\\beta}{\\rho}(1 - p_{si})$$"
   ]
  },
  {
   "cell_type": "markdown",
   "metadata": {
    "colab_type": "text",
    "id": "8e0Q1QYCAtcK",
    "nbpages": {
     "level": 4,
     "link": "[2.3.4.3 Testing threshold](https://jckantor.github.io/CBE40455-2020/02.03-Campus-reopening.html#2.3.4.3-Testing-threshold)",
     "section": "2.3.4.3 Testing threshold"
    }
   },
   "source": [
    "#### 2.3.4.3 Testing threshold\n",
    "\n",
    "With a testing regime, for effective herd immunity requires\n",
    "\n",
    "$$\\beta \\leq \\sigma + \\rho + \\tau S_e $$\n",
    "\n",
    "where $\\tau$ is the testing rate and $S_e$ is the test sensitivity.  With some manipulation using the above relationships, the testing treshhold becomes\n",
    "\n",
    "$$\\tau S_e \\geq \\frac{(R_t - 1) \\rho}{1 - p_{si}}$$\n",
    "\n",
    "or \n",
    "\n",
    "$$\\frac{1}{\\tau} \\leq S_e \\left(\\frac{1 - p_{si}}{R_t - 1}\\right)\\frac{1}{\\rho} $$"
   ]
  },
  {
   "cell_type": "markdown",
   "metadata": {
    "colab_type": "text",
    "id": "DM1O_lhAEPEN",
    "nbpages": {
     "level": 4,
     "link": "[2.3.4.4 Parameter values](https://jckantor.github.io/CBE40455-2020/02.03-Campus-reopening.html#2.3.4.4-Parameter-values)",
     "section": "2.3.4.4 Parameter values"
    }
   },
   "source": [
    "#### 2.3.4.4 Parameter values\n",
    "\n",
    "| parameter | value |\n",
    "| :--: | :--: |\n",
    "| $p_{si}$ | 0.3 |\n",
    "| $R_t$ | [1.5, 2.5, 3.5] |\n",
    "| $\\frac{1}{\\rho}$ | 14 d |\n",
    "| $S_e$ | 0.7 |\n",
    "\n",
    "\n",
    "t"
   ]
  },
  {
   "cell_type": "code",
   "execution_count": 3,
   "metadata": {
    "colab": {
     "base_uri": "https://localhost:8080/",
     "height": 283
    },
    "colab_type": "code",
    "executionInfo": {
     "elapsed": 594,
     "status": "ok",
     "timestamp": 1596387599982,
     "user": {
      "displayName": "Jeffrey Kantor",
      "photoUrl": "https://lh3.googleusercontent.com/a-/AOh14Gg_n8V7bVINy02QRuRgOoMo11Ri7NKU3OUKdC1bkQ=s64",
      "userId": "09038942003589296665"
     },
     "user_tz": 300
    },
    "id": "Nlvxm2wvE-hm",
    "nbpages": {
     "level": 4,
     "link": "[2.3.4.4 Parameter values](https://jckantor.github.io/CBE40455-2020/02.03-Campus-reopening.html#2.3.4.4-Parameter-values)",
     "section": "2.3.4.4 Parameter values"
    },
    "outputId": "cab1ce50-2134-4b13-f688-59a4ebaed9a1"
   },
   "outputs": [
    {
     "data": {
      "image/png": "[encoded data removed]",
      "text/plain": [
       "<Figure size 432x288 with 1 Axes>"
      ]
     },
     "metadata": {
      "needs_background": "light"
     },
     "output_type": "display_data"
    }
   ],
   "source": [
    "import numpy as np\n",
    "import matplotlib.pyplot as plt\n",
    "import seaborn as sns\n",
    "\n",
    "Rt = np.linspace(1.5, 4.0)\n",
    "Se = 0.7\n",
    "rho = 1/14.0\n",
    "psi = 0.3\n",
    "\n",
    "tau = (Rt - 1)*rho/(1 - psi)\n",
    "plt.plot(Rt, 1.0/tau)\n",
    "\n",
    "plt.xlabel('$R_t$: effective reproduction number for exclusively asymptomatic transmission')\n",
    "plt.ylabel('testing frequency / days')\n",
    "plt.grid(True)"
   ]
  },
  {
   "cell_type": "code",
   "execution_count": 4,
   "metadata": {
    "colab": {
     "base_uri": "https://localhost:8080/",
     "height": 639
    },
    "colab_type": "code",
    "executionInfo": {
     "elapsed": 1993,
     "status": "ok",
     "timestamp": 1596386957000,
     "user": {
      "displayName": "Jeffrey Kantor",
      "photoUrl": "https://lh3.googleusercontent.com/a-/AOh14Gg_n8V7bVINy02QRuRgOoMo11Ri7NKU3OUKdC1bkQ=s64",
      "userId": "09038942003589296665"
     },
     "user_tz": 300
    },
    "id": "E_Lb57gLbRil",
    "nbpages": {
     "level": 4,
     "link": "[2.3.4.4 Parameter values](https://jckantor.github.io/CBE40455-2020/02.03-Campus-reopening.html#2.3.4.4-Parameter-values)",
     "section": "2.3.4.4 Parameter values"
    },
    "outputId": "1a591063-33aa-49a1-dadc-fa9dd2c876d1"
   },
   "outputs": [
    {
     "data": {
      "image/png": "[encoded data removed]",
      "text/plain": [
       "<Figure size 864x576 with 3 Axes>"
      ]
     },
     "metadata": {
      "needs_background": "light"
     },
     "output_type": "display_data"
    }
   ],
   "source": [
    "import numpy as np\n",
    "from scipy.integrate import solve_ivp\n",
    "import matplotlib.pyplot as plt\n",
    "import seaborn as sns\n",
    "\n",
    "# time horizon in days\n",
    "d = 15 * 7   \n",
    "\n",
    "# disease dynamics\n",
    "Rt = 4.0\n",
    "theta = 1/3.0       # 1/incubation time in days\n",
    "rho = 1.0/14.0      # 1/time to recovery in days\n",
    "mu = 1.0/1.0        # 1/time to false-postive return in days\n",
    "p_si = 0.20        # probability of symptoms given infection\n",
    "p_fs = 0.0005      # probability of fataility given symptoms\n",
    "\n",
    "sigma = rho * p_si / (1 - p_si)      # rate of symptom development\n",
    "beta = (sigma + rho)*Rt\n",
    "delta = rho * (p_fs/p_si) / (1 - (p_fs/p_si))\n",
    "\n",
    "# testing protocols\n",
    "Sp = 0.98       # test specificity\n",
    "Se = 0.70       # test sensitivity\n",
    "tau = 1000        # testing period\n",
    "\n",
    "# population parameters\n",
    "x = 10.0        # weekly exogeneous infections\n",
    "y = 10.0\n",
    "IC = [8200-y, 0, y, 0, 0, 0, 0, 0]\n",
    "\n",
    "# SEIR model differential equations.\n",
    "def deriv(t, X):\n",
    "    U, E, A, S, Tp, Fp, R, D = X\n",
    "    exog = x*((t + 1) % 7 < 1)\n",
    "    dU = -beta*U*A/(U + E + A + R) - (1 - Sp)*U/tau + mu*Fp - exog\n",
    "    dE = beta*U*A/(U + E + A + R) - theta*E + exog\n",
    "    dA = theta*E - (sigma + rho + Se/tau)*A\n",
    "    dS = -(rho + delta)*S + sigma*(Tp + A)\n",
    "    dTp = -(sigma + rho)*Tp + Se*A/tau\n",
    "    dFp = -mu*Fp + (1 - Sp)*U/tau\n",
    "    dR = rho*(Tp + S + A)\n",
    "    dD = delta*S\n",
    "    return np.array([dU, dE, dA, dS, dTp, dFp, dR, dD,])\n",
    "\n",
    "t = np.linspace(0, d, 10*d + 1)\n",
    "soln = solve_ivp(deriv, [0, max(t)], IC, t_eval = t, atol=1e-8, rtol=1e-8)\n",
    "U, E, A, S, Tp, Fp, R, D = soln.y\n",
    "\n",
    "fix, ax = plt.subplots(3, 1, figsize=(12, 8))\n",
    "ax[0].stackplot(t, U, E, A, R)\n",
    "ax[0].set_ylim(0, sum(IC))\n",
    "ax[0].set_title('Active Transmission and Testing Pool')\n",
    "\n",
    "ax[1].stackplot(t, S, Tp, Fp)\n",
    "ax[1].legend(['Symptomatic', 'False Positive', 'True Positive'], loc=\"upper left\")\n",
    "ax[1].set_title('Isolation Pool')\n",
    "\n",
    "ax[2].stackplot(t, D)\n",
    "ax[2].set_title('Removed Pool')\n",
    "ax[2].legend(['Recovered', 'Dead'], loc=\"upper left\")\n",
    "\n",
    "for a in ax:\n",
    "    a.set_xlim(0, d)\n",
    "\n",
    "plt.tight_layout()"
   ]
  },
  {
   "cell_type": "code",
   "execution_count": null,
   "metadata": {
    "colab": {},
    "colab_type": "code",
    "id": "gXw3CAB3rt3u",
    "nbpages": {
     "level": 4,
     "link": "[2.3.4.4 Parameter values](https://jckantor.github.io/CBE40455-2020/02.03-Campus-reopening.html#2.3.4.4-Parameter-values)",
     "section": "2.3.4.4 Parameter values"
    }
   },
   "outputs": [],
   "source": []
  },
  {
   "cell_type": "code",
   "execution_count": null,
   "metadata": {
    "nbpages": {
     "level": 4,
     "link": "[2.3.4.4 Parameter values](https://jckantor.github.io/CBE40455-2020/02.03-Campus-reopening.html#2.3.4.4-Parameter-values)",
     "section": "2.3.4.4 Parameter values"
    }
   },
   "outputs": [],
   "source": []
  },
  {
   "cell_type": "markdown",
   "metadata": {},
   "source": [
    "<!--NAVIGATION-->\n",
    "< [2.2 Campus SEIR Modeling](https://jckantor.github.io/CBE40455-2020/02.02-Campus-SEIR-modeling.html) | [Contents](toc.html) | [2.4 Linear Analysis of Campus Reopening](https://jckantor.github.io/CBE40455-2020/02.04-Linear-Analysis-of-Campus-Reopening.html) ><p><a href=\"https://colab.research.google.com/github/jckantor/CBE40455-2020/blob/master/docs/02.03-Campus-reopening.ipynb\"> <img align=\"left\" src=\"https://colab.research.google.com/assets/colab-badge.svg\" alt=\"Open in Colab\" title=\"Open in Google Colaboratory\"></a><p><a href=\"https://jckantor.github.io/CBE40455-2020/02.03-Campus-reopening.ipynb\"> <img align=\"left\" src=\"https://img.shields.io/badge/Github-Download-blue.svg\" alt=\"Download\" title=\"Download Notebook\"></a>"
   ]
  }
 ],
 "metadata": {
  "colab": {
   "collapsed_sections": [],
   "name": "Campus-reopening.ipynb",
   "provenance": [
    {
     "file_id": "1ddb_0swsq9MRKyHrzflCzeF8Tqqmp24H",
     "timestamp": 1596290235744
    }
   ],
   "toc_visible": true
  },
  "kernelspec": {
   "display_name": "Python 3",
   "language": "python",
   "name": "python3"
  },
  "language_info": {
   "codemirror_mode": {
    "name": "ipython",
    "version": 3
   },
   "file_extension": ".py",
   "mimetype": "text/x-python",
   "name": "python",
   "nbconvert_exporter": "python",
   "pygments_lexer": "ipython3",
   "version": "3.7.4"
  }
 },
 "nbformat": 4,
 "nbformat_minor": 4
}
