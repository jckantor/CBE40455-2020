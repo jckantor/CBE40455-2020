{
 "cells": [
  {
   "cell_type": "markdown",
   "metadata": {},
   "source": [
    "<!--NOTEBOOK_HEADER-->\n",
    "*This notebook contains material from [CBE40455-2020](https://jckantor.github.io/CBE40455-2020);\n",
    "content is available [on Github](https://github.com/jckantor/CBE40455-2020.git).*\n"
   ]
  },
  {
   "cell_type": "markdown",
   "metadata": {},
   "source": [
    "<!--NAVIGATION-->\n",
    "< [3.1 Python Generators](https://jckantor.github.io/CBE40455-2020/03.01-Python-Generators.html) | [Contents](toc.html) | [3.3 Agent Based Models](https://jckantor.github.io/CBE40455-2020/03.03-Agent-Based-Models.html)<p><a href=\"https://colab.research.google.com/github/jckantor/CBE40455-2020/blob/master/docs/03.02-Introduction-to-Simpy.ipynb\"> <img align=\"left\" src=\"https://colab.research.google.com/assets/colab-badge.svg\" alt=\"Open in Colab\" title=\"Open in Google Colaboratory\"></a><p><a href=\"https://jckantor.github.io/CBE40455-2020/03.02-Introduction-to-Simpy.ipynb\"> <img align=\"left\" src=\"https://img.shields.io/badge/Github-Download-blue.svg\" alt=\"Download\" title=\"Download Notebook\"></a>"
   ]
  },
  {
   "cell_type": "markdown",
   "metadata": {
    "nbpages": {
     "level": 1,
     "link": "[3.2 Introduction to Simpy](https://jckantor.github.io/CBE40455-2020/03.02-Introduction-to-Simpy.html#3.2-Introduction-to-Simpy)",
     "section": "3.2 Introduction to Simpy"
    }
   },
   "source": [
    "# 3.2 Introduction to Simpy"
   ]
  },
  {
   "cell_type": "code",
   "execution_count": 1,
   "metadata": {
    "nbpages": {
     "level": 1,
     "link": "[3.2 Introduction to Simpy](https://jckantor.github.io/CBE40455-2020/03.02-Introduction-to-Simpy.html#3.2-Introduction-to-Simpy)",
     "section": "3.2 Introduction to Simpy"
    }
   },
   "outputs": [
    {
     "name": "stdout",
     "output_type": "stream",
     "text": [
      "Requirement already satisfied: simpy in /Users/jeff/opt/anaconda3/lib/python3.7/site-packages (4.0.1)\n"
     ]
    }
   ],
   "source": [
    "!pip install simpy"
   ]
  },
  {
   "cell_type": "markdown",
   "metadata": {
    "nbpages": {
     "level": 2,
     "link": "[3.2.1 First Steps](https://jckantor.github.io/CBE40455-2020/03.02-Introduction-to-Simpy.html#3.2.1-First-Steps)",
     "section": "3.2.1 First Steps"
    }
   },
   "source": [
    "## 3.2.1 First Steps"
   ]
  },
  {
   "cell_type": "markdown",
   "metadata": {
    "nbpages": {
     "level": 3,
     "link": "[3.2.1.1 The simplest Simpy model](https://jckantor.github.io/CBE40455-2020/03.02-Introduction-to-Simpy.html#3.2.1.1-The-simplest-Simpy-model)",
     "section": "3.2.1.1 The simplest Simpy model"
    }
   },
   "source": [
    "### 3.2.1.1 The simplest Simpy model\n",
    "\n",
    "Simpy implements an Environment() object that does the heavy work of scheduling processing events that occur when simulating complex models. The simplest possible Simpy model is one that creates and runs an empty simulation environment."
   ]
  },
  {
   "cell_type": "code",
   "execution_count": 2,
   "metadata": {
    "nbpages": {
     "level": 3,
     "link": "[3.2.1.1 The simplest Simpy model](https://jckantor.github.io/CBE40455-2020/03.02-Introduction-to-Simpy.html#3.2.1.1-The-simplest-Simpy-model)",
     "section": "3.2.1.1 The simplest Simpy model"
    }
   },
   "outputs": [],
   "source": [
    "import simpy\n",
    "\n",
    "env = simpy.Environment()\n",
    "env.run()"
   ]
  },
  {
   "cell_type": "markdown",
   "metadata": {
    "nbpages": {
     "level": 3,
     "link": "[3.2.1.2 Adding a process](https://jckantor.github.io/CBE40455-2020/03.02-Introduction-to-Simpy.html#3.2.1.2-Adding-a-process)",
     "section": "3.2.1.2 Adding a process"
    }
   },
   "source": [
    "### 3.2.1.2 Adding a process\n",
    "\n",
    "The components that make up a Simpy models are implemented using python gnerators. A generator begins with the `def` statement and must have at least one `yield` statement. The yield statement returns an event to the simulation environment. A frequently used events is `simpy.Environment.timeout()` which simulates the passage of time in a model component.\n",
    "\n",
    "Once the generator has been defined, an instance of the generator is passed to the simulation environment using the `simpy.Environment.process()` method.\n",
    "\n",
    "The following model defines a process model in which \"Hello, World\" is printed after a simulated 2.0 seconds have elapsed."
   ]
  },
  {
   "cell_type": "code",
   "execution_count": 3,
   "metadata": {
    "nbpages": {
     "level": 3,
     "link": "[3.2.1.2 Adding a process](https://jckantor.github.io/CBE40455-2020/03.02-Introduction-to-Simpy.html#3.2.1.2-Adding-a-process)",
     "section": "3.2.1.2 Adding a process"
    }
   },
   "outputs": [
    {
     "name": "stdout",
     "output_type": "stream",
     "text": [
      "Hello, World\n"
     ]
    }
   ],
   "source": [
    "import simpy\n",
    "\n",
    "def say_hello():\n",
    "    yield env.timeout(2.0)           # let 2.0 seconds of simulated time elapse\n",
    "    print(\"Hello, World\")            # print \"Hello, World\"\n",
    "\n",
    "env = simpy.Environment()            # create a simulation environment instance\n",
    "env.process(say_hello())                # register an instance of the process model\n",
    "env.run()                            # run the simulaton"
   ]
  },
  {
   "cell_type": "markdown",
   "metadata": {
    "nbpages": {
     "level": 3,
     "link": "[3.2.1.3 Accessing time](https://jckantor.github.io/CBE40455-2020/03.02-Introduction-to-Simpy.html#3.2.1.3-Accessing-time)",
     "section": "3.2.1.3 Accessing time"
    }
   },
   "source": [
    "### 3.2.1.3 Accessing time"
   ]
  },
  {
   "cell_type": "markdown",
   "metadata": {
    "nbpages": {
     "level": 3,
     "link": "[3.2.1.3 Accessing time](https://jckantor.github.io/CBE40455-2020/03.02-Introduction-to-Simpy.html#3.2.1.3-Accessing-time)",
     "section": "3.2.1.3 Accessing time"
    }
   },
   "source": [
    "The environment variable `simpy.Environment.now` returns the current time in the simulation."
   ]
  },
  {
   "cell_type": "code",
   "execution_count": 4,
   "metadata": {
    "nbpages": {
     "level": 3,
     "link": "[3.2.1.3 Accessing time](https://jckantor.github.io/CBE40455-2020/03.02-Introduction-to-Simpy.html#3.2.1.3-Accessing-time)",
     "section": "3.2.1.3 Accessing time"
    }
   },
   "outputs": [
    {
     "name": "stdout",
     "output_type": "stream",
     "text": [
      "time = 0\n",
      "time = 2.0\n",
      "Hello, World\n"
     ]
    }
   ],
   "source": [
    "import simpy\n",
    "\n",
    "def say_hello():\n",
    "    print(\"time =\", env.now)             # print current time in the simulation\n",
    "    yield env.timeout(2.0)               # take a time out of 1 time unit\n",
    "    print(\"time =\", env.now)             # print current time in the simulation\n",
    "    print(\"Hello, World\")\n",
    "\n",
    "env = simpy.Environment()                # create a simulation environment instance\n",
    "env.process(say_hello())                 # tell the simulation environment which generators to process\n",
    "env.run()                                # run the simulation"
   ]
  },
  {
   "cell_type": "markdown",
   "metadata": {
    "nbpages": {
     "level": 3,
     "link": "[3.2.1.4 Creating multiple instances of a generator](https://jckantor.github.io/CBE40455-2020/03.02-Introduction-to-Simpy.html#3.2.1.4-Creating-multiple-instances-of-a-generator)",
     "section": "3.2.1.4 Creating multiple instances of a generator"
    }
   },
   "source": [
    "### 3.2.1.4 Creating multiple instances of a generator"
   ]
  },
  {
   "cell_type": "markdown",
   "metadata": {
    "nbpages": {
     "level": 3,
     "link": "[3.2.1.4 Creating multiple instances of a generator](https://jckantor.github.io/CBE40455-2020/03.02-Introduction-to-Simpy.html#3.2.1.4-Creating-multiple-instances-of-a-generator)",
     "section": "3.2.1.4 Creating multiple instances of a generator"
    }
   },
   "source": [
    "The same generator can be used to create multiple instances of a model component. For example, this cell creates three instances of a generator. The generator is modified to add an identifier and variable time delay.\n",
    "\n",
    "**Carefully examine the output of this cell. Be sure you explain the order in which the print statements appear in the output.**"
   ]
  },
  {
   "cell_type": "code",
   "execution_count": 5,
   "metadata": {
    "nbpages": {
     "level": 3,
     "link": "[3.2.1.4 Creating multiple instances of a generator](https://jckantor.github.io/CBE40455-2020/03.02-Introduction-to-Simpy.html#3.2.1.4-Creating-multiple-instances-of-a-generator)",
     "section": "3.2.1.4 Creating multiple instances of a generator"
    }
   },
   "outputs": [
    {
     "name": "stdout",
     "output_type": "stream",
     "text": [
      "A time = 0\n",
      "B time = 0\n",
      "C time = 0\n",
      "B says Hello, World at time 2.0\n",
      "A says Hello, World at time 3.0\n",
      "C says Hello, World at time 4.0\n"
     ]
    }
   ],
   "source": [
    "import simpy\n",
    "\n",
    "def say_hello(id, delay):\n",
    "    print(id, \"time =\", env.now)         # print current time in the simulation\n",
    "    yield env.timeout(delay)             # take a time out of 1 time unit\n",
    "    print(id, \"says Hello, World at time\", env.now)\n",
    "\n",
    "env = simpy.Environment()                # create a simulation environment instance\n",
    "env.process(say_hello(\"A\", 3.0))         # tell the simulation environment which generators to process\n",
    "env.process(say_hello(\"B\", 2.0))         # tell the simulation environment which generators to process\n",
    "env.process(say_hello(\"C\", 4.0))         # tell the simulation environment which generators to process\n",
    "env.run()                                # run the simulation"
   ]
  },
  {
   "cell_type": "markdown",
   "metadata": {
    "nbpages": {
     "level": 3,
     "link": "[3.2.1.5 Running a simulation for a known period of time](https://jckantor.github.io/CBE40455-2020/03.02-Introduction-to-Simpy.html#3.2.1.5-Running-a-simulation-for-a-known-period-of-time)",
     "section": "3.2.1.5 Running a simulation for a known period of time"
    }
   },
   "source": [
    "### 3.2.1.5 Running a simulation for a known period of time\n",
    "\n",
    "The simulations presented above finish when all of the components making up the model have finished. In process modeling, however, some model components will simply cycle forever leading to a simulation that would never end. To handle this situation, the `simpy.Environment.run()` has an optional parameter `until` the causes the simulation to end a known point in time.\n",
    "\n",
    "The next modifies the generator to include an infinite loop, and controls the simulation period using the `until` parameter."
   ]
  },
  {
   "cell_type": "code",
   "execution_count": 6,
   "metadata": {
    "nbpages": {
     "level": 3,
     "link": "[3.2.1.5 Running a simulation for a known period of time](https://jckantor.github.io/CBE40455-2020/03.02-Introduction-to-Simpy.html#3.2.1.5-Running-a-simulation-for-a-known-period-of-time)",
     "section": "3.2.1.5 Running a simulation for a known period of time"
    }
   },
   "outputs": [
    {
     "name": "stdout",
     "output_type": "stream",
     "text": [
      "A time = 0\n",
      "B time = 0\n",
      "C time = 0\n",
      "B says Hello, World at time 2.0\n",
      "A says Hello, World at time 3.0\n",
      "C says Hello, World at time 4.0\n",
      "B says Hello, World at time 4.0\n",
      "A says Hello, World at time 6.0\n",
      "B says Hello, World at time 6.0\n",
      "C says Hello, World at time 8.0\n",
      "B says Hello, World at time 8.0\n",
      "A says Hello, World at time 9.0\n"
     ]
    }
   ],
   "source": [
    "import simpy\n",
    "\n",
    "def say_hello(id, delay):\n",
    "    print(id, \"time =\", env.now)          # print current time in the simulation\n",
    "    while True:\n",
    "        yield env.timeout(delay)          # take a time out of 1 time unit\n",
    "        print(id, \"says Hello, World at time\", env.now)\n",
    "\n",
    "env = simpy.Environment()                 # create a simulation environment instance\n",
    "env.process(say_hello(\"A\", 3.0))          # tell the simulation environment which generators to process\n",
    "env.process(say_hello(\"B\", 2.0))          # tell the simulation environment which generators to process\n",
    "env.process(say_hello(\"C\", 4.0))          # tell the simulation environment which generators to process\n",
    "env.run(until=10.0)                       # run the simulation"
   ]
  },
  {
   "cell_type": "markdown",
   "metadata": {
    "nbpages": {
     "level": 3,
     "link": "[3.2.1.6 Logging data](https://jckantor.github.io/CBE40455-2020/03.02-Introduction-to-Simpy.html#3.2.1.6-Logging-data)",
     "section": "3.2.1.6 Logging data"
    }
   },
   "source": [
    "### 3.2.1.6 Logging data\n",
    "\n",
    "Discrete-event simulations can create large amounts of data. A good practice is create a data log for the purpose of capturing data generated during the simulation. After the simulation is complete, the data log can be processed to create reports and charts to analyze results of the simulation.\n",
    "\n",
    "If not sure what to log, a good practice is log at least three items for each event:\n",
    "\n",
    "* **who** what object created this event\n",
    "* **what** a description of the event\n",
    "* **when** when the event occurred"
   ]
  },
  {
   "cell_type": "code",
   "execution_count": 7,
   "metadata": {
    "nbpages": {
     "level": 3,
     "link": "[3.2.1.6 Logging data](https://jckantor.github.io/CBE40455-2020/03.02-Introduction-to-Simpy.html#3.2.1.6-Logging-data)",
     "section": "3.2.1.6 Logging data"
    }
   },
   "outputs": [
    {
     "name": "stdout",
     "output_type": "stream",
     "text": [
      "['B', 'Hello, World', 2.0]\n",
      "['A', 'Hello, World', 3.0]\n",
      "['C', 'Hello, World', 4.0]\n",
      "['B', 'Hello, World', 4.0]\n",
      "['A', 'Hello, World', 6.0]\n",
      "['B', 'Hello, World', 6.0]\n",
      "['C', 'Hello, World', 8.0]\n",
      "['B', 'Hello, World', 8.0]\n",
      "['A', 'Hello, World', 9.0]\n"
     ]
    }
   ],
   "source": [
    "import simpy\n",
    "\n",
    "data_log = []                             # create an empty data log\n",
    "\n",
    "def say_hello(id, delay):\n",
    "    while True:\n",
    "        yield env.timeout(delay)          # take a time out of 1 time unit\n",
    "        data_log.append([id, \"Hello, World\", env.now])   # log who (id), what (\"Hello, World\"), when (env.now)\n",
    "\n",
    "env = simpy.Environment()                 # create a simulation environment instance\n",
    "env.process(say_hello(\"A\", 3.0))          # tell the simulation environment which generators to process\n",
    "env.process(say_hello(\"B\", 2.0))          # tell the simulation environment which generators to process\n",
    "env.process(say_hello(\"C\", 4.0))          # tell the simulation environment which generators to process\n",
    "env.run(until=10.0)                       # run the simulation\n",
    "\n",
    "for data_record in data_log:\n",
    "    print(data_record)"
   ]
  },
  {
   "cell_type": "markdown",
   "metadata": {
    "nbpages": {
     "level": 2,
     "link": "[3.2.2 Example: Simulating a Stirred Tank Reactor](https://jckantor.github.io/CBE40455-2020/03.02-Introduction-to-Simpy.html#3.2.2-Example:-Simulating-a-Stirred-Tank-Reactor)",
     "section": "3.2.2 Example: Simulating a Stirred Tank Reactor"
    }
   },
   "source": [
    "## 3.2.2 Example: Simulating a Stirred Tank Reactor"
   ]
  },
  {
   "cell_type": "markdown",
   "metadata": {
    "nbpages": {
     "level": 3,
     "link": "[3.2.2.1 Model development](https://jckantor.github.io/CBE40455-2020/03.02-Introduction-to-Simpy.html#3.2.2.1-Model-development)",
     "section": "3.2.2.1 Model development"
    }
   },
   "source": [
    "### 3.2.2.1 Model development\n",
    "\n",
    "Write a Python generator to simulate the response of a differential equation describing concentration in a stirred tank reactor.\n",
    "\n",
    "$$\\frac{dC}{dt} = -k C + q(t)$$\n",
    "\n",
    "where k = 1.0,  C(0) = 1.0 and q(t) has a constant value 0.5. Use can use the Euler approximation\n",
    "\n",
    "$$C(t + \\Delta t) = C(t) + \\Delta t \\left[ - k C(t) + q(t) \\right]$$\n",
    "\n",
    "The definition of the generator should allow specification of the time step, $\\Delta t$, and the rate constant $k$."
   ]
  },
  {
   "cell_type": "code",
   "execution_count": 11,
   "metadata": {
    "nbpages": {
     "level": 3,
     "link": "[3.2.2.1 Model development](https://jckantor.github.io/CBE40455-2020/03.02-Introduction-to-Simpy.html#3.2.2.1-Model-development)",
     "section": "3.2.2.1 Model development"
    }
   },
   "outputs": [
    {
     "name": "stdout",
     "output_type": "stream",
     "text": [
      "0 1.0\n",
      "0.5 0.75\n",
      "1.0 0.62\n",
      "1.5 0.56\n",
      "2.0 0.53\n",
      "2.5 0.52\n",
      "3.0 0.51\n",
      "3.5 0.5\n",
      "4.0 0.5\n",
      "4.5 0.5\n",
      "5.0 0.5\n",
      "5.5 0.5\n",
      "6.0 0.5\n",
      "6.5 0.5\n",
      "7.0 0.5\n",
      "7.5 0.5\n",
      "8.0 0.5\n",
      "8.5 0.5\n",
      "9.0 0.5\n",
      "9.5 0.5\n",
      "10.0 0.5\n",
      "10.5 0.5\n",
      "11.0 0.5\n",
      "11.5 0.5\n",
      "12.0 0.5\n",
      "12.5 0.5\n",
      "13.0 0.5\n",
      "13.5 0.5\n",
      "14.0 0.5\n",
      "14.5 0.5\n",
      "15.0 0.5\n",
      "15.5 0.5\n",
      "16.0 0.5\n",
      "16.5 0.5\n",
      "17.0 0.5\n",
      "17.5 0.5\n",
      "18.0 0.5\n",
      "18.5 0.5\n",
      "19.0 0.5\n",
      "19.5 0.5\n"
     ]
    }
   ],
   "source": [
    "# Solution\n",
    "\n",
    "import simpy\n",
    "\n",
    "def flow():\n",
    "    global q\n",
    "    q = 0.5\n",
    "    yield env.timeout(100.0)\n",
    "\n",
    "def reactor(dt, k):\n",
    "    C = 1.0\n",
    "    while True:\n",
    "        print(round(env.now, 2), round(C, 2))\n",
    "        yield env.timeout(dt)\n",
    "        C = C - k*dt*C + q*dt\n",
    "        \n",
    "env = simpy.Environment()\n",
    "env.process(flow())\n",
    "env.process(reactor(0.5, 1.0))\n",
    "env.run(until=20)"
   ]
  },
  {
   "cell_type": "markdown",
   "metadata": {
    "nbpages": {
     "level": 3,
     "link": "[3.2.2.2 Exercise](https://jckantor.github.io/CBE40455-2020/03.02-Introduction-to-Simpy.html#3.2.2.2-Exercise)",
     "section": "3.2.2.2 Exercise"
    }
   },
   "source": [
    "### 3.2.2.2 Exercise\n",
    "\n",
    "Extend stirred tank model by adding the following features:\n",
    "\n",
    "* Modify the flow simulation so that the flowrate initially starts at 0.0, switches to a value of 0.5 at t=1.0, then back to 0.0 five time units later.\n",
    "* Add a data log to records time and the values of concentration, $C$, and flowrate $q$. After debugging, remove the print statements.\n",
    "* When the simulation is complete, convert the data log to a numpy array, then create plots of $C(t)$ and $q(t)$. Take time to label axes and, if necessary, add a legend. \n",
    "* The whole thing should run in a single cell"
   ]
  },
  {
   "cell_type": "code",
   "execution_count": 10,
   "metadata": {
    "nbpages": {
     "level": 3,
     "link": "[3.2.2.2 Exercise](https://jckantor.github.io/CBE40455-2020/03.02-Introduction-to-Simpy.html#3.2.2.2-Exercise)",
     "section": "3.2.2.2 Exercise"
    }
   },
   "outputs": [],
   "source": [
    "# Your solution goes in this cell"
   ]
  },
  {
   "cell_type": "markdown",
   "metadata": {},
   "source": [
    "<!--NAVIGATION-->\n",
    "< [3.1 Python Generators](https://jckantor.github.io/CBE40455-2020/03.01-Python-Generators.html) | [Contents](toc.html) | [3.3 Agent Based Models](https://jckantor.github.io/CBE40455-2020/03.03-Agent-Based-Models.html)<p><a href=\"https://colab.research.google.com/github/jckantor/CBE40455-2020/blob/master/docs/03.02-Introduction-to-Simpy.ipynb\"> <img align=\"left\" src=\"https://colab.research.google.com/assets/colab-badge.svg\" alt=\"Open in Colab\" title=\"Open in Google Colaboratory\"></a><p><a href=\"https://jckantor.github.io/CBE40455-2020/03.02-Introduction-to-Simpy.ipynb\"> <img align=\"left\" src=\"https://img.shields.io/badge/Github-Download-blue.svg\" alt=\"Download\" title=\"Download Notebook\"></a>"
   ]
  }
 ],
 "metadata": {
  "kernelspec": {
   "display_name": "Python 3",
   "language": "python",
   "name": "python3"
  },
  "language_info": {
   "codemirror_mode": {
    "name": "ipython",
    "version": 3
   },
   "file_extension": ".py",
   "mimetype": "text/x-python",
   "name": "python",
   "nbconvert_exporter": "python",
   "pygments_lexer": "ipython3",
   "version": "3.7.4"
  }
 },
 "nbformat": 4,
 "nbformat_minor": 4
}
