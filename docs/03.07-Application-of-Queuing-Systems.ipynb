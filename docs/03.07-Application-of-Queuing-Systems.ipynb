{
 "cells": [
  {
   "cell_type": "markdown",
   "metadata": {},
   "source": [
    "<!--NOTEBOOK_HEADER-->\n",
    "*This notebook contains material from [CBE40455-2020](https://jckantor.github.io/CBE40455-2020);\n",
    "content is available [on Github](https://github.com/jckantor/CBE40455-2020.git).*\n"
   ]
  },
  {
   "cell_type": "markdown",
   "metadata": {},
   "source": [
    "<!--NAVIGATION-->\n",
    "< [3.6 Simulating Queuing Systems](https://jckantor.github.io/CBE40455-2020/03.06-Queuing-Systems-and-Poisson-Processes.html) | [Contents](toc.html) |<p><a href=\"https://colab.research.google.com/github/jckantor/CBE40455-2020/blob/master/docs/03.07-Application-of-Queuing-Systems.ipynb\"> <img align=\"left\" src=\"https://colab.research.google.com/assets/colab-badge.svg\" alt=\"Open in Colab\" title=\"Open in Google Colaboratory\"></a><p><a href=\"https://jckantor.github.io/CBE40455-2020/03.07-Application-of-Queuing-Systems.ipynb\"> <img align=\"left\" src=\"https://img.shields.io/badge/Github-Download-blue.svg\" alt=\"Download\" title=\"Download Notebook\"></a>"
   ]
  },
  {
   "cell_type": "markdown",
   "metadata": {
    "nbpages": {
     "level": 1,
     "link": "[3.7 Application of Queuing Systems](https://jckantor.github.io/CBE40455-2020/03.07-Application-of-Queuing-Systems.html#3.7-Application-of-Queuing-Systems)",
     "section": "3.7 Application of Queuing Systems"
    }
   },
   "source": [
    "# 3.7 Application of Queuing Systems\n"
   ]
  },
  {
   "cell_type": "markdown",
   "metadata": {
    "nbpages": {
     "level": 2,
     "link": "[3.7.1 Kendall notation for queues](https://jckantor.github.io/CBE40455-2020/03.07-Application-of-Queuing-Systems.html#3.7.1-Kendall-notation-for-queues)",
     "section": "3.7.1 Kendall notation for queues"
    }
   },
   "source": [
    "## 3.7.1 Kendall notation for queues\n",
    "\n",
    "Kendall notation is a standardized methods to describe and classify queues. The notation consists of three factors written as A/S/c where where A describes the arrival process, S the service process, and c is the number of servers attending the queue.\n",
    "\n",
    "* $A/S/c$\n",
    "    * $A$: statistical nature of the arrival process \n",
    "    * $S$: Statistical nature of the service process \n",
    "    * $c$: Number of servers at the queue node\n",
    "    \n",
    "* Typical Statistics\n",
    "    * D: Deterministic (average arrival rate $\\lambda$)\n",
    "    * M: Markov or memoryless (average arrival rate $r$)\n",
    "    * G: General or arbitrary distribution (mean $\\mu$ and standard deviation $\\simga$ or variance $\\sigma^2$)\n",
    "    \n",
    "Example: M/D/1\n",
    "\n",
    "![Aircraft queue](https://i0.wp.com/nats.aero/blog/wp-content/uploads/2013/08/aircraft-queue-e1377251576844.jpg?ssl=1)\n",
    "\n",
    "Example: M/M/8\n",
    "\n",
    "![Call Center](https://upload.wikimedia.org/wikipedia/commons/thumb/b/b1/Emergency_Call_Center_112.jpg/640px-Emergency_Call_Center_112.jpg)"
   ]
  },
  {
   "cell_type": "markdown",
   "metadata": {
    "nbpages": {
     "level": 2,
     "link": "[3.7.2 SimPy Stores: A generic tool for simulating queues.](https://jckantor.github.io/CBE40455-2020/03.07-Application-of-Queuing-Systems.html#3.7.2-SimPy-Stores:-A-generic-tool-for-simulating-queues.)",
     "section": "3.7.2 SimPy Stores: A generic tool for simulating queues."
    }
   },
   "source": [
    "## 3.7.2 SimPy Stores: A generic tool for simulating queues.\n",
    "\n",
    "SimPy [shared resources](https://simpy.readthedocs.io/en/latest/topical_guides/resources.html#) provide several means to implement queues in simulations. In particular, the shared resource type [Stores](https://simpy.readthedocs.io/en/latest/topical_guides/resources.html#res-type-store) is easy to use and well-suited to this purpose. The essential features are:\n",
    "\n",
    "* `store = simpy.Store(env, capacity=4)` creates a new store object with a capacity of 4. Omitting capacity creates an a infinitely long queue.\n",
    "* `yield store.put(x)` puts a Python object `x` on the queue. If the store is currently full, then generator instance waits until space is available.\n",
    "* `x = yield store.get()` retrieves a Python object from the store. The default is to recover objects on a first-in-first-out discipline. Other disciplines can be implemented using the `FilterStore` or `PriortyStore` objects.\n",
    "* `store.items` returns a list of all items currently available in the store. "
   ]
  },
  {
   "cell_type": "markdown",
   "metadata": {
    "nbpages": {
     "level": 2,
     "link": "[3.7.3 Example: An Order Processing Queue](https://jckantor.github.io/CBE40455-2020/03.07-Application-of-Queuing-Systems.html#3.7.3-Example:-An-Order-Processing-Queue)",
     "section": "3.7.3 Example: An Order Processing Queue"
    }
   },
   "source": [
    "## 3.7.3 Example: An Order Processing Queue\n",
    "\n",
    "A chemical storeroom processes orders for a large research campus. At peak loads it is expected to receive an average of one order every 12 minutes. The time required to process each order is a fixed 10 minutes. \n",
    "\n",
    "1. Describe the process using the Kendall notation.\n",
    "\n",
    "2. Create a simulation of the order queue that operates for 8 hours. Determine the average time between the arrival and completion of an order, and determine the average queue length. "
   ]
  },
  {
   "cell_type": "code",
   "execution_count": 107,
   "metadata": {
    "nbpages": {
     "level": 2,
     "link": "[3.7.3 Example: An Order Processing Queue](https://jckantor.github.io/CBE40455-2020/03.07-Application-of-Queuing-Systems.html#3.7.3-Example:-An-Order-Processing-Queue)",
     "section": "3.7.3 Example: An Order Processing Queue"
    }
   },
   "outputs": [
    {
     "data": {
      "text/plain": [
       "[<matplotlib.lines.Line2D at 0x7fbe974dd250>]"
      ]
     },
     "execution_count": 107,
     "metadata": {},
     "output_type": "execute_result"
    },
    {
     "data": {
      "image/png": "[encoded data removed]",
      "text/plain": [
       "<Figure size 864x432 with 3 Axes>"
      ]
     },
     "metadata": {
      "needs_background": "light"
     },
     "output_type": "display_data"
    }
   ],
   "source": [
    "%matplotlib inline\n",
    "import matplotlib.pyplot as plt\n",
    "import numpy as np\n",
    "import random\n",
    "import simpy\n",
    "import pandas as pd\n",
    "\n",
    "# time unit = minutes\n",
    "\n",
    "order_log = []    # log data on order processing\n",
    "queue_log = []    # log data on queue length\n",
    "\n",
    "# log time and queue_length at regular time steps\n",
    "def queue_logger(t_step=1.0):\n",
    "    while True:\n",
    "        queue_log.append([env.now, len(queue.items)])\n",
    "        yield env.timeout(t_step)\n",
    "\n",
    "# generate and place orders on the queue at a specified rate\n",
    "def order_generator(order_rate):\n",
    "    order_id = 1\n",
    "    while True:\n",
    "        yield env.timeout(random.expovariate(order_rate))\n",
    "        yield queue.put([order_id, env.now])\n",
    "        order_id += 1\n",
    "    \n",
    "# process orders from the queue with a specified processing time\n",
    "def server(t_process):\n",
    "    while True:\n",
    "        order_id, time_placed = yield queue.get()\n",
    "        yield env.timeout(t_process)\n",
    "        log.append([order_id, time_placed, env.now])\n",
    "        \n",
    "env = simpy.Environment()\n",
    "queue = simpy.Store(env)\n",
    "\n",
    "env.process(queue_logger(0.1))\n",
    "env.process(order_generator(1/12.0))\n",
    "env.process(server(10.0))\n",
    "\n",
    "env.run(until=8*60)\n",
    "\n",
    "queue_df = pd.DataFrame(queue_log, columns=[\"time\", \"queue length\"])\n",
    "order_df = pd.DataFrame(order_log, columns=[\"order id\", \"start\", \"finish\"])\n",
    "\n",
    "fig, ax = plt.subplots(3, 1, figsize=(12, 6))\n",
    "\n",
    "ax[0].plot(queue_df[\"time\"], queue_df[\"queue length\"])\n",
    "ax[0].set_xlabel(\"time / min\")\n",
    "ax[0].set_title(\"queue length\")\n",
    "\n",
    "order_df[\"elapsed\"] = order_df[\"finish\"] - order_df[\"start\"]\n",
    "ax[1].plot(df_orders[\"elapsed\"])\n",
    "#ax[1].hist(df_orders[\"elapsed\"], bins=int(np.sqrt(len(df_orders.index))));\n",
    "#ax[1].set_xlim((0,ax[1].get_xlim()[1]))"
   ]
  },
  {
   "cell_type": "markdown",
   "metadata": {
    "nbpages": {
     "level": 2,
     "link": "[3.7.4 Example: Grocery Store](https://jckantor.github.io/CBE40455-2020/03.07-Application-of-Queuing-Systems.html#3.7.4-Example:-Grocery-Store)",
     "section": "3.7.4 Example: Grocery Store"
    }
   },
   "source": [
    "## 3.7.4 Example: Grocery Store\n",
    "\n",
    "Consider a grocery store with muliple checkout lines. Each checkout line is managed by a server, each server with a unique rate at checking items. Let's develop a simulation.\n",
    "\n",
    "1. What would be the key performance indicators to monitor?\n",
    "2. What assumptions should we make about customer behavior?\n",
    "3. What data is needed to describe the objects in each queue?\n",
    "4. Are all checkout lanes the same?\n",
    "5. How can we set up this simulation?"
   ]
  },
  {
   "cell_type": "markdown",
   "metadata": {
    "nbpages": {
     "level": 2,
     "link": "[3.7.5 Example: Batch Chemical Processing](https://jckantor.github.io/CBE40455-2020/03.07-Application-of-Queuing-Systems.html#3.7.5-Example:-Batch-Chemical-Processing)",
     "section": "3.7.5 Example: Batch Chemical Processing"
    }
   },
   "source": [
    "## 3.7.5 Example: Batch Chemical Processing\n",
    "\n",
    "Schultheisz, Daniel, and Jude T. Sommerfeld. \"Discrete-Event Simulation in Chemical Engineering.\" Chemical Engineering Education 22.2 (1988): 98-102.\n",
    "\n",
    "![Batch Process](figures/BatchProcess.png)\n",
    "\n",
    "    \"... a small, single-product batch chemical plant has three identical reactors in parallel, followed by a single storage tank and a batch still. Customer orders (batches) to be filled (which begin with processing in the reactor) occur every 115 ± 30 minutes, uniformly distributed. The reaction time in a given reactor is 335 ± 60 minutes, and the distillation time in the still is 110 ± 25 minutes, both times uniformly distributed. The holding capacity of the storage tank is exactly one batch. Hence, the storage tank must be empty for a given reactor to discharge its batch; if not, the reactor cannot begin processing a new batch until the storage tank becomes empty. The simulation is to be run for 100 batches. The model should have the capability to collect waiting line statistics for the queue im- mediately upstream of the reactor.\"\"\n",
    "    \n",
    "    G/G/3"
   ]
  },
  {
   "cell_type": "code",
   "execution_count": 32,
   "metadata": {
    "nbpages": {
     "level": 2,
     "link": "[3.7.5 Example: Batch Chemical Processing](https://jckantor.github.io/CBE40455-2020/03.07-Application-of-Queuing-Systems.html#3.7.5-Example:-Batch-Chemical-Processing)",
     "section": "3.7.5 Example: Batch Chemical Processing"
    },
    "pycharm": {}
   },
   "outputs": [],
   "source": [
    "%matplotlib inline\n",
    "import matplotlib.pyplot as plt\n",
    "\n",
    "import random\n",
    "import simpy"
   ]
  },
  {
   "cell_type": "markdown",
   "metadata": {
    "nbpages": {
     "level": 2,
     "link": "[3.7.5 Example: Batch Chemical Processing](https://jckantor.github.io/CBE40455-2020/03.07-Application-of-Queuing-Systems.html#3.7.5-Example:-Batch-Chemical-Processing)",
     "section": "3.7.5 Example: Batch Chemical Processing"
    },
    "pycharm": {}
   },
   "source": [
    "The first step in any SimPy simulation is to setup the simulation environment and define any shared resources that may be used in the course of the simulation."
   ]
  },
  {
   "cell_type": "code",
   "execution_count": 33,
   "metadata": {
    "nbpages": {
     "level": 2,
     "link": "[3.7.5 Example: Batch Chemical Processing](https://jckantor.github.io/CBE40455-2020/03.07-Application-of-Queuing-Systems.html#3.7.5-Example:-Batch-Chemical-Processing)",
     "section": "3.7.5 Example: Batch Chemical Processing"
    },
    "pycharm": {}
   },
   "outputs": [],
   "source": [
    "env = simpy.Environment()"
   ]
  },
  {
   "cell_type": "markdown",
   "metadata": {
    "nbpages": {
     "level": 2,
     "link": "[3.7.5 Example: Batch Chemical Processing](https://jckantor.github.io/CBE40455-2020/03.07-Application-of-Queuing-Systems.html#3.7.5-Example:-Batch-Chemical-Processing)",
     "section": "3.7.5 Example: Batch Chemical Processing"
    },
    "pycharm": {}
   },
   "source": [
    "In this application, the batch process is conceptually modeled as a sequence of components that process individual orders. Here we use the SimPy [Store](http://simpy.readthedocs.io/en/latest/api_reference/simpy.resources.html) primative to describe the reactor queue and storage tank. These components will accept orders corresponding to batches, and process them on a first-in, first-out (FIFO) basis.  We'll put no upper limit on the orders that can be stored in the reactor queue, but we will establish the storage tank so that it can accept only one batch at a time."
   ]
  },
  {
   "cell_type": "code",
   "execution_count": 34,
   "metadata": {
    "nbpages": {
     "level": 2,
     "link": "[3.7.5 Example: Batch Chemical Processing](https://jckantor.github.io/CBE40455-2020/03.07-Application-of-Queuing-Systems.html#3.7.5-Example:-Batch-Chemical-Processing)",
     "section": "3.7.5 Example: Batch Chemical Processing"
    },
    "pycharm": {}
   },
   "outputs": [],
   "source": [
    "customer_order_queue = simpy.Store(env)"
   ]
  },
  {
   "cell_type": "markdown",
   "metadata": {
    "nbpages": {
     "level": 2,
     "link": "[3.7.5 Example: Batch Chemical Processing](https://jckantor.github.io/CBE40455-2020/03.07-Application-of-Queuing-Systems.html#3.7.5-Example:-Batch-Chemical-Processing)",
     "section": "3.7.5 Example: Batch Chemical Processing"
    },
    "pycharm": {}
   },
   "source": [
    "Next we turn to the process that will generate the customer orders. The function `order_generator` begins by initializing a counter that will be used to assigned a consecutive order numbers, after which `order_generator` enters a loop that will create a total of 100 orders for the simulation.\n",
    "\n",
    "At the start of each loop, `order_generator` issues a yield statement that will return control back to the simulation for a simulated period extending into the future. The period is given by a random number uniformly distributed in the range 115 +/- 30 minutes. \n",
    "\n",
    "Technically speaking, the `yield` statement defines the function as a generator of events, and provides the means for `order_generator` to communicate with other processes and to be controlled by the simulation environment. At least one `yield` statement is needed in every function that will simulate a SimPy process.\n",
    "\n",
    "Once control returns to `order_generator`, the order counter is incremented and a second yield used to request the simuation environment put the order into the reactor queue. On return the order_generator completes the loop by writing an entry into the simulation log.\n",
    "\n",
    "The `env.process()` creates order generator within the simulation environment. The actual simulation, however, happens later when we use `env.run()` after creating the other needed processes for this application. "
   ]
  },
  {
   "cell_type": "code",
   "execution_count": 36,
   "metadata": {
    "nbpages": {
     "level": 2,
     "link": "[3.7.5 Example: Batch Chemical Processing](https://jckantor.github.io/CBE40455-2020/03.07-Application-of-Queuing-Systems.html#3.7.5-Example:-Batch-Chemical-Processing)",
     "section": "3.7.5 Example: Batch Chemical Processing"
    },
    "pycharm": {}
   },
   "outputs": [
    {
     "data": {
      "text/plain": [
       "<Process(order_generator) object at 0x7fa83184c6d0>"
      ]
     },
     "execution_count": 36,
     "metadata": {},
     "output_type": "execute_result"
    }
   ],
   "source": [
    "def order_generator(env, customer_order_queue):\n",
    "    orderID = 1\n",
    "    while orderID <= 100:\n",
    "        yield env.timeout(random.uniform(115-30,115+30))\n",
    "        yield customer_order_queue.put(orderID)\n",
    "        writeLog(env, orderID, 'Stage 0', 'Queue')\n",
    "        orderID += 1\n",
    "        \n",
    "env.process(order_generator(env, customer_order_queue))"
   ]
  },
  {
   "cell_type": "markdown",
   "metadata": {
    "nbpages": {
     "level": 2,
     "link": "[3.7.5 Example: Batch Chemical Processing](https://jckantor.github.io/CBE40455-2020/03.07-Application-of-Queuing-Systems.html#3.7.5-Example:-Batch-Chemical-Processing)",
     "section": "3.7.5 Example: Batch Chemical Processing"
    },
    "pycharm": {}
   },
   "source": [
    "The user is responsible for managing the logging of simulation events.  A simple but useful approach is to initialize a Python list, then append data containing a description of the event and time at which it occurred. Later we'll see how to process this log to get the desired process performance indicators."
   ]
  },
  {
   "cell_type": "code",
   "execution_count": 37,
   "metadata": {
    "nbpages": {
     "level": 2,
     "link": "[3.7.5 Example: Batch Chemical Processing](https://jckantor.github.io/CBE40455-2020/03.07-Application-of-Queuing-Systems.html#3.7.5-Example:-Batch-Chemical-Processing)",
     "section": "3.7.5 Example: Batch Chemical Processing"
    },
    "pycharm": {}
   },
   "outputs": [],
   "source": [
    "log = []\n",
    "def writeLog(env, orderID, stage, event):\n",
    "    log.append([orderID, stage, event, env.now])"
   ]
  },
  {
   "cell_type": "code",
   "execution_count": 38,
   "metadata": {
    "nbpages": {
     "level": 2,
     "link": "[3.7.5 Example: Batch Chemical Processing](https://jckantor.github.io/CBE40455-2020/03.07-Application-of-Queuing-Systems.html#3.7.5-Example:-Batch-Chemical-Processing)",
     "section": "3.7.5 Example: Batch Chemical Processing"
    }
   },
   "outputs": [],
   "source": [
    "env.run()"
   ]
  },
  {
   "cell_type": "code",
   "execution_count": 39,
   "metadata": {
    "nbpages": {
     "level": 2,
     "link": "[3.7.5 Example: Batch Chemical Processing](https://jckantor.github.io/CBE40455-2020/03.07-Application-of-Queuing-Systems.html#3.7.5-Example:-Batch-Chemical-Processing)",
     "section": "3.7.5 Example: Batch Chemical Processing"
    }
   },
   "outputs": [
    {
     "data": {
      "text/plain": [
       "[[1, 'Stage 0', 'Queue', 139.7912689063472],\n",
       " [2, 'Stage 0', 'Queue', 281.90183364963775],\n",
       " [3, 'Stage 0', 'Queue', 383.9453070616212],\n",
       " [4, 'Stage 0', 'Queue', 473.3172502050613],\n",
       " [5, 'Stage 0', 'Queue', 579.7437399430546],\n",
       " [6, 'Stage 0', 'Queue', 700.9082069695478],\n",
       " [7, 'Stage 0', 'Queue', 797.3263526092184],\n",
       " [8, 'Stage 0', 'Queue', 938.8568078270348],\n",
       " [9, 'Stage 0', 'Queue', 1055.831373019922],\n",
       " [10, 'Stage 0', 'Queue', 1158.4320187228143],\n",
       " [11, 'Stage 0', 'Queue', 1284.9471277131183],\n",
       " [12, 'Stage 0', 'Queue', 1373.0125904139793],\n",
       " [13, 'Stage 0', 'Queue', 1469.363988086261],\n",
       " [14, 'Stage 0', 'Queue', 1571.3833209362244],\n",
       " [15, 'Stage 0', 'Queue', 1699.2527666939222],\n",
       " [16, 'Stage 0', 'Queue', 1822.6510441755897],\n",
       " [17, 'Stage 0', 'Queue', 1915.304591044007],\n",
       " [18, 'Stage 0', 'Queue', 2041.8743538454528],\n",
       " [19, 'Stage 0', 'Queue', 2155.278139269896],\n",
       " [20, 'Stage 0', 'Queue', 2290.0547002600742],\n",
       " [21, 'Stage 0', 'Queue', 2393.5362204948715],\n",
       " [22, 'Stage 0', 'Queue', 2506.2849727620733],\n",
       " [23, 'Stage 0', 'Queue', 2642.6189836453086],\n",
       " [24, 'Stage 0', 'Queue', 2729.8169921354465],\n",
       " [25, 'Stage 0', 'Queue', 2832.19696545759],\n",
       " [26, 'Stage 0', 'Queue', 2929.6045375554263],\n",
       " [27, 'Stage 0', 'Queue', 3070.3439449353186],\n",
       " [28, 'Stage 0', 'Queue', 3211.7279498110393],\n",
       " [29, 'Stage 0', 'Queue', 3336.40988792481],\n",
       " [30, 'Stage 0', 'Queue', 3463.380538361207],\n",
       " [31, 'Stage 0', 'Queue', 3603.2230123608497],\n",
       " [32, 'Stage 0', 'Queue', 3711.035428144933],\n",
       " [33, 'Stage 0', 'Queue', 3846.174135049626],\n",
       " [34, 'Stage 0', 'Queue', 3941.908203577261],\n",
       " [35, 'Stage 0', 'Queue', 4059.7083248328127],\n",
       " [36, 'Stage 0', 'Queue', 4170.078647909729],\n",
       " [37, 'Stage 0', 'Queue', 4305.77360484569],\n",
       " [38, 'Stage 0', 'Queue', 4395.53096517807],\n",
       " [39, 'Stage 0', 'Queue', 4536.0827433731665],\n",
       " [40, 'Stage 0', 'Queue', 4660.549148301049],\n",
       " [41, 'Stage 0', 'Queue', 4771.915112790694],\n",
       " [42, 'Stage 0', 'Queue', 4908.858514856362],\n",
       " [43, 'Stage 0', 'Queue', 5007.856696350772],\n",
       " [44, 'Stage 0', 'Queue', 5125.895058131786],\n",
       " [45, 'Stage 0', 'Queue', 5259.66045952376],\n",
       " [46, 'Stage 0', 'Queue', 5354.399130237207],\n",
       " [47, 'Stage 0', 'Queue', 5483.216083813942],\n",
       " [48, 'Stage 0', 'Queue', 5597.939751736744],\n",
       " [49, 'Stage 0', 'Queue', 5711.070472200441],\n",
       " [50, 'Stage 0', 'Queue', 5847.5720533883505],\n",
       " [51, 'Stage 0', 'Queue', 5938.885193496104],\n",
       " [52, 'Stage 0', 'Queue', 6074.379038858271],\n",
       " [53, 'Stage 0', 'Queue', 6170.097868087694],\n",
       " [54, 'Stage 0', 'Queue', 6296.965828425611],\n",
       " [55, 'Stage 0', 'Queue', 6386.230592889007],\n",
       " [56, 'Stage 0', 'Queue', 6501.134880674207],\n",
       " [57, 'Stage 0', 'Queue', 6639.365892028055],\n",
       " [58, 'Stage 0', 'Queue', 6750.043874352989],\n",
       " [59, 'Stage 0', 'Queue', 6886.445488191414],\n",
       " [60, 'Stage 0', 'Queue', 6985.649225657926],\n",
       " [61, 'Stage 0', 'Queue', 7100.921676185798],\n",
       " [62, 'Stage 0', 'Queue', 7194.905104793235],\n",
       " [63, 'Stage 0', 'Queue', 7291.21004031581],\n",
       " [64, 'Stage 0', 'Queue', 7411.807271603546],\n",
       " [65, 'Stage 0', 'Queue', 7541.9225706988345],\n",
       " [66, 'Stage 0', 'Queue', 7663.532255909225],\n",
       " [67, 'Stage 0', 'Queue', 7808.497271428981],\n",
       " [68, 'Stage 0', 'Queue', 7893.914423491529],\n",
       " [69, 'Stage 0', 'Queue', 7988.467184947141],\n",
       " [70, 'Stage 0', 'Queue', 8133.331587205895],\n",
       " [71, 'Stage 0', 'Queue', 8250.26166814278],\n",
       " [72, 'Stage 0', 'Queue', 8352.826517833395],\n",
       " [73, 'Stage 0', 'Queue', 8449.030320608046],\n",
       " [74, 'Stage 0', 'Queue', 8565.33638606168],\n",
       " [75, 'Stage 0', 'Queue', 8697.03378742154],\n",
       " [76, 'Stage 0', 'Queue', 8834.792708239542],\n",
       " [77, 'Stage 0', 'Queue', 8956.134435889602],\n",
       " [78, 'Stage 0', 'Queue', 9051.059534162901],\n",
       " [79, 'Stage 0', 'Queue', 9156.387991246875],\n",
       " [80, 'Stage 0', 'Queue', 9298.27282815946],\n",
       " [81, 'Stage 0', 'Queue', 9432.612966261526],\n",
       " [82, 'Stage 0', 'Queue', 9518.958039574118],\n",
       " [83, 'Stage 0', 'Queue', 9622.244858766759],\n",
       " [84, 'Stage 0', 'Queue', 9738.571191914454],\n",
       " [85, 'Stage 0', 'Queue', 9881.187052184567],\n",
       " [86, 'Stage 0', 'Queue', 9968.89003070113],\n",
       " [87, 'Stage 0', 'Queue', 10085.847687786474],\n",
       " [88, 'Stage 0', 'Queue', 10172.446830735656],\n",
       " [89, 'Stage 0', 'Queue', 10281.001833155075],\n",
       " [90, 'Stage 0', 'Queue', 10408.338121229022],\n",
       " [91, 'Stage 0', 'Queue', 10507.247153761977],\n",
       " [92, 'Stage 0', 'Queue', 10640.706199960125],\n",
       " [93, 'Stage 0', 'Queue', 10784.663646773472],\n",
       " [94, 'Stage 0', 'Queue', 10873.007758668453],\n",
       " [95, 'Stage 0', 'Queue', 10970.584783893359],\n",
       " [96, 'Stage 0', 'Queue', 11087.107698691347],\n",
       " [97, 'Stage 0', 'Queue', 11203.466699373446],\n",
       " [98, 'Stage 0', 'Queue', 11300.12551313884],\n",
       " [99, 'Stage 0', 'Queue', 11405.146524051328],\n",
       " [100, 'Stage 0', 'Queue', 11544.512786337717]]"
      ]
     },
     "execution_count": 39,
     "metadata": {},
     "output_type": "execute_result"
    }
   ],
   "source": [
    "log"
   ]
  },
  {
   "cell_type": "markdown",
   "metadata": {
    "nbpages": {
     "level": 2,
     "link": "[3.7.5 Example: Batch Chemical Processing](https://jckantor.github.io/CBE40455-2020/03.07-Application-of-Queuing-Systems.html#3.7.5-Example:-Batch-Chemical-Processing)",
     "section": "3.7.5 Example: Batch Chemical Processing"
    },
    "pycharm": {}
   },
   "source": [
    "Next we create a function `batch_reactor` that will be use to create processes corresponding to each of the three batch reactors. Each reactor is assigned a unique name so they can be distinguished in the simulation log.\n",
    "\n",
    "The batch reactors have three interactions with the simulation environment. The first is to get an orderID from the reactor_queue. The batch_reactor yields to the simulation environment until an order is ready for processing. Once the processing can start, and suitable event is written to the log, the process waits a period of time corresponding the length of the reaction, and the order put into the storage_tank.  The reactor will wait until the storage tank is ready to accept a new batch.\n",
    "\n",
    "`env.process()` is called three times to put three copies of the batch_reactor process into the simulation environment."
   ]
  },
  {
   "cell_type": "code",
   "execution_count": 19,
   "metadata": {
    "nbpages": {
     "level": 2,
     "link": "[3.7.5 Example: Batch Chemical Processing](https://jckantor.github.io/CBE40455-2020/03.07-Application-of-Queuing-Systems.html#3.7.5-Example:-Batch-Chemical-Processing)",
     "section": "3.7.5 Example: Batch Chemical Processing"
    },
    "pycharm": {}
   },
   "outputs": [
    {
     "data": {
      "text/plain": [
       "<Process(batch_reactor) object at 0x7fa8312b8f10>"
      ]
     },
     "execution_count": 19,
     "metadata": {},
     "output_type": "execute_result"
    }
   ],
   "source": [
    "def batch_reactor(name, env, reactor_queue, storage_tank):\n",
    "    while True:\n",
    "        orderID = yield reactor_queue.get()\n",
    "        writeLog(env, orderID, 'Stage 1', name)\n",
    "        yield env.timeout(random.uniform(335-60,335+60))\n",
    "        writeLog(env, orderID, 'Stage 2', name)\n",
    "        yield storage_tank.put(orderID)\n",
    "        writeLog(env, orderID, 'Stage 3', 'Storage')\n",
    "        \n",
    "env.process(batch_reactor('Reactor A', env, reactor_queue, storage_tank))\n",
    "env.process(batch_reactor('Reactor B', env, reactor_queue, storage_tank))\n",
    "env.process(batch_reactor('Reactor C', env, reactor_queue, storage_tank))"
   ]
  },
  {
   "cell_type": "markdown",
   "metadata": {
    "nbpages": {
     "level": 2,
     "link": "[3.7.5 Example: Batch Chemical Processing](https://jckantor.github.io/CBE40455-2020/03.07-Application-of-Queuing-Systems.html#3.7.5-Example:-Batch-Chemical-Processing)",
     "section": "3.7.5 Example: Batch Chemical Processing"
    },
    "pycharm": {}
   },
   "source": [
    "The last process to model is the batch still. Similar to the reactor model, `batch_still` yields control while waiting for an orderID to be retrieved from a preceding unit. Once an order has been received from the storage_tank, a message is written to the simulation log, time is yielded to the simulation environment corresponding to the time required for distillation, and then a final completion message is written to the log."
   ]
  },
  {
   "cell_type": "code",
   "execution_count": 20,
   "metadata": {
    "nbpages": {
     "level": 2,
     "link": "[3.7.5 Example: Batch Chemical Processing](https://jckantor.github.io/CBE40455-2020/03.07-Application-of-Queuing-Systems.html#3.7.5-Example:-Batch-Chemical-Processing)",
     "section": "3.7.5 Example: Batch Chemical Processing"
    },
    "pycharm": {}
   },
   "outputs": [
    {
     "data": {
      "text/plain": [
       "<Process(batch_still) object at 0x7fa8312b83d0>"
      ]
     },
     "execution_count": 20,
     "metadata": {},
     "output_type": "execute_result"
    }
   ],
   "source": [
    "def batch_still(name, env, storage_tank):\n",
    "    while True:\n",
    "        orderID = yield storage_tank.get()\n",
    "        writeLog(env, orderID, 'Stage 4', name)\n",
    "        yield env.timeout(random.uniform(110-25,110+25))\n",
    "        writeLog(env, orderID, 'Stage 5', 'complete')\n",
    "\n",
    "env.process(batch_still('Still A', env, storage_tank))"
   ]
  },
  {
   "cell_type": "markdown",
   "metadata": {
    "nbpages": {
     "level": 2,
     "link": "[3.7.5 Example: Batch Chemical Processing](https://jckantor.github.io/CBE40455-2020/03.07-Application-of-Queuing-Systems.html#3.7.5-Example:-Batch-Chemical-Processing)",
     "section": "3.7.5 Example: Batch Chemical Processing"
    },
    "pycharm": {}
   },
   "source": [
    "We're now ready to run the the simulation.  In this case the simulation is limited to the 100 orders generated in the `order_generator` process. Simulation is complete once all of the resulting events have been processed."
   ]
  },
  {
   "cell_type": "code",
   "execution_count": 21,
   "metadata": {
    "nbpages": {
     "level": 2,
     "link": "[3.7.5 Example: Batch Chemical Processing](https://jckantor.github.io/CBE40455-2020/03.07-Application-of-Queuing-Systems.html#3.7.5-Example:-Batch-Chemical-Processing)",
     "section": "3.7.5 Example: Batch Chemical Processing"
    },
    "pycharm": {}
   },
   "outputs": [
    {
     "name": "stdout",
     "output_type": "stream",
     "text": [
      "Simulation complete.\n",
      "600  messages have been logged.\n"
     ]
    }
   ],
   "source": [
    "env.run()\n",
    "\n",
    "print('Simulation complete.')\n",
    "print(len(log), ' messages have been logged.')"
   ]
  },
  {
   "cell_type": "markdown",
   "metadata": {
    "nbpages": {
     "level": 2,
     "link": "[3.7.6 Processing the Simulation Log](https://jckantor.github.io/CBE40455-2020/03.07-Application-of-Queuing-Systems.html#3.7.6-Processing-the-Simulation-Log)",
     "section": "3.7.6 Processing the Simulation Log"
    },
    "pycharm": {}
   },
   "source": [
    "## 3.7.6 Processing the Simulation Log"
   ]
  },
  {
   "cell_type": "code",
   "execution_count": 22,
   "metadata": {
    "nbpages": {
     "level": 2,
     "link": "[3.7.6 Processing the Simulation Log](https://jckantor.github.io/CBE40455-2020/03.07-Application-of-Queuing-Systems.html#3.7.6-Processing-the-Simulation-Log)",
     "section": "3.7.6 Processing the Simulation Log"
    },
    "pycharm": {},
    "scrolled": true
   },
   "outputs": [],
   "source": [
    "def process_log(log):\n",
    "\n",
    "    df = pd.DataFrame([[a,b,c,t] for (a,b,c,t) in log])\n",
    "    df = df.pivot(index=0,columns=1,values=3).reset_index()\n",
    "    df = df.set_index([0]).dropna()\n",
    "    df.index.rename('OrderID',inplace=True)\n",
    "\n",
    "    stage1 = df['Stage 1']-df['Stage 0']\n",
    "    stage2 = df['Stage 2']-df['Stage 1']\n",
    "    stage3 = df['Stage 3']-df['Stage 2']\n",
    "    stage4 = df['Stage 4']-df['Stage 3']\n",
    "    stage5 = df['Stage 5']-df['Stage 4']\n",
    "\n",
    "    print('Mean Order Completion = {0:6.1f} min.\\n'.format((df['Stage 5'] - df['Stage 0']).mean()))\n",
    "\n",
    "    print('Mean Time in Process Stages:\\n')\n",
    "    print('     Reactor Queue = {0:6.1f} min.'.format(stage1.mean()))\n",
    "    print('          Reactors = {0:6.1f} min.'.format(stage2.mean()))\n",
    "    print('    Reactor Holdup = {0:6.1f} min.'.format(stage3.mean()))\n",
    "    print('           Storage = {0:6.1f} min.'.format(stage4.mean()))\n",
    "    print('             Still = {0:6.1f} min.'.format(stage5.mean()))\n",
    "\n",
    "    print('\\nUtilization\\n')\n",
    "    print('Reactor Utilization = {0:5.3f}'.format(stage2.sum()/3.0/(df['Stage 2'].max()-df['Stage 2'].min())))\n",
    "    print('  Still Utilization = {0:5.3f}'.format(stage5.sum()/(df['Stage 5'].max()-df['Stage 5'].min())))\n",
    "    \n",
    "    stage1.hist(bins=30)\n",
    "    plt.title('Distribution of Reactor Queue Times')\n",
    "    plt.ylabel('Count')\n",
    "    plt.xlabel('Minutes')"
   ]
  },
  {
   "cell_type": "code",
   "execution_count": 23,
   "metadata": {
    "nbpages": {
     "level": 2,
     "link": "[3.7.6 Processing the Simulation Log](https://jckantor.github.io/CBE40455-2020/03.07-Application-of-Queuing-Systems.html#3.7.6-Processing-the-Simulation-Log)",
     "section": "3.7.6 Processing the Simulation Log"
    },
    "pycharm": {}
   },
   "outputs": [
    {
     "name": "stdout",
     "output_type": "stream",
     "text": [
      "Mean Order Completion =  501.3 min.\n",
      "\n",
      "Mean Time in Process Stages:\n",
      "\n",
      "     Reactor Queue =   22.9 min.\n",
      "          Reactors =  335.2 min.\n",
      "    Reactor Holdup =    0.2 min.\n",
      "           Storage =   34.1 min.\n",
      "             Still =  109.0 min.\n",
      "\n",
      "Utilization\n",
      "\n",
      "Reactor Utilization = 0.960\n",
      "  Still Utilization = 0.932\n"
     ]
    },
    {
     "data": {
      "image/png": "[encoded data removed]",
      "text/plain": [
       "<Figure size 432x288 with 1 Axes>"
      ]
     },
     "metadata": {
      "needs_background": "light"
     },
     "output_type": "display_data"
    }
   ],
   "source": [
    "process_log(log)"
   ]
  },
  {
   "cell_type": "code",
   "execution_count": null,
   "metadata": {
    "nbpages": {
     "level": 2,
     "link": "[3.7.6 Processing the Simulation Log](https://jckantor.github.io/CBE40455-2020/03.07-Application-of-Queuing-Systems.html#3.7.6-Processing-the-Simulation-Log)",
     "section": "3.7.6 Processing the Simulation Log"
    }
   },
   "outputs": [],
   "source": []
  },
  {
   "cell_type": "markdown",
   "metadata": {},
   "source": [
    "<!--NAVIGATION-->\n",
    "< [3.6 Simulating Queuing Systems](https://jckantor.github.io/CBE40455-2020/03.06-Queuing-Systems-and-Poisson-Processes.html) | [Contents](toc.html) |<p><a href=\"https://colab.research.google.com/github/jckantor/CBE40455-2020/blob/master/docs/03.07-Application-of-Queuing-Systems.ipynb\"> <img align=\"left\" src=\"https://colab.research.google.com/assets/colab-badge.svg\" alt=\"Open in Colab\" title=\"Open in Google Colaboratory\"></a><p><a href=\"https://jckantor.github.io/CBE40455-2020/03.07-Application-of-Queuing-Systems.ipynb\"> <img align=\"left\" src=\"https://img.shields.io/badge/Github-Download-blue.svg\" alt=\"Download\" title=\"Download Notebook\"></a>"
   ]
  }
 ],
 "metadata": {
  "kernelspec": {
   "display_name": "Python 3",
   "language": "python",
   "name": "python3"
  },
  "language_info": {
   "codemirror_mode": {
    "name": "ipython",
    "version": 3
   },
   "file_extension": ".py",
   "mimetype": "text/x-python",
   "name": "python",
   "nbconvert_exporter": "python",
   "pygments_lexer": "ipython3",
   "version": "3.7.4"
  }
 },
 "nbformat": 4,
 "nbformat_minor": 4
}
