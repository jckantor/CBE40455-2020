{
 "cells": [
  {
   "cell_type": "markdown",
   "metadata": {},
   "source": [
    "<!--NOTEBOOK_HEADER-->\n",
    "*This notebook contains material from [CBE40455-2020](https://jckantor.github.io/CBE40455-2020);\n",
    "content is available [on Github](https://github.com/jckantor/CBE40455-2020.git).*\n"
   ]
  },
  {
   "cell_type": "markdown",
   "metadata": {},
   "source": [
    "<!--NAVIGATION-->\n",
    "< [3.10 Objected-Oriented Simulation](https://jckantor.github.io/CBE40455-2020/03.10-Creating-Simulation-Classes.html) | [Contents](toc.html) | [3.12 Little's Law and other Odds and Ends](https://jckantor.github.io/CBE40455-2020/03.12-Littles-Law-and-other-Odds-and-Ends.html) ><p><a href=\"https://colab.research.google.com/github/jckantor/CBE40455-2020/blob/master/docs/03.11-Project-Batch-Chemical-Process.ipynb\"> <img align=\"left\" src=\"https://colab.research.google.com/assets/colab-badge.svg\" alt=\"Open in Colab\" title=\"Open in Google Colaboratory\"></a><p><a href=\"https://jckantor.github.io/CBE40455-2020/03.11-Project-Batch-Chemical-Process.ipynb\"> <img align=\"left\" src=\"https://img.shields.io/badge/Github-Download-blue.svg\" alt=\"Download\" title=\"Download Notebook\"></a>"
   ]
  },
  {
   "cell_type": "markdown",
   "metadata": {
    "nbpages": {
     "level": 1,
     "link": "[3.11 Batch Chemical Process](https://jckantor.github.io/CBE40455-2020/03.11-Project-Batch-Chemical-Process.html#3.11-Batch-Chemical-Process)",
     "section": "3.11 Batch Chemical Process"
    }
   },
   "source": [
    "# 3.11 Batch Chemical Process\n"
   ]
  },
  {
   "cell_type": "markdown",
   "metadata": {
    "nbpages": {
     "level": 2,
     "link": "[3.11.1 Problem Statement](https://jckantor.github.io/CBE40455-2020/03.11-Project-Batch-Chemical-Process.html#3.11.1-Problem-Statement)",
     "section": "3.11.1 Problem Statement"
    }
   },
   "source": [
    "## 3.11.1 Problem Statement\n",
    "\n",
    "Schultheisz, Daniel, and Jude T. Sommerfeld. \"Discrete-Event Simulation in Chemical Engineering.\" Chemical Engineering Education 22.2 (1988): 98-102.\n",
    "\n",
    "![Batch Process](figures/BatchProcess.png)\n",
    "\n",
    "    \"... a small, single-product batch chemical plant has three identical reactors in parallel, followed by a single storage tank and a batch still. Customer orders (batches) to be filled (which begin with processing in the reactor) occur every 115 ± 30 minutes, uniformly distributed. The reaction time in a given reactor is 335 ± 60 minutes, and the distillation time in the still is 110 ± 25 minutes, both times uniformly distributed. The holding capacity of the storage tank is exactly one batch. Hence, the storage tank must be empty for a given reactor to discharge its batch; if not, the reactor cannot begin processing a new batch until the storage tank becomes empty. The simulation is to be run for 100 batches. The model should have the capability to collect waiting line statistics for the queue immediately upstream of the reactor.\"\"\n",
    "    \n",
    "    \n",
    "You have been hired by the client as a consulting engineer. Prepare a SimPy simulation of this process to deliver to the client. The delivery should include functions to report the key performance indicators, visualize the results of the simulation, and to conduct 'what-if' studies to determine ways to improve process performance."
   ]
  },
  {
   "cell_type": "markdown",
   "metadata": {
    "nbpages": {
     "level": 2,
     "link": "[3.11.2 Analysis](https://jckantor.github.io/CBE40455-2020/03.11-Project-Batch-Chemical-Process.html#3.11.2-Analysis)",
     "section": "3.11.2 Analysis"
    }
   },
   "source": [
    "## 3.11.2 Analysis\n",
    "\n",
    "1. What is the purpose of the simulation? What question needs to be answered? In thinking about this, carefully consider what has been requested, what other questions are relevant to improving system performance.\n",
    "\n",
    "2. What are the key performance indicators?  What data needs to be collected?\n",
    "\n",
    "3. What simulation objects should be created for this application?\n",
    "\n",
    "4. What classes of shared resources will be used in this model?"
   ]
  },
  {
   "cell_type": "code",
   "execution_count": null,
   "metadata": {
    "nbpages": {
     "level": 2,
     "link": "[3.11.2 Analysis](https://jckantor.github.io/CBE40455-2020/03.11-Project-Batch-Chemical-Process.html#3.11.2-Analysis)",
     "section": "3.11.2 Analysis"
    }
   },
   "outputs": [],
   "source": []
  },
  {
   "cell_type": "markdown",
   "metadata": {},
   "source": [
    "<!--NAVIGATION-->\n",
    "< [3.10 Objected-Oriented Simulation](https://jckantor.github.io/CBE40455-2020/03.10-Creating-Simulation-Classes.html) | [Contents](toc.html) | [3.12 Little's Law and other Odds and Ends](https://jckantor.github.io/CBE40455-2020/03.12-Littles-Law-and-other-Odds-and-Ends.html) ><p><a href=\"https://colab.research.google.com/github/jckantor/CBE40455-2020/blob/master/docs/03.11-Project-Batch-Chemical-Process.ipynb\"> <img align=\"left\" src=\"https://colab.research.google.com/assets/colab-badge.svg\" alt=\"Open in Colab\" title=\"Open in Google Colaboratory\"></a><p><a href=\"https://jckantor.github.io/CBE40455-2020/03.11-Project-Batch-Chemical-Process.ipynb\"> <img align=\"left\" src=\"https://img.shields.io/badge/Github-Download-blue.svg\" alt=\"Download\" title=\"Download Notebook\"></a>"
   ]
  }
 ],
 "metadata": {
  "kernelspec": {
   "display_name": "Python 3",
   "language": "python",
   "name": "python3"
  },
  "language_info": {
   "codemirror_mode": {
    "name": "ipython",
    "version": 3
   },
   "file_extension": ".py",
   "mimetype": "text/x-python",
   "name": "python",
   "nbconvert_exporter": "python",
   "pygments_lexer": "ipython3",
   "version": "3.7.4"
  }
 },
 "nbformat": 4,
 "nbformat_minor": 4
}
