{
 "cells": [
  {
   "cell_type": "markdown",
   "metadata": {},
   "source": [
    "<!--NOTEBOOK_HEADER-->\n",
    "*This notebook contains material from [CBE40455-2020](https://jckantor.github.io/CBE40455-2020);\n",
    "content is available [on Github](https://github.com/jckantor/CBE40455-2020.git).*\n"
   ]
  },
  {
   "cell_type": "markdown",
   "metadata": {},
   "source": [
    "<!--NAVIGATION-->\n",
    "< [3.6 Simulating Queuing Systems](https://jckantor.github.io/CBE40455-2020/03.06-Queuing-Systems-and-Poisson-Processes.html) | [Contents](toc.html) | [3.8 Modeling and Simulation of a Grocery Store Checkout Operation](https://jckantor.github.io/CBE40455-2020/03.08-Modeling-and-Simulation-of-a-Grocery-Store-Checkout-Operation.html) ><p><a href=\"https://colab.research.google.com/github/jckantor/CBE40455-2020/blob/master/docs/03.07-Simulating-Queuing-Systems.ipynb\"> <img align=\"left\" src=\"https://colab.research.google.com/assets/colab-badge.svg\" alt=\"Open in Colab\" title=\"Open in Google Colaboratory\"></a><p><a href=\"https://jckantor.github.io/CBE40455-2020/03.07-Simulating-Queuing-Systems.ipynb\"> <img align=\"left\" src=\"https://img.shields.io/badge/Github-Download-blue.svg\" alt=\"Download\" title=\"Download Notebook\"></a>"
   ]
  },
  {
   "cell_type": "markdown",
   "metadata": {
    "nbpages": {
     "level": 1,
     "link": "[3.7 Simulating Queuing Systems](https://jckantor.github.io/CBE40455-2020/03.07-Simulating-Queuing-Systems.html#3.7-Simulating-Queuing-Systems)",
     "section": "3.7 Simulating Queuing Systems"
    }
   },
   "source": [
    "# 3.7 Simulating Queuing Systems"
   ]
  },
  {
   "cell_type": "markdown",
   "metadata": {
    "nbpages": {
     "level": 2,
     "link": "[3.7.1 Kendall notation for queues](https://jckantor.github.io/CBE40455-2020/03.07-Simulating-Queuing-Systems.html#3.7.1-Kendall-notation-for-queues)",
     "section": "3.7.1 Kendall notation for queues"
    }
   },
   "source": [
    "## 3.7.1 Kendall notation for queues\n",
    "\n",
    "Kendall notation is a standardized methods to describe and classify queues. The notation consists of three factors written as A/S/c where where A describes the arrival process, S the service process, and c is the number of servers attending the queue.\n",
    "\n",
    "* $A/S/c$\n",
    "    * $A$: statistical nature of the arrival process \n",
    "    * $S$: Statistical nature of the service process \n",
    "    * $c$: Number of servers at the queue node\n",
    "    \n",
    "* Typical Statistics\n",
    "    * D: Deterministic (average arrival rate $\\lambda$)\n",
    "    * M: Markov or memoryless (average arrival rate $r$)\n",
    "    * G: General or arbitrary distribution (mean $\\mu$ and standard deviation $\\simga$ or variance $\\sigma^2$)\n",
    "    \n",
    "Example: M/D/1\n",
    "\n",
    "![Aircraft queue](https://i0.wp.com/nats.aero/blog/wp-content/uploads/2013/08/aircraft-queue-e1377251576844.jpg?ssl=1)\n",
    "\n",
    "Example: M/M/8\n",
    "\n",
    "![Call Center](https://upload.wikimedia.org/wikipedia/commons/thumb/b/b1/Emergency_Call_Center_112.jpg/640px-Emergency_Call_Center_112.jpg)"
   ]
  },
  {
   "cell_type": "markdown",
   "metadata": {
    "nbpages": {
     "level": 2,
     "link": "[3.7.2 SimPy Stores: A generic tool for simulating queues.](https://jckantor.github.io/CBE40455-2020/03.07-Simulating-Queuing-Systems.html#3.7.2-SimPy-Stores:-A-generic-tool-for-simulating-queues.)",
     "section": "3.7.2 SimPy Stores: A generic tool for simulating queues."
    }
   },
   "source": [
    "## 3.7.2 SimPy Stores: A generic tool for simulating queues.\n",
    "\n",
    "SimPy [shared resources](https://simpy.readthedocs.io/en/latest/topical_guides/resources.html#) provide several means to implement queues in simulations. In particular, the shared resource type [Stores](https://simpy.readthedocs.io/en/latest/topical_guides/resources.html#res-type-store) is easy to use and well-suited to this purpose. The essential features are:\n",
    "\n",
    "* `store = simpy.Store(env, capacity=4)` creates a new store object with a capacity of 4. Omitting capacity creates an a infinitely long queue.\n",
    "* `yield store.put(x)` puts a Python object `x` on the queue. If the store is currently full, then generator instance waits until space is available.\n",
    "* `x = yield store.get()` retrieves a Python object from the store. The default is to recover objects on a first-in-first-out discipline. Other disciplines can be implemented using the `FilterStore` or `PriortyStore` objects.\n",
    "* `store.items` returns a list of all items currently available in the store. "
   ]
  },
  {
   "cell_type": "markdown",
   "metadata": {
    "nbpages": {
     "level": 2,
     "link": "[3.7.3 Example: An Order Processing Queue](https://jckantor.github.io/CBE40455-2020/03.07-Simulating-Queuing-Systems.html#3.7.3-Example:-An-Order-Processing-Queue)",
     "section": "3.7.3 Example: An Order Processing Queue"
    }
   },
   "source": [
    "## 3.7.3 Example: An Order Processing Queue\n",
    "\n",
    "A chemical storeroom processes orders for a large research campus. At peak loads it is expected to receive an average of one order every 12 minutes. The time required to process each order is a fixed 10 minutes. \n",
    "\n",
    "1. Describe the process using the Kendall notation.\n",
    "\n",
    "2. Create a simulation of the order queue that operates for 8 hours. Determine the average time between the arrival and completion of an order, and determine the average queue length. "
   ]
  },
  {
   "cell_type": "code",
   "execution_count": 31,
   "metadata": {
    "nbpages": {
     "level": 2,
     "link": "[3.7.3 Example: An Order Processing Queue](https://jckantor.github.io/CBE40455-2020/03.07-Simulating-Queuing-Systems.html#3.7.3-Example:-An-Order-Processing-Queue)",
     "section": "3.7.3 Example: An Order Processing Queue"
    }
   },
   "outputs": [
    {
     "data": {
      "image/png": "[encoded data removed]",
      "text/plain": [
       "<Figure size 864x360 with 2 Axes>"
      ]
     },
     "metadata": {
      "needs_background": "light"
     },
     "output_type": "display_data"
    }
   ],
   "source": [
    "%matplotlib inline\n",
    "import matplotlib.pyplot as plt\n",
    "import numpy as np\n",
    "import random\n",
    "import simpy\n",
    "import pandas as pd\n",
    "\n",
    "# time unit = minutes\n",
    "\n",
    "order_log = []    # log data on order processing\n",
    "queue_log = []    # log data on queue length\n",
    "\n",
    "# Poisson process to place orders on the queue at a specified average rate\n",
    "def order_generator(order_rate):\n",
    "    order_id = 1\n",
    "    while True:\n",
    "        yield env.timeout(random.expovariate(order_rate))\n",
    "        yield queue.put([order_id, env.now])\n",
    "        order_id += 1\n",
    "    \n",
    "# Process orders from the queue\n",
    "def server(t_process):\n",
    "    while True:\n",
    "        order_id, time_placed = yield queue.get()\n",
    "        yield env.timeout(t_process)\n",
    "        order_log.append([order_id, time_placed, env.now])\n",
    "        \n",
    "# log time and queue_length at regular time steps\n",
    "def queue_logger(t_step=1.0):\n",
    "    while True:\n",
    "        queue_log.append([env.now, len(queue.items)])\n",
    "        yield env.timeout(t_step)\n",
    "        \n",
    "env = simpy.Environment()\n",
    "queue = simpy.Store(env)\n",
    "\n",
    "env.process(queue_logger(0.1))\n",
    "env.process(order_generator(1/12.0))\n",
    "env.process(server(10.0))\n",
    "\n",
    "env.run(until=8*60)\n",
    "\n",
    "queue_df = pd.DataFrame(queue_log, columns=[\"time\", \"queue length\"])\n",
    "order_df = pd.DataFrame(order_log, columns=[\"order id\", \"start\", \"finish\"])\n",
    "\n",
    "fig, ax = plt.subplots(2, 1, figsize=(12, 5))\n",
    "\n",
    "ax[0].plot(queue_df[\"time\"], queue_df[\"queue length\"])\n",
    "ax[0].set_xlabel(\"time / min\")\n",
    "ax[0].set_title(\"queue length\")\n",
    "\n",
    "order_df[\"elapsed\"] = order_df[\"finish\"] - order_df[\"start\"]\n",
    "ax[1].bar(order_df[\"order id\"], order_df[\"elapsed\"])\n",
    "ax[1].plot(ax[1].get_xlim(), order_df[\"elapsed\"].mean()*np.ones([2,1]), \"r--\")\n",
    "ax[1].set_xlabel(\"Order ID\")\n",
    "ax[1].set_title(f\"Elapsed time mean = {order_df['elapsed'].mean():6.2f} minutes\")\n",
    "ax[1].set_ylim(0, ax[1].get_ylim()[1])\n",
    "\n",
    "plt.tight_layout()"
   ]
  },
  {
   "cell_type": "code",
   "execution_count": null,
   "metadata": {
    "nbpages": {
     "level": 2,
     "link": "[3.7.3 Example: An Order Processing Queue](https://jckantor.github.io/CBE40455-2020/03.07-Simulating-Queuing-Systems.html#3.7.3-Example:-An-Order-Processing-Queue)",
     "section": "3.7.3 Example: An Order Processing Queue"
    }
   },
   "outputs": [],
   "source": []
  },
  {
   "cell_type": "markdown",
   "metadata": {},
   "source": [
    "<!--NAVIGATION-->\n",
    "< [3.6 Simulating Queuing Systems](https://jckantor.github.io/CBE40455-2020/03.06-Queuing-Systems-and-Poisson-Processes.html) | [Contents](toc.html) | [3.8 Modeling and Simulation of a Grocery Store Checkout Operation](https://jckantor.github.io/CBE40455-2020/03.08-Modeling-and-Simulation-of-a-Grocery-Store-Checkout-Operation.html) ><p><a href=\"https://colab.research.google.com/github/jckantor/CBE40455-2020/blob/master/docs/03.07-Simulating-Queuing-Systems.ipynb\"> <img align=\"left\" src=\"https://colab.research.google.com/assets/colab-badge.svg\" alt=\"Open in Colab\" title=\"Open in Google Colaboratory\"></a><p><a href=\"https://jckantor.github.io/CBE40455-2020/03.07-Simulating-Queuing-Systems.ipynb\"> <img align=\"left\" src=\"https://img.shields.io/badge/Github-Download-blue.svg\" alt=\"Download\" title=\"Download Notebook\"></a>"
   ]
  }
 ],
 "metadata": {
  "kernelspec": {
   "display_name": "Python 3",
   "language": "python",
   "name": "python3"
  },
  "language_info": {
   "codemirror_mode": {
    "name": "ipython",
    "version": 3
   },
   "file_extension": ".py",
   "mimetype": "text/x-python",
   "name": "python",
   "nbconvert_exporter": "python",
   "pygments_lexer": "ipython3",
   "version": "3.7.4"
  }
 },
 "nbformat": 4,
 "nbformat_minor": 4
}
