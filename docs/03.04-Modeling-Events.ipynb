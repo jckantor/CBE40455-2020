{
 "cells": [
  {
   "cell_type": "markdown",
   "metadata": {},
   "source": [
    "<!--NOTEBOOK_HEADER-->\n",
    "*This notebook contains material from [CBE40455-2020](https://jckantor.github.io/CBE40455-2020);\n",
    "content is available [on Github](https://github.com/jckantor/CBE40455-2020.git).*\n"
   ]
  },
  {
   "cell_type": "markdown",
   "metadata": {},
   "source": [
    "<!--NAVIGATION-->\n",
    "< [3.3 Agent Based Models](https://jckantor.github.io/CBE40455-2020/03.03-Agent-Based-Models.html) | [Contents](toc.html) | [3.10 Agent based model for control of COVID-19 on a college campus](https://jckantor.github.io/CBE40455-2020/03.10-Agent-based-campus-covid-model.html)<p><a href=\"https://colab.research.google.com/github/jckantor/CBE40455-2020/blob/master/docs/03.04-Modeling-Events.ipynb\"> <img align=\"left\" src=\"https://colab.research.google.com/assets/colab-badge.svg\" alt=\"Open in Colab\" title=\"Open in Google Colaboratory\"></a><p><a href=\"https://jckantor.github.io/CBE40455-2020/03.04-Modeling-Events.ipynb\"> <img align=\"left\" src=\"https://img.shields.io/badge/Github-Download-blue.svg\" alt=\"Download\" title=\"Download Notebook\"></a>"
   ]
  },
  {
   "cell_type": "markdown",
   "metadata": {
    "nbpages": {
     "level": 1,
     "link": "[3.4 Modeling Events](https://jckantor.github.io/CBE40455-2020/03.04-Modeling-Events.html#3.4-Modeling-Events)",
     "section": "3.4 Modeling Events"
    }
   },
   "source": [
    "# 3.4 Modeling Events"
   ]
  },
  {
   "cell_type": "markdown",
   "metadata": {
    "nbpages": {
     "level": 2,
     "link": "[3.4.1 Learning Objectives](https://jckantor.github.io/CBE40455-2020/03.04-Modeling-Events.html#3.4.1-Learning-Objectives)",
     "section": "3.4.1 Learning Objectives"
    }
   },
   "source": [
    "## 3.4.1 Learning Objectives\n",
    "\n",
    "* Key performance indicators\n",
    "* Visualization with Gannt charts\n",
    "* Adding 'state' to our models\n",
    "* Deterministic versus stochastic models\n",
    "* Queuing Models (if time)"
   ]
  },
  {
   "cell_type": "markdown",
   "metadata": {
    "nbpages": {
     "level": 2,
     "link": "[3.4.2 Example: A room full of Roombas](https://jckantor.github.io/CBE40455-2020/03.04-Modeling-Events.html#3.4.2-Example:-A-room-full-of-Roombas)",
     "section": "3.4.2 Example: A room full of Roombas"
    }
   },
   "source": [
    "## 3.4.2 Example: A room full of Roombas\n",
    "\n",
    "Let's imagine a large facility that is being cleaned by a collection of Roomba-type robotic cleaning units.  Each unit is characterized by time required to charge, and an amount of time it can clean before needing to be recharged. The facility must be cleaned during a 16 hour overnight shift. On average, 3 units must be operating continuously to meet the cleaning requirements, i.e., 3 x 16 = 48 hours machine cleaning each night. We would like to determine how many charging stations will be required.\n",
    "\n",
    "| Unit | Charge Time (hrs) | Clean Time (hrs) |\n",
    "| :--: | :--: | :--: |\n",
    "| A | 1.0 | 2.5 |\n",
    "| B | 0.5 | 1.5 |\n",
    "| C | 0.8 | 2.0 |\n",
    "| D | 1.4 | 3.5 |\n",
    "| E | 0.5 | 1.2 |"
   ]
  },
  {
   "cell_type": "markdown",
   "metadata": {
    "nbpages": {
     "level": 2,
     "link": "[3.4.3 Model of agents sharing a resource](https://jckantor.github.io/CBE40455-2020/03.04-Modeling-Events.html#3.4.3-Model-of-agents-sharing-a-resource)",
     "section": "3.4.3 Model of agents sharing a resource"
    }
   },
   "source": [
    "## 3.4.3 Model of agents sharing a resource"
   ]
  },
  {
   "cell_type": "markdown",
   "metadata": {
    "nbpages": {
     "level": 3,
     "link": "[3.4.3.1 Installation, Import, and Setup section](https://jckantor.github.io/CBE40455-2020/03.04-Modeling-Events.html#3.4.3.1-Installation,-Import,-and-Setup-section)",
     "section": "3.4.3.1 Installation, Import, and Setup section"
    }
   },
   "source": [
    "### 3.4.3.1 Installation, Import, and Setup section"
   ]
  },
  {
   "cell_type": "code",
   "execution_count": 109,
   "metadata": {
    "nbpages": {
     "level": 3,
     "link": "[3.4.3.1 Installation, Import, and Setup section](https://jckantor.github.io/CBE40455-2020/03.04-Modeling-Events.html#3.4.3.1-Installation,-Import,-and-Setup-section)",
     "section": "3.4.3.1 Installation, Import, and Setup section"
    }
   },
   "outputs": [
    {
     "name": "stdout",
     "output_type": "stream",
     "text": [
      "Requirement already satisfied: simpy in /Users/jeff/opt/anaconda3/lib/python3.7/site-packages (4.0.1)\n"
     ]
    }
   ],
   "source": [
    "# necessary installations\n",
    "!pip install simpy\n",
    "\n",
    "# import section\n",
    "import simpy \n",
    "import pandas as pd\n",
    "import numpy as np"
   ]
  },
  {
   "cell_type": "markdown",
   "metadata": {
    "nbpages": {
     "level": 3,
     "link": "[3.4.3.2 Data section](https://jckantor.github.io/CBE40455-2020/03.04-Modeling-Events.html#3.4.3.2-Data-section)",
     "section": "3.4.3.2 Data section"
    }
   },
   "source": [
    "### 3.4.3.2 Data section"
   ]
  },
  {
   "cell_type": "code",
   "execution_count": 110,
   "metadata": {
    "nbpages": {
     "level": 3,
     "link": "[3.4.3.2 Data section](https://jckantor.github.io/CBE40455-2020/03.04-Modeling-Events.html#3.4.3.2-Data-section)",
     "section": "3.4.3.2 Data section"
    }
   },
   "outputs": [
    {
     "data": {
      "text/html": [
       "<div>\n",
       "<style scoped>\n",
       "    .dataframe tbody tr th:only-of-type {\n",
       "        vertical-align: middle;\n",
       "    }\n",
       "\n",
       "    .dataframe tbody tr th {\n",
       "        vertical-align: top;\n",
       "    }\n",
       "\n",
       "    .dataframe thead th {\n",
       "        text-align: right;\n",
       "    }\n",
       "</style>\n",
       "<table border=\"1\" class=\"dataframe\">\n",
       "  <thead>\n",
       "    <tr style=\"text-align: right;\">\n",
       "      <th></th>\n",
       "      <th>id</th>\n",
       "      <th>charge_time</th>\n",
       "      <th>clean_time</th>\n",
       "    </tr>\n",
       "  </thead>\n",
       "  <tbody>\n",
       "    <tr>\n",
       "      <th>0</th>\n",
       "      <td>A</td>\n",
       "      <td>1.0</td>\n",
       "      <td>2.5</td>\n",
       "    </tr>\n",
       "    <tr>\n",
       "      <th>1</th>\n",
       "      <td>B</td>\n",
       "      <td>0.5</td>\n",
       "      <td>1.5</td>\n",
       "    </tr>\n",
       "    <tr>\n",
       "      <th>2</th>\n",
       "      <td>C</td>\n",
       "      <td>0.8</td>\n",
       "      <td>2.0</td>\n",
       "    </tr>\n",
       "    <tr>\n",
       "      <th>3</th>\n",
       "      <td>D</td>\n",
       "      <td>1.4</td>\n",
       "      <td>3.5</td>\n",
       "    </tr>\n",
       "    <tr>\n",
       "      <th>4</th>\n",
       "      <td>E</td>\n",
       "      <td>0.5</td>\n",
       "      <td>1.2</td>\n",
       "    </tr>\n",
       "  </tbody>\n",
       "</table>\n",
       "</div>"
      ],
      "text/plain": [
       "  id  charge_time  clean_time\n",
       "0  A          1.0         2.5\n",
       "1  B          0.5         1.5\n",
       "2  C          0.8         2.0\n",
       "3  D          1.4         3.5\n",
       "4  E          0.5         1.2"
      ]
     },
     "metadata": {},
     "output_type": "display_data"
    }
   ],
   "source": [
    "# data section\n",
    "\n",
    "roomba_data = [\n",
    "    [\"A\", 1.0, 2.5],\n",
    "    [\"B\", 0.5, 1.5],\n",
    "    [\"C\", 0.8, 2.0],\n",
    "    [\"D\", 1.4, 3.5],\n",
    "    [\"E\", 0.5, 1.2],\n",
    "]\n",
    "\n",
    "roomba_df = pd.DataFrame(roomba_data, columns=[\"id\", \"charge_time\", \"clean_time\"])\n",
    "display(roomba_df)"
   ]
  },
  {
   "cell_type": "markdown",
   "metadata": {
    "nbpages": {
     "level": 3,
     "link": "[3.4.3.3 Modeling and simulation section](https://jckantor.github.io/CBE40455-2020/03.04-Modeling-Events.html#3.4.3.3-Modeling-and-simulation-section)",
     "section": "3.4.3.3 Modeling and simulation section"
    }
   },
   "source": [
    "### 3.4.3.3 Modeling and simulation section\n",
    "\n",
    "The output of the modeling and simulation is a Pandas DataFrame giving a complete history of the events occuring during a simulation."
   ]
  },
  {
   "cell_type": "code",
   "execution_count": 111,
   "metadata": {
    "nbpages": {
     "level": 3,
     "link": "[3.4.3.3 Modeling and simulation section](https://jckantor.github.io/CBE40455-2020/03.04-Modeling-Events.html#3.4.3.3-Modeling-and-simulation-section)",
     "section": "3.4.3.3 Modeling and simulation section"
    }
   },
   "outputs": [
    {
     "data": {
      "text/html": [
       "<div>\n",
       "<style scoped>\n",
       "    .dataframe tbody tr th:only-of-type {\n",
       "        vertical-align: middle;\n",
       "    }\n",
       "\n",
       "    .dataframe tbody tr th {\n",
       "        vertical-align: top;\n",
       "    }\n",
       "\n",
       "    .dataframe thead th {\n",
       "        text-align: right;\n",
       "    }\n",
       "</style>\n",
       "<table border=\"1\" class=\"dataframe\">\n",
       "  <thead>\n",
       "    <tr style=\"text-align: right;\">\n",
       "      <th></th>\n",
       "      <th>id</th>\n",
       "      <th>event</th>\n",
       "      <th>begin</th>\n",
       "      <th>end</th>\n",
       "    </tr>\n",
       "  </thead>\n",
       "  <tbody>\n",
       "    <tr>\n",
       "      <th>0</th>\n",
       "      <td>A</td>\n",
       "      <td>charging</td>\n",
       "      <td>0.0</td>\n",
       "      <td>1.0</td>\n",
       "    </tr>\n",
       "    <tr>\n",
       "      <th>1</th>\n",
       "      <td>B</td>\n",
       "      <td>charging</td>\n",
       "      <td>1.0</td>\n",
       "      <td>1.5</td>\n",
       "    </tr>\n",
       "    <tr>\n",
       "      <th>2</th>\n",
       "      <td>C</td>\n",
       "      <td>charging</td>\n",
       "      <td>1.5</td>\n",
       "      <td>2.3</td>\n",
       "    </tr>\n",
       "    <tr>\n",
       "      <th>3</th>\n",
       "      <td>B</td>\n",
       "      <td>cleaning</td>\n",
       "      <td>1.5</td>\n",
       "      <td>3.0</td>\n",
       "    </tr>\n",
       "    <tr>\n",
       "      <th>4</th>\n",
       "      <td>A</td>\n",
       "      <td>cleaning</td>\n",
       "      <td>1.0</td>\n",
       "      <td>3.5</td>\n",
       "    </tr>\n",
       "  </tbody>\n",
       "</table>\n",
       "</div>"
      ],
      "text/plain": [
       "  id     event  begin  end\n",
       "0  A  charging    0.0  1.0\n",
       "1  B  charging    1.0  1.5\n",
       "2  C  charging    1.5  2.3\n",
       "3  B  cleaning    1.5  3.0\n",
       "4  A  cleaning    1.0  3.5"
      ]
     },
     "execution_count": 111,
     "metadata": {},
     "output_type": "execute_result"
    }
   ],
   "source": [
    "def roomba_model(id, charge_time, clean_time):\n",
    "    while True:\n",
    "        with chargers.request() as request:\n",
    "            yield request\n",
    "            tic = env.now\n",
    "            yield env.timeout(charge_time)\n",
    "            toc = env.now\n",
    "            data_log.append([id, \"charging\", tic, toc])\n",
    "            \n",
    "        tic = env.now\n",
    "        yield env.timeout(clean_time)\n",
    "        toc = env.now\n",
    "        data_log.append([id, \"cleaning\", tic, toc])\n",
    "\n",
    "data_log = []\n",
    "\n",
    "env = simpy.Environment()\n",
    "chargers = simpy.Resource(env, capacity=1)\n",
    "for r in roomba_df.index:\n",
    "    env.process(roomba_model(roomba_df[\"id\"][r], roomba_df[\"charge_time\"][r], roomba_df[\"clean_time\"][r]))\n",
    "env.run(until=16)\n",
    "\n",
    "df = pd.DataFrame(data_log, columns=[\"id\", \"event\", \"begin\", \"end\"])\n",
    "df.head()"
   ]
  },
  {
   "cell_type": "markdown",
   "metadata": {
    "nbpages": {
     "level": 3,
     "link": "[3.4.3.4 Key performance indictors](https://jckantor.github.io/CBE40455-2020/03.04-Modeling-Events.html#3.4.3.4-Key-performance-indictors)",
     "section": "3.4.3.4 Key performance indictors"
    }
   },
   "source": [
    "### 3.4.3.4 Key performance indictors\n",
    "\n",
    "Key Performance Indicators (KPI) is a commonly used termed to denote quantitative measures important to the performance of an organization, unit, or system."
   ]
  },
  {
   "cell_type": "code",
   "execution_count": 112,
   "metadata": {
    "nbpages": {
     "level": 3,
     "link": "[3.4.3.4 Key performance indictors](https://jckantor.github.io/CBE40455-2020/03.04-Modeling-Events.html#3.4.3.4-Key-performance-indictors)",
     "section": "3.4.3.4 Key performance indictors"
    }
   },
   "outputs": [
    {
     "data": {
      "text/html": [
       "<div>\n",
       "<style scoped>\n",
       "    .dataframe tbody tr th:only-of-type {\n",
       "        vertical-align: middle;\n",
       "    }\n",
       "\n",
       "    .dataframe tbody tr th {\n",
       "        vertical-align: top;\n",
       "    }\n",
       "\n",
       "    .dataframe thead th {\n",
       "        text-align: right;\n",
       "    }\n",
       "</style>\n",
       "<table border=\"1\" class=\"dataframe\">\n",
       "  <thead>\n",
       "    <tr style=\"text-align: right;\">\n",
       "      <th></th>\n",
       "      <th>time</th>\n",
       "    </tr>\n",
       "    <tr>\n",
       "      <th>event</th>\n",
       "      <th></th>\n",
       "    </tr>\n",
       "  </thead>\n",
       "  <tbody>\n",
       "    <tr>\n",
       "      <th>charging</th>\n",
       "      <td>15.4</td>\n",
       "    </tr>\n",
       "    <tr>\n",
       "      <th>cleaning</th>\n",
       "      <td>31.3</td>\n",
       "    </tr>\n",
       "  </tbody>\n",
       "</table>\n",
       "</div>"
      ],
      "text/plain": [
       "          time\n",
       "event         \n",
       "charging  15.4\n",
       "cleaning  31.3"
      ]
     },
     "execution_count": 112,
     "metadata": {},
     "output_type": "execute_result"
    }
   ],
   "source": [
    "def kpi(df):\n",
    "    df[\"time\"] = df[\"end\"] - df[\"begin\"]\n",
    "    return pd.pivot_table(df, index=[\"event\"], values=\"time\", aggfunc={\"time\":np.sum} )\n",
    "    \n",
    "kpi(df)"
   ]
  },
  {
   "cell_type": "markdown",
   "metadata": {
    "nbpages": {
     "level": 3,
     "link": "[3.4.3.5 Visualization with Gantt charts](https://jckantor.github.io/CBE40455-2020/03.04-Modeling-Events.html#3.4.3.5-Visualization-with-Gantt-charts)",
     "section": "3.4.3.5 Visualization with Gantt charts"
    }
   },
   "source": [
    "### 3.4.3.5 Visualization with Gantt charts\n",
    "\n",
    "Designed circa 1910-1915 by Henry Gantt, an American mechanical engineer who worked with Frederick W. Taylor, one of the first management consultants and a leader in the Efficiency Movement of the late 19th century.\n",
    "\n",
    "Gantt charts provide a convenient method to display complex schedules and the time-dependent allocation of resources."
   ]
  },
  {
   "cell_type": "code",
   "execution_count": 118,
   "metadata": {
    "nbpages": {
     "level": 3,
     "link": "[3.4.3.5 Visualization with Gantt charts](https://jckantor.github.io/CBE40455-2020/03.04-Modeling-Events.html#3.4.3.5-Visualization-with-Gantt-charts)",
     "section": "3.4.3.5 Visualization with Gantt charts"
    }
   },
   "outputs": [
    {
     "data": {
      "image/png": "[encoded data removed]",
      "text/plain": [
       "<Figure size 864x216 with 1 Axes>"
      ]
     },
     "metadata": {
      "needs_background": "light"
     },
     "output_type": "display_data"
    }
   ],
   "source": [
    "%matplotlib inline\n",
    "import matplotlib.pyplot as plt\n",
    "from matplotlib.lines import Line2D\n",
    "\n",
    "def gantt(df, lw=10):\n",
    "    \n",
    "    # create sorted lists of the unique ids and events appearing in the data log\n",
    "    ids = sorted(list(set(df[\"id\"])))\n",
    "    events = sorted(list(set(df[\"event\"])))\n",
    "    \n",
    "    # create list of unique colors for each event\n",
    "    colors = [f\"C{i}\" for i in range(len(events))]\n",
    "    \n",
    "    # create plot window\n",
    "    fig, ax = plt.subplots(1, 1, figsize=(12, 3))\n",
    "    \n",
    "    # for each event and id, find entries in the data log and plot the begin and end points\n",
    "    for i, event in enumerate(events):\n",
    "        for j, id in enumerate(ids):  \n",
    "            for k in df[(df[\"id\"]==id) & (df[\"event\"]==event)].index:\n",
    "                ax.plot([df[\"begin\"][k], df[\"end\"][k]], [j,j], \n",
    "                        colors[i], solid_capstyle=\"butt\", lw=lw)\n",
    "                \n",
    "    # create legend\n",
    "    lines = [Line2D([0], [0], lw=lw, color=colors[i]) for i in range(len(events))]\n",
    "    ax.legend(lines, events, bbox_to_anchor=(0.0, 1.1), loc=\"lower left\")\n",
    "    \n",
    "    # annotate the axes\n",
    "    ax.set_yticks(range(len(ids)))\n",
    "    ax.set_yticklabels(ids)\n",
    "    ax.grid(True)\n",
    "    ax.set_xlabel(\"Time\")\n",
    "    ax.set_title(\"Gannt Chart\")\n",
    "    for sp in ['top', 'bottom', 'right', 'left']:\n",
    "        ax.spines[sp].set_visible(False)\n",
    "        \n",
    "gantt(df)"
   ]
  },
  {
   "cell_type": "markdown",
   "metadata": {
    "nbpages": {
     "level": 2,
     "link": "[3.4.4 Assignment Review](https://jckantor.github.io/CBE40455-2020/03.04-Modeling-Events.html#3.4.4-Assignment-Review)",
     "section": "3.4.4 Assignment Review"
    }
   },
   "source": [
    "## 3.4.4 Assignment Review"
   ]
  },
  {
   "cell_type": "markdown",
   "metadata": {
    "nbpages": {
     "level": 3,
     "link": "[3.4.4.1 Exercise 1. ](https://jckantor.github.io/CBE40455-2020/03.04-Modeling-Events.html#3.4.4.1-Exercise-1.)",
     "section": "3.4.4.1 Exercise 1. "
    }
   },
   "source": [
    "### 3.4.4.1 Exercise 1. \n",
    "\n",
    "Answer the question posed above: How many charging stations are needed to provide 48 hours cleaning services in the overnight shift?"
   ]
  },
  {
   "cell_type": "markdown",
   "metadata": {
    "nbpages": {
     "level": 4,
     "link": "[3.4.4.1.1 Solution](https://jckantor.github.io/CBE40455-2020/03.04-Modeling-Events.html#3.4.4.1.1-Solution)",
     "section": "3.4.4.1.1 Solution"
    }
   },
   "source": [
    "#### 3.4.4.1.1 Solution"
   ]
  },
  {
   "cell_type": "code",
   "execution_count": 119,
   "metadata": {
    "nbpages": {
     "level": 4,
     "link": "[3.4.4.1.1 Solution](https://jckantor.github.io/CBE40455-2020/03.04-Modeling-Events.html#3.4.4.1.1-Solution)",
     "section": "3.4.4.1.1 Solution"
    }
   },
   "outputs": [
    {
     "data": {
      "text/html": [
       "<div>\n",
       "<style scoped>\n",
       "    .dataframe tbody tr th:only-of-type {\n",
       "        vertical-align: middle;\n",
       "    }\n",
       "\n",
       "    .dataframe tbody tr th {\n",
       "        vertical-align: top;\n",
       "    }\n",
       "\n",
       "    .dataframe thead th {\n",
       "        text-align: right;\n",
       "    }\n",
       "</style>\n",
       "<table border=\"1\" class=\"dataframe\">\n",
       "  <thead>\n",
       "    <tr style=\"text-align: right;\">\n",
       "      <th></th>\n",
       "      <th>time</th>\n",
       "    </tr>\n",
       "    <tr>\n",
       "      <th>event</th>\n",
       "      <th></th>\n",
       "    </tr>\n",
       "  </thead>\n",
       "  <tbody>\n",
       "    <tr>\n",
       "      <th>charging</th>\n",
       "      <td>19.7</td>\n",
       "    </tr>\n",
       "    <tr>\n",
       "      <th>cleaning</th>\n",
       "      <td>51.8</td>\n",
       "    </tr>\n",
       "  </tbody>\n",
       "</table>\n",
       "</div>"
      ],
      "text/plain": [
       "          time\n",
       "event         \n",
       "charging  19.7\n",
       "cleaning  51.8"
      ]
     },
     "metadata": {},
     "output_type": "display_data"
    },
    {
     "data": {
      "image/png": "[encoded data removed]",
      "text/plain": [
       "<Figure size 864x216 with 1 Axes>"
      ]
     },
     "metadata": {
      "needs_background": "light"
     },
     "output_type": "display_data"
    }
   ],
   "source": [
    "data_log = []\n",
    "\n",
    "env = simpy.Environment()\n",
    "chargers = simpy.Resource(env, capacity=2)\n",
    "for r in roomba_df.index:\n",
    "    env.process(roomba_model(roomba_df[\"id\"][r], roomba_df[\"charge_time\"][r], roomba_df[\"clean_time\"][r]))\n",
    "env.run(until=16)\n",
    "\n",
    "df = pd.DataFrame(data_log, columns=[\"id\", \"event\", \"begin\", \"end\"])\n",
    "display(kpi(df))\n",
    "gantt(df)"
   ]
  },
  {
   "cell_type": "markdown",
   "metadata": {
    "nbpages": {
     "level": 4,
     "link": "[3.4.4.1.1 Solution](https://jckantor.github.io/CBE40455-2020/03.04-Modeling-Events.html#3.4.4.1.1-Solution)",
     "section": "3.4.4.1.1 Solution"
    }
   },
   "source": [
    "We see that two chargers are sufficient to meet the performance requirement. But keep in mind there has been no deliberate strategy for allocating the chargers. The Roombas simply wait in line when they need access. There may be better ways to allocate a scare resource than first-come, first-serve."
   ]
  },
  {
   "cell_type": "markdown",
   "metadata": {
    "nbpages": {
     "level": 3,
     "link": "[3.4.4.2 Exercise 2.](https://jckantor.github.io/CBE40455-2020/03.04-Modeling-Events.html#3.4.4.2-Exercise-2.)",
     "section": "3.4.4.2 Exercise 2."
    }
   },
   "source": [
    "### 3.4.4.2 Exercise 2.\n",
    "\n",
    "Modify the model to assume the changers are fully charged at the start of the cleaning shift. Does that reduce the number of chargers required?"
   ]
  },
  {
   "cell_type": "markdown",
   "metadata": {
    "nbpages": {
     "level": 4,
     "link": "[3.4.4.2.1 Solution](https://jckantor.github.io/CBE40455-2020/03.04-Modeling-Events.html#3.4.4.2.1-Solution)",
     "section": "3.4.4.2.1 Solution"
    }
   },
   "source": [
    "#### 3.4.4.2.1 Solution"
   ]
  },
  {
   "cell_type": "code",
   "execution_count": 120,
   "metadata": {
    "nbpages": {
     "level": 4,
     "link": "[3.4.4.2.1 Solution](https://jckantor.github.io/CBE40455-2020/03.04-Modeling-Events.html#3.4.4.2.1-Solution)",
     "section": "3.4.4.2.1 Solution"
    }
   },
   "outputs": [
    {
     "data": {
      "text/html": [
       "<div>\n",
       "<style scoped>\n",
       "    .dataframe tbody tr th:only-of-type {\n",
       "        vertical-align: middle;\n",
       "    }\n",
       "\n",
       "    .dataframe tbody tr th {\n",
       "        vertical-align: top;\n",
       "    }\n",
       "\n",
       "    .dataframe thead th {\n",
       "        text-align: right;\n",
       "    }\n",
       "</style>\n",
       "<table border=\"1\" class=\"dataframe\">\n",
       "  <thead>\n",
       "    <tr style=\"text-align: right;\">\n",
       "      <th></th>\n",
       "      <th>time</th>\n",
       "    </tr>\n",
       "    <tr>\n",
       "      <th>event</th>\n",
       "      <th></th>\n",
       "    </tr>\n",
       "  </thead>\n",
       "  <tbody>\n",
       "    <tr>\n",
       "      <th>charging</th>\n",
       "      <td>19.7</td>\n",
       "    </tr>\n",
       "    <tr>\n",
       "      <th>cleaning</th>\n",
       "      <td>51.8</td>\n",
       "    </tr>\n",
       "  </tbody>\n",
       "</table>\n",
       "</div>"
      ],
      "text/plain": [
       "          time\n",
       "event         \n",
       "charging  19.7\n",
       "cleaning  51.8"
      ]
     },
     "metadata": {},
     "output_type": "display_data"
    },
    {
     "data": {
      "image/png": "[encoded data removed]",
      "text/plain": [
       "<Figure size 864x216 with 1 Axes>"
      ]
     },
     "metadata": {
      "needs_background": "light"
     },
     "output_type": "display_data"
    }
   ],
   "source": [
    "def roomba_model(id, charge_time, clean_time):\n",
    "    while True:\n",
    "        tic = env.now\n",
    "        yield env.timeout(clean_time)\n",
    "        toc = env.now\n",
    "        data_log.append([id, \"cleaning\", tic, toc])\n",
    "        with chargers.request() as request:\n",
    "            yield request\n",
    "            tic = env.now\n",
    "            yield env.timeout(charge_time)\n",
    "            toc = env.now\n",
    "            data_log.append([id, \"charging\", tic, toc])\n",
    "            \n",
    "data_log = []\n",
    "\n",
    "env = simpy.Environment()\n",
    "chargers = simpy.Resource(env, capacity=2)\n",
    "for r in roomba_df.index:\n",
    "    env.process(roomba_model(roomba_df[\"id\"][r], roomba_df[\"charge_time\"][r], roomba_df[\"clean_time\"][r]))\n",
    "env.run(until=16)\n",
    "\n",
    "df = pd.DataFrame(data_log, columns=[\"id\", \"event\", \"begin\", \"end\"])\n",
    "display(kpi(df))\n",
    "gantt(df)"
   ]
  },
  {
   "cell_type": "markdown",
   "metadata": {
    "nbpages": {
     "level": 4,
     "link": "[3.4.4.2.2 A second solution using state of charge](https://jckantor.github.io/CBE40455-2020/03.04-Modeling-Events.html#3.4.4.2.2-A-second-solution-using-state-of-charge)",
     "section": "3.4.4.2.2 A second solution using state of charge"
    }
   },
   "source": [
    "#### 3.4.4.2.2 A second solution using state of charge\n",
    "\n",
    "The solution to this exercise can be generalized by introducing a state variable `soc` denoting the 'state of charge'. The state of charge is the fraction of charge remaining in the device battery. The state of charge is reduced during cleaning operations, and restored during charging operation, in proportion to the time spent cleaning and charging, respectively.\n",
    "\n",
    "Given an initial full charge, let parameter $\\tau_{clean}$ denote the maximum time the device can clean before completely exhausting the battery. Let $\\text{SOC}_{k}$ be the state of charge after the $k_{th}$ cleaning cycle. Then\n",
    "\n",
    "$$\\text{SOC}_{k+1} = \\max(0, \\text{SOC}_k - \\frac{t_{k, clean}}{\\tau_{clean}})$$\n",
    "\n",
    "where $t_{k,clean}$ is the period of the $k_{th}$ cleaning cycle.\n",
    "\n",
    "An additional parameter is introduced to represent the minimum battery reserve that would be allowed for normal operations.\n",
    "\n",
    "Similarly, the state of charge following a charging cycle is given by\n",
    "\n",
    "$$\\text{SOC}_{k+1} = \\min(1, \\text{SOC}_k + \\frac{t_{k, charge}}{\\tau_{charge}})$$\n",
    "\n",
    "It is interesting to explore the behavior of this system as a function of the initial state of charge and reserve requirements. Take time to explore the role of these two parameters. See if you find any surprising behaviors."
   ]
  },
  {
   "cell_type": "code",
   "execution_count": 126,
   "metadata": {
    "nbpages": {
     "level": 4,
     "link": "[3.4.4.2.2 A second solution using state of charge](https://jckantor.github.io/CBE40455-2020/03.04-Modeling-Events.html#3.4.4.2.2-A-second-solution-using-state-of-charge)",
     "section": "3.4.4.2.2 A second solution using state of charge"
    }
   },
   "outputs": [
    {
     "data": {
      "text/html": [
       "<div>\n",
       "<style scoped>\n",
       "    .dataframe tbody tr th:only-of-type {\n",
       "        vertical-align: middle;\n",
       "    }\n",
       "\n",
       "    .dataframe tbody tr th {\n",
       "        vertical-align: top;\n",
       "    }\n",
       "\n",
       "    .dataframe thead th {\n",
       "        text-align: right;\n",
       "    }\n",
       "</style>\n",
       "<table border=\"1\" class=\"dataframe\">\n",
       "  <thead>\n",
       "    <tr style=\"text-align: right;\">\n",
       "      <th></th>\n",
       "      <th>time</th>\n",
       "    </tr>\n",
       "    <tr>\n",
       "      <th>event</th>\n",
       "      <th></th>\n",
       "    </tr>\n",
       "  </thead>\n",
       "  <tbody>\n",
       "    <tr>\n",
       "      <th>charging</th>\n",
       "      <td>14.31</td>\n",
       "    </tr>\n",
       "    <tr>\n",
       "      <th>cleaning</th>\n",
       "      <td>43.11</td>\n",
       "    </tr>\n",
       "  </tbody>\n",
       "</table>\n",
       "</div>"
      ],
      "text/plain": [
       "           time\n",
       "event          \n",
       "charging  14.31\n",
       "cleaning  43.11"
      ]
     },
     "metadata": {},
     "output_type": "display_data"
    },
    {
     "data": {
      "image/png": "[encoded data removed]",
      "text/plain": [
       "<Figure size 864x216 with 1 Axes>"
      ]
     },
     "metadata": {
      "needs_background": "light"
     },
     "output_type": "display_data"
    }
   ],
   "source": [
    "def roomba_model(id, charge_time, clean_time, reserve=0.1):\n",
    "    soc = 1.0   # state of charge\n",
    "    while True:\n",
    "        if soc > reserve:\n",
    "            tic = env.now\n",
    "            yield env.timeout((soc - reserve) * clean_time)\n",
    "            toc = env.now\n",
    "            soc = max(0.0, soc - (toc - tic)/clean_time)\n",
    "            data_log.append([id, \"cleaning\", tic, toc])\n",
    "            \n",
    "        with chargers.request() as request:\n",
    "            yield request\n",
    "            tic = env.now\n",
    "            yield env.timeout((1 - soc)*charge_time)\n",
    "            toc = env.now\n",
    "            soc = min(1.0, soc + (toc - tic)/charge_time)\n",
    "            data_log.append([id, \"charging\", tic, toc])\n",
    "            \n",
    "data_log = []\n",
    "\n",
    "env = simpy.Environment()\n",
    "chargers = simpy.Resource(env, capacity=1)\n",
    "for r in roomba_df.index:\n",
    "    env.process(roomba_model(roomba_df[\"id\"][r], roomba_df[\"charge_time\"][r], roomba_df[\"clean_time\"][r]))\n",
    "env.run(until=16)\n",
    "\n",
    "df = pd.DataFrame(data_log, columns=[\"id\", \"event\", \"begin\", \"end\"])\n",
    "display(kpi(df))\n",
    "gantt(df)"
   ]
  },
  {
   "cell_type": "markdown",
   "metadata": {
    "nbpages": {
     "level": 3,
     "link": "[3.4.4.3 Exercise 3.](https://jckantor.github.io/CBE40455-2020/03.04-Modeling-Events.html#3.4.4.3-Exercise-3.)",
     "section": "3.4.4.3 Exercise 3."
    }
   },
   "source": [
    "### 3.4.4.3 Exercise 3.\n",
    "\n",
    "Assume each Roomba needs to dispose of waste after 20 minutes of cleaning, that it takes 5 minutes to dispose of the waste, and requires access to a waste disposal station. \n",
    "\n",
    "Hints:\n",
    "* You will need to create a log a new event called 'waste disposal'. \n",
    "* Model the waste disposal station as a shared resource.\n",
    "* You may need to make some decisions on how to handle the waste at the end of a cleaning cycle. Don't get too bogged down, just make some reasonable assumptions. We'll address this issue in the next class. "
   ]
  },
  {
   "cell_type": "code",
   "execution_count": 127,
   "metadata": {
    "nbpages": {
     "level": 3,
     "link": "[3.4.4.3 Exercise 3.](https://jckantor.github.io/CBE40455-2020/03.04-Modeling-Events.html#3.4.4.3-Exercise-3.)",
     "section": "3.4.4.3 Exercise 3."
    }
   },
   "outputs": [
    {
     "data": {
      "text/html": [
       "<div>\n",
       "<style scoped>\n",
       "    .dataframe tbody tr th:only-of-type {\n",
       "        vertical-align: middle;\n",
       "    }\n",
       "\n",
       "    .dataframe tbody tr th {\n",
       "        vertical-align: top;\n",
       "    }\n",
       "\n",
       "    .dataframe thead th {\n",
       "        text-align: right;\n",
       "    }\n",
       "</style>\n",
       "<table border=\"1\" class=\"dataframe\">\n",
       "  <thead>\n",
       "    <tr style=\"text-align: right;\">\n",
       "      <th></th>\n",
       "      <th>time</th>\n",
       "    </tr>\n",
       "    <tr>\n",
       "      <th>event</th>\n",
       "      <th></th>\n",
       "    </tr>\n",
       "  </thead>\n",
       "  <tbody>\n",
       "    <tr>\n",
       "      <th>charging</th>\n",
       "      <td>16.470000</td>\n",
       "    </tr>\n",
       "    <tr>\n",
       "      <th>cleaning</th>\n",
       "      <td>48.503333</td>\n",
       "    </tr>\n",
       "    <tr>\n",
       "      <th>waste disposal</th>\n",
       "      <td>12.083333</td>\n",
       "    </tr>\n",
       "  </tbody>\n",
       "</table>\n",
       "</div>"
      ],
      "text/plain": [
       "                     time\n",
       "event                    \n",
       "charging        16.470000\n",
       "cleaning        48.503333\n",
       "waste disposal  12.083333"
      ]
     },
     "metadata": {},
     "output_type": "display_data"
    },
    {
     "data": {
      "image/png": "[encoded data removed]",
      "text/plain": [
       "<Figure size 864x216 with 1 Axes>"
      ]
     },
     "metadata": {
      "needs_background": "light"
     },
     "output_type": "display_data"
    }
   ],
   "source": [
    "five_min = 1.0/12.0\n",
    "twenty_min = 1.0/3.0\n",
    "\n",
    "def roomba_model(id, charge_time, clean_time, reserve=0.1):\n",
    "    soc = 1.0   # state of charge\n",
    "    sow = 0.0   # state of waste\n",
    "    while True:\n",
    "        if soc > reserve and sow < 1.0:\n",
    "            tic = env.now\n",
    "            yield simpy.events.AnyOf(env, [env.timeout((soc - reserve) * clean_time), env.timeout((1.0 - sow)*twenty_min)])\n",
    "            toc = env.now\n",
    "            soc = max(0.0, soc - (toc - tic)/clean_time)\n",
    "            sow = min(1.0, sow + (toc - tic)/twenty_min)\n",
    "            data_log.append([id, \"cleaning\", tic, toc])\n",
    "        if sow >= 1.0 - 0.001:\n",
    "            with waste_stations.request() as request:\n",
    "                yield request\n",
    "                tic = env.now\n",
    "                yield env.timeout(five_min)\n",
    "                toc = env.now\n",
    "                sow = 0.0\n",
    "                data_log.append([id, \"waste disposal\", tic, toc])\n",
    "        if soc <= reserve+ 0.001:\n",
    "            with chargers.request() as request:\n",
    "                yield request\n",
    "                tic = env.now\n",
    "                yield env.timeout((1 - soc)*charge_time)\n",
    "                toc = env.now\n",
    "                soc = min(1.0, soc + (toc - tic)/charge_time)\n",
    "                data_log.append([id, \"charging\", tic, toc])\n",
    "           \n",
    "data_log = []\n",
    "\n",
    "env = simpy.Environment()\n",
    "chargers = simpy.Resource(env, capacity=3)\n",
    "waste_stations = simpy.Resource(env, capacity=2)\n",
    "for r in roomba_df.index:\n",
    "    env.process(roomba_model(roomba_df[\"id\"][r], roomba_df[\"charge_time\"][r], roomba_df[\"clean_time\"][r]))\n",
    "env.run(until=16)\n",
    "\n",
    "df = pd.DataFrame(data_log, columns=[\"id\", \"event\", \"begin\", \"end\"])\n",
    "display(kpi(df))\n",
    "gantt(df)"
   ]
  },
  {
   "cell_type": "markdown",
   "metadata": {
    "nbpages": {
     "level": 2,
     "link": "[3.4.5 Modeling random behavior](https://jckantor.github.io/CBE40455-2020/03.04-Modeling-Events.html#3.4.5-Modeling-random-behavior)",
     "section": "3.4.5 Modeling random behavior"
    }
   },
   "source": [
    "## 3.4.5 Modeling random behavior"
   ]
  },
  {
   "cell_type": "code",
   "execution_count": 128,
   "metadata": {
    "nbpages": {
     "level": 2,
     "link": "[3.4.5 Modeling random behavior](https://jckantor.github.io/CBE40455-2020/03.04-Modeling-Events.html#3.4.5-Modeling-random-behavior)",
     "section": "3.4.5 Modeling random behavior"
    }
   },
   "outputs": [
    {
     "data": {
      "text/html": [
       "<div>\n",
       "<style scoped>\n",
       "    .dataframe tbody tr th:only-of-type {\n",
       "        vertical-align: middle;\n",
       "    }\n",
       "\n",
       "    .dataframe tbody tr th {\n",
       "        vertical-align: top;\n",
       "    }\n",
       "\n",
       "    .dataframe thead th {\n",
       "        text-align: right;\n",
       "    }\n",
       "</style>\n",
       "<table border=\"1\" class=\"dataframe\">\n",
       "  <thead>\n",
       "    <tr style=\"text-align: right;\">\n",
       "      <th></th>\n",
       "      <th>time</th>\n",
       "    </tr>\n",
       "    <tr>\n",
       "      <th>event</th>\n",
       "      <th></th>\n",
       "    </tr>\n",
       "  </thead>\n",
       "  <tbody>\n",
       "    <tr>\n",
       "      <th>charging</th>\n",
       "      <td>17.730000</td>\n",
       "    </tr>\n",
       "    <tr>\n",
       "      <th>cleaning</th>\n",
       "      <td>49.337251</td>\n",
       "    </tr>\n",
       "    <tr>\n",
       "      <th>waste disposal</th>\n",
       "      <td>11.250000</td>\n",
       "    </tr>\n",
       "  </tbody>\n",
       "</table>\n",
       "</div>"
      ],
      "text/plain": [
       "                     time\n",
       "event                    \n",
       "charging        17.730000\n",
       "cleaning        49.337251\n",
       "waste disposal  11.250000"
      ]
     },
     "metadata": {},
     "output_type": "display_data"
    },
    {
     "data": {
      "image/png": "[encoded data removed]",
      "text/plain": [
       "<Figure size 864x216 with 1 Axes>"
      ]
     },
     "metadata": {
      "needs_background": "light"
     },
     "output_type": "display_data"
    }
   ],
   "source": [
    "import random\n",
    "\n",
    "five_min = 5.0/60.0\n",
    "ten_min = 10.0/60.0\n",
    "twenty_min = 20.0/60.0\n",
    "thirty_min = 30.0/60.0\n",
    "\n",
    "def roomba_model(id, charge_time, clean_time, reserve=0.1):\n",
    "    soc = 1.0   # state of charge\n",
    "    sow = 0.0   # state of waste\n",
    "    while True:\n",
    "        if soc > reserve and sow < 1.0:\n",
    "            tic = env.now\n",
    "            yield simpy.events.AnyOf(env, [env.timeout((soc - reserve) * clean_time), \n",
    "                                           env.timeout((1.0 - sow)*random.triangular(ten_min, thirty_min))])\n",
    "            toc = env.now\n",
    "            soc = max(0.0, soc - (toc - tic)/clean_time)\n",
    "            sow = min(1.0, sow + (toc - tic)/twenty_min)\n",
    "            data_log.append([id, \"cleaning\", tic, toc])\n",
    "        if sow >= 1.0 - 0.001:\n",
    "            with waste_stations.request() as request:\n",
    "                yield request\n",
    "                tic = env.now\n",
    "                yield env.timeout(five_min)\n",
    "                toc = env.now\n",
    "                sow = 0.0\n",
    "                data_log.append([id, \"waste disposal\", tic, toc])\n",
    "        if soc <= reserve+ 0.001:\n",
    "            with chargers.request() as request:\n",
    "                yield request\n",
    "                tic = env.now\n",
    "                yield env.timeout((1 - soc)*charge_time)\n",
    "                toc = env.now\n",
    "                soc = min(1.0, soc + (toc - tic)/charge_time)\n",
    "                data_log.append([id, \"charging\", tic, toc])\n",
    "           \n",
    "data_log = []\n",
    "\n",
    "env = simpy.Environment()\n",
    "chargers = simpy.Resource(env, capacity=3)\n",
    "waste_stations = simpy.Resource(env, capacity=2)\n",
    "for r in roomba_df.index:\n",
    "    env.process(roomba_model(roomba_df[\"id\"][r], roomba_df[\"charge_time\"][r], roomba_df[\"clean_time\"][r]))\n",
    "env.run(until=16)\n",
    "\n",
    "df = pd.DataFrame(data_log, columns=[\"id\", \"event\", \"begin\", \"end\"])\n",
    "display(kpi(df))\n",
    "gantt(df)"
   ]
  },
  {
   "cell_type": "code",
   "execution_count": 129,
   "metadata": {
    "nbpages": {
     "level": 2,
     "link": "[3.4.5 Modeling random behavior](https://jckantor.github.io/CBE40455-2020/03.04-Modeling-Events.html#3.4.5-Modeling-random-behavior)",
     "section": "3.4.5 Modeling random behavior"
    }
   },
   "outputs": [
    {
     "name": "stdout",
     "output_type": "stream",
     "text": [
      "mean = 47.96\n",
      "std = 0.31\n"
     ]
    },
    {
     "data": {
      "image/png": "[encoded data removed]",
      "text/plain": [
       "<Figure size 432x288 with 1 Axes>"
      ]
     },
     "metadata": {
      "needs_background": "light"
     },
     "output_type": "display_data"
    }
   ],
   "source": [
    "import random\n",
    "\n",
    "five_min = 5.0/60.0\n",
    "ten_min = 10.0/60.0\n",
    "twenty_min = 20.0/60.0\n",
    "thirty_min = 30.0/60.0\n",
    "\n",
    "def roomba_model(id, charge_time, clean_time, reserve=0.1):\n",
    "    soc = 1.0   # state of charge\n",
    "    sow = 0.0   # state of waste\n",
    "    while True:\n",
    "        if soc > reserve and sow < 1.0:\n",
    "            tic = env.now\n",
    "            yield simpy.events.AnyOf(env, [env.timeout((soc - reserve) * clean_time), \n",
    "                                           env.timeout((1.0 - sow)*random.triangular(ten_min, thirty_min))])\n",
    "            toc = env.now\n",
    "            soc = max(0.0, soc - (toc - tic)/clean_time)\n",
    "            sow = min(1.0, sow + (toc - tic)/twenty_min)\n",
    "            data_log.append([id, \"cleaning\", tic, toc])\n",
    "        if sow >= 1.0 - 0.001:\n",
    "            with waste_stations.request() as request:\n",
    "                yield request\n",
    "                tic = env.now\n",
    "                yield env.timeout(five_min)\n",
    "                toc = env.now\n",
    "                sow = 0.0\n",
    "                data_log.append([id, \"waste disposal\", tic, toc])\n",
    "        if soc <= reserve+ 0.001:\n",
    "            with chargers.request() as request:\n",
    "                yield request\n",
    "                tic = env.now\n",
    "                yield env.timeout((1 - soc)*charge_time)\n",
    "                toc = env.now\n",
    "                soc = min(1.0, soc + (toc - tic)/charge_time)\n",
    "                data_log.append([id, \"charging\", tic, toc])\n",
    "    \n",
    "y = []\n",
    "N = 10000\n",
    "for k in range(100):\n",
    "    data_log = []\n",
    "\n",
    "    env = simpy.Environment()\n",
    "    chargers = simpy.Resource(env, capacity=2)\n",
    "    waste_stations = simpy.Resource(env, capacity=2)\n",
    "    for r in roomba_df.index:\n",
    "        env.process(roomba_model(roomba_df[\"id\"][r], roomba_df[\"charge_time\"][r], roomba_df[\"clean_time\"][r]))\n",
    "    env.run(until=16)\n",
    "\n",
    "    df = pd.DataFrame(data_log, columns=[\"id\", \"event\", \"begin\", \"end\"])\n",
    "    y.append(kpi(df)[\"time\"][\"cleaning\"])\n",
    "\n",
    "y = np.array(y)\n",
    "plt.hist(y, bins=20)\n",
    "plt.xlim(45.0, 52.0)\n",
    "plt.plot([48,48], plt.ylim(), lw=3)\n",
    "print(\"mean =\", round(y.mean(), 2))\n",
    "print(\"std =\", round(y.std(), 2))"
   ]
  },
  {
   "cell_type": "markdown",
   "metadata": {
    "nbpages": {
     "level": 2,
     "link": "[3.4.6 Lots of Roombas](https://jckantor.github.io/CBE40455-2020/03.04-Modeling-Events.html#3.4.6-Lots-of-Roombas)",
     "section": "3.4.6 Lots of Roombas"
    }
   },
   "source": [
    "## 3.4.6 Lots of Roombas"
   ]
  },
  {
   "cell_type": "code",
   "execution_count": 131,
   "metadata": {
    "nbpages": {
     "level": 2,
     "link": "[3.4.6 Lots of Roombas](https://jckantor.github.io/CBE40455-2020/03.04-Modeling-Events.html#3.4.6-Lots-of-Roombas)",
     "section": "3.4.6 Lots of Roombas"
    }
   },
   "outputs": [
    {
     "data": {
      "text/html": [
       "<div>\n",
       "<style scoped>\n",
       "    .dataframe tbody tr th:only-of-type {\n",
       "        vertical-align: middle;\n",
       "    }\n",
       "\n",
       "    .dataframe tbody tr th {\n",
       "        vertical-align: top;\n",
       "    }\n",
       "\n",
       "    .dataframe thead th {\n",
       "        text-align: right;\n",
       "    }\n",
       "</style>\n",
       "<table border=\"1\" class=\"dataframe\">\n",
       "  <thead>\n",
       "    <tr style=\"text-align: right;\">\n",
       "      <th></th>\n",
       "      <th>time</th>\n",
       "    </tr>\n",
       "    <tr>\n",
       "      <th>event</th>\n",
       "      <th></th>\n",
       "    </tr>\n",
       "  </thead>\n",
       "  <tbody>\n",
       "    <tr>\n",
       "      <th>charging</th>\n",
       "      <td>32.939826</td>\n",
       "    </tr>\n",
       "    <tr>\n",
       "      <th>cleaning</th>\n",
       "      <td>95.748237</td>\n",
       "    </tr>\n",
       "    <tr>\n",
       "      <th>waste disposal</th>\n",
       "      <td>22.083333</td>\n",
       "    </tr>\n",
       "  </tbody>\n",
       "</table>\n",
       "</div>"
      ],
      "text/plain": [
       "                     time\n",
       "event                    \n",
       "charging        32.939826\n",
       "cleaning        95.748237\n",
       "waste disposal  22.083333"
      ]
     },
     "metadata": {},
     "output_type": "display_data"
    },
    {
     "data": {
      "image/png": "[encoded data removed]",
      "text/plain": [
       "<Figure size 864x216 with 1 Axes>"
      ]
     },
     "metadata": {
      "needs_background": "light"
     },
     "output_type": "display_data"
    }
   ],
   "source": [
    "import random\n",
    "\n",
    "five_min = 5.0/60.0\n",
    "ten_min = 10.0/60.0\n",
    "twenty_min = 20.0/60.0\n",
    "thirty_min = 30.0/60.0\n",
    "\n",
    "def roomba_model(id, charge_time, clean_time, reserve=0.1):\n",
    "    soc = 1.0   # state of charge\n",
    "    sow = 0.0   # state of waste\n",
    "    while True:\n",
    "        if soc > reserve and sow < 1.0:\n",
    "            tic = env.now\n",
    "            yield simpy.events.AnyOf(env, [env.timeout((soc - reserve) * clean_time), \n",
    "                                           env.timeout((1.0 - sow)*random.triangular(ten_min, thirty_min))])\n",
    "            toc = env.now\n",
    "            soc = max(0.0, soc - (toc - tic)/clean_time)\n",
    "            sow = min(1.0, sow + (toc - tic)/twenty_min)\n",
    "            data_log.append([id, \"cleaning\", tic, toc])\n",
    "        if sow >= 1.0 - 0.001:\n",
    "            with waste_stations.request() as request:\n",
    "                yield request\n",
    "                tic = env.now\n",
    "                yield env.timeout(five_min)\n",
    "                toc = env.now\n",
    "                sow = 0.0\n",
    "                data_log.append([id, \"waste disposal\", tic, toc])\n",
    "        if soc <= reserve+ 0.001:\n",
    "            with chargers.request() as request:\n",
    "                yield request\n",
    "                tic = env.now\n",
    "                yield env.timeout((1 - soc)*charge_time)\n",
    "                toc = env.now\n",
    "                soc = min(1.0, soc + (toc - tic)/charge_time)\n",
    "                data_log.append([id, \"charging\", tic, toc])\n",
    "           \n",
    "data_log = []\n",
    "\n",
    "env = simpy.Environment()\n",
    "chargers = simpy.Resource(env, capacity=4)\n",
    "waste_stations = simpy.Resource(env, capacity=4)\n",
    "for k in range(2):\n",
    "    for r in roomba_df.index:\n",
    "        env.process(roomba_model(roomba_df[\"id\"][r] + str(k), roomba_df[\"charge_time\"][r], roomba_df[\"clean_time\"][r]))\n",
    "env.run(until=16)\n",
    "\n",
    "df = pd.DataFrame(data_log, columns=[\"id\", \"event\", \"begin\", \"end\"])\n",
    "display(kpi(df))\n",
    "gantt(df)"
   ]
  },
  {
   "cell_type": "markdown",
   "metadata": {
    "nbpages": {
     "level": 2,
     "link": "[3.4.7 Assignment (to be submitted Thursday, Sept. 3rd).](https://jckantor.github.io/CBE40455-2020/03.04-Modeling-Events.html#3.4.7-Assignment-(to-be-submitted-Thursday,-Sept.-3rd).)",
     "section": "3.4.7 Assignment (to be submitted Thursday, Sept. 3rd)."
    }
   },
   "source": [
    "## 3.4.7 Assignment (to be submitted Thursday, Sept. 3rd).\n",
    "\n",
    "The facility has expanded to an average of 100 hours of machine cleaning time are required during the 16 hour overnight shift. The company would like to settle on a single cleaning model rather than servicing five different models. \n",
    "\n",
    "Modify the above model to determine the the model (A, B, C, D, or E) and number of devices required to meet the service requirement."
   ]
  },
  {
   "cell_type": "code",
   "execution_count": null,
   "metadata": {
    "nbpages": {
     "level": 2,
     "link": "[3.4.7 Assignment (to be submitted Thursday, Sept. 3rd).](https://jckantor.github.io/CBE40455-2020/03.04-Modeling-Events.html#3.4.7-Assignment-(to-be-submitted-Thursday,-Sept.-3rd).)",
     "section": "3.4.7 Assignment (to be submitted Thursday, Sept. 3rd)."
    }
   },
   "outputs": [],
   "source": []
  },
  {
   "cell_type": "markdown",
   "metadata": {},
   "source": [
    "<!--NAVIGATION-->\n",
    "< [3.3 Agent Based Models](https://jckantor.github.io/CBE40455-2020/03.03-Agent-Based-Models.html) | [Contents](toc.html) | [3.10 Agent based model for control of COVID-19 on a college campus](https://jckantor.github.io/CBE40455-2020/03.10-Agent-based-campus-covid-model.html)<p><a href=\"https://colab.research.google.com/github/jckantor/CBE40455-2020/blob/master/docs/03.04-Modeling-Events.ipynb\"> <img align=\"left\" src=\"https://colab.research.google.com/assets/colab-badge.svg\" alt=\"Open in Colab\" title=\"Open in Google Colaboratory\"></a><p><a href=\"https://jckantor.github.io/CBE40455-2020/03.04-Modeling-Events.ipynb\"> <img align=\"left\" src=\"https://img.shields.io/badge/Github-Download-blue.svg\" alt=\"Download\" title=\"Download Notebook\"></a>"
   ]
  }
 ],
 "metadata": {
  "kernelspec": {
   "display_name": "Python 3",
   "language": "python",
   "name": "python3"
  },
  "language_info": {
   "codemirror_mode": {
    "name": "ipython",
    "version": 3
   },
   "file_extension": ".py",
   "mimetype": "text/x-python",
   "name": "python",
   "nbconvert_exporter": "python",
   "pygments_lexer": "ipython3",
   "version": "3.7.4"
  }
 },
 "nbformat": 4,
 "nbformat_minor": 4
}
