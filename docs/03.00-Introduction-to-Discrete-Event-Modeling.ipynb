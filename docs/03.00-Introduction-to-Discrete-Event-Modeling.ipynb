{
 "cells": [
  {
   "cell_type": "markdown",
   "metadata": {},
   "source": [
    "<!--NOTEBOOK_HEADER-->\n",
    "*This notebook contains material from [CBE40455-2020](https://jckantor.github.io/CBE40455-2020);\n",
    "content is available [on Github](https://github.com/jckantor/CBE40455-2020.git).*\n"
   ]
  },
  {
   "cell_type": "markdown",
   "metadata": {},
   "source": [
    "<!--NAVIGATION-->\n",
    "< [2.4 Linear Analysis of Campus Reopening](https://jckantor.github.io/CBE40455-2020/02.04-Linear-Analysis-of-Campus-Reopening.html) | [Contents](toc.html) | [3.1 Python Generators](https://jckantor.github.io/CBE40455-2020/03.01-Python-Generators.html)<p><a href=\"https://colab.research.google.com/github/jckantor/CBE40455-2020/blob/master/docs/03.00-Introduction-to-Discrete-Event-Modeling.ipynb\"> <img align=\"left\" src=\"https://colab.research.google.com/assets/colab-badge.svg\" alt=\"Open in Colab\" title=\"Open in Google Colaboratory\"></a><p><a href=\"https://jckantor.github.io/CBE40455-2020/03.00-Introduction-to-Discrete-Event-Modeling.ipynb\"> <img align=\"left\" src=\"https://img.shields.io/badge/Github-Download-blue.svg\" alt=\"Download\" title=\"Download Notebook\"></a>"
   ]
  },
  {
   "cell_type": "markdown",
   "metadata": {
    "nbpages": {
     "level": 1,
     "link": "[3.0 Introduction to Discrete Event Simulation](https://jckantor.github.io/CBE40455-2020/03.00-Introduction-to-Discrete-Event-Modeling.html#3.0-Introduction-to-Discrete-Event-Simulation)",
     "section": "3.0 Introduction to Discrete Event Simulation"
    }
   },
   "source": [
    "# 3.0 Introduction to Discrete Event Simulation"
   ]
  },
  {
   "cell_type": "markdown",
   "metadata": {
    "nbpages": {
     "level": 2,
     "link": "[3.0.1 What is discrete-event simulation?](https://jckantor.github.io/CBE40455-2020/03.00-Introduction-to-Discrete-Event-Modeling.html#3.0.1-What-is-discrete-event-simulation?)",
     "section": "3.0.1 What is discrete-event simulation?"
    }
   },
   "source": [
    "## 3.0.1 What is discrete-event simulation?\n",
    "\n",
    "Simulation is of profound importance to engineering practice. By comparing simulation to experiments, simulation can be used to verify one's understanding of complex systems. Going the next step, simulation can be used to validate the design of new systems prior to their physical realization. \n",
    "\n",
    "Discrete-event simulation addresses the simulation of systems characterized by events. In contrast to systems typically modeled by low order and mathematically smooth functions and differential equations, discrete-event systems generally comprise objects and activities demarcarted by events such as the start and completion of tasks, the assignment of discrete resources to tasks, preemption of tasks. Discrete-event simulation has a wide range of applications ranging from manufacturing and logistics to health care delivery.\n",
    "\n",
    "There are a broad range of [software tools that support discrete-event simulation](https://en.wikipedia.org/wiki/List_of_discrete_event_simulation_software). In this unit we will examine two representative tool sets. The first is [SimPy](https://simpy.readthedocs.io/en/latest/), an easy to use Python library that is used to construct custom simulations and can be integrated with a vast array of other Python tools. The second is [AnyLogic](https://www.anylogic.com/), a commercial simulation too representative of current state-of-the-art in discrete-event simulation."
   ]
  },
  {
   "cell_type": "markdown",
   "metadata": {
    "nbpages": {
     "level": 2,
     "link": "[3.0.2 SimPy](https://jckantor.github.io/CBE40455-2020/03.00-Introduction-to-Discrete-Event-Modeling.html#3.0.2-SimPy)",
     "section": "3.0.2 SimPy"
    }
   },
   "source": [
    "## 3.0.2 SimPy\n",
    "\n",
    "* [SimPy documentation](https://simpy.readthedocs.io/en/latest/) includes a [tutorial](https://simpy.readthedocs.io/en/latest/simpy_intro/index.html#intro)\n",
    "* Scherfke, Stefan. [Slides](https://stefan.sofa-rockers.org/downloads/simpy-ep14.pdf) from a [conference talk](https://www.youtube.com/watch?v=Bk91DoAEcjY) given by one of the current developers of SimPy.\n",
    "* Heintz, Meghan.[Launching a new warehouse with SimPy at Rent the Runway](https://www.youtube.com/watch?v=693UiPq6mII), a presentation at PyData NYC 2019.\n",
    "* Horgan, Juan (2020). [Manufacturing simulation using SimPy](https://towardsdatascience.com/manufacturing-simulation-using-simpy-5b432ba05d98): A complete example of a simulation of a guitar factory using SimPy and class definitions."
   ]
  },
  {
   "cell_type": "code",
   "execution_count": null,
   "metadata": {
    "nbpages": {
     "level": 2,
     "link": "[3.0.2 SimPy](https://jckantor.github.io/CBE40455-2020/03.00-Introduction-to-Discrete-Event-Modeling.html#3.0.2-SimPy)",
     "section": "3.0.2 SimPy"
    }
   },
   "outputs": [],
   "source": []
  },
  {
   "cell_type": "markdown",
   "metadata": {},
   "source": [
    "<!--NAVIGATION-->\n",
    "< [2.4 Linear Analysis of Campus Reopening](https://jckantor.github.io/CBE40455-2020/02.04-Linear-Analysis-of-Campus-Reopening.html) | [Contents](toc.html) | [3.1 Python Generators](https://jckantor.github.io/CBE40455-2020/03.01-Python-Generators.html)<p><a href=\"https://colab.research.google.com/github/jckantor/CBE40455-2020/blob/master/docs/03.00-Introduction-to-Discrete-Event-Modeling.ipynb\"> <img align=\"left\" src=\"https://colab.research.google.com/assets/colab-badge.svg\" alt=\"Open in Colab\" title=\"Open in Google Colaboratory\"></a><p><a href=\"https://jckantor.github.io/CBE40455-2020/03.00-Introduction-to-Discrete-Event-Modeling.ipynb\"> <img align=\"left\" src=\"https://img.shields.io/badge/Github-Download-blue.svg\" alt=\"Download\" title=\"Download Notebook\"></a>"
   ]
  }
 ],
 "metadata": {
  "kernelspec": {
   "display_name": "Python 3",
   "language": "python",
   "name": "python3"
  },
  "language_info": {
   "codemirror_mode": {
    "name": "ipython",
    "version": 3
   },
   "file_extension": ".py",
   "mimetype": "text/x-python",
   "name": "python",
   "nbconvert_exporter": "python",
   "pygments_lexer": "ipython3",
   "version": "3.7.4"
  }
 },
 "nbformat": 4,
 "nbformat_minor": 4
}
