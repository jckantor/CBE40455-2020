{
 "cells": [
  {
   "cell_type": "markdown",
   "metadata": {
    "id": "iEwrx3Ei48xK",
    "nbpages": {
     "level": 0,
     "link": "[](https://jckantor.github.io/CBE40455-2020/07.00-Risk-and-Diversification.html)",
     "section": ""
    },
    "pycharm": {}
   },
   "source": [
    "<!--NOTEBOOK_HEADER-->\n",
    "*This notebook contains material from [CBE40455-2020](https://jckantor.github.io/CBE40455-2020);\n",
    "content is available [on Github](https://github.com/jckantor/CBE40455-2020.git).*\n"
   ]
  },
  {
   "cell_type": "markdown",
   "metadata": {
    "id": "KHGm_ga848xM",
    "nbpages": {
     "level": 0,
     "link": "[](https://jckantor.github.io/CBE40455-2020/07.00-Risk-and-Diversification.html)",
     "section": ""
    },
    "pycharm": {}
   },
   "source": [
    "<!--NAVIGATION-->\n",
    "< [3.12 Little's Law and other Odds and Ends](https://jckantor.github.io/CBE40455-2020/03.12-Littles-Law-and-other-Odds-and-Ends.html) | [Contents](toc.html) | [7.1 Measuring Return](https://jckantor.github.io/CBE40455-2020/07.01-Measuring-Return.html) ><p><a href=\"https://colab.research.google.com/github/jckantor/CBE40455-2020/blob/master/docs/07.00-Risk-and-Diversification.ipynb\"> <img align=\"left\" src=\"https://colab.research.google.com/assets/colab-badge.svg\" alt=\"Open in Colab\" title=\"Open in Google Colaboratory\"></a><p><a href=\"https://jckantor.github.io/CBE40455-2020/07.00-Risk-and-Diversification.ipynb\"> <img align=\"left\" src=\"https://img.shields.io/badge/Github-Download-blue.svg\" alt=\"Download\" title=\"Download Notebook\"></a>"
   ]
  },
  {
   "cell_type": "markdown",
   "metadata": {
    "collapsed": true,
    "id": "loHO0wXR48xM",
    "nbpages": {
     "level": 1,
     "link": "[7.0 Risk and Diversification](https://jckantor.github.io/CBE40455-2020/07.00-Risk-and-Diversification.html#7.0-Risk-and-Diversification)",
     "section": "7.0 Risk and Diversification"
    },
    "pycharm": {
     "name": "#%% md\n"
    }
   },
   "source": [
    "# 7.0 Risk and Diversification\n"
   ]
  },
  {
   "cell_type": "markdown",
   "metadata": {
    "id": "iMBzStsv5FMi",
    "nbpages": {
     "level": 2,
     "link": "[7.0.1 Popular books](https://jckantor.github.io/CBE40455-2020/07.00-Risk-and-Diversification.html#7.0.1-Popular-books)",
     "section": "7.0.1 Popular books"
    }
   },
   "source": [
    "## 7.0.1 Popular books\n",
    "\n",
    "There is a popular literature on the role of randomness in financial and engineering analysis. This is a small selection along with links to related material and commentaries.\n",
    "\n",
    "* Poundstone, William. Fortune's Formula: The untold story of the scientific betting system that beat the casinos and wall street. Hill and Wang, 2010. https://www.amazon.com/Fortunes-Formula-Scientific-Betting-Casinos-ebook/dp/B000SBTWNC\n",
    "\n",
    "    * MacLean, Leonard C., et al. \"How Does the Fortune’s Formula Kelly CapitalGrowth Model Perform?.\" The Journal of Portfolio Management 37.4 (2011): 96-111. http://hari.seshadri.com/docs/kelly-betting/kelly1.pdf\n",
    "    \n",
    "    * Ziemba, Bill. \"Fortune's Formula.\" Wilmott 2018.94 (2018): 32-37.  https://alphazadvisors.com/wp-content/uploads/2018/06/Ziemba-2018-Wilmott_Fortunes_Formula.pdf\n",
    "\n",
    "    * Wójtowicz, Michał. \"A counterexample to the Fortune’s Formula investing method.\" Revista de la Real Academia de Ciencias Exactas, Físicas y Naturales. Serie A. Matemáticas 113.2 (2019): 749-767. https://link.springer.com/article/10.1007/s13398-018-0508-x\n",
    "\n",
    "* Taleb, Nassim Nicholas. The black swan: The impact of the highly improbable. Vol. 2. Random house, 2007.  https://www.amazon.com/Black-Swan-Improbable-Robustness-Fragility/dp/081297381X\n",
    "\n",
    "    * Taleb, Nassim Nicholas. \"Statistical Consequences of Fat Tails: Real World Preasymptotics, Epistemology, and Applications.\" arXiv preprint arXiv:2001.10488 (2020). https://arxiv.org/pdf/2001.10488.pdf\n",
    "\n",
    "* Thorp, Edward O. A man for all markets: From Las Vegas to wall street, how i beat the dealer and the market. Random House Incorporated, 2017. https://www.amazon.com/Man-All-Markets-Street-Dealer/dp/0812979907\n",
    "\n",
    "\n"
   ]
  },
  {
   "cell_type": "markdown",
   "metadata": {
    "id": "8DLe-9kO48xN",
    "nbpages": {
     "level": 2,
     "link": "[7.0.1 Popular books](https://jckantor.github.io/CBE40455-2020/07.00-Risk-and-Diversification.html#7.0.1-Popular-books)",
     "section": "7.0.1 Popular books"
    },
    "pycharm": {}
   },
   "source": [
    "<!--NAVIGATION-->\n",
    "< [3.12 Little's Law and other Odds and Ends](https://jckantor.github.io/CBE40455-2020/03.12-Littles-Law-and-other-Odds-and-Ends.html) | [Contents](toc.html) | [7.1 Measuring Return](https://jckantor.github.io/CBE40455-2020/07.01-Measuring-Return.html) ><p><a href=\"https://colab.research.google.com/github/jckantor/CBE40455-2020/blob/master/docs/07.00-Risk-and-Diversification.ipynb\"> <img align=\"left\" src=\"https://colab.research.google.com/assets/colab-badge.svg\" alt=\"Open in Colab\" title=\"Open in Google Colaboratory\"></a><p><a href=\"https://jckantor.github.io/CBE40455-2020/07.00-Risk-and-Diversification.ipynb\"> <img align=\"left\" src=\"https://img.shields.io/badge/Github-Download-blue.svg\" alt=\"Download\" title=\"Download Notebook\"></a>"
   ]
  }
 ],
 "metadata": {
  "colab": {
   "collapsed_sections": [],
   "name": "07.00-Risk-and-Diversification.ipynb",
   "provenance": []
  },
  "kernelspec": {
   "display_name": "Python 2",
   "language": "python",
   "name": "python2"
  },
  "language_info": {
   "codemirror_mode": {
    "name": "ipython",
    "version": 2
   },
   "file_extension": ".py",
   "mimetype": "text/x-python",
   "name": "python",
   "nbconvert_exporter": "python",
   "pygments_lexer": "ipython2",
   "version": "2.7.6"
  }
 },
 "nbformat": 4,
 "nbformat_minor": 0
}
