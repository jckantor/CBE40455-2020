{
 "cells": [
  {
   "cell_type": "markdown",
   "metadata": {
    "nbpages": {
     "level": 0,
     "link": "[](https://jckantor.github.io/CBE40455-2020/07.00-Risk-and-Diversification.html)",
     "section": ""
    },
    "pycharm": {}
   },
   "source": [
    "<!--NOTEBOOK_HEADER-->\n",
    "*This notebook contains material from [CBE40455-2020](https://jckantor.github.io/CBE40455-2020);\n",
    "content is available [on Github](https://github.com/jckantor/CBE40455-2020.git).*\n"
   ]
  },
  {
   "cell_type": "markdown",
   "metadata": {
    "nbpages": {
     "level": 0,
     "link": "[](https://jckantor.github.io/CBE40455-2020/07.00-Risk-and-Diversification.html)",
     "section": ""
    },
    "pycharm": {}
   },
   "source": [
    "<!--NAVIGATION-->\n",
    "< [3.12 Little's Law and other Odds and Ends](https://jckantor.github.io/CBE40455-2020/03.12-Littles-Law-and-other-Odds-and-Ends.html) | [Contents](toc.html) | [7.1 Measuring Return](https://jckantor.github.io/CBE40455-2020/07.01-Measuring-Return.html) ><p><a href=\"https://colab.research.google.com/github/jckantor/CBE40455-2020/blob/master/docs/07.00-Risk-and-Diversification.ipynb\"> <img align=\"left\" src=\"https://colab.research.google.com/assets/colab-badge.svg\" alt=\"Open in Colab\" title=\"Open in Google Colaboratory\"></a><p><a href=\"https://jckantor.github.io/CBE40455-2020/07.00-Risk-and-Diversification.ipynb\"> <img align=\"left\" src=\"https://img.shields.io/badge/Github-Download-blue.svg\" alt=\"Download\" title=\"Download Notebook\"></a>"
   ]
  },
  {
   "cell_type": "markdown",
   "metadata": {
    "collapsed": true,
    "nbpages": {
     "level": 1,
     "link": "[7.0 Risk and Diversification](https://jckantor.github.io/CBE40455-2020/07.00-Risk-and-Diversification.html#7.0-Risk-and-Diversification)",
     "section": "7.0 Risk and Diversification"
    },
    "pycharm": {
     "name": "#%% md\n"
    }
   },
   "source": [
    "# 7.0 Risk and Diversification\n"
   ]
  },
  {
   "cell_type": "markdown",
   "metadata": {
    "nbpages": {
     "level": 1,
     "link": "[7.0 Risk and Diversification](https://jckantor.github.io/CBE40455-2020/07.00-Risk-and-Diversification.html#7.0-Risk-and-Diversification)",
     "section": "7.0 Risk and Diversification"
    },
    "pycharm": {}
   },
   "source": [
    "<!--NAVIGATION-->\n",
    "< [3.12 Little's Law and other Odds and Ends](https://jckantor.github.io/CBE40455-2020/03.12-Littles-Law-and-other-Odds-and-Ends.html) | [Contents](toc.html) | [7.1 Measuring Return](https://jckantor.github.io/CBE40455-2020/07.01-Measuring-Return.html) ><p><a href=\"https://colab.research.google.com/github/jckantor/CBE40455-2020/blob/master/docs/07.00-Risk-and-Diversification.ipynb\"> <img align=\"left\" src=\"https://colab.research.google.com/assets/colab-badge.svg\" alt=\"Open in Colab\" title=\"Open in Google Colaboratory\"></a><p><a href=\"https://jckantor.github.io/CBE40455-2020/07.00-Risk-and-Diversification.ipynb\"> <img align=\"left\" src=\"https://img.shields.io/badge/Github-Download-blue.svg\" alt=\"Download\" title=\"Download Notebook\"></a>"
   ]
  }
 ],
 "metadata": {
  "kernelspec": {
   "display_name": "Python 2",
   "language": "python",
   "name": "python2"
  },
  "language_info": {
   "codemirror_mode": {
    "name": "ipython",
    "version": 2
   },
   "file_extension": ".py",
   "mimetype": "text/x-python",
   "name": "python",
   "nbconvert_exporter": "python",
   "pygments_lexer": "ipython2",
   "version": "2.7.6"
  }
 },
 "nbformat": 4,
 "nbformat_minor": 0
}
