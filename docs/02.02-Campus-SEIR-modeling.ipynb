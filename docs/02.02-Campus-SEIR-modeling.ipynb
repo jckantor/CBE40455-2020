{
 "cells": [
  {
   "cell_type": "markdown",
   "metadata": {},
   "source": [
    "<!--NOTEBOOK_HEADER-->\n",
    "*This notebook contains material from [CBE40455-2020](https://jckantor.github.io/CBE40455-2020);\n",
    "content is available [on Github](https://github.com/jckantor/CBE40455-2020.git).*\n"
   ]
  },
  {
   "cell_type": "markdown",
   "metadata": {},
   "source": [
    "<!--NAVIGATION-->\n",
    "< [2.1 Campus SIR Modeling](https://jckantor.github.io/CBE40455-2020/02.01-Campus-SIR-modeling.html) | [Contents](toc.html) |<p><a href=\"https://colab.research.google.com/github/jckantor/CBE40455-2020/blob/master/docs/02.02-Campus-SEIR-modeling.ipynb\"> <img align=\"left\" src=\"https://colab.research.google.com/assets/colab-badge.svg\" alt=\"Open in Colab\" title=\"Open in Google Colaboratory\"></a><p><a href=\"https://jckantor.github.io/CBE40455-2020/02.02-Campus-SEIR-modeling.ipynb\"> <img align=\"left\" src=\"https://img.shields.io/badge/Github-Download-blue.svg\" alt=\"Download\" title=\"Download Notebook\"></a>"
   ]
  },
  {
   "cell_type": "markdown",
   "metadata": {
    "colab_type": "text",
    "id": "7wQY1Qx7eOKX",
    "nbpages": {
     "level": 1,
     "link": "[2.2 Campus SEIR Modeling](https://jckantor.github.io/CBE40455-2020/02.02-Campus-SEIR-modeling.html#2.2-Campus-SEIR-Modeling)",
     "section": "2.2 Campus SEIR Modeling"
    }
   },
   "source": [
    "# 2.2 Campus SEIR Modeling\n",
    "\n"
   ]
  },
  {
   "cell_type": "markdown",
   "metadata": {
    "colab_type": "text",
    "id": "nDB7fXWZeVef",
    "nbpages": {
     "level": 2,
     "link": "[2.2.1 Campus infection data](https://jckantor.github.io/CBE40455-2020/02.02-Campus-SEIR-modeling.html#2.2.1-Campus-infection-data)",
     "section": "2.2.1 Campus infection data"
    }
   },
   "source": [
    "## 2.2.1 Campus infection data\n",
    "\n",
    "The following data consists of new infections reported since August 3, 2020, from diagnostic testing administered by the Wellness Center and University Health Services at the University of Notre Dame. The data is publically available on the [Notre Dame Covid-19 Dashboard](https://here.nd.edu/our-approach/dashboard/)."
   ]
  },
  {
   "cell_type": "code",
   "execution_count": 1,
   "metadata": {
    "colab": {
     "base_uri": "https://localhost:8080/",
     "height": 281
    },
    "colab_type": "code",
    "executionInfo": {
     "elapsed": 1035,
     "status": "ok",
     "timestamp": 1597680824455,
     "user": {
      "displayName": "Jeffrey Kantor",
      "photoUrl": "https://lh3.googleusercontent.com/a-/AOh14Gg_n8V7bVINy02QRuRgOoMo11Ri7NKU3OUKdC1bkQ=s64",
      "userId": "09038942003589296665"
     },
     "user_tz": 240
    },
    "id": "POjTcEnHSDwi",
    "nbpages": {
     "level": 2,
     "link": "[2.2.1 Campus infection data](https://jckantor.github.io/CBE40455-2020/02.02-Campus-SEIR-modeling.html#2.2.1-Campus-infection-data)",
     "section": "2.2.1 Campus infection data"
    },
    "outputId": "3768ce83-7730-44c6-c8f0-ce301e462d64"
   },
   "outputs": [
    {
     "data": {
      "image/png": "[encoded data removed]",
      "text/plain": [
       "<Figure size 576x288 with 1 Axes>"
      ]
     },
     "metadata": {
      "needs_background": "light",
      "tags": []
     },
     "output_type": "display_data"
    }
   ],
   "source": [
    "import pandas as pd\n",
    "import numpy as np\n",
    "import matplotlib.pyplot as plt\n",
    "import matplotlib.dates as mdates\n",
    "from scipy.integrate import solve_ivp\n",
    "from scipy.optimize import minimize\n",
    "from datetime import timedelta\n",
    "\n",
    "data = [\n",
    "    [\"2020-08-03\", 0],\n",
    "    [\"2020-08-04\", 0],\n",
    "    [\"2020-08-05\", 0],\n",
    "    [\"2020-08-06\", 1],\n",
    "    [\"2020-08-07\", 0],\n",
    "    [\"2020-08-08\", 1],\n",
    "    [\"2020-08-09\", 2],\n",
    "    [\"2020-08-10\", 4],\n",
    "    [\"2020-08-11\", 4],\n",
    "    [\"2020-08-12\", 7],\n",
    "    [\"2020-08-13\", 10],\n",
    "    [\"2020-08-14\", 14],\n",
    "    [\"2020-08-15\", 3],\n",
    "    [\"2020-08-16\", 15],\n",
    "]\n",
    "\n",
    "df = pd.DataFrame(data, columns=[\"date\", \"new cases\"])\n",
    "df[\"date\"] = pd.to_datetime(df[\"date\"])\n",
    "\n",
    "fig, ax = plt.subplots(figsize=(8,4))\n",
    "ax.bar(df[\"date\"], df[\"new cases\"], width=0.6)\n",
    "ax.xaxis.set_major_locator(mdates.WeekdayLocator(byweekday=mdates.MO))\n",
    "ax.xaxis.set_major_formatter(mdates.DateFormatter(\"%b %d\"))\n",
    "plt.title(\"Reported New Infections\")\n",
    "plt.grid()"
   ]
  },
  {
   "cell_type": "markdown",
   "metadata": {
    "colab_type": "text",
    "id": "NCrQCtMfHqBG",
    "nbpages": {
     "level": 2,
     "link": "[2.2.2 Fitting an SEIR model to campus data](https://jckantor.github.io/CBE40455-2020/02.02-Campus-SEIR-modeling.html#2.2.2-Fitting-an-SEIR-model-to-campus-data)",
     "section": "2.2.2 Fitting an SEIR model to campus data"
    }
   },
   "source": [
    "## 2.2.2 Fitting an SEIR model to campus data\n",
    "\n",
    "Because of  the limited amount of data available at the time this notebook was prepared, the model fitting has been limited to an SEIR model for infectious disease in a homogeneous population. In an SEIR model, the progression of an epidemic can be modeled by the rate processes shown in the following diagram.\n",
    "\n",
    "$$\\text{Susceptible}\n",
    "\\xrightarrow {\\frac{\\beta S I}{N}} \n",
    "\\text{Exposed} \n",
    "\\xrightarrow{\\alpha E} \n",
    "\\text{Infectious} \n",
    "\\xrightarrow{\\gamma I} \n",
    "\\text{Recovered} $$\n",
    "\n",
    "which yeild the following model for the population of the four compartments\n",
    "\n",
    "$$\\begin{align*}\n",
    "\\frac{dS}{dt} &= -\\beta S \\frac{I}{N} \\\\\n",
    "\\frac{dE}{dt} &= \\beta S \\frac{I}{N} - \\alpha E \\\\\n",
    "\\frac{dI}{dt} &= \\alpha E - \\gamma I \\\\\n",
    "\\frac{dR}{dt} &= \\gamma I \\\\\n",
    "\\end{align*}$$\n",
    "\n",
    "The recovery rate is given by $\\gamma = 1/t_{recovery}$ where the average recovery time $t_{recovery}$ is estimated as 8 days. \n",
    "\n",
    "\n",
    "| Parameter | Description | Estimated Value | Source |\n",
    "| :-- | :-- | :-- | :-- |\n",
    "| $N$ | campus population | 15,000 | estimate |\n",
    "| $\\alpha$ | 1/average latency period | 1/(3.0 d) |\n",
    "| $\\gamma$ | 1/average recovery period | 1/(8.0 d) | literature |\n",
    "| $\\beta$ | infection rate constant | tbd | fitted to data | \n",
    "| $I_0$ | initial infectives on Aug 3, 2020 | tbd | fitted to data \n",
    "| $R_0$ | reproduction number | ${\\beta}/{\\gamma}$ |"
   ]
  },
  {
   "cell_type": "code",
   "execution_count": 2,
   "metadata": {
    "colab": {
     "base_uri": "https://localhost:8080/",
     "height": 312
    },
    "colab_type": "code",
    "executionInfo": {
     "elapsed": 1705,
     "status": "ok",
     "timestamp": 1597680825137,
     "user": {
      "displayName": "Jeffrey Kantor",
      "photoUrl": "https://lh3.googleusercontent.com/a-/AOh14Gg_n8V7bVINy02QRuRgOoMo11Ri7NKU3OUKdC1bkQ=s64",
      "userId": "09038942003589296665"
     },
     "user_tz": 240
    },
    "id": "UtL_lSxiWk8H",
    "nbpages": {
     "level": 2,
     "link": "[2.2.2 Fitting an SEIR model to campus data](https://jckantor.github.io/CBE40455-2020/02.02-Campus-SEIR-modeling.html#2.2.2-Fitting-an-SEIR-model-to-campus-data)",
     "section": "2.2.2 Fitting an SEIR model to campus data"
    },
    "outputId": "090b7006-6087-4f1c-93db-83ec1cc74f8a"
   },
   "outputs": [
    {
     "name": "stdout",
     "output_type": "stream",
     "text": [
      "R0 = 4.5\n"
     ]
    },
    {
     "data": {
      "image/png": "[encoded data removed]",
      "text/plain": [
       "<Figure size 432x288 with 1 Axes>"
      ]
     },
     "metadata": {
      "needs_background": "light",
      "tags": []
     },
     "output_type": "display_data"
    }
   ],
   "source": [
    "N = 15000         # estimated campus population\n",
    "gamma = 1/8.0     # recovery rate = 1 / average recovery time in days\n",
    "alpha = 1/3.0\n",
    "\n",
    "def model(t, y, beta):\n",
    "    S, E, I, R = y\n",
    "    dSdt = -beta*S*I/N\n",
    "    dEdt = beta*S*I/N - alpha*E\n",
    "    dIdt = alpha*E - gamma*I\n",
    "    dRdt = gamma*I\n",
    "    return np.array([dSdt, dEdt, dIdt, dRdt])\n",
    "\n",
    "def solve_model(t, params):\n",
    "    beta, I_initial = params\n",
    "    IC = [N - I_initial, I_initial, 0.0, 0.0]\n",
    "    soln = solve_ivp(lambda t, y: model(t, y, beta), np.array([t[0], t[-1]]), \n",
    "                IC, t_eval=t, atol=1e-6, rtol=1e-9)\n",
    "    S, E, I, R = soln.y\n",
    "    U = beta*S*I/N\n",
    "    return S, E, I, R, U\n",
    "\n",
    "def residuals(df, params):\n",
    "    S, E, I, R, U = solve_model(df.index, params)\n",
    "    return np.linalg.norm(df[\"new cases\"] - U)\n",
    "\n",
    "def fit_model(df, params_est=[0.5, 0.5]):\n",
    "    return minimize(lambda params: residuals(df, params), params_est, method=\"Nelder-Mead\").x\n",
    "\n",
    "def plot_data(df):\n",
    "    plt.plot(df.index, np.array(df[\"new cases\"]), \"r.\", ms=20, label=\"data\")\n",
    "    plt.xlabel(\"days\")\n",
    "    plt.title(\"new cases\")\n",
    "    plt.legend()\n",
    "\n",
    "def plot_model(t, params):\n",
    "    print(\"R0 =\", round(beta/gamma, 1))\n",
    "    S, E, I, R, U = solve_model(t, params)\n",
    "    plt.plot(t, U, lw=3, label=\"model\")\n",
    "    plt.xlabel(\"days\")\n",
    "    plt.title(\"new cases\")\n",
    "    plt.legend()\n",
    "\n",
    "plot_data(df)\n",
    "beta, I_initial = fit_model(df)\n",
    "plot_model(df.index, [beta, I_initial])"
   ]
  },
  {
   "cell_type": "markdown",
   "metadata": {
    "colab_type": "text",
    "id": "_bgKAAIBUrEj",
    "nbpages": {
     "level": 2,
     "link": "[2.2.3 Fitted parameter values](https://jckantor.github.io/CBE40455-2020/02.02-Campus-SEIR-modeling.html#2.2.3-Fitted-parameter-values)",
     "section": "2.2.3 Fitted parameter values"
    }
   },
   "source": [
    "## 2.2.3 Fitted parameter values"
   ]
  },
  {
   "cell_type": "code",
   "execution_count": 3,
   "metadata": {
    "colab": {
     "base_uri": "https://localhost:8080/",
     "height": 136
    },
    "colab_type": "code",
    "executionInfo": {
     "elapsed": 458,
     "status": "ok",
     "timestamp": 1597680829013,
     "user": {
      "displayName": "Jeffrey Kantor",
      "photoUrl": "https://lh3.googleusercontent.com/a-/AOh14Gg_n8V7bVINy02QRuRgOoMo11Ri7NKU3OUKdC1bkQ=s64",
      "userId": "09038942003589296665"
     },
     "user_tz": 240
    },
    "id": "tWmFUnGsOEgn",
    "nbpages": {
     "level": 2,
     "link": "[2.2.3 Fitted parameter values](https://jckantor.github.io/CBE40455-2020/02.02-Campus-SEIR-modeling.html#2.2.3-Fitted-parameter-values)",
     "section": "2.2.3 Fitted parameter values"
    },
    "outputId": "05c20701-888d-4fc4-aede-278883e7ffdd"
   },
   "outputs": [
    {
     "name": "stdout",
     "output_type": "stream",
     "text": [
      "Parameter           Value\n",
      "-----------  ------------\n",
      "N            15000\n",
      "I0               3.86223\n",
      "beta             0.561662\n",
      "gamma            0.125\n",
      "R0               4.49329\n"
     ]
    }
   ],
   "source": [
    "from tabulate import tabulate\n",
    "parameter_table = [\n",
    "                   [\"N\", 15000],\n",
    "                   [\"I0\", I_initial],\n",
    "                   [\"beta\", beta],\n",
    "                   [\"gamma\", gamma],\n",
    "                   [\"R0\", beta/gamma]\n",
    "]\n",
    "print(tabulate(parameter_table, headers=[\"Parameter\", \"Value\"]))"
   ]
  },
  {
   "cell_type": "markdown",
   "metadata": {
    "colab_type": "text",
    "id": "XBWZxEBkHxBJ",
    "nbpages": {
     "level": 2,
     "link": "[2.2.4 Short term predictions of newly confirmed cases](https://jckantor.github.io/CBE40455-2020/02.02-Campus-SEIR-modeling.html#2.2.4-Short-term-predictions-of-newly-confirmed-cases)",
     "section": "2.2.4 Short term predictions of newly confirmed cases"
    }
   },
   "source": [
    "## 2.2.4 Short term predictions of newly confirmed cases\n",
    "\n",
    "Using the fitted parameters, the following code presents a short term projection of newly diagnosed infections. Roughly speaking, the model projects a 50% increase per day in newly diagnosed cases as a result of testing sympotomatic individuals. \n",
    "\n",
    "The number of infected but asympotomatic individuals is unknown at this time, but can be expected to be a 2x multiple of this projection."
   ]
  },
  {
   "cell_type": "code",
   "execution_count": 7,
   "metadata": {
    "colab": {
     "base_uri": "https://localhost:8080/",
     "height": 281
    },
    "colab_type": "code",
    "executionInfo": {
     "elapsed": 3407,
     "status": "ok",
     "timestamp": 1597681072898,
     "user": {
      "displayName": "Jeffrey Kantor",
      "photoUrl": "https://lh3.googleusercontent.com/a-/AOh14Gg_n8V7bVINy02QRuRgOoMo11Ri7NKU3OUKdC1bkQ=s64",
      "userId": "09038942003589296665"
     },
     "user_tz": 240
    },
    "id": "hl001U_gRuNs",
    "nbpages": {
     "level": 2,
     "link": "[2.2.4 Short term predictions of newly confirmed cases](https://jckantor.github.io/CBE40455-2020/02.02-Campus-SEIR-modeling.html#2.2.4-Short-term-predictions-of-newly-confirmed-cases)",
     "section": "2.2.4 Short term predictions of newly confirmed cases"
    },
    "outputId": "9b7e85cd-f4ae-4ae4-e340-745ac1e6f638"
   },
   "outputs": [
    {
     "data": {
      "image/png": "[encoded data removed]",
      "text/plain": [
       "<Figure size 864x288 with 1 Axes>"
      ]
     },
     "metadata": {
      "needs_background": "light",
      "tags": []
     },
     "output_type": "display_data"
    }
   ],
   "source": [
    "# prediction horizon (days ahead)\n",
    "H = 3\n",
    "\n",
    "# retrospective lag\n",
    "K = 6\n",
    "\n",
    "fig, ax = plt.subplots(1, 1, figsize=(12, 4))\n",
    "for k in range(0, K+1):\n",
    "    # use data up to k days ago\n",
    "    if k > 0:\n",
    "        beta, I_initial = fit_model(df[:-k])\n",
    "        P = max(df[:-k].index) + H\n",
    "        c = 'b'\n",
    "        a = 0.25\n",
    "    else:\n",
    "        beta, I_initial = fit_model(df)\n",
    "        P = max(df.index) + H\n",
    "        c = 'r'\n",
    "        a = 1.0\n",
    "\n",
    "    # simulation\n",
    "    t = np.linspace(0, P, P+1)\n",
    "    S, E, I, R, U  = solve_model(t, [beta, I_initial])\n",
    "\n",
    "    # plotting\n",
    "    dates = [df[\"date\"][0] + timedelta(days=t) for t in t]\n",
    "    ax.plot(dates, U, c, lw=3, alpha=a)\n",
    "\n",
    "ax.plot(df[\"date\"], df[\"new cases\"], \"r.\", ms=25, label=\"new infections (data)\")\n",
    "ax.xaxis.set_major_locator(mdates.WeekdayLocator(byweekday=mdates.MO))\n",
    "ax.xaxis.set_major_formatter(mdates.DateFormatter(\"%b %d\"))\n",
    "ax.grid(True)\n",
    "ax.set_title(f\"{H} day-ahead predictions of confirmed new cases\");"
   ]
  },
  {
   "cell_type": "code",
   "execution_count": null,
   "metadata": {
    "colab": {},
    "colab_type": "code",
    "id": "nkJN6e5mkj-I",
    "nbpages": {
     "level": 2,
     "link": "[2.2.4 Short term predictions of newly confirmed cases](https://jckantor.github.io/CBE40455-2020/02.02-Campus-SEIR-modeling.html#2.2.4-Short-term-predictions-of-newly-confirmed-cases)",
     "section": "2.2.4 Short term predictions of newly confirmed cases"
    }
   },
   "outputs": [],
   "source": []
  },
  {
   "cell_type": "markdown",
   "metadata": {},
   "source": [
    "<!--NAVIGATION-->\n",
    "< [2.1 Campus SIR Modeling](https://jckantor.github.io/CBE40455-2020/02.01-Campus-SIR-modeling.html) | [Contents](toc.html) |<p><a href=\"https://colab.research.google.com/github/jckantor/CBE40455-2020/blob/master/docs/02.02-Campus-SEIR-modeling.ipynb\"> <img align=\"left\" src=\"https://colab.research.google.com/assets/colab-badge.svg\" alt=\"Open in Colab\" title=\"Open in Google Colaboratory\"></a><p><a href=\"https://jckantor.github.io/CBE40455-2020/02.02-Campus-SEIR-modeling.ipynb\"> <img align=\"left\" src=\"https://img.shields.io/badge/Github-Download-blue.svg\" alt=\"Download\" title=\"Download Notebook\"></a>"
   ]
  }
 ],
 "metadata": {
  "colab": {
   "authorship_tag": "ABX9TyMLHLafHBVRbuqsiaP/J00M",
   "collapsed_sections": [],
   "name": "Campus-SEIR-modeling.ipynb",
   "provenance": [
    {
     "file_id": "14v51fHgXJppd-iWZ_I8hWcQsqultykEX",
     "timestamp": 1597525384103
    }
   ]
  },
  "kernelspec": {
   "display_name": "Python 3",
   "name": "python3"
  }
 },
 "nbformat": 4,
 "nbformat_minor": 0
}
