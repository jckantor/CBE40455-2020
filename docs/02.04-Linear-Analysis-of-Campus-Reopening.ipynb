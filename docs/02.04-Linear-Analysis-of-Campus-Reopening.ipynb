{
 "cells": [
  {
   "cell_type": "markdown",
   "metadata": {},
   "source": [
    "<!--NOTEBOOK_HEADER-->\n",
    "*This notebook contains material from [CBE40455-2020](https://jckantor.github.io/CBE40455-2020);\n",
    "content is available [on Github](https://github.com/jckantor/CBE40455-2020.git).*\n"
   ]
  },
  {
   "cell_type": "markdown",
   "metadata": {},
   "source": [
    "<!--NAVIGATION-->\n",
    "< [2.3 Campus Re-opening Model](https://jckantor.github.io/CBE40455-2020/02.03-Campus-reopening.html) | [Contents](toc.html) | [3.0 Introduction to Discrete Event Simulation](https://jckantor.github.io/CBE40455-2020/03.00-Introduction-to-Discrete-Event-Modeling.html) ><p><a href=\"https://colab.research.google.com/github/jckantor/CBE40455-2020/blob/master/docs/02.04-Linear-Analysis-of-Campus-Reopening.ipynb\"> <img align=\"left\" src=\"https://colab.research.google.com/assets/colab-badge.svg\" alt=\"Open in Colab\" title=\"Open in Google Colaboratory\"></a><p><a href=\"https://jckantor.github.io/CBE40455-2020/02.04-Linear-Analysis-of-Campus-Reopening.ipynb\"> <img align=\"left\" src=\"https://img.shields.io/badge/Github-Download-blue.svg\" alt=\"Download\" title=\"Download Notebook\"></a>"
   ]
  },
  {
   "cell_type": "markdown",
   "metadata": {
    "nbpages": {
     "level": 1,
     "link": "[2.4 Linear Analysis of Campus Reopening](https://jckantor.github.io/CBE40455-2020/02.04-Linear-Analysis-of-Campus-Reopening.html#2.4-Linear-Analysis-of-Campus-Reopening)",
     "section": "2.4 Linear Analysis of Campus Reopening"
    }
   },
   "source": [
    "# 2.4 Linear Analysis of Campus Reopening\n",
    "\n",
    "(work in progress)"
   ]
  },
  {
   "cell_type": "markdown",
   "metadata": {
    "nbpages": {
     "level": 2,
     "link": "[2.4.1 Linear Compartment Model](https://jckantor.github.io/CBE40455-2020/02.04-Linear-Analysis-of-Campus-Reopening.html#2.4.1-Linear-Compartment-Model)",
     "section": "2.4.1 Linear Compartment Model"
    }
   },
   "source": [
    "## 2.4.1 Linear Compartment Model\n",
    "\n",
    "\n",
    "$$\\text{S}\\quad\\text{E}\\quad\\"
   ]
  },
  {
   "cell_type": "markdown",
   "metadata": {},
   "source": [
    "<!--NAVIGATION-->\n",
    "< [2.3 Campus Re-opening Model](https://jckantor.github.io/CBE40455-2020/02.03-Campus-reopening.html) | [Contents](toc.html) | [3.0 Introduction to Discrete Event Simulation](https://jckantor.github.io/CBE40455-2020/03.00-Introduction-to-Discrete-Event-Modeling.html) ><p><a href=\"https://colab.research.google.com/github/jckantor/CBE40455-2020/blob/master/docs/02.04-Linear-Analysis-of-Campus-Reopening.ipynb\"> <img align=\"left\" src=\"https://colab.research.google.com/assets/colab-badge.svg\" alt=\"Open in Colab\" title=\"Open in Google Colaboratory\"></a><p><a href=\"https://jckantor.github.io/CBE40455-2020/02.04-Linear-Analysis-of-Campus-Reopening.ipynb\"> <img align=\"left\" src=\"https://img.shields.io/badge/Github-Download-blue.svg\" alt=\"Download\" title=\"Download Notebook\"></a>"
   ]
  }
 ],
 "metadata": {
  "kernelspec": {
   "display_name": "Python 3",
   "language": "python",
   "name": "python3"
  },
  "language_info": {
   "codemirror_mode": {
    "name": "ipython",
    "version": 3
   },
   "file_extension": ".py",
   "mimetype": "text/x-python",
   "name": "python",
   "nbconvert_exporter": "python",
   "pygments_lexer": "ipython3",
   "version": "3.7.4"
  }
 },
 "nbformat": 4,
 "nbformat_minor": 4
}
